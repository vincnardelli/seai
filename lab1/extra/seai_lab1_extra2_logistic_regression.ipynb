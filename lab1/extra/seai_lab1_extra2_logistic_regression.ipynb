{
 "cells": [
  {
   "cell_type": "markdown",
   "metadata": {},
   "source": [
    "## SEAI 2022 - Python - Lab 1\n",
    "# Intro to Python \n",
    "\n",
    "Vincenzo Nardelli - Niccolò Salvini"
   ]
  },
  {
   "cell_type": "markdown",
   "metadata": {
    "id": "kGNaPz4XRsQB"
   },
   "source": [
    "# Logistic Regression"
   ]
  },
  {
   "cell_type": "code",
   "execution_count": 1,
   "metadata": {
    "ExecuteTime": {
     "end_time": "2019-07-19T06:49:41.269228Z",
     "start_time": "2019-07-19T06:49:41.264690Z"
    },
    "id": "j9lnjbLKRsQH"
   },
   "outputs": [],
   "source": [
    "import pandas as pd\n",
    "import numpy as np\n",
    "import matplotlib.pyplot as plt\n",
    "from sklearn.model_selection import train_test_split\n",
    "from sklearn.preprocessing import StandardScaler\n",
    "from sklearn.preprocessing import LabelEncoder\n",
    "from sklearn.metrics import confusion_matrix"
   ]
  },
  {
   "cell_type": "code",
   "execution_count": 2,
   "metadata": {
    "ExecuteTime": {
     "end_time": "2019-07-19T06:49:43.898953Z",
     "start_time": "2019-07-19T06:49:43.880987Z"
    },
    "id": "W2Tx8u0rRsQI"
   },
   "outputs": [],
   "source": [
    "from sklearn.datasets import load_breast_cancer\n",
    "data = load_breast_cancer()\n",
    "breast_cancer = pd.DataFrame(np.c_[data['data'], data['target']],\n",
    "                  columns= np.append(data['feature_names'], ['target']))"
   ]
  },
  {
   "cell_type": "code",
   "execution_count": 3,
   "metadata": {
    "ExecuteTime": {
     "end_time": "2019-07-19T06:49:44.938084Z",
     "start_time": "2019-07-19T06:49:44.929969Z"
    },
    "id": "PMQUWLvuRsQI",
    "outputId": "c97b6b0d-0e7f-4f7a-8343-199def00dc38"
   },
   "outputs": [
    {
     "name": "stdout",
     "output_type": "stream",
     "text": [
      ".. _breast_cancer_dataset:\n",
      "\n",
      "Breast cancer wisconsin (diagnostic) dataset\n",
      "--------------------------------------------\n",
      "\n",
      "**Data Set Characteristics:**\n",
      "\n",
      "    :Number of Instances: 569\n",
      "\n",
      "    :Number of Attributes: 30 numeric, predictive attributes and the class\n",
      "\n",
      "    :Attribute Information:\n",
      "        - radius (mean of distances from center to points on the perimeter)\n",
      "        - texture (standard deviation of gray-scale values)\n",
      "        - perimeter\n",
      "        - area\n",
      "        - smoothness (local variation in radius lengths)\n",
      "        - compactness (perimeter^2 / area - 1.0)\n",
      "        - concavity (severity of concave portions of the contour)\n",
      "        - concave points (number of concave portions of the contour)\n",
      "        - symmetry \n",
      "        - fractal dimension (\"coastline approximation\" - 1)\n",
      "\n",
      "        The mean, standard error, and \"worst\" or largest (mean of the three\n",
      "        largest values) of these features were computed for each image,\n",
      "        resulting in 30 features.  For instance, field 3 is Mean Radius, field\n",
      "        13 is Radius SE, field 23 is Worst Radius.\n",
      "\n",
      "        - class:\n",
      "                - WDBC-Malignant\n",
      "                - WDBC-Benign\n",
      "\n",
      "    :Summary Statistics:\n",
      "\n",
      "    ===================================== ====== ======\n",
      "                                           Min    Max\n",
      "    ===================================== ====== ======\n",
      "    radius (mean):                        6.981  28.11\n",
      "    texture (mean):                       9.71   39.28\n",
      "    perimeter (mean):                     43.79  188.5\n",
      "    area (mean):                          143.5  2501.0\n",
      "    smoothness (mean):                    0.053  0.163\n",
      "    compactness (mean):                   0.019  0.345\n",
      "    concavity (mean):                     0.0    0.427\n",
      "    concave points (mean):                0.0    0.201\n",
      "    symmetry (mean):                      0.106  0.304\n",
      "    fractal dimension (mean):             0.05   0.097\n",
      "    radius (standard error):              0.112  2.873\n",
      "    texture (standard error):             0.36   4.885\n",
      "    perimeter (standard error):           0.757  21.98\n",
      "    area (standard error):                6.802  542.2\n",
      "    smoothness (standard error):          0.002  0.031\n",
      "    compactness (standard error):         0.002  0.135\n",
      "    concavity (standard error):           0.0    0.396\n",
      "    concave points (standard error):      0.0    0.053\n",
      "    symmetry (standard error):            0.008  0.079\n",
      "    fractal dimension (standard error):   0.001  0.03\n",
      "    radius (worst):                       7.93   36.04\n",
      "    texture (worst):                      12.02  49.54\n",
      "    perimeter (worst):                    50.41  251.2\n",
      "    area (worst):                         185.2  4254.0\n",
      "    smoothness (worst):                   0.071  0.223\n",
      "    compactness (worst):                  0.027  1.058\n",
      "    concavity (worst):                    0.0    1.252\n",
      "    concave points (worst):               0.0    0.291\n",
      "    symmetry (worst):                     0.156  0.664\n",
      "    fractal dimension (worst):            0.055  0.208\n",
      "    ===================================== ====== ======\n",
      "\n",
      "    :Missing Attribute Values: None\n",
      "\n",
      "    :Class Distribution: 212 - Malignant, 357 - Benign\n",
      "\n",
      "    :Creator:  Dr. William H. Wolberg, W. Nick Street, Olvi L. Mangasarian\n",
      "\n",
      "    :Donor: Nick Street\n",
      "\n",
      "    :Date: November, 1995\n",
      "\n",
      "This is a copy of UCI ML Breast Cancer Wisconsin (Diagnostic) datasets.\n",
      "https://goo.gl/U2Uwz2\n",
      "\n",
      "Features are computed from a digitized image of a fine needle\n",
      "aspirate (FNA) of a breast mass.  They describe\n",
      "characteristics of the cell nuclei present in the image.\n",
      "\n",
      "Separating plane described above was obtained using\n",
      "Multisurface Method-Tree (MSM-T) [K. P. Bennett, \"Decision Tree\n",
      "Construction Via Linear Programming.\" Proceedings of the 4th\n",
      "Midwest Artificial Intelligence and Cognitive Science Society,\n",
      "pp. 97-101, 1992], a classification method which uses linear\n",
      "programming to construct a decision tree.  Relevant features\n",
      "were selected using an exhaustive search in the space of 1-4\n",
      "features and 1-3 separating planes.\n",
      "\n",
      "The actual linear program used to obtain the separating plane\n",
      "in the 3-dimensional space is that described in:\n",
      "[K. P. Bennett and O. L. Mangasarian: \"Robust Linear\n",
      "Programming Discrimination of Two Linearly Inseparable Sets\",\n",
      "Optimization Methods and Software 1, 1992, 23-34].\n",
      "\n",
      "This database is also available through the UW CS ftp server:\n",
      "\n",
      "ftp ftp.cs.wisc.edu\n",
      "cd math-prog/cpo-dataset/machine-learn/WDBC/\n",
      "\n",
      ".. topic:: References\n",
      "\n",
      "   - W.N. Street, W.H. Wolberg and O.L. Mangasarian. Nuclear feature extraction \n",
      "     for breast tumor diagnosis. IS&T/SPIE 1993 International Symposium on \n",
      "     Electronic Imaging: Science and Technology, volume 1905, pages 861-870,\n",
      "     San Jose, CA, 1993.\n",
      "   - O.L. Mangasarian, W.N. Street and W.H. Wolberg. Breast cancer diagnosis and \n",
      "     prognosis via linear programming. Operations Research, 43(4), pages 570-577, \n",
      "     July-August 1995.\n",
      "   - W.H. Wolberg, W.N. Street, and O.L. Mangasarian. Machine learning techniques\n",
      "     to diagnose breast cancer from fine-needle aspirates. Cancer Letters 77 (1994) \n",
      "     163-171.\n"
     ]
    }
   ],
   "source": [
    "print(data.DESCR)"
   ]
  },
  {
   "cell_type": "code",
   "execution_count": 4,
   "metadata": {
    "ExecuteTime": {
     "end_time": "2019-07-19T06:49:51.207761Z",
     "start_time": "2019-07-19T06:49:51.171122Z"
    },
    "id": "Bw6Xll7ZRsQJ",
    "outputId": "8df9879b-0ee4-4a38-994d-de1862c61b41",
    "scrolled": true
   },
   "outputs": [
    {
     "data": {
      "text/html": [
       "<div>\n",
       "<style scoped>\n",
       "    .dataframe tbody tr th:only-of-type {\n",
       "        vertical-align: middle;\n",
       "    }\n",
       "\n",
       "    .dataframe tbody tr th {\n",
       "        vertical-align: top;\n",
       "    }\n",
       "\n",
       "    .dataframe thead th {\n",
       "        text-align: right;\n",
       "    }\n",
       "</style>\n",
       "<table border=\"1\" class=\"dataframe\">\n",
       "  <thead>\n",
       "    <tr style=\"text-align: right;\">\n",
       "      <th></th>\n",
       "      <th>mean radius</th>\n",
       "      <th>mean texture</th>\n",
       "      <th>mean perimeter</th>\n",
       "      <th>mean area</th>\n",
       "      <th>mean smoothness</th>\n",
       "      <th>mean compactness</th>\n",
       "      <th>mean concavity</th>\n",
       "      <th>mean concave points</th>\n",
       "      <th>mean symmetry</th>\n",
       "      <th>mean fractal dimension</th>\n",
       "      <th>...</th>\n",
       "      <th>worst texture</th>\n",
       "      <th>worst perimeter</th>\n",
       "      <th>worst area</th>\n",
       "      <th>worst smoothness</th>\n",
       "      <th>worst compactness</th>\n",
       "      <th>worst concavity</th>\n",
       "      <th>worst concave points</th>\n",
       "      <th>worst symmetry</th>\n",
       "      <th>worst fractal dimension</th>\n",
       "      <th>target</th>\n",
       "    </tr>\n",
       "  </thead>\n",
       "  <tbody>\n",
       "    <tr>\n",
       "      <th>0</th>\n",
       "      <td>17.99</td>\n",
       "      <td>10.38</td>\n",
       "      <td>122.80</td>\n",
       "      <td>1001.0</td>\n",
       "      <td>0.11840</td>\n",
       "      <td>0.27760</td>\n",
       "      <td>0.3001</td>\n",
       "      <td>0.14710</td>\n",
       "      <td>0.2419</td>\n",
       "      <td>0.07871</td>\n",
       "      <td>...</td>\n",
       "      <td>17.33</td>\n",
       "      <td>184.60</td>\n",
       "      <td>2019.0</td>\n",
       "      <td>0.1622</td>\n",
       "      <td>0.6656</td>\n",
       "      <td>0.7119</td>\n",
       "      <td>0.2654</td>\n",
       "      <td>0.4601</td>\n",
       "      <td>0.11890</td>\n",
       "      <td>0.0</td>\n",
       "    </tr>\n",
       "    <tr>\n",
       "      <th>1</th>\n",
       "      <td>20.57</td>\n",
       "      <td>17.77</td>\n",
       "      <td>132.90</td>\n",
       "      <td>1326.0</td>\n",
       "      <td>0.08474</td>\n",
       "      <td>0.07864</td>\n",
       "      <td>0.0869</td>\n",
       "      <td>0.07017</td>\n",
       "      <td>0.1812</td>\n",
       "      <td>0.05667</td>\n",
       "      <td>...</td>\n",
       "      <td>23.41</td>\n",
       "      <td>158.80</td>\n",
       "      <td>1956.0</td>\n",
       "      <td>0.1238</td>\n",
       "      <td>0.1866</td>\n",
       "      <td>0.2416</td>\n",
       "      <td>0.1860</td>\n",
       "      <td>0.2750</td>\n",
       "      <td>0.08902</td>\n",
       "      <td>0.0</td>\n",
       "    </tr>\n",
       "    <tr>\n",
       "      <th>2</th>\n",
       "      <td>19.69</td>\n",
       "      <td>21.25</td>\n",
       "      <td>130.00</td>\n",
       "      <td>1203.0</td>\n",
       "      <td>0.10960</td>\n",
       "      <td>0.15990</td>\n",
       "      <td>0.1974</td>\n",
       "      <td>0.12790</td>\n",
       "      <td>0.2069</td>\n",
       "      <td>0.05999</td>\n",
       "      <td>...</td>\n",
       "      <td>25.53</td>\n",
       "      <td>152.50</td>\n",
       "      <td>1709.0</td>\n",
       "      <td>0.1444</td>\n",
       "      <td>0.4245</td>\n",
       "      <td>0.4504</td>\n",
       "      <td>0.2430</td>\n",
       "      <td>0.3613</td>\n",
       "      <td>0.08758</td>\n",
       "      <td>0.0</td>\n",
       "    </tr>\n",
       "    <tr>\n",
       "      <th>3</th>\n",
       "      <td>11.42</td>\n",
       "      <td>20.38</td>\n",
       "      <td>77.58</td>\n",
       "      <td>386.1</td>\n",
       "      <td>0.14250</td>\n",
       "      <td>0.28390</td>\n",
       "      <td>0.2414</td>\n",
       "      <td>0.10520</td>\n",
       "      <td>0.2597</td>\n",
       "      <td>0.09744</td>\n",
       "      <td>...</td>\n",
       "      <td>26.50</td>\n",
       "      <td>98.87</td>\n",
       "      <td>567.7</td>\n",
       "      <td>0.2098</td>\n",
       "      <td>0.8663</td>\n",
       "      <td>0.6869</td>\n",
       "      <td>0.2575</td>\n",
       "      <td>0.6638</td>\n",
       "      <td>0.17300</td>\n",
       "      <td>0.0</td>\n",
       "    </tr>\n",
       "    <tr>\n",
       "      <th>4</th>\n",
       "      <td>20.29</td>\n",
       "      <td>14.34</td>\n",
       "      <td>135.10</td>\n",
       "      <td>1297.0</td>\n",
       "      <td>0.10030</td>\n",
       "      <td>0.13280</td>\n",
       "      <td>0.1980</td>\n",
       "      <td>0.10430</td>\n",
       "      <td>0.1809</td>\n",
       "      <td>0.05883</td>\n",
       "      <td>...</td>\n",
       "      <td>16.67</td>\n",
       "      <td>152.20</td>\n",
       "      <td>1575.0</td>\n",
       "      <td>0.1374</td>\n",
       "      <td>0.2050</td>\n",
       "      <td>0.4000</td>\n",
       "      <td>0.1625</td>\n",
       "      <td>0.2364</td>\n",
       "      <td>0.07678</td>\n",
       "      <td>0.0</td>\n",
       "    </tr>\n",
       "  </tbody>\n",
       "</table>\n",
       "<p>5 rows × 31 columns</p>\n",
       "</div>"
      ],
      "text/plain": [
       "   mean radius  mean texture  mean perimeter  mean area  mean smoothness  \\\n",
       "0        17.99         10.38          122.80     1001.0          0.11840   \n",
       "1        20.57         17.77          132.90     1326.0          0.08474   \n",
       "2        19.69         21.25          130.00     1203.0          0.10960   \n",
       "3        11.42         20.38           77.58      386.1          0.14250   \n",
       "4        20.29         14.34          135.10     1297.0          0.10030   \n",
       "\n",
       "   mean compactness  mean concavity  mean concave points  mean symmetry  \\\n",
       "0           0.27760          0.3001              0.14710         0.2419   \n",
       "1           0.07864          0.0869              0.07017         0.1812   \n",
       "2           0.15990          0.1974              0.12790         0.2069   \n",
       "3           0.28390          0.2414              0.10520         0.2597   \n",
       "4           0.13280          0.1980              0.10430         0.1809   \n",
       "\n",
       "   mean fractal dimension  ...  worst texture  worst perimeter  worst area  \\\n",
       "0                 0.07871  ...          17.33           184.60      2019.0   \n",
       "1                 0.05667  ...          23.41           158.80      1956.0   \n",
       "2                 0.05999  ...          25.53           152.50      1709.0   \n",
       "3                 0.09744  ...          26.50            98.87       567.7   \n",
       "4                 0.05883  ...          16.67           152.20      1575.0   \n",
       "\n",
       "   worst smoothness  worst compactness  worst concavity  worst concave points  \\\n",
       "0            0.1622             0.6656           0.7119                0.2654   \n",
       "1            0.1238             0.1866           0.2416                0.1860   \n",
       "2            0.1444             0.4245           0.4504                0.2430   \n",
       "3            0.2098             0.8663           0.6869                0.2575   \n",
       "4            0.1374             0.2050           0.4000                0.1625   \n",
       "\n",
       "   worst symmetry  worst fractal dimension  target  \n",
       "0          0.4601                  0.11890     0.0  \n",
       "1          0.2750                  0.08902     0.0  \n",
       "2          0.3613                  0.08758     0.0  \n",
       "3          0.6638                  0.17300     0.0  \n",
       "4          0.2364                  0.07678     0.0  \n",
       "\n",
       "[5 rows x 31 columns]"
      ]
     },
     "execution_count": 4,
     "metadata": {},
     "output_type": "execute_result"
    }
   ],
   "source": [
    "breast_cancer.head()"
   ]
  },
  {
   "cell_type": "markdown",
   "metadata": {
    "id": "BL5GwG_qRsQK"
   },
   "source": [
    "* **WDBC-Malignant => 1 = Positive class**\n",
    "* **WDBC-Benign => 0 = Negative class**"
   ]
  },
  {
   "cell_type": "markdown",
   "metadata": {
    "id": "UspAx-LKRsQL"
   },
   "source": [
    "Logistic Regression\n",
    "* **radius_se** standard error of the tumor radius\n",
    "* **worst concave points** number of concave portions of the contour"
   ]
  },
  {
   "cell_type": "code",
   "execution_count": 5,
   "metadata": {
    "ExecuteTime": {
     "end_time": "2019-07-19T06:53:06.039364Z",
     "start_time": "2019-07-19T06:53:06.031697Z"
    },
    "id": "oBZPBi5fRsQM"
   },
   "outputs": [],
   "source": [
    "X = breast_cancer[[\"radius error\",\"worst concave points\"]].values\n",
    "Y = breast_cancer['target'].values\n",
    "\n",
    "X_train, X_test, Y_train, Y_test = train_test_split(X,Y, test_size=0.3, random_state=0)"
   ]
  },
  {
   "cell_type": "markdown",
   "metadata": {
    "id": "eRH1AQ2ARsQM"
   },
   "source": [
    "## Docs\n",
    "- https://scikit-learn.org/stable/modules/generated/sklearn.preprocessing.StandardScaler.html\n",
    "- https://scikit-learn.org/stable/modules/generated/sklearn.linear_model.LogisticRegression.html"
   ]
  },
  {
   "cell_type": "code",
   "execution_count": 6,
   "metadata": {
    "ExecuteTime": {
     "end_time": "2019-07-19T06:53:06.593823Z",
     "start_time": "2019-07-19T06:53:06.590015Z"
    },
    "id": "jUuit9UdRsQN"
   },
   "outputs": [],
   "source": [
    "ss = StandardScaler() # docs first link\n",
    "X_train = X_train\n",
    "X_test = X_test"
   ]
  },
  {
   "cell_type": "code",
   "execution_count": 7,
   "metadata": {
    "ExecuteTime": {
     "end_time": "2019-07-19T06:53:07.115781Z",
     "start_time": "2019-07-19T06:53:07.094430Z"
    },
    "id": "7Oe2i9mjRsQO",
    "outputId": "3a44d4b0-e01d-4168-d14e-5f840751b0e0"
   },
   "outputs": [
    {
     "name": "stderr",
     "output_type": "stream",
     "text": [
      "/Users/vincenzonardelli/anaconda3/lib/python3.7/site-packages/sklearn/linear_model/logistic.py:432: FutureWarning: Default solver will be changed to 'lbfgs' in 0.22. Specify a solver to silence this warning.\n",
      "  FutureWarning)\n"
     ]
    },
    {
     "data": {
      "text/plain": [
       "LogisticRegression(C=1.0, class_weight=None, dual=False, fit_intercept=True,\n",
       "                   intercept_scaling=1, l1_ratio=None, max_iter=100,\n",
       "                   multi_class='warn', n_jobs=None, penalty='l2',\n",
       "                   random_state=None, solver='warn', tol=0.0001, verbose=0,\n",
       "                   warm_start=False)"
      ]
     },
     "execution_count": 7,
     "metadata": {},
     "output_type": "execute_result"
    }
   ],
   "source": [
    "from sklearn.linear_model import LogisticRegression\n",
    "from sklearn.metrics import accuracy_score\n",
    "\n",
    "lr = LogisticRegression()\n",
    "lr.fit(X_train, Y_train)"
   ]
  },
  {
   "cell_type": "markdown",
   "metadata": {
    "id": "toXKpx4dRsQO"
   },
   "source": [
    "* **Accuracy** It counts the number of correct predictions of the model (True-Positive), it returns a number 0 < number < 1. The **more**, the better \n",
    "* **Negative Log-likelihood (log loss)** It accounts probabilities,  it returns a number 0 < number < 1. The **less**, the better \n",
    "\n"
   ]
  },
  {
   "cell_type": "code",
   "execution_count": 8,
   "metadata": {
    "ExecuteTime": {
     "end_time": "2019-07-19T06:53:07.943757Z",
     "start_time": "2019-07-19T06:53:07.934199Z"
    },
    "id": "qA3TbRztRsQP",
    "outputId": "906d20b4-3582-48b7-fa16-8799d7c18f7a"
   },
   "outputs": [
    {
     "name": "stdout",
     "output_type": "stream",
     "text": [
      "ACCURACY: 0.8304093567251462\n",
      "LOG LOSS: 0.39495255809263713\n"
     ]
    }
   ],
   "source": [
    "from sklearn.metrics import accuracy_score \n",
    "from sklearn.metrics import log_loss \n",
    "\n",
    "Y_pred = lr.predict(X_test)\n",
    "Y_pred_proba = lr.predict_proba(X_test)\n",
    "\n",
    "print(\"ACCURACY: \"+str(accuracy_score(Y_test, Y_pred)))\n",
    "print(\"LOG LOSS: \"+str(log_loss(Y_test, Y_pred_proba)))"
   ]
  },
  {
   "cell_type": "code",
   "execution_count": 9,
   "metadata": {
    "ExecuteTime": {
     "end_time": "2019-07-19T06:53:10.080120Z",
     "start_time": "2019-07-19T06:53:10.070274Z"
    },
    "id": "e3SxXXFfRsQP",
    "outputId": "948666c8-e58e-4003-e7ad-44c5d6a45515"
   },
   "outputs": [
    {
     "name": "stdout",
     "output_type": "stream",
     "text": [
      "[[0.48049291 0.51950709]\n",
      " [0.16098853 0.83901147]\n",
      " [0.18048791 0.81951209]\n",
      " [0.18630574 0.81369426]\n",
      " [0.14012046 0.85987954]\n",
      " [0.20373284 0.79626716]\n",
      " [0.13979443 0.86020557]\n",
      " [0.13145755 0.86854245]\n",
      " [0.23738228 0.76261772]\n",
      " [0.24108096 0.75891904]\n",
      " [0.54248162 0.45751838]\n",
      " [0.30058688 0.69941312]\n",
      " [0.09621443 0.90378557]\n",
      " [0.43181592 0.56818408]\n",
      " [0.53853206 0.46146794]\n",
      " [0.48751422 0.51248578]\n",
      " [0.45356566 0.54643434]\n",
      " [0.57339167 0.42660833]\n",
      " [0.69619633 0.30380367]\n",
      " [0.94233459 0.05766541]\n",
      " [0.52366074 0.47633926]\n",
      " [0.32800957 0.67199043]\n",
      " [0.18059206 0.81940794]\n",
      " [0.17634208 0.82365792]\n",
      " [0.41365197 0.58634803]\n",
      " [0.19717269 0.80282731]\n",
      " [0.1956882  0.8043118 ]\n",
      " [0.30426111 0.69573889]\n",
      " [0.1378228  0.8621772 ]\n",
      " [0.74786058 0.25213942]\n",
      " [0.20122089 0.79877911]\n",
      " [0.63068804 0.36931196]\n",
      " [0.29644055 0.70355945]\n",
      " [0.43749399 0.56250601]\n",
      " [0.11954532 0.88045468]\n",
      " [0.47893233 0.52106767]\n",
      " [0.25433305 0.74566695]\n",
      " [0.70900572 0.29099428]\n",
      " [0.24704174 0.75295826]\n",
      " [0.70624895 0.29375105]\n",
      " [0.39701538 0.60298462]\n",
      " [0.45406377 0.54593623]\n",
      " [0.34114597 0.65885403]\n",
      " [0.13901819 0.86098181]\n",
      " [0.28199381 0.71800619]\n",
      " [0.97459464 0.02540536]\n",
      " [0.13049697 0.86950303]\n",
      " [0.21107755 0.78892245]\n",
      " [0.13699311 0.86300689]\n",
      " [0.4149081  0.5850919 ]\n",
      " [0.91676423 0.08323577]\n",
      " [0.31964157 0.68035843]\n",
      " [0.63107034 0.36892966]\n",
      " [0.15967925 0.84032075]\n",
      " [0.30004803 0.69995197]\n",
      " [0.1420363  0.8579637 ]\n",
      " [0.09508934 0.90491066]\n",
      " [0.29887535 0.70112465]\n",
      " [0.16063171 0.83936829]\n",
      " [0.96823619 0.03176381]\n",
      " [0.68824598 0.31175402]\n",
      " [0.78753894 0.21246106]\n",
      " [0.31779842 0.68220158]\n",
      " [0.17636937 0.82363063]\n",
      " [0.91611742 0.08388258]\n",
      " [0.54251714 0.45748286]\n",
      " [0.98487514 0.01512486]\n",
      " [0.64715145 0.35284855]\n",
      " [0.88427243 0.11572757]\n",
      " [0.18222032 0.81777968]\n",
      " [0.35659511 0.64340489]\n",
      " [0.6816225  0.3183775 ]\n",
      " [0.22297418 0.77702582]\n",
      " [0.42338049 0.57661951]\n",
      " [0.76694651 0.23305349]\n",
      " [0.19685468 0.80314532]\n",
      " [0.12965893 0.87034107]\n",
      " [0.3000626  0.6999374 ]\n",
      " [0.25618163 0.74381837]\n",
      " [0.37249268 0.62750732]\n",
      " [0.47737626 0.52262374]\n",
      " [0.93466337 0.06533663]\n",
      " [0.65968754 0.34031246]\n",
      " [0.26414957 0.73585043]\n",
      " [0.41064418 0.58935582]\n",
      " [0.20538275 0.79461725]\n",
      " [0.14590039 0.85409961]\n",
      " [0.11252777 0.88747223]\n",
      " [0.50651129 0.49348871]\n",
      " [0.85544293 0.14455707]\n",
      " [0.21078102 0.78921898]\n",
      " [0.26246538 0.73753462]\n",
      " [0.31328429 0.68671571]\n",
      " [0.37057391 0.62942609]\n",
      " [0.32422228 0.67577772]\n",
      " [0.16891557 0.83108443]\n",
      " [0.98907373 0.01092627]\n",
      " [0.2321388  0.7678612 ]\n",
      " [0.22164708 0.77835292]\n",
      " [0.21772396 0.78227604]\n",
      " [0.44071838 0.55928162]\n",
      " [0.12575493 0.87424507]\n",
      " [0.14471819 0.85528181]\n",
      " [0.33127726 0.66872274]\n",
      " [0.75954061 0.24045939]\n",
      " [0.3742383  0.6257617 ]\n",
      " [0.48395076 0.51604924]\n",
      " [0.42161803 0.57838197]\n",
      " [0.19418604 0.80581396]\n",
      " [0.5221948  0.4778052 ]\n",
      " [0.32367089 0.67632911]\n",
      " [0.54494028 0.45505972]\n",
      " [0.59049984 0.40950016]\n",
      " [0.33566202 0.66433798]\n",
      " [0.20133147 0.79866853]\n",
      " [0.24673244 0.75326756]\n",
      " [0.22353702 0.77646298]\n",
      " [0.28379351 0.71620649]\n",
      " [0.1732954  0.8267046 ]\n",
      " [0.16682152 0.83317848]\n",
      " [0.52576326 0.47423674]\n",
      " [0.15926678 0.84073322]\n",
      " [0.3311124  0.6688876 ]\n",
      " [0.2555601  0.7444399 ]\n",
      " [0.93630885 0.06369115]\n",
      " [0.42402325 0.57597675]\n",
      " [0.51189041 0.48810959]\n",
      " [0.16845413 0.83154587]\n",
      " [0.12238868 0.87761132]\n",
      " [0.18971999 0.81028001]\n",
      " [0.7906613  0.2093387 ]\n",
      " [0.28951103 0.71048897]\n",
      " [0.12890089 0.87109911]\n",
      " [0.18875049 0.81124951]\n",
      " [0.234783   0.765217  ]\n",
      " [0.11168516 0.88831484]\n",
      " [0.27616302 0.72383698]\n",
      " [0.36202706 0.63797294]\n",
      " [0.96404983 0.03595017]\n",
      " [0.25660372 0.74339628]\n",
      " [0.13693033 0.86306967]\n",
      " [0.34408447 0.65591553]\n",
      " [0.83533916 0.16466084]\n",
      " [0.18241518 0.81758482]\n",
      " [0.19199657 0.80800343]\n",
      " [0.80973485 0.19026515]\n",
      " [0.18815912 0.81184088]\n",
      " [0.20859775 0.79140225]\n",
      " [0.17708892 0.82291108]\n",
      " [0.18838192 0.81161808]\n",
      " [0.31360391 0.68639609]\n",
      " [0.38202194 0.61797806]\n",
      " [0.37233721 0.62766279]\n",
      " [0.21822571 0.78177429]\n",
      " [0.16148269 0.83851731]\n",
      " [0.38937736 0.61062264]\n",
      " [0.32305633 0.67694367]\n",
      " [0.23495853 0.76504147]\n",
      " [0.20302323 0.79697677]\n",
      " [0.75880261 0.24119739]\n",
      " [0.75029965 0.24970035]\n",
      " [0.13406193 0.86593807]\n",
      " [0.27995542 0.72004458]\n",
      " [0.5791034  0.4208966 ]\n",
      " [0.15741131 0.84258869]\n",
      " [0.43281914 0.56718086]\n",
      " [0.63833027 0.36166973]\n",
      " [0.54386763 0.45613237]\n",
      " [0.31119601 0.68880399]\n",
      " [0.19443043 0.80556957]\n",
      " [0.19897192 0.80102808]]\n"
     ]
    }
   ],
   "source": [
    "print(Y_pred_proba)"
   ]
  },
  {
   "cell_type": "code",
   "execution_count": 10,
   "metadata": {
    "ExecuteTime": {
     "end_time": "2019-07-19T06:53:10.568413Z",
     "start_time": "2019-07-19T06:53:10.557656Z"
    },
    "id": "VKfSIQNcRsQQ",
    "outputId": "e0b00d55-7359-45e0-c1d7-2e2cd6305f9d"
   },
   "outputs": [
    {
     "data": {
      "text/plain": [
       "array([[ 39,  24],\n",
       "       [  5, 103]])"
      ]
     },
     "execution_count": 10,
     "metadata": {},
     "output_type": "execute_result"
    }
   ],
   "source": [
    "confusion_matrix(Y_test, Y_pred)"
   ]
  },
  {
   "cell_type": "markdown",
   "metadata": {
    "ExecuteTime": {
     "end_time": "2019-07-19T06:27:01.637102Z",
     "start_time": "2019-07-19T06:27:01.631262Z"
    },
    "id": "dB2hYUnMRsQQ"
   },
   "source": [
    "## Docs\n",
    "\n",
    "https://en.wikipedia.org/wiki/Confusion_matrix"
   ]
  },
  {
   "cell_type": "code",
   "execution_count": 11,
   "metadata": {
    "ExecuteTime": {
     "end_time": "2019-07-19T06:53:21.439958Z",
     "start_time": "2019-07-19T06:53:21.430862Z"
    },
    "id": "v1fZHDq9RsQR"
   },
   "outputs": [],
   "source": [
    "def showBounds(model, X, Y, labels=[\"Negativo\",\"Positivo\"]):\n",
    "    \n",
    "    h = .02 \n",
    "\n",
    "    x_min, x_max = X[:, 0].min(), X[:, 0].max()\n",
    "    y_min, y_max = X[:, 1].min(), X[:, 1].max()\n",
    "\n",
    "    xx, yy = np.meshgrid(np.arange(x_min, x_max, h),\n",
    "                         np.arange(y_min, y_max, h))\n",
    "\n",
    "    Z = model.predict(np.c_[xx.ravel(), yy.ravel()])\n",
    "\n",
    "    Z = Z.reshape(xx.shape)\n",
    "    plt.contourf(xx, yy, Z, cmap=plt.cm.Paired)\n",
    "\n",
    "    X_m = X[Y==1]\n",
    "    X_b = X[Y==0]\n",
    "    plt.scatter(X_b[:, 0], X_b[:, 1], c=\"green\",  edgecolor='white', label=labels[0])\n",
    "    plt.scatter(X_m[:, 0], X_m[:, 1], c=\"red\",  edgecolor='white', label=labels[1])\n",
    "    plt.legend()"
   ]
  },
  {
   "cell_type": "markdown",
   "metadata": {
    "id": "_zxyMr0hRsQS"
   },
   "source": [
    "We can obtain the decision boundary on the training set by using the user defined function `showBounds()` "
   ]
  },
  {
   "cell_type": "code",
   "execution_count": 12,
   "metadata": {
    "ExecuteTime": {
     "end_time": "2019-07-19T06:53:23.115612Z",
     "start_time": "2019-07-19T06:53:22.878167Z"
    },
    "id": "4hrOJf-9RsQS",
    "outputId": "815b9fc3-0919-4a64-94a9-8979c1bb93ba"
   },
   "outputs": [
    {
     "data": {
      "image/png": "[encoded data removed]",
      "text/plain": [
       "<Figure size 432x288 with 1 Axes>"
      ]
     },
     "metadata": {
      "needs_background": "light"
     },
     "output_type": "display_data"
    }
   ],
   "source": [
    "showBounds(lr, X_train, Y_train, labels=[\"Benigno\",\"Maligno\"])"
   ]
  },
  {
   "cell_type": "markdown",
   "metadata": {
    "id": "Nodh9IKLRsQS"
   },
   "source": [
    "... And then on the test set\n",
    "\n"
   ]
  },
  {
   "cell_type": "code",
   "execution_count": 13,
   "metadata": {
    "ExecuteTime": {
     "end_time": "2019-07-19T06:53:27.777597Z",
     "start_time": "2019-07-19T06:53:27.560355Z"
    },
    "id": "M7oC_0LlRsQT",
    "outputId": "39d840a0-1be2-4618-9a47-f68c771261cb"
   },
   "outputs": [
    {
     "data": {
      "image/png": "[encoded data removed]",
      "text/plain": [
       "<Figure size 432x288 with 1 Axes>"
      ]
     },
     "metadata": {
      "needs_background": "light"
     },
     "output_type": "display_data"
    }
   ],
   "source": [
    "showBounds(lr, X_test, Y_test, labels=[\"Benigno\",\"Maligno\"])"
   ]
  },
  {
   "cell_type": "markdown",
   "metadata": {
    "id": "RNyC726uRsQT"
   },
   "source": [
    "## Full Logistic Regression (all the features in the model)\n",
    "\n",
    "In this case we will try to add to the linear predictor all the features available in the dataset\n"
   ]
  },
  {
   "cell_type": "code",
   "execution_count": 14,
   "metadata": {
    "ExecuteTime": {
     "end_time": "2019-07-19T06:53:30.256052Z",
     "start_time": "2019-07-19T06:53:30.231541Z"
    },
    "id": "JV5H0FFYRsQW",
    "outputId": "068dcf14-2ccc-4959-d04d-0ecff4eb7937"
   },
   "outputs": [
    {
     "name": "stderr",
     "output_type": "stream",
     "text": [
      "/Users/vincenzonardelli/anaconda3/lib/python3.7/site-packages/sklearn/linear_model/logistic.py:432: FutureWarning: Default solver will be changed to 'lbfgs' in 0.22. Specify a solver to silence this warning.\n",
      "  FutureWarning)\n"
     ]
    },
    {
     "data": {
      "text/plain": [
       "LogisticRegression(C=1.0, class_weight=None, dual=False, fit_intercept=True,\n",
       "                   intercept_scaling=1, l1_ratio=None, max_iter=100,\n",
       "                   multi_class='warn', n_jobs=None, penalty='l2',\n",
       "                   random_state=None, solver='warn', tol=0.0001, verbose=0,\n",
       "                   warm_start=False)"
      ]
     },
     "execution_count": 14,
     "metadata": {},
     "output_type": "execute_result"
    }
   ],
   "source": [
    "X = breast_cancer.drop('target',axis=1).values\n",
    "Y = breast_cancer['target'].values\n",
    "\n",
    "X_train, X_test, Y_train, Y_test = train_test_split(X,Y, test_size=0.3, random_state=0)\n",
    "\n",
    "le = LabelEncoder()\n",
    "Y_train = le.fit_transform(Y_train)\n",
    "Y_test = le.transform(Y_test)\n",
    "\n",
    "ss = StandardScaler()\n",
    "X_train = ss.fit_transform(X_train)\n",
    "X_test = ss.transform(X_test)\n",
    "\n",
    "lr = LogisticRegression()\n",
    "lr.fit(X_train, Y_train)"
   ]
  },
  {
   "cell_type": "code",
   "execution_count": 15,
   "metadata": {
    "ExecuteTime": {
     "end_time": "2019-07-19T06:53:32.250638Z",
     "start_time": "2019-07-19T06:53:32.239038Z"
    },
    "id": "rUQGoqq6RsQW",
    "outputId": "1dcfe251-fad0-4411-c00f-ed5964a043f3"
   },
   "outputs": [
    {
     "name": "stdout",
     "output_type": "stream",
     "text": [
      "ACCURACY: 0.9766081871345029\n",
      "LOG LOSS: 0.0893719480342204\n"
     ]
    }
   ],
   "source": [
    "Y_pred = lr.predict(X_test)\n",
    "Y_pred_proba = lr.predict_proba(X_test)\n",
    "\n",
    "print(\"ACCURACY: \"+str(accuracy_score(Y_test, Y_pred)))\n",
    "print(\"LOG LOSS: \"+str(log_loss(Y_test, Y_pred_proba)))"
   ]
  },
  {
   "cell_type": "code",
   "execution_count": 16,
   "metadata": {
    "ExecuteTime": {
     "end_time": "2019-07-19T06:53:33.910354Z",
     "start_time": "2019-07-19T06:53:33.902933Z"
    },
    "id": "XIliBsLORsQX",
    "outputId": "48551e48-2651-43c8-c610-e54cb2722cff"
   },
   "outputs": [
    {
     "data": {
      "text/plain": [
       "array([[ 60,   3],\n",
       "       [  1, 107]])"
      ]
     },
     "execution_count": 16,
     "metadata": {},
     "output_type": "execute_result"
    }
   ],
   "source": [
    "confusion_matrix(Y_test, Y_pred)"
   ]
  },
  {
   "cell_type": "code",
   "execution_count": null,
   "metadata": {},
   "outputs": [],
   "source": []
  }
 ],
 "metadata": {
  "colab": {
   "collapsed_sections": [],
   "name": "02_logistic_regressio.ipynb",
   "provenance": [
    {
     "file_id": "https://github.com/vincnardelli/big-data-luiss/blob/master/lession_2/2_regressione_logistica.ipynb",
     "timestamp": 1619539666795
    }
   ]
  },
  "kernelspec": {
   "display_name": "Python 3 (ipykernel)",
   "language": "python",
   "name": "python3"
  },
  "language_info": {
   "codemirror_mode": {
    "name": "ipython",
    "version": 3
   },
   "file_extension": ".py",
   "mimetype": "text/x-python",
   "name": "python",
   "nbconvert_exporter": "python",
   "pygments_lexer": "ipython3",
   "version": "3.8.8"
  },
  "toc": {
   "base_numbering": 1,
   "nav_menu": {},
   "number_sections": true,
   "sideBar": true,
   "skip_h1_title": false,
   "title_cell": "Table of Contents",
   "title_sidebar": "Contents",
   "toc_cell": false,
   "toc_position": {},
   "toc_section_display": true,
   "toc_window_display": false
  },
  "varInspector": {
   "cols": {
    "lenName": 16,
    "lenType": 16,
    "lenVar": 40
   },
   "kernels_config": {
    "python": {
     "delete_cmd_postfix": "",
     "delete_cmd_prefix": "del ",
     "library": "var_list.py",
     "varRefreshCmd": "print(var_dic_list())"
    },
    "r": {
     "delete_cmd_postfix": ") ",
     "delete_cmd_prefix": "rm(",
     "library": "var_list.r",
     "varRefreshCmd": "cat(var_dic_list()) "
    }
   },
   "types_to_exclude": [
    "module",
    "function",
    "builtin_function_or_method",
    "instance",
    "_Feature"
   ],
   "window_display": false
  }
 },
 "nbformat": 4,
 "nbformat_minor": 4
}
