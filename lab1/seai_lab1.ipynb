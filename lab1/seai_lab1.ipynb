{
 "cells": [
  {
   "cell_type": "markdown",
   "metadata": {
    "id": "l79a5FKj1Hb5"
   },
   "source": [
    "## SEAI 2022 - Python - Lab 1\n",
    "# Intro to Python \n",
    "\n",
    "Vincenzo Nardelli - vincnardelli@gmail.com - https://github.com/vincnardelli"
   ]
  },
  {
   "cell_type": "markdown",
   "metadata": {
    "id": "kk45jHut1HcA"
   },
   "source": [
    "## Lab structure:\n",
    "- Intro\n",
    "- 1 - Matrix computation with NumPy\n",
    "- 2 - Data manipulation and analysis with Pandas\n",
    "- 3 - Graphs with Matplotlib and Seaborn\n",
    "- Extra topic: Git and Github (with Niccolò Salvini)\n",
    "\n",
    "Let's start from the basics!"
   ]
  },
  {
   "cell_type": "code",
   "execution_count": 1,
   "metadata": {
    "ExecuteTime": {
     "end_time": "2019-06-21T15:55:51.298877Z",
     "start_time": "2019-06-21T15:55:51.281636Z"
    },
    "colab": {
     "base_uri": "https://localhost:8080/"
    },
    "executionInfo": {
     "elapsed": 1623,
     "status": "ok",
     "timestamp": 1621352924073,
     "user": {
      "displayName": "Vincenzo Nardelli",
      "photoUrl": "https://lh3.googleusercontent.com/a-/AOh14GjPK26_e6OTwkTbx-Bj4I8qLqir6RkknYKsq2GM=s64",
      "userId": "12315026942894680720"
     },
     "user_tz": -120
    },
    "id": "Nwz4bPcQG8Ox",
    "outputId": "14ecdb25-adce-4fac-9471-f90c2471bb9e"
   },
   "outputs": [
    {
     "data": {
      "text/plain": [
       "8"
      ]
     },
     "execution_count": 1,
     "metadata": {},
     "output_type": "execute_result"
    }
   ],
   "source": [
    "3 + 5"
   ]
  },
  {
   "cell_type": "code",
   "execution_count": 2,
   "metadata": {
    "ExecuteTime": {
     "end_time": "2019-06-21T10:19:15.011742Z",
     "start_time": "2019-06-21T10:19:15.001519Z"
    },
    "colab": {
     "base_uri": "https://localhost:8080/"
    },
    "executionInfo": {
     "elapsed": 1938,
     "status": "ok",
     "timestamp": 1621352924399,
     "user": {
      "displayName": "Vincenzo Nardelli",
      "photoUrl": "https://lh3.googleusercontent.com/a-/AOh14GjPK26_e6OTwkTbx-Bj4I8qLqir6RkknYKsq2GM=s64",
      "userId": "12315026942894680720"
     },
     "user_tz": -120
    },
    "id": "14CreXtdG8Oy",
    "outputId": "49b6a20a-7efd-4f77-fc38-240198eb296c"
   },
   "outputs": [
    {
     "data": {
      "text/plain": [
       "1.7142857142857142"
      ]
     },
     "execution_count": 2,
     "metadata": {},
     "output_type": "execute_result"
    }
   ],
   "source": [
    "12 / 7"
   ]
  },
  {
   "cell_type": "code",
   "execution_count": 3,
   "metadata": {
    "ExecuteTime": {
     "end_time": "2019-06-21T10:19:15.397488Z",
     "start_time": "2019-06-21T10:19:15.393220Z"
    },
    "executionInfo": {
     "elapsed": 1936,
     "status": "ok",
     "timestamp": 1621352924399,
     "user": {
      "displayName": "Vincenzo Nardelli",
      "photoUrl": "https://lh3.googleusercontent.com/a-/AOh14GjPK26_e6OTwkTbx-Bj4I8qLqir6RkknYKsq2GM=s64",
      "userId": "12315026942894680720"
     },
     "user_tz": -120
    },
    "id": "ZiBMQJIPG8Oz"
   },
   "outputs": [],
   "source": [
    "result = 3 + 5"
   ]
  },
  {
   "cell_type": "code",
   "execution_count": 4,
   "metadata": {
    "ExecuteTime": {
     "end_time": "2019-06-21T10:19:15.608494Z",
     "start_time": "2019-06-21T10:19:15.601153Z"
    },
    "colab": {
     "base_uri": "https://localhost:8080/"
    },
    "executionInfo": {
     "elapsed": 1931,
     "status": "ok",
     "timestamp": 1621352924400,
     "user": {
      "displayName": "Vincenzo Nardelli",
      "photoUrl": "https://lh3.googleusercontent.com/a-/AOh14GjPK26_e6OTwkTbx-Bj4I8qLqir6RkknYKsq2GM=s64",
      "userId": "12315026942894680720"
     },
     "user_tz": -120
    },
    "id": "1JZBQnxWG8O0",
    "outputId": "99eab42d-a128-41bf-9008-b7968b61c315"
   },
   "outputs": [
    {
     "data": {
      "text/plain": [
       "8"
      ]
     },
     "execution_count": 4,
     "metadata": {},
     "output_type": "execute_result"
    }
   ],
   "source": [
    "result"
   ]
  },
  {
   "cell_type": "code",
   "execution_count": 5,
   "metadata": {
    "ExecuteTime": {
     "end_time": "2019-06-21T10:19:15.792154Z",
     "start_time": "2019-06-21T10:19:15.785741Z"
    },
    "colab": {
     "base_uri": "https://localhost:8080/"
    },
    "executionInfo": {
     "elapsed": 1925,
     "status": "ok",
     "timestamp": 1621352924400,
     "user": {
      "displayName": "Vincenzo Nardelli",
      "photoUrl": "https://lh3.googleusercontent.com/a-/AOh14GjPK26_e6OTwkTbx-Bj4I8qLqir6RkknYKsq2GM=s64",
      "userId": "12315026942894680720"
     },
     "user_tz": -120
    },
    "id": "3bJmghGbG8O0",
    "outputId": "7a88fabc-dd56-4f40-e6a0-988ffeb2633c"
   },
   "outputs": [
    {
     "name": "stdout",
     "output_type": "stream",
     "text": [
      "8\n"
     ]
    }
   ],
   "source": [
    "print(result)"
   ]
  },
  {
   "cell_type": "code",
   "execution_count": 6,
   "metadata": {
    "ExecuteTime": {
     "end_time": "2019-06-21T10:19:15.959876Z",
     "start_time": "2019-06-21T10:19:15.953334Z"
    },
    "colab": {
     "base_uri": "https://localhost:8080/"
    },
    "executionInfo": {
     "elapsed": 1921,
     "status": "ok",
     "timestamp": 1621352924401,
     "user": {
      "displayName": "Vincenzo Nardelli",
      "photoUrl": "https://lh3.googleusercontent.com/a-/AOh14GjPK26_e6OTwkTbx-Bj4I8qLqir6RkknYKsq2GM=s64",
      "userId": "12315026942894680720"
     },
     "user_tz": -120
    },
    "id": "VgUi3HO2G8O1",
    "outputId": "af8c6428-78e1-417f-bfc6-9f444c471849"
   },
   "outputs": [
    {
     "name": "stdout",
     "output_type": "stream",
     "text": [
      "25.132\n"
     ]
    }
   ],
   "source": [
    "result = result * 3.1415\n",
    "print(result)"
   ]
  },
  {
   "cell_type": "code",
   "execution_count": 7,
   "metadata": {
    "ExecuteTime": {
     "end_time": "2019-06-21T18:26:27.632693Z",
     "start_time": "2019-06-21T18:26:27.625467Z"
    },
    "executionInfo": {
     "elapsed": 1919,
     "status": "ok",
     "timestamp": 1621352924401,
     "user": {
      "displayName": "Vincenzo Nardelli",
      "photoUrl": "https://lh3.googleusercontent.com/a-/AOh14GjPK26_e6OTwkTbx-Bj4I8qLqir6RkknYKsq2GM=s64",
      "userId": "12315026942894680720"
     },
     "user_tz": -120
    },
    "id": "LT5WewlLG8O1"
   },
   "outputs": [],
   "source": [
    "vector = [1, 3, 8, 13]"
   ]
  },
  {
   "cell_type": "code",
   "execution_count": 8,
   "metadata": {
    "ExecuteTime": {
     "end_time": "2019-06-21T15:56:09.961744Z",
     "start_time": "2019-06-21T15:56:09.951576Z"
    },
    "colab": {
     "base_uri": "https://localhost:8080/"
    },
    "executionInfo": {
     "elapsed": 1915,
     "status": "ok",
     "timestamp": 1621352924402,
     "user": {
      "displayName": "Vincenzo Nardelli",
      "photoUrl": "https://lh3.googleusercontent.com/a-/AOh14GjPK26_e6OTwkTbx-Bj4I8qLqir6RkknYKsq2GM=s64",
      "userId": "12315026942894680720"
     },
     "user_tz": -120
    },
    "id": "3lhuYhanG8O1",
    "outputId": "aa6574d0-8707-4665-e88d-02b37d41f0d6"
   },
   "outputs": [
    {
     "data": {
      "text/plain": [
       "[1, 3, 8, 13, 1, 3, 8, 13, 1, 3, 8, 13]"
      ]
     },
     "execution_count": 8,
     "metadata": {},
     "output_type": "execute_result"
    }
   ],
   "source": [
    "vector * 3"
   ]
  },
  {
   "cell_type": "code",
   "execution_count": 9,
   "metadata": {
    "colab": {
     "base_uri": "https://localhost:8080/"
    },
    "executionInfo": {
     "elapsed": 1910,
     "status": "ok",
     "timestamp": 1621352924402,
     "user": {
      "displayName": "Vincenzo Nardelli",
      "photoUrl": "https://lh3.googleusercontent.com/a-/AOh14GjPK26_e6OTwkTbx-Bj4I8qLqir6RkknYKsq2GM=s64",
      "userId": "12315026942894680720"
     },
     "user_tz": -120
    },
    "id": "CkMPqf4yH08c",
    "outputId": "a2a8dd2e-01bd-4f66-b437-d29898290e54"
   },
   "outputs": [
    {
     "data": {
      "text/plain": [
       "{'a': 12, 'b': 34, 'c': 62, 'd': 68, 'e': 29}"
      ]
     },
     "execution_count": 9,
     "metadata": {},
     "output_type": "execute_result"
    }
   ],
   "source": [
    "dict = {'a': 12,\n",
    "        'b': 34,\n",
    "        'c': 62,\n",
    "        'd': 68,\n",
    "        'e': 29}\n",
    "dict"
   ]
  },
  {
   "cell_type": "markdown",
   "metadata": {
    "id": "6rXdPBb0G8O2"
   },
   "source": [
    "Unlike R, the basic version of Python does not allow operations between scalars and matrices. For this you need to convert the vector to numpy array.\n",
    "\n",
    "The package functions must be called taking into account the library structure"
   ]
  },
  {
   "cell_type": "code",
   "execution_count": 10,
   "metadata": {
    "executionInfo": {
     "elapsed": 1909,
     "status": "ok",
     "timestamp": 1621352924403,
     "user": {
      "displayName": "Vincenzo Nardelli",
      "photoUrl": "https://lh3.googleusercontent.com/a-/AOh14GjPK26_e6OTwkTbx-Bj4I8qLqir6RkknYKsq2GM=s64",
      "userId": "12315026942894680720"
     },
     "user_tz": -120
    },
    "id": "B8ipStnRG8O3"
   },
   "outputs": [],
   "source": [
    "import numpy as np"
   ]
  },
  {
   "cell_type": "code",
   "execution_count": 11,
   "metadata": {
    "ExecuteTime": {
     "end_time": "2019-06-21T18:28:52.179745Z",
     "start_time": "2019-06-21T18:28:52.168023Z"
    },
    "colab": {
     "base_uri": "https://localhost:8080/"
    },
    "executionInfo": {
     "elapsed": 1903,
     "status": "ok",
     "timestamp": 1621352924403,
     "user": {
      "displayName": "Vincenzo Nardelli",
      "photoUrl": "https://lh3.googleusercontent.com/a-/AOh14GjPK26_e6OTwkTbx-Bj4I8qLqir6RkknYKsq2GM=s64",
      "userId": "12315026942894680720"
     },
     "user_tz": -120
    },
    "id": "yr9BOfBUG8O3",
    "outputId": "b728b30b-13d8-4999-ad36-72214073e7ea"
   },
   "outputs": [
    {
     "data": {
      "text/plain": [
       "array([ 1,  3,  8, 13])"
      ]
     },
     "execution_count": 11,
     "metadata": {},
     "output_type": "execute_result"
    }
   ],
   "source": [
    "vector = np.array(vector)\n",
    "vector"
   ]
  },
  {
   "cell_type": "code",
   "execution_count": 12,
   "metadata": {
    "ExecuteTime": {
     "end_time": "2019-06-21T18:28:59.486994Z",
     "start_time": "2019-06-21T18:28:59.478623Z"
    },
    "colab": {
     "base_uri": "https://localhost:8080/"
    },
    "executionInfo": {
     "elapsed": 1899,
     "status": "ok",
     "timestamp": 1621352924404,
     "user": {
      "displayName": "Vincenzo Nardelli",
      "photoUrl": "https://lh3.googleusercontent.com/a-/AOh14GjPK26_e6OTwkTbx-Bj4I8qLqir6RkknYKsq2GM=s64",
      "userId": "12315026942894680720"
     },
     "user_tz": -120
    },
    "id": "B5GykM2BG8O4",
    "outputId": "c6338a18-e529-4d89-a46b-9fc8f4f832b6"
   },
   "outputs": [
    {
     "data": {
      "text/plain": [
       "array([ 3,  9, 24, 39])"
      ]
     },
     "execution_count": 12,
     "metadata": {},
     "output_type": "execute_result"
    }
   ],
   "source": [
    "vector * 3"
   ]
  },
  {
   "cell_type": "markdown",
   "metadata": {
    "id": "Dp_kGSd0G8O4"
   },
   "source": [
    "The procedure for the subset is similar to that of R but it must be taken into account that the numbering starts from 0 instead of 1."
   ]
  },
  {
   "cell_type": "code",
   "execution_count": 13,
   "metadata": {
    "ExecuteTime": {
     "end_time": "2019-06-21T15:56:49.208706Z",
     "start_time": "2019-06-21T15:56:49.199549Z"
    },
    "colab": {
     "base_uri": "https://localhost:8080/"
    },
    "executionInfo": {
     "elapsed": 1895,
     "status": "ok",
     "timestamp": 1621352924404,
     "user": {
      "displayName": "Vincenzo Nardelli",
      "photoUrl": "https://lh3.googleusercontent.com/a-/AOh14GjPK26_e6OTwkTbx-Bj4I8qLqir6RkknYKsq2GM=s64",
      "userId": "12315026942894680720"
     },
     "user_tz": -120
    },
    "id": "ggn0dvXDG8O4",
    "outputId": "a77ce376-0606-46e4-d270-73a72b1e73df"
   },
   "outputs": [
    {
     "data": {
      "text/plain": [
       "3"
      ]
     },
     "execution_count": 13,
     "metadata": {},
     "output_type": "execute_result"
    }
   ],
   "source": [
    "vector[1]"
   ]
  },
  {
   "cell_type": "code",
   "execution_count": 14,
   "metadata": {
    "ExecuteTime": {
     "end_time": "2019-06-21T18:29:55.417919Z",
     "start_time": "2019-06-21T18:29:55.409329Z"
    },
    "colab": {
     "base_uri": "https://localhost:8080/"
    },
    "executionInfo": {
     "elapsed": 1891,
     "status": "ok",
     "timestamp": 1621352924405,
     "user": {
      "displayName": "Vincenzo Nardelli",
      "photoUrl": "https://lh3.googleusercontent.com/a-/AOh14GjPK26_e6OTwkTbx-Bj4I8qLqir6RkknYKsq2GM=s64",
      "userId": "12315026942894680720"
     },
     "user_tz": -120
    },
    "id": "KKyuvYA2G8O5",
    "outputId": "910fad6e-8981-419a-fa1d-362a3f0c6ea4"
   },
   "outputs": [
    {
     "data": {
      "text/plain": [
       "1"
      ]
     },
     "execution_count": 14,
     "metadata": {},
     "output_type": "execute_result"
    }
   ],
   "source": [
    "vector[0]"
   ]
  },
  {
   "cell_type": "markdown",
   "metadata": {
    "id": "CyrTB9ZrG8O5"
   },
   "source": [
    "Furthermore, in the case of multiple selection, the index starts from 0 (unlike R which starts from 1) and the second value representing the last element is NOT included in the subset (unlike R which is included)."
   ]
  },
  {
   "cell_type": "code",
   "execution_count": 15,
   "metadata": {
    "ExecuteTime": {
     "end_time": "2019-06-21T18:31:35.830641Z",
     "start_time": "2019-06-21T18:31:35.823532Z"
    },
    "colab": {
     "base_uri": "https://localhost:8080/"
    },
    "executionInfo": {
     "elapsed": 1886,
     "status": "ok",
     "timestamp": 1621352924405,
     "user": {
      "displayName": "Vincenzo Nardelli",
      "photoUrl": "https://lh3.googleusercontent.com/a-/AOh14GjPK26_e6OTwkTbx-Bj4I8qLqir6RkknYKsq2GM=s64",
      "userId": "12315026942894680720"
     },
     "user_tz": -120
    },
    "id": "Dhaql0XbG8O5",
    "outputId": "2a959b29-fcad-4e2e-a564-92db925cc540"
   },
   "outputs": [
    {
     "data": {
      "text/plain": [
       "array([3, 8])"
      ]
     },
     "execution_count": 15,
     "metadata": {},
     "output_type": "execute_result"
    }
   ],
   "source": [
    "vector[1:3]"
   ]
  },
  {
   "cell_type": "code",
   "execution_count": 16,
   "metadata": {
    "ExecuteTime": {
     "end_time": "2019-06-21T18:31:37.174875Z",
     "start_time": "2019-06-21T18:31:37.167035Z"
    },
    "colab": {
     "base_uri": "https://localhost:8080/"
    },
    "executionInfo": {
     "elapsed": 1884,
     "status": "ok",
     "timestamp": 1621352924406,
     "user": {
      "displayName": "Vincenzo Nardelli",
      "photoUrl": "https://lh3.googleusercontent.com/a-/AOh14GjPK26_e6OTwkTbx-Bj4I8qLqir6RkknYKsq2GM=s64",
      "userId": "12315026942894680720"
     },
     "user_tz": -120
    },
    "id": "DmK3o8NOG8O6",
    "outputId": "8d824f63-9a06-4fa1-fcdd-ac935042cad4"
   },
   "outputs": [
    {
     "data": {
      "text/plain": [
       "array([3, 8])"
      ]
     },
     "execution_count": 16,
     "metadata": {},
     "output_type": "execute_result"
    }
   ],
   "source": [
    "vector[[False, True, True, False]]\n"
   ]
  },
  {
   "cell_type": "code",
   "execution_count": 17,
   "metadata": {
    "ExecuteTime": {
     "end_time": "2019-06-21T18:31:39.343161Z",
     "start_time": "2019-06-21T18:31:39.333852Z"
    },
    "colab": {
     "base_uri": "https://localhost:8080/"
    },
    "executionInfo": {
     "elapsed": 1880,
     "status": "ok",
     "timestamp": 1621352924406,
     "user": {
      "displayName": "Vincenzo Nardelli",
      "photoUrl": "https://lh3.googleusercontent.com/a-/AOh14GjPK26_e6OTwkTbx-Bj4I8qLqir6RkknYKsq2GM=s64",
      "userId": "12315026942894680720"
     },
     "user_tz": -120
    },
    "id": "iAQPs3DDG8O6",
    "outputId": "1fd992f0-87ab-42ee-aeb4-f4874a1eefd7"
   },
   "outputs": [
    {
     "data": {
      "text/plain": [
       "array([ True, False, False, False])"
      ]
     },
     "execution_count": 17,
     "metadata": {},
     "output_type": "execute_result"
    }
   ],
   "source": [
    "vector < 3"
   ]
  },
  {
   "cell_type": "code",
   "execution_count": 18,
   "metadata": {
    "ExecuteTime": {
     "end_time": "2019-06-21T18:31:41.197976Z",
     "start_time": "2019-06-21T18:31:41.190168Z"
    },
    "colab": {
     "base_uri": "https://localhost:8080/"
    },
    "executionInfo": {
     "elapsed": 1875,
     "status": "ok",
     "timestamp": 1621352924406,
     "user": {
      "displayName": "Vincenzo Nardelli",
      "photoUrl": "https://lh3.googleusercontent.com/a-/AOh14GjPK26_e6OTwkTbx-Bj4I8qLqir6RkknYKsq2GM=s64",
      "userId": "12315026942894680720"
     },
     "user_tz": -120
    },
    "id": "dxkWEHCjG8O6",
    "outputId": "cbc24245-0745-4580-b91f-23f8d6e50362"
   },
   "outputs": [
    {
     "data": {
      "text/plain": [
       "array([1])"
      ]
     },
     "execution_count": 18,
     "metadata": {},
     "output_type": "execute_result"
    }
   ],
   "source": [
    "vector[vector < 3]"
   ]
  },
  {
   "cell_type": "code",
   "execution_count": 19,
   "metadata": {
    "colab": {
     "base_uri": "https://localhost:8080/"
    },
    "executionInfo": {
     "elapsed": 2216,
     "status": "ok",
     "timestamp": 1621352924751,
     "user": {
      "displayName": "Vincenzo Nardelli",
      "photoUrl": "https://lh3.googleusercontent.com/a-/AOh14GjPK26_e6OTwkTbx-Bj4I8qLqir6RkknYKsq2GM=s64",
      "userId": "12315026942894680720"
     },
     "user_tz": -120
    },
    "id": "wDUncPpt1HcC",
    "jupyter": {
     "outputs_hidden": false
    },
    "outputId": "16e87ef5-d722-48aa-b77e-265f3426fbb2"
   },
   "outputs": [
    {
     "data": {
      "text/plain": [
       "[0, 1, 2, 3, 4, 5, 6, 7, 8, 9]"
      ]
     },
     "execution_count": 19,
     "metadata": {},
     "output_type": "execute_result"
    }
   ],
   "source": [
    "L = list(range(10))\n",
    "L"
   ]
  },
  {
   "cell_type": "code",
   "execution_count": 20,
   "metadata": {
    "colab": {
     "base_uri": "https://localhost:8080/"
    },
    "executionInfo": {
     "elapsed": 2213,
     "status": "ok",
     "timestamp": 1621352924752,
     "user": {
      "displayName": "Vincenzo Nardelli",
      "photoUrl": "https://lh3.googleusercontent.com/a-/AOh14GjPK26_e6OTwkTbx-Bj4I8qLqir6RkknYKsq2GM=s64",
      "userId": "12315026942894680720"
     },
     "user_tz": -120
    },
    "id": "yvIL1x3k1HcE",
    "jupyter": {
     "outputs_hidden": false
    },
    "outputId": "13623a80-c1b1-4d95-d3b2-5156ec233f57"
   },
   "outputs": [
    {
     "data": {
      "text/plain": [
       "int"
      ]
     },
     "execution_count": 20,
     "metadata": {},
     "output_type": "execute_result"
    }
   ],
   "source": [
    "type(L[0])"
   ]
  },
  {
   "cell_type": "markdown",
   "metadata": {
    "id": "LrzSp5QR1HcE"
   },
   "source": [
    "Or, similarly, a list of strings:"
   ]
  },
  {
   "cell_type": "code",
   "execution_count": 21,
   "metadata": {
    "colab": {
     "base_uri": "https://localhost:8080/"
    },
    "executionInfo": {
     "elapsed": 2210,
     "status": "ok",
     "timestamp": 1621352924753,
     "user": {
      "displayName": "Vincenzo Nardelli",
      "photoUrl": "https://lh3.googleusercontent.com/a-/AOh14GjPK26_e6OTwkTbx-Bj4I8qLqir6RkknYKsq2GM=s64",
      "userId": "12315026942894680720"
     },
     "user_tz": -120
    },
    "id": "zyFHNqDzG8O7",
    "outputId": "c12a2a15-325e-42aa-945e-9256bb56dd6d"
   },
   "outputs": [
    {
     "name": "stdout",
     "output_type": "stream",
     "text": [
      "['0', '1', '2', '3', '4', '5', '6', '7', '8', '9']\n"
     ]
    }
   ],
   "source": [
    "L2 = []\n",
    "for c in L:\n",
    "    L2.append(str(c))\n",
    "print(L2)"
   ]
  },
  {
   "cell_type": "code",
   "execution_count": 22,
   "metadata": {
    "colab": {
     "base_uri": "https://localhost:8080/"
    },
    "executionInfo": {
     "elapsed": 2205,
     "status": "ok",
     "timestamp": 1621352924753,
     "user": {
      "displayName": "Vincenzo Nardelli",
      "photoUrl": "https://lh3.googleusercontent.com/a-/AOh14GjPK26_e6OTwkTbx-Bj4I8qLqir6RkknYKsq2GM=s64",
      "userId": "12315026942894680720"
     },
     "user_tz": -120
    },
    "id": "HQfB_9Yw1HcE",
    "jupyter": {
     "outputs_hidden": false
    },
    "outputId": "f920be62-151d-45f3-abe5-d7c854c9d59a"
   },
   "outputs": [
    {
     "data": {
      "text/plain": [
       "['0', '1', '2', '3', '4', '5', '6', '7', '8', '9']"
      ]
     },
     "execution_count": 22,
     "metadata": {},
     "output_type": "execute_result"
    }
   ],
   "source": [
    "L2 = [str(c) for c in L]\n",
    "L2"
   ]
  },
  {
   "cell_type": "code",
   "execution_count": 23,
   "metadata": {
    "colab": {
     "base_uri": "https://localhost:8080/"
    },
    "executionInfo": {
     "elapsed": 2200,
     "status": "ok",
     "timestamp": 1621352924753,
     "user": {
      "displayName": "Vincenzo Nardelli",
      "photoUrl": "https://lh3.googleusercontent.com/a-/AOh14GjPK26_e6OTwkTbx-Bj4I8qLqir6RkknYKsq2GM=s64",
      "userId": "12315026942894680720"
     },
     "user_tz": -120
    },
    "id": "9--GzwC_1HcF",
    "jupyter": {
     "outputs_hidden": false
    },
    "outputId": "c4c6552a-c74a-41a0-a404-979e84421859"
   },
   "outputs": [
    {
     "data": {
      "text/plain": [
       "str"
      ]
     },
     "execution_count": 23,
     "metadata": {},
     "output_type": "execute_result"
    }
   ],
   "source": [
    "type(L2[0])"
   ]
  },
  {
   "cell_type": "markdown",
   "metadata": {
    "id": "Myu032Iy1HcH"
   },
   "source": [
    "Because of Python's dynamic typing, we can even create heterogeneous lists:"
   ]
  },
  {
   "cell_type": "code",
   "execution_count": 24,
   "metadata": {
    "colab": {
     "base_uri": "https://localhost:8080/"
    },
    "executionInfo": {
     "elapsed": 2195,
     "status": "ok",
     "timestamp": 1621352924753,
     "user": {
      "displayName": "Vincenzo Nardelli",
      "photoUrl": "https://lh3.googleusercontent.com/a-/AOh14GjPK26_e6OTwkTbx-Bj4I8qLqir6RkknYKsq2GM=s64",
      "userId": "12315026942894680720"
     },
     "user_tz": -120
    },
    "id": "0OEFhnRs1HcH",
    "jupyter": {
     "outputs_hidden": false
    },
    "outputId": "accc9747-8eda-4243-b621-a61fd29aebfb"
   },
   "outputs": [
    {
     "data": {
      "text/plain": [
       "[bool, str, float, int]"
      ]
     },
     "execution_count": 24,
     "metadata": {},
     "output_type": "execute_result"
    }
   ],
   "source": [
    "L3 = [True, \"2\", 3.0, 4]\n",
    "[type(item) for item in L3]"
   ]
  },
  {
   "cell_type": "markdown",
   "metadata": {
    "id": "Fokoa4vA2m1z"
   },
   "source": [
    "# 1 - Matrix computation with NumPy\n",
    "\n",
    "- Creating arrays from Python listis\n",
    "- Creating arrays from Scratch\n",
    "- NumPy Standard Data Types\n",
    "- Array Attributes\n",
    "- Array Indexing\n",
    "- Array Slicing\n",
    "- Arithmetic Operations"
   ]
  },
  {
   "cell_type": "markdown",
   "metadata": {
    "id": "4hd-AziG1HcJ"
   },
   "source": [
    "NumPy brings the computational power of languages like C and Fortran to Python!\n",
    "\n",
    "Why use NumPy? It's fast\n",
    "\n",
    "- In a Python object, to allow the flexible types, each item in the list must contain its own type info, reference count, and other information.\n",
    "\n",
    "- In a computational task we are in the special case that all variables are of the same type, much of this information is redundant: it can be much more efficient to store data in a fixed-type array.\n",
    "\n",
    "The difference between a dynamic-type list and a fixed-type (NumPy-style) array is illustrated in the following figure:"
   ]
  },
  {
   "cell_type": "markdown",
   "metadata": {
    "id": "FryXrlGp1HcJ"
   },
   "source": [
    "![array_vs_list.png](data:image/png;base64,iVBORw0KGgoAAAANSUhEUgAAA2cAAAHmCAIAAAB4WmFmAAAKymlDQ1BJQ0MgUHJvZmlsZQAASA2tlndUU8kXx+976Y0WiICU0HvvIL0GUJAq2AhJILQQQoKIXVlcgbWgIoIVXRFRcC2ArAWxYEEEFbsuyKKirosFGyr7Aj/YPb/z2/9+c87MfN6d79w3c2fmnAtAb+aKxZmoEkCWSCqJCvZjz0pIZJMeAwqaQAINIHF5uWLfyMhw+Nfy4TYg8sGbVnJf/yr73wPKfEEuDwCJxIaT+bm8LIyPYXUHTyyRAuBiMLvhAqlYzvkYq0qwBWJcKufUcd4l5+RxxuZimpgof0xzCYBM53IlqQC0W5idncdLxfzQ3mNsK+KniQDohhh78YRcPsZYBcusrGw5r8fYNPkfflL/wVxu8qRPLjd1ksf3gs3EfhyQlivO5C4c+/h/NlmZMixeY0UHa+m5GdFhWG+MxSyfxw2MnmChgCM/szG7WOoXNcFpUk7MBAtlIbETLMuI9Z3gjOywSb0oeUbEhJ2X64/FftxngTAmfoL5goDACZZkR03qc/OiJ+0FQv8ZE5p0bqj8vMfWxpVg9B8WZAZP/lcsjZxcpyhzxuReUiRBkxpB7t/7lQpjQib8SLELMMEpaUGcCRZKQibt4syxOz22BoksajIOAlHsZAz53IDJ2EIMCEEGIuCDACSQDNmQCVJgQwCkQS6IsS8uYMctFeRjdwzAP1u8UJKWKpSyfbFXIbBkc0Q8a0u2va2dI8jfmFwD8I419nYQ1pW/bTmtAG7F2HnKrzdbrgLgGgCceArA/PC3zeDt+D091cWTSfLGdXh5RwAqKIIq9np1wABMwQrswRk8wAcCIRQisJ0kwDzgYfvJwnayABbDCiiCElgPm6ESdsIe2A+H4Ag0wUk4CxfhKnRBDzyAXhiAlzAEH2AEQRASwkCYiAaiixghFog94op4IYFIOBKFJCBJSCoiQmTIYmQVUoKUIZXIbqQW+QU5gZxFLiPdyD2kDxlE3iJfUBxKR1VRbdQYtUFdUV80DI1B56KpaA5agBaia9EKtBo9iDaiZ9GraA/ai75Eh3GAo+FYOD2cFc4V54+LwCXiUnAS3FJcMa4cV42rx7Xg2nE3cb24V7jPeCKeiWfjrfAe+BB8LJ6Hz8EvxZfiK/H78Y348/ib+D78EP47gUHQIlgQ3AkcwixCKmEBoYhQTthHOE64QOghDBA+EIlEFtGE6EIMISYQ04mLiKXE7cQGYiuxm9hPHCaRSBokC5InKYLEJUlJRaStpIOkM6QbpAHSJzKNrEu2JweRE8ki8kpyOfkA+TT5BvkZeYSiRDGiuFMiKHzKQso6yl5KC+U6ZYAyQlWmmlA9qTHUdOoKagW1nnqB+pD6jkaj6dPcaDNpabTltAraYdolWh/tM12Fbk73p8+hy+hr6TX0Vvo9+jsGg2HM8GEkMqSMtYxaxjnGY8YnBaaCtQJHga+wTKFKoVHhhsJrRYqikaKv4jzFAsVyxaOK1xVfKVGUjJX8lbhKS5WqlE4o3VEaVmYq2ylHKGcplyofUL6s/FyFpGKsEqjCVylU2aNyTqWfiWMaMP2ZPOYq5l7mBeaAKlHVRJWjmq5aonpItVN1SE1FzVEtTi1frUrtlFovC8cyZnFYmax1rCOs26wvU7Sn+E4RTFkzpX7KjSkf1aeq+6gL1IvVG9R71L9osDUCNTI0Nmg0aTzSxGuaa87UXKC5Q/OC5qupqlM9pvKmFk89MvW+FqplrhWltUhrj1aH1rC2jnawtlh7q/Y57Vc6LB0fnXSdTTqndQZ1mbpeumm6m3TP6L5gq7F92ZnsCvZ59pCell6Inkxvt16n3oi+iX6s/kr9Bv1HBlQDV4MUg00GbQZDhrqG0w0XG9YZ3jeiGLkaCY22GLUbfTQ2MY43Xm3cZPzcRN2EY1JgUmfy0JRh6m2aY1ptesuMaOZqlmG23azLHDV3MheaV5lft0AtnC3SLLZbdFsSLN0sRZbVlnes6Fa+VnlWdVZ91izrcOuV1k3Wr20MbRJtNti023y3dbLNtN1r+8BOxS7UbqVdi91be3N7nn2V/S0HhkOQwzKHZoc3jhaOAscdjnedmE7TnVY7tTl9c3ZxljjXOw+6GLokuWxzueOq6hrpWup6yY3g5ue2zO2k22d3Z3ep+xH3Pz2sPDI8Dng8n2YyTTBt77R+T31Pruduz14vtleS1y6vXm89b653tfcTHwMfvs8+n2e+Zr7pvgd9X/vZ+kn8jvt99Hf3X+LfGoALCA4oDugMVAmMDawMfBykH5QaVBc0FOwUvCi4NYQQEhayIeQOR5vD49RyhkJdQpeEng+jh0WHVYY9CTcPl4S3TEenh07fOP3hDKMZohlNERDBidgY8SjSJDIn8teZxJmRM6tmPo2yi1oc1R7NjJ4ffSD6Q4xfzLqYB7GmsbLYtjjFuDlxtXEf4wPiy+J7Z9nMWjLraoJmQlpCcyIpMS5xX+Lw7MDZm2cPzHGaUzTn9lyTuflzL8/TnJc579R8xfnc+UeTCEnxSQeSvnIjuNXc4WRO8rbkIZ4/bwvvJd+Hv4k/KPAUlAmepXimlKU8T/VM3Zg6KPQWlgtfpfmnVaa9SQ9J35n+MSMioyZjNDM+syGLnJWUdUKkIsoQnc/Wyc7P7hZbiIvEvTnuOZtzhiRhkn25SO7c3GapKpbMdMhMZT/I+vK88qryPi2IW3A0XzlflN+x0HzhmoXPCoIKfl6EX8Rb1LZYb/GKxX1LfJfsXoosTV7atsxgWeGygeXBy/evoK7IWHFtpe3KspXvV8WvainULlxe2P9D8A91RQpFkqI7qz1W7/wR/2Paj51rHNZsXfO9mF98pcS2pLzkaymv9MpPdj9V/DS6NmVt5zrndTvWE9eL1t/e4L1hf5lyWUFZ/8bpGxs3sTcVb3q/ef7my+WO5Tu3ULfItvRWhFc0bzXcun7r10phZU+VX1XDNq1ta7Z93M7ffmOHz476ndo7S3Z+2ZW26+7u4N2N1cbV5XuIe/L2PN0bt7f9Z9efa/dp7ivZ961GVNO7P2r/+VqX2toDWgfW1aF1srrBg3MOdh0KONRcb1W/u4HVUHIYDssOv/gl6ZfbR8KOtB11PVp/zOjYtuPM48WNSOPCxqEmYVNvc0Jz94nQE20tHi3Hf7X+teak3smqU2qn1p2mni48PXqm4Mxwq7j11dnUs/1t89senJt17tb5mec7L4RduHQx6OK5dt/2M5c8L5287H75xBXXK01Xna82djh1HL/mdO14p3Nn43WX681dbl0t3dO6T9/wvnH2ZsDNi7c4t672zOjpvh17++6dOXd67/LvPr+Xee/N/bz7Iw+WPyQ8LH6k9Kj8sdbj6t/Mfmvode491RfQ1/Ek+smDfl7/y99zf/86UPiU8bT8me6z2uf2z08OBg12vZj9YuCl+OXIq6I/lP/Y9tr09bE/ff7sGJo1NPBG8mb0bek7jXc17x3ftw1HDj/+kPVh5GPxJ41P+z+7fm7/Ev/l2ciCr6SvFd/MvrV8D/v+cDRrdFTMlXDHcgEc1qIpKQBvawAYCVju0AVAVRjPgccUyHjejrE8f5dXefkvHs+Tx0acAWp8AGKXA4S3AuzAqhHGdKyXp3MxPoA6OExWzCIvuSkO9mOA0CVYavJpdPSdNgCpBeCbZHR0ZPvo6Le9WK5+D6A1Zzz3lquJSgBlJiwb3OOOaz3Lx+b/o/kLRs//Pm4dSMMAAAGdaVRYdFhNTDpjb20uYWRvYmUueG1wAAAAAAA8eDp4bXBtZXRhIHhtbG5zOng9ImFkb2JlOm5zOm1ldGEvIiB4OnhtcHRrPSJYTVAgQ29yZSA1LjEuMiI+CiAgIDxyZGY6UkRGIHhtbG5zOnJkZj0iaHR0cDovL3d3dy53My5vcmcvMTk5OS8wMi8yMi1yZGYtc3ludGF4LW5zIyI+CiAgICAgIDxyZGY6RGVzY3JpcHRpb24gcmRmOmFib3V0PSIiCiAgICAgICAgICAgIHhtbG5zOmV4aWY9Imh0dHA6Ly9ucy5hZG9iZS5jb20vZXhpZi8xLjAvIj4KICAgICAgICAgPGV4aWY6UGl4ZWxYRGltZW5zaW9uPjg3MTwvZXhpZjpQaXhlbFhEaW1lbnNpb24+CiAgICAgICAgIDxleGlmOlBpeGVsWURpbWVuc2lvbj40ODY8L2V4aWY6UGl4ZWxZRGltZW5zaW9uPgogICAgICA8L3JkZjpEZXNjcmlwdGlvbj4KICAgPC9yZGY6UkRGPgo8L3g6eG1wbWV0YT4K0svxlwAAQABJREFUeAHsnXtAFNX3wMdaBFRARHygfZWwwhRMzHwliibhI5dKfACWqAH6NUFNjVL8ig++qF8F82dCKpZgKpZQGIQCiqmYobliYmFKCiYEKIgssuXvzNzZ2dnZBwu7wAJn/ti9cx/nnvvZvTNnzn1MuydPnlB4IAEkgASQABJAAkgACSABrQSe0pqKiUgACSABJIAEkAASQAJIgCaAViP+D5AAEkACSAAJIAEkgATqJoBWY92MMAcSQAJIAAkgASSABJAAWo34H0ACSAAJIAEkgASQABKomwBajXUzwhxIAAkgASSABJAAEkACaDXifwAJIAEkgASQABJAAkigbgJoNdbNCHMgASSABJAAEkACSAAJiBABEkACSAAJIAEkgASQQBMTqK6uvn79ehNXqmN17dq1c3R0NDU1FeRHq1EABE+RABIwKAGZtLyymhKZW1uYGVQuCkMCSAAJtGwCW7ZsCQ0NNdo2bN++/f333xeoh1ajAAieIgEkYEgCV/bMdA5MAom7JBUBThaGFN00smSVRYVllIllNztrvFw2DXKsBQm0EQI1NTXu7u67du0ywvZ6e3s/fvxYVTG8DKoywRgk0HoJlF/c9OG2G1QHXgs72PTu+Xz/l0ePd3VoFLuItRRramW8So0iKC1Ifc9vUyFFuQV/tnqqgzqdKvdNs/SjjV4qIqt4xWhbdXkwDgkgASTQcAJPPWWMK0xghFptkwxmNV45smlT0o0OHagOvUcsWj7HQWUwCi7QQUG77lEWc//32VTVZLXatZ7IouiAhYfuUZYVFS/Oj9ro7dR6WoYtaVEEKm/+sDImTpPKwfE527xdNKVqjpfeuHi5qOpxZ7uBTg7WmrMZXUptaUFcZiatlueD1Rq0q5HH3y9/JA/W/S0tv3E5t+hx+84Dhzg1iiletwqYAwkggdZJoG/fvtCwW7dukeaRU34MiW+kT0NZjeVnd66MYy6/FBUTeadTbfQ0gWi4QMck0c/s40K3U5SKUdlI7TMOsZUXjwTGMP4KikrK3PHO9GhHAR3j0BO1aP0ETLipzW7+/s89evSoslCSlCkhDY/0GUK1z982Ta3XTTObysvvDRlO937nqLLLi1uS2WjCNspSY+NMbLqzaX16a86lUvyX/e8ND6KRRGSXrRjWkpCoNAUjkAASMEYCYCyC4Ug+QT8IwCFQlLMsBfH6nBrKLyoy5V9RY7zirlQK1ZJfoIXxrf9cdubIHl4rY77JKeedYhAJNAMB8a6o6Ojo/fv3J2Zcri6WhIlZHSK9NuXVdyTZxKQXKW1v2uqehsymRT+prqioqK4NcKmH8WdiyiIxa7vXvWb4V2OVSKCNECDmoMBMbAwbUZWnoaxGoWS/oFi0jFgoUkl8uIRyViBaufd0fe/LisIYQgIGIVBTy4kxs3VavT/Hlz2PSZPUs+/WUuwzYgWl9Y/NmJQyaUlJUVFRSXml1rwUBWuv6Yzas8p4QnSWzDVcx4CZhbmFmRp7WFbJaFhSUinlqcEI5ZDoWAVmQwJIAAnoSIBYh9wn42TsC2UFRqTaGB2r0JKtsaxGKjNoR0aRloobmMS/SUgrmbtPicrdR1bO3Jc03pb4Qij5lb9c2kCV6ipWcvZYHOSRUP4RUb4kc8zeHBVXLElRqCajWwf3I/7tSHsqI0FWSe5kcFdWuZORKvATCaghYGHvJH+w6dpBBLOQPWEudLt2g5Z8w/8HkoJX9gUwie32pB0aB3ksh7DTLzIDuwyiD0hdl1ogqMWSKjt/4KNBJubduvXq1atbF0uTcQHRN9R1u4LzR5Z4QsYudEaSFRTZdKRIOXMeqGFi0q7dRzeklaejP2qng2SBSrqc5h2AxkItg47wdJUWnV83e5yJJaNht26W5iaDPJek3oBeLf3mI0DSbgizbBzkBw2RIxm3qUAVpS4aYB4kgASQgGYCYD7yD8goONVctCEphrYa3ULio/yJIqHjdwjvGyoaXtk3m7n9zL4osKKkV9j7UsAR7k7Bu0mUZ2xf0s7ckrn7dLM0GfTRvtMkW15q9Lh2Jl2Y+xJ9W1oSLbhSs0I8D0gp2fkD6yAze+XvYj7I86PTBWxtOt4196kOxAvbKD0eS3ZjcvN9z98nmNyZkw5mqrBhmgw3wSVH8gpORw+CnT7gfgmNm32AZqM9laIqCy7uWxcwCJpD2gN3ZXIny+P8RtKMTYS20v2P1bfyIgt89j7BTyFsEJ63VgLs5Eaq8hFl1qF9BdNMSWTkOe4fxDa84Eu/GCbo3Kn2Lszdk5cjBSRwQOiI5E82u/zLb0jf4T7gdVccmTGB/YZtUn64lJ3fPrvvcK/IJH5GKCKJXOnVyzyAf6GorSHLU8L7mVu6BoYr5FKUOsn89HqEawEHfUiKHlSzxYoyJvUaHiqfx00iJUmRE3eckVHVt46x87vZzFCSIMlM/VMugEvCABJAAkigwQTAOlQtK4gknkhVN6RqQR1jDG01Zt52nLUkmK08fOOBvDr0YBcoVipGy9gCtfdI4LdS7krLu0l0GR8UyZMsCfdzfW/7N0c2efafGMi/ZmdGBvadFs2/67FCknaHzB4y3CeUn1mSFO7ad1JqEe0Q0PGu2cXSnKeGumD5hd20p5GixDNesjYb9pYPyRS5N1PFOGObHOnVv69rIHfPdO7aialDW6qs4Ihl3yF+oTFcKVILfSfr3+Ub1nA2M6mBPUbgkOz86jLJwH0WnTnCGgJde9TVJK4QBloRAemdG/LW2FiZULYj5/uS88yv07kUOkaal8kaaOKFk1zfSIiPj98VIi/qFpWQQMfExsf6DpJHKn27Be/Kys6Oj2ClU5KVe3iDEiUZ4cODSIeB3XCi0nMk+ddyEqLkVxQqZshCeN5Tf2iXrL5Mg2JP71lPrhtQo+RWcXHxrayEKDcQZd5eRFlP3pEUnxAfQp/TB+QhSOKTtgxqgbtVklbgJxJAAsZPgJiGnIFI7EXO72go/Q1tNcIEJ2vH5UnsXSTGZwPfN6BFadUp49wFVs18IkaQOCw2Kzs9wpcdV4sLEnutZAbKfMNSsrPiw+S3paTAw2o8gpmRcbSJ5ewfkZKdnR4fIR+dy5y4MI6253S7a7r10aQd29Yb6axHItj3NWiR9dCJrFpJ284w5imbj/nimsycuYVERIX4ulGPHhK7WUtqdSnrr/Glb7TXbhXekmQlyNtPiTd+J2MkDvWaT6rLXHnwBoki55T0ZDxrCcybPayOJrFF8KuFEzDl97nyAyG+5LGBooIH94EtDswm+EeQFkbGneA/d13+5gsSHzzXw8LCYRpsBTvvHfbPJn7Hf9o0OmaOt4udmn0SwpLyM7YFjB42zHvF/uwoMZFz5AT3bFkSu4R9TYLvruyMbYvHuTg5OLpMW7ytLGcXizsuIk0wfMAk1CWZLW2Ir/JfyGY9lHN4eIBTH1tb2z6jpy3OqK2uDnUF+Q6jp3pP835HjmTG3HcJEu+pLmqIGEIhlIEEkEBbJkCsQ0IAwmAmwic55YcNhcjgViNVW03ZTV0kt8LiPvj0vKF05csJS8lPXD1n9LBxK/anhMktPsggjkiv3r/aY9ho79X70+XP+ymZv/HLcuGQBMnl6BUew4aN817xA3dbSvriQglk0e2uyclSHyg/tpPci93eGs/sZmLm5BdC1JXEp+WrLcQk+2YXZ2xcsXjj/ozL0d58e1FtqoW9e0JswrXi6v30jdaxj10fp9HT9hcmsWB+u0v8mmaOE+S/S+Qx/ooHziFKhYjrs1BUrf4Y2SIIJKWkpGZkpKZ+cyB6k2e7Lj6RrJ86JH25A/PcYDtiKjvXJGnnecUTzo2DK4mjTTxzdB+2pTL5RoYVvCU2KhT846/xd9IeNmsx2xOyc4lVKs07tlKuxfqAYXwB1i7zklhtJHtTr/GTIFynZEF+/U5FlCURIDl1kueFFZmZ8VbM1Mq3eayBCyIeSAAJIIHWQsDwViPjwbB7LyaKIMpc6Z9KG2GGPOibhAe3pZyd50LWaeEWknRwxTjugX7orBlaavWPl2yc5sRlsHDxjmUdJpm5v9N3sXrcNTkpygFZQTqzZRtF+c4fas2mDZ22kITitn2jFgzcN2MlO4dpeAmF+lRrx2lzpjnack1narBzk4Oh5O5D26kr2XvvniMKa77g9NfsiFuEWG4IKLcEz1ofgaSVE8ePnzhR7BNIXPR0C/1jczaOs2PbKnL0DSPjrPCEwxpqlVdOsFND/H2HyP/SOrJxceqllNPCln2qsZTv1yM3tdzU/A9FI3xZ3yelYprWLVmpYj1PLMZ4sleKlRP7jQvYfjqP9fTrKReLIwEkgAQaQICMQXMFOUcjxEAYUrkkgwQMbzUStayH+cmNMMnEjWqWYeqjveAm0fulcUTajFlufLvJ3LIne1tSV5mLU1/laIshr7I3g4zzN+kkve+aktQ4UkWY31hOMQsXD3b8XrLyOG9VpkIZ8a63tbyuV3sqrCsvuHHlykU4rly5kMe0QyGZohwnzmANgfD4K+wEscrMvawlMP/tQfzMGG4rBJzd/MN2ZedXRM9x4TeZm9IQty2FPOH8nHiIZAjzHSN/FOGX0BZWeaOgfDJzBVuq8Do7VF1a81hVkFlHNs5CaWydjqxTsqo0fWIc50TsYi8VsOwmyLV/r3aDZh84X6CPTCyLBJAAEtCTADEfOSOSC+gpVlC8vld+QXEtpxa+/0nwi/Oic0SKDy96Mp0/jUpLOR2SBDcJUQdTUkgY390erEZwzqk9BJkhj4kF+3Le7nZWpAh912QWzMBdc+scJ3D/1eeuWXBEvvuGVcfqghvsTEKROdVDrtbury57rxgmVE9+ExXGk3MNqbKSizs3hgVFMjM71ZdkYq3pVQ6ZtDUbl3h2q9M4W6rkwhekkHPEhDb3pkctpFp5kltEVtqKETLYnkkkMhOpvw6QKQ30qDH9hLPU26Hga3b9mL/XUA3OcD2wPSr9S0tpmdzIrKTkIS25GzfJLmB/9Uifz1evDGSXekvifIbHHY7KTlys0p0bVxOUjgSQQAsmkJ+ff+bMmaFDhxphG6qqqmAbNVXF1N8tVPM1IEbk4JkS4jyR2WrD5z9Hxn7Mn54nkKclSZCzXqf1vbuw07PulT4g1ehz16y8ksouMIE924b3C1KnOL0qZekwMo1MXbqucbKiVPdeE8koM13G2dnNxt7SsiIpSREnlwXzNcOoOHrNQeihUyHjphWc+pZk8l051fCGgLxW/DY2ApZmHUWMwahVMXpKw0ofem7u4RPX3qjNIU5p55AZjpzzXGv5eiX2HfkqPMxAEXsruV9RXfkK+ZRBdYlNFmfm5BGQ6DGv6ErWjtXjw5nnrqSg4UcmV0/DR68m+xGwIiTQwglYW1v37t179uzZRtiOmJiYLl26qCrWiFYjDPF6LN/hFu5KGyVx63YMnSx3samqIblTJnOx4CtjOM+kam1MjKkJvzo6qla+F469DetrhMmNDb5rXpCP5Wmon0TDqpTQxfouQJEeXsmajM7+UYfW+znaEitcus/T3E/F+Wg71NOfCqUNgZg4yZbxkjhiCbj5THDUqiomtkUCjhNgSkMMdOGkQzsi834jCBbO0vBkbKkfIvm8xqQ9x0oWuyg/w8jS964k0gf15bqnftUZoLTIzmncxsSKgbMtfWhzl3r4CJ5UlQxqU25SsQGqQxFIAAm0KgI2NjbPPffckiVLjLBV33//vVqrsbHmNbIIrEdv2SWmw86S8CClDX6VGUlulcpNNiah8rcc5iKsnMugZwU3y5TllWceYuu0f7Ybl8TcNekz+q4Z/QWJ13jX5IpJrxxix/LEKfnFZbCnG/8oK05h1xlQe/afl3GlGhiovFNISrrt2LJYbjJqlmXmJF/lkBQduYMdnha/M0r5Lq25PKa0JQLcFlSZMaGRmfDgR1EhHoJ5t9zr824WK3XjenKyeE4+s1gSuvEItx0PLaXk/E4v+kEHDvFMN24lHIkxxKfKXEnNQivzzl8sUmqnRY+ubHZuoU5tDZujQC8kmrXAFCSABJBAcxAQ+tsMroPLu//1D0wSbj+tqIa9tu7Zf3qhy1SiTWXekVed/RRZGicULu7bI6tw8Wg7Ir4o4zN2vTPl++pzvBFz5q5JTwSEu2Ym/TZpiepdU0XDkgsp7D3Od/pYB8HaZjr3WPmMSUlkvCTcQ6+d3GSP7peyGrTnuWiLTseoOhpJPna+pjMVE8pujxcS6MZrMysNv5AAvQWVHzulAWjAFEdx1LQ+Ai4WNi/CYxWdHLpwXf91nt3PJqZYTF7iLXAXCkqpnlq4LIkSxwXRkmCv+7/CYhd5je5KPbiUtt9Lvqu/W0TIsEb4pyYFblr3wImq4Q1+V1c7iBd5D2OvDwplK39ZOHw4XAnCYtd5ub1sY1Kbd/KL8exyMuc+8j3yezzPIgmfuNAlO7T7vQsply2WrPbGRzMFSQwhASTQAgk0utVImTl+lBQcI2YvqwJEz43xZG83keJp5vGhs5zunN0rDlSfWVBW/9Mg114XwuKXeDoV53w50Y+dhegc4ueidFvS4a4pVEV6Ko4dTQvxUaye5ucycxwL20yGwk2YijtyMsLFQ+XmxM+tPSzq0seeuZ9TmSEh0VHLp/c1Kcv8cpM4iDVcVUvzaieJ4mmjhJaAaimMaZsEbEfCTjOh8NxEDl8x43CUnzLffcQRbuHMPo5JoV5JzJNI8KAAbxelTKonnMOOc7e7LN4ZlZHE2I0w+daPmX/LK+cbe0h19RgvnQuqSuaSlAKKmc9xoWyX5aWbT1RjNZqQJzNJqJ+YfeSSl3CL2OFhx15R7YaJ3ahwenIOleQ1nEwTCQmA3RMa/4orVwe/kQASQAKGJ2CwEWruIV1xHZZr22fqcv5G3PJo+tvM8W35Bj1UUrjPEGdnVZORu6PwCxoqHBdKV8qZjPBijEOh7D4+XBXMXZM7o9TdNRWpdKj8chxrsInFozSZg7DNpC8pFh5/kt0DRy5Ge5NVUi3eWsZuZQdvUHTu1cWyWz8tJiNTiZ3XErZ2+jR4rrOSoSzXA79bHQETE3bDAUr3MVkzJ/8IZp4J0HCLGq/ufUjDlsbFBpM9nVhkg+wt2ZC8wq4dBBaTCfun4/ZrpAvYLU4sS98l36CfFQFTXMQRCdnV++co+erqJ5mTpQiY2/RUUlqRQod8n+lMfwlqMXP5LCsW3tmkfLiFxWd/t2K0ItJ6WFx2rFIu3+ctBQAUuTGEBJAAEmgZBAxmNZqydwB7eIetymEX8k263EhxtrMy52WwmBNbGBssvycxCeLg2MLaCvaNeL3kOwBDkuDyrZAiT6jPg3xUenZCiKDeXfkV29QsDtXhrqnQBV7Ue+8a8S2ANablzbP93/BhnTaF5DXccnC9LPiA5JK1pdqOXpGfvkvpFgUjaAnZWbHsnt5yIYpvR7E/lz9i5mi8nSnQtOqQmeOcWnj3XXVtYoBTPRpaU0Ey+y+cbK22mMhuzraM6oqyQvoorqh9MseJzeg0Zz9T4RNvR+VHEzOn/awqc5QTrMcFbMx4UltWXEj2GwN5Ty4nrpg2TGmZCUXVX7JQdVGfqRlPNB7759CIVGtxGD1nf8YTprG0goXFZbVPMlZ7C9WzGzYHckEraCJlFU/2z1GPTqgUniMBJIAE6k2gY0dtW0/UW5zmAu3gkqk5tV4pMqlUBm/V0mJ/yGT05nBqM8gqy+HCCn7KDl162ZLF1DLYS04oUFMddDylrnKVhCvRs50D46BhUTkVi10spJXlZXS9Jpbdu1lr1v30unGuzOoW/4T86Gk6TMZn6oVXjNVBkKjH7ZenrskKCdpT6Xyy8pLiCljFadKhSzeWolQqVb8fX0nGuG7jmRG04Pzabfrv/qPQE0OtjEDlRU/LIcyDkFtWWcZotH1a2e+LzUECSKCZCHh6eoJddPjwYX3q5+xF2GGRhCGgj0BS1sPDQywWL1u2TCBKrQknyKPjqTqjTbmoBouRziSysLazUL4dqTN2NNWhKV6tJSlXih7pNVOtV56s+K68+D92QbSbL3mdtCJNQ0ijQsr5BdnUNVlRQHsqnU9kbWunDJHSZLle+Xo7YzJSbhFvocmogIwhFQIFmfsZk1HpxZgquTACCSABJIAE6kEgOjo6KSlp0qRJ9SijIStnL2pIN2S0wUaoDamUkclqjXfNG3vl7615Z+pQI+ON6hgVgZKkSHZ1Gv/FmEalIiqDBJAAEmhZBFavXh0YGAg6//PPP/przrkb9RdVpwQD+hrrrKuFZmiFd82S01+xhoBzmLuaiZwt9JdCtRuBgPR2BnFKU/5eIzUt7WqEelEkEkACSKCVElizZs369etJ4/S3GlXHo8GIVI00FMu2azVaCld0akDaGu+af/5ylrTWf6UXGgIafniMZgiYuRyhF8/UmlhY1DVLF4khASSABJBAHQSWLl26bdu2OjI1NLnxjEVOozZnNToFxFZ776w1MbfQvPaFo0MHWuNd0yngSLV3dT0gKBHBk7ZFACbfWtS5rqttIcHWIgEkgATqTQDcigEBAbt37653SWMq0OasRlgyYlZPr0lrvGvWG4Ix/WlRFySABJAAEkACLYkArJWePXv2wYMHBUr/9ddfqampgkhjOC0rK1OrRhu0GtVywEgkgASQABJAAkgACRieQE1NjZeX17fffktE8+cdXr58efr06Zp2OzG8KjpLbNeunbm5ms2j0WrUGSFmRAJIAAkgASSABJBAfQjAXEPY+DA9PZ0UGjx4cG5uLicALMh+/fqB1QhWGhdpDAFQEua0q2qCVqMqE4xBAkgACSABJIAEkIC+BMDwcnd3P3uWXYE6evRo2HDHx8cH5LZv375Tp07Ozs779u3Tt5pGKD9r1iy1UuuwGt944w0YdFdbEiORgCYCM2bMCA4O1pSK8QYn8PDhQ3iWffTokcElo8DWTSAoKGjmzJmtu43YOiTQjAQOHTrEmYyvv/76119/DZ2O6DN27NiWaF9psxr//vvv5ORksIt79OjRjNCx6pZF4MSJE6dPn0arsSl/Nbj0ZGRkrFixokOHDk1ZL9bVogl89dVX58+fR6uxRf+IqLyRE+jfv//TTz8N1tRbb7315Zdfgn8xJSWF6Dx58uSTJ0+Wl5fXtwl9+/aFIrdu3SIFySk/hsQ30qc2q5FUCe7GAQMGNFL1KLb1EbjHHK2vXcbfIhhQsLYWvFHS+LVGDZuNwM8//9xsdWPFSKBtEBg2bNilS5eKiopgnBpmLkKnKywsJE2fOHHi77//3gCrkRQHYxEMR/IJMRCAgyRxn5xlycXoH8A3CurPECUgASSABJAAEkACSEANAScnJxibJotdjh07RnI8//zzzz33HMxrbNgiGGIOCszExrARVduDVqMqE4xBAkgACSABJIAEkICBCXBWIwxPE9FPPVVvM4xYh9wn42TsC9IERqTaGFKpPp91j1DrIx3LIgEkgASQABJAAkgACZSWlv7444+Ew6RJk0gAZj3qSUbgYgTbURCjp3xBcbQaBUDwFAkgASSABJAAEkACBiYA74CBZTEgFAamXV1d9Zeu1joURHIOSEF8g2tHq7HB6LAgEkACSAAJIAEkgAR0IsANT0+YMAEWU+tUpj6ZiJeR8zUSe9FQxiKnSL0H1LmSGEACSAAJIAEkgASQABKokwB4Gb///nuSjZvUWGcpXTKAdUgMRMgMATATuVN+WBdRuuRBq1EXSpgHCSABJIAEkAASQAINJJCdnV1WVkYKw547DZRiBMVwhNoIfgRUAQkgASSABJAAEmi9BLjhaXgPtZ2dnQEbKhiD5hyNUAWEBan614tWo/4MUQISQAJIAAkgASSABDQS+O6770iaYHj6n3/+kUqlGovVJyEvL4/LDjLJaYOFg2KcNH4ArUY+DQwjASSABJAAEkACSMCQBOB9MJcvXyYSuT134DQnJwfewevo6GjIygwnq1+/fqrC0GpUZYIxSAAJIAEkgASQABIwDAFueNrGxgbeMcgJdXZ2fvTo0aZNm7gY4wkEBgbCW21U9UGrUZUJxiABJIAEkAASQAJIwDAEOKsR1sHwXwZjYmJiaWmp1jgzTMV6SLGwsBCJ1JiIuIZaD6hYFAkgASSABJAAEkACmgnU1NSkp6eTdP7wtOYSRp2CVqNR/zyoHBJAAkgACSABJNByCZw6daqqqgr0h5cHvv766y23IURztBpb+i+I+iMBJIAEkAASQAJGSoAbnh4xYkSXLl2MVEud1UKrUWdUmBEJIAEkgASQABJAAvUhwO250wqGp6HdaDXW58fHvEgACSABJIAEkAAS0I3Ar7/+mp+fT/IKdmrUTYCuuTp27KhrVv3yqVkgo59ALI0EkAASQAJIAAkgASRAccPTvXv3hn12GoMI314kYTKNsjHqApmt0NdYeCp61qxZm1JuaEcmg3VNMu1ZMBUJIIFGJIBdtRHhomgkgASMgEDTDE83qpkooNg0vkbZpaQ9yZJiU1NTUr2Zle1zji+9MmqwTT3rrym9kZF67PtT5/L+KAdR1taOg8eOmjDFfXAvK65h5Xdyzp07R7lXczGqgYKUdWMW7KEoz+TrkQNZpVRzNXZMzanotfE5j0b4LPcb04tfWeHZ2LX7znUd4rMmYAyjnexSws7kvAccQJK55n6Na8CKMX2UGlB6KWHdp2eoDh3c5i8TD7Thi6UoZTk1NZSpla39cy+5uDg5dK/nT6EsGM9aCQHsqmp/SOyqarFgJBJAAtoIlJeXZ2VlkRytY3ga2tI0pkLNLwfD95xThet+4MwnI3spGT2qmbiYglPRY94N506ZQN65c4k7w5fPi0pdLWbfySOiOkCShXI+wVnln7+QGMO0X1aYtOer6zU9fRZ69aqHRNmdkwfSzlGVI+YLrMby6+fS0tIgYSVrNdb88vVWdQApK6/FylZjVcanyxPT6MYlPhrsEeOlDFejHGrEwuQdSwfW14oXYMXTFk8Au6ranxC7qlosGIkEkIA2AomJiY8fP4Yc4PEZP368tqx6pKk6GmGcWjVSjxqUitbDxlEqV8+T9sSIc19zdPFQWUXprz/Ef7wTTJs073n7clIDBA4xtbIfXIqVm4yOSzeHTB7Zz0xWmf9jWvjyrfC+7j1BHt3scgKG6iKJFm/vvnRN5bnHNoNsn1ZbWz0ja8qPhW9No0ZMmFcvq5EiWFQNXFF72vClqPbcz8MHSNXWEv1kMsrueeUJsPd+2sOYjHSGtK9zSr1GKiNRklNdXVqUm3Fw7QEw6M/tnDIk/+jlmMEKpy2pBD/bFgH+PwS7KvfbY1flUGAACSABHQlwkxrHjh3Ln32oY/EGZGs8Y5FThjNLuJhGDLiPGTF4IO0RHDpyzIu2wW+uTaTywjNuzPFyUPaIqVGh9GDIWiba/cD5nSPlo6m9+jiOGjlo9qh3wewJ3/rNzC/9hDaPrObBg4cykZmVVUd+Uzv2Guq3eKiaeihZ1YMqqUy1BJeXEUiJOnW0MlVIJGacqvnHlTJMgAOoSdyNrKNgQ8uPc8k/3BgpdpCfKr55coa+Jp7tlRD65vIDYGa+uf1E/urXFM1SlMBQ2yLA/UOMtqvKaqoePJRSIpGVlZWGfyx21bb1p8XWIgGjIvDPP/+cPHmSqNQ69twhbdFwvW0k9o8Vy08GT5pCgdVIOXYSVcX7v/BxGuW+JjnGbyBXMzgXB70JlqJ36vWN9n/+EM5YQwt3r+FMRrYBvcas3+w5fnkidW7tyRveYrkB2oGquJCy3WvBVlago+fu/9vwmgPrmavKSxjgsZxy33A1xkfurJPlpuzZsCAcDFByOHqGbFk9jzdoW3U2fmvYx3s4s8w7ZPeyeSMyPhgAlTNH2psD+jKBeanXVzvWaQmTQvX65AFUV670xB5alYWfp796eZX31nMHDmYtEzsoexuZckpyRIO9wnbnXZwPLduz5aT/2NfkRrm6KjCubRDg/UOMravKSnP3rNsQnqjoqUs/3bJw4kDetQy7atv4l2IrkYARE4BXwpSWlhIFNVmNT548uXz58vvvv2+E7fjtt9/UasW70qpNb7RImYz45/LKqkX2/UZQaefS1n5X6DewF1uj7ELyITroPvgZU+rOj5lMtPukEfJ0Nhv91cd1iiOVCMZcWbUU5g+QlMS13qwtR87zEuePf5RwOWYo642kpxpQlSSN/rwUu/DNtczgrqO7p2NlYuK5vMTwKYkFYLMy9p/s1Ka3391JLEZHRyoPQgfC5/d55VynRwoh8tBtGDuWKyKP0/KtGIhmM5m015BbJSc/X00Bsa1HvPqywxAbd2rrObCkfyzwnqi8XIZfRB4WjX0niNqzgKLybpdUUd2FHlt5NvxuiwSMq6s+uLRwyJtkFsYIT08KOiqVt3XBlD+j0jeybnXsqm3xX4ptRgLGRoAbnn7hhRf69eunVr2ysrLbt2/v3btXbWqzR8JqHlUdmtZqVBg9Vcf+L4rRxn3QM5bPvf0WtRM8BzvTcv/tN5Dx/dXkJTNOvXnTR8J5LWPjUe5j7OWOQX5LRJ17w7A3Mej48eCnTDjz8dBeHeXLaNI++zp3KM+dyWWW3TsVwpiM7iEHPgkYCYbn2sCUGR4L8qgDX2QEbJzYp+bGMWIyjlj46a4VE60oWcGFYx96BbU36eCzM3/ag0vvD/GCeY0Hzu97pTP1N/W0fLE4V4O2QNrHwR/97kJxa77NqYuMy1C1TNrHa9cVDiZ2cU3N/d6u/+Yvo/kl9SBdxP2tQR0pU0dXb7BrKepoxm8T1TVZIFzUw94TFtCAIV0BljdajQI8be/USLuq7FR0CGMyyhfSRa5NWRe4YM+5A0EHAiav7iOisKu2vT8rthgJGCMBXfbcsbGxcXV13bBhgxE2ICgoyNraWlWxJrUa05K/OdH7Xu39O6cPfkyvwIDx6aXv0Vaig+tSRwpWtRz67ie/gWMgvlSSwXgK3afwnYs816BSSx7eIW7Fx9WKEXCKmpd6dbUjY2X2GTPvU++jCw7kpaVdfuA3UNUmyj8RzxidS9cxJiMIt3KcuGWN+5S1aQe+/3nNxD6/ZR1japz3X9pkhEPUZ6j4y1uTZcwidNNO5szqFQvLTqYi0wasS887oBj3ZurR+HFuD21eyw8rL4XVKCtIZkbXiZ1NiRymLB1xYKvAgysvqPotqyRm94NHYDXi0dYJGGlXrcmLZ/z9Cz8Pl++9YDVxxcfue6akUXt+LFjRx8EUu2pb/+9i+5GAERC4e/futWvXiCLa99wxMzN75plnjEBloQqCnf645Ca1GmGh7vxzO7m6ab8duySl++R5nluXJ+btPJoXNMbRVPbjUWY+ovd0J75zUdNqk069iZ+svbmiOe4bvIjJyFQnsh+gwR3JakPWLG8NXye1oWroOFOq9NIfdOAeTLmnyGj6iKUefego7hAp6uPiGhBwD0lY4EJxFq+Iyv3ci57zqXp4bkh+fwglN47Nbe25LFV5GbD/JOxA+eZodhD/FfFMepCa2nky798+PBZcEaWAyIIA6mbVSSkeT9omASPtqiLSUXeGr6PO28B+o8xRynRU6iEzQQW7atv8w2KrkYBREfjqq6+IPhYWFqNHjzasbn379gWBt27dImLJKT+GxDfSp2HMHp2V81yzYSj1mOryTO8X+r/kyNua22HcdGZuYmKaZK3j4NtHYWyVokLeHEz0kz1mJg+mFd6nKL4Zydb78N49VQ140/kh0bq3HZ3FQq0jsObmVdZGS9yjMGpZkRYwVvfgF9g9EUrbmLORBv1yHzNm6GCw2RRHl3x6wpbiXB5yHzpkoINSTnmK7KejzDRQKnHD2g6sLfkXA5Gi9n9z2cdxpDynhm9pJWHIt7w1ZMXotkDAGLtqzZ3rbK/IS2TnGPN+ivb0Qxx2VR4RDCIBJNBMBLjh6ddee619e00rFfRSDoxFMBzJJwiCABwCiZxlKYjX57RJrUb3De/7+ajZCIZugM2geZ4ULEbemvqzmMpjpi55vzaYXf5r+2w/2BcG3GZnbwSpbtNT8GMWGbXtYWGmYKGYmEXHld8por8qFR49+pQ9TO0HeNKT+jw3n98wyYxeyaI4zGCHHUrWe/AI6ty5yofc3ENFBgOElA1cEMjO41QVrZKTzVKTd1Q+xn3uABn8VxTO23k4L2ik9jXdecnxahgqZGCobREwzq5q2tuB6ajUhuTz0+zNpMo91Qp6KnbVtvU/xdYiAWMkUFtbe/r0aaKZ9uHpBmtP7EWBmUgiGyxTx4JN+x7qx1qsro6u05fSSu95d4xXOHw7Ln3TQW7Tdn/JbQTToOWffPOACSg+HlzaRr8bEFaBbHDlLRZOS04rUNxUaq5fYJ0UcpEKARBifZmJN2UdO8L2b/yD2ZRR1L0XPTp+Ljy1gF+u5kGVogpIqJQPHfMzGTSs4YnlXvZ3TPNG7E49Awcs+IfjzJnz6QdCmOrBg1uqpIeynKobKcEfMwI8o8bxGCoVwZM2RcA4u6qMIjsW/P6nzFSlpzK/D3bVNvU3xcYiAWMk8P333z98+BA0e+qppyZOnGhwFYkHkftknIx9oRaBEak2Rn9lmtZq1Kpv9yHu4EjgjnmTX+TClNXgwHnMWeLyGR/F5917AA5BmayqMPdE8KA3iT0YsmCK0uD1ua1jpmzKvQdTn2R5KVFBTCbvmcOV8sgreM51AhPc+cH2E6VyQ7CqtOBUQsIFWgLVcxCxWvd8uP3EAzpDTcGFBI8XBm04WUgXZG9m51LPglVZU3qvlC7TCMcfhaVVsLkx76ihlanKPsoMrHvOHO3YC44+zNGrV3eHkZ4LGTW2xv/IV4mTU1iQdyJ+3YDxsFqcPj5d4gHuGjyQgHYCzdZVO9pPZq4Re+avPXFD/iAkqyq4dCIh6RL5h2NX1f7bYSoSQAKNTYAbnh4zZoydnV1jVwfmI/+A6gSnhlVArevNsFXQ0h7rItLUcfrCEYnsGuGlrvIduZmiojEr0heeGQ+TmfIOfOxx4GOBPO/NyQGq78LL2zllGH+eovc8D/Xj46YOU3fP2wPbXJ/bOn/IVmqEuzv1R9o5xpJaetR9aHdTq4FvbXBfC1uRQ4ZB8o3DQYdRRI+OtrA7OYyg71kwhnF7ep/K3wibgNR51IlFbsGyAPN2vjuA3yBYKL77zOrBBQcZm3jhmy+r2HzdJ61x3wmbCiV+IVk9EV64SGpUlQO+3c3J8Trs7FhnmzBDyyZQ53+Sbl6zddWOHks+pRIXQG+bPz6Nchzhbg07vZ5jiIe4i+lNqbCrtuz/H2qPBFo+gfT0dNKIRhqe5giBdciFuYAgknNACuK5/PUNNJGvkYyIduhUhyU1ZBJx6cFo87jugqaYOqxIztm9ZiGbQ546wn3ep8nnN3opXipDUtxDPo0KYfwS7PnCozlh8hfHyAsrvk1fW/3VgQ3zyEqTc2nEZHT0nLfG/VninbTy2Xlm8zx3RQnKcd6azxe/RhYsd383NUqhmGOPOtopl6IRC0mgF+KwR5euahfBUFYmoqqSm8xt03PSy0QZeRnm29EdlhnBcS73Lj22L5TjCHuaz1sTdeD89VSvgWpeIsPIwI82REDjf1KZQXN1VdM+E6+eOjDPnflT550jJqPjCM81u8fIhxGwqyr/VHiGBJBAExK4fv36r7/+Sip0Bw9UEx7EQOTMRAjAAcYiOQylSDt4oY0mWX///bdIJIL9zQcMGKApj87xMtgmw5T35ma1BeVvEXTcfSb5tV6cySTIy74qGmLNOll1VCdTViMTMfGQ9QHMmRd1sqFnyiuOqtzYAVPWKr9RkKTKYPgXhr9FIlgGo/TqajZZ/vbbTszce4VEOlTzoFTNO6+V8wjONGLRmCAQwJzKZDA6Z6pxH6A6ktVJ1CMuIiLi3r173L4DekjCoroSgIuCvb39pUuX1G7KqqsUNp9Of71m76ps16ZEZp06argIsC+qxq6q6Q8QHBwMN5Vt27ZpyoDxSAAJ1JfA1q1bly1bBqV69OhRVFTUrl07LRJWrVp14cKFmJgYLXnqTIJeDHngLsAPkFPus04hqhlmzZr19ttvk7bwUzVZZvw8BgmLTJXMNrUya05+vpZOGDF7qEaTEZJFMA9e7ldQK4ciJiPJaqOcVVZVVSX7K3k3s0+NmiXVIisrbS43kWlHG1NliQoVTK1s6m6kIjsd0ohFY4JyeXImgr3FtRx1JGspiUltkIAuf73m76pwFRB0bcFPhV1VAARPkQASaAIC3KRGsVis3WRsAmUao4omsxp1UP5e9qdkzco7r6q+vkWH8jplyTs8f8racySr+5QhjVNRVULwANhFSNvhvvlqjJcm81NbQUxDAs1OALtqs/8EqAASQALGR+DRo0ewjQnRq7EnNXKtB4ciF4YA8TiSGAgLUvk5GxY2IquxqryYWX/i7e2q/AaWhrVMQynzLrA0G6xGR8+lQWt91E8W1FC0HtHtKZBM1iVrKEXecaEhEaORgDETwK5qzL8O6oYEkEBzEUhNTZVKpVC7iYkJLKBuYjUEBqLg1FDKGJHV2NHR69YtL0M1TJMcB/HqW+LVmlINFN9RHJkqjjSQMBSDBIyMAHZVI/tBUB0kgASMggA3PD1u3DhLS8s6dbp9+zb4JseOHVtnzqbPAOsThg0bplqvEVmNqsphDBJAAkgACSABJIAEWgSB48ePEz11HJ6GbcC7du3axEutdSSZlJT09NNPq2ZGq1GVCcYgASSABJAAEkACSKAeBC5evPjHH3+QAhMmkFeH1FEc3srh5ORknPsYXLt2rWfPnqoNaKL9GlUrxhgkgASQABJAAkgACbQOArBNIWnICy+84OjYWKsmmp0VWo3N/hOgAkgACSABJIAEkEDLJsBNatRxeLqFthatxhb6w6HaSAAJIAEkgASQgFEQuH//PuzXTVRBq9EofhJUAgkgASSABJAAEkACRkjg22+/hdfpgWIdOnQYOXKkEWpoKJXQ12gokigHCSABJIAEkAASaIsEuOFpDw8PMzOzpkfQsWMTvTYE11A3/Y+LNSIBJIAEkAASQAKthMA///yTnp5OGlOv4elLly7B5jt6UuDbiyQML07WU6aW4vqqq0U0JiEBJIAEkAASQAJIoHUTgJ26S0pKSBt13HPnxo0bsBM4eCifPHmiP5xGNRMF6qHVKACCp0gACSABJIAEkAAS0JUANzzt4uLyzDPPaC8G0x83bdoEW/NkZmZqz6l7Kt/dqHuphuWse4Q6Ozu7sLCwYdKxVBskcPPmTXgFZxtseLM3+eTJk0157Wj29qICehK4e/du79699RSCxZEAEuB2aqxzePry5cvz58//6aefOGj6+xpVHY1wI1CN5GrUM6DNamzHHOvWrdOzDize1gg899xzba3Jzdvehw8fggJLlixpXjWw9hZHoH379i1OZ1QYCRgVgT///DM3N5eoNGnSJE261dTUgDUVEREhk8k05dE/vvGMRU43bVYjmMBwnDp1auDAgVwBDCAB7QTCwsLgjeza82CqYQl06tQJBObn51tbWxtWMkprxQQCAgLQ19iKf19sWtMQgPc1g6UEdXXu3Hno0KFqK/3hhx/ee++9vLw8taktK1Kb1UhaAqONzbKMvGVxRG05AiJR3X8qLjMGDEgA/EbYVQ3Is9WLevrpp1t9G7GBSKCxCXDD02+88YZqn6qsrPzwww8//fRTYlmCMrBoGtZcc1pVVFRcvXqVOzWewKNHj9Qqgzd4tVgwEgkgASSABJAAEkAC2gjU1tbChHKSQ3V4+vjx4/PmzeMPvg0fPhzWivAlghvylVde4ccYT/idd95RVQatRlUmGIMEkAASQAJIAAkggToIZGRkgDcRMoEH8bXXXuPnLigoADuSm8UIa6v/7//+Lzg4mOT517/+9ccff0DY1NTUzs6OX9BIwrBajlOerxJajXwaGEYCSAAJIAEkgASQgE4EuOHpUaNGde3alV9GKpUSqwvWFS9cuDA8PPzLL7/8/fffSR5XV9e4uDgIQ8G9e/fyCxpJeNasWdyoOl8ltBr5NDCMBJAAEkACSAAJIAGdCKSlpZF8qsPTL7zwwueffw7riWGQGt5MDWPZGzduJJnffPPNlrvTCFqNOv0zMFNLJ/DZZ599/fXXTdkKuGRERkY2ZY1YFxJAAkgACTQZAVgTff36dVKd2p0aYV4gNzVw9+7dMGYNmcH1uGbNGrAmSUG1/jztTejbty9kuHXrFslGTvkxJL6RPtFqbCSwKNa4CMATIawIc3d3bxq14FJy6NAhtBqbhjbWggSQABJoegLcK2F69uzp5OSkRQHYrJFzNL799tuDBg36+eefteTXJQmMRTAcySfkhwAcgoKcZSmI1+cUrUZ96GHZlkQAxgg+/vjjptEYJrvA6rmmqQtrQQJIAAkggaYnwE1qFIvF2muPiYm5c+cO5CGORghYWVmRIg3wNUJBYi8KzEQSScQ23ie+h7rx2KJkJIAEkAASQAJIoBUSgMGrM2fOkIapTmrkNxiWxfz3v/8lMTNmzCCvTenTpw+JATuSn1mXMPEgcp+0j5HxMpJPvgTVGH5qw8Loa2wYNyyFBJAAEkACSAAJtFECqampMO4MjYc3oYwdO1YLBdjiu6ioCDLA7jyhoaEk5+DBg7du3RodHa3/ezGI+cgpAJaiIIZLMkgArUaDYEQhSAAJIAEkgASQQFshwA1Pjx8/3sLCQlOzq6urN23aRFK9vb379+/P5VyyZElpaemFCxe4mPoG1FqHgkjO3SiIr29dXH60GjkUGEACSAAJIAEkgASQQN0EuJnr2oend+zY8eeff4I4eNng6tWr65arRw7iZeR8jcReNJSxyOmF8xo5FBhAAkgACSABJIAEkEAdBC5evMi9J1DL1hxVVVWbN28msmbPnv3888/XIbdByWAdEgMRSkMAzETulB9ukGw1hdBqVAMFo5AAEkACSAAJIAEkoJYANzzt6OgIW/OqzQORn3zySUlJCQRg8uKqVas0ZWtZ8ThC3bJ+L9QWCSABJIAEkAASaE4CnNWoZXga3k+9ZcsWouW7777r4ODQSBoLxqA5RyNUB2FBqv46oNWoP0OUgASQABJAAkgACbQJAuXl5T/99BNpqtpXwpCkqKgoWOwCYVhk3TSORoGBKDg11G+DVqOhSKIcJIAEkAASQAJIoJUTSE5O/vvvv6GRHTp0GDVqlNrWVlRUwMY6JGnu3Ll8/x8//5UrV+DVgvyF1fzU5g1DG9UOvqPV2Ly/C9auL4Hs7Ow//vhj6tSpZmZm+srC8kgACSABJIAEtBLghqc9PDxMTU3V5gWTEVySkNS+ffuPPvpIbR6IfPbZZ+FVhCtXrtSUoRnjYWtJtaPqaDWq+VGkvx9fHrK7w/D5a5dMQEtEDSCjiTp//jw86v3zzz/29vbQSz09PY1GNVSkgQRuH9/mvzXtlYDItZ4a55g3UHQ9ixmPJvVUHLMjASTQWATgdpOenk6kaxqevn//fmRkJMnz3nvv/etf/9KkTceOHXv06KFlcqSmgk0Qv337dnNzc9WKcA21KhNKVvHH3uTkHWm/SdUkYpQRESgoKIA+DArdvHnzzTffhB0Qrl27ZkD9pAWn1wXMHjfO80hepQHFoigtBEr/yM7KyvqxqFpLnqZJMh5Nmqa9WAsSQAJ1EoC3CP71118km6Y9d2ARzIMHDyAPeCJDQkLqlNmyMqDVqO73MiGRprp6YmW3D28LXxO+/7ZMnTSMazQC4FyEKSPcezxh21VnZ2fYcJ/0WP2qrcyIXmLe1zU0Ji4zM6noEf60+uHUubQJ1QnyWuqc3yAZ7549vGbNmv1nb/OlNYsmfAUwjASQgLER4IanXVxcevfurapeWVkZeOlIfGBgYK9evVTztOgYtBoN8fNJS79atX7L+gN/onPSEDh1lwFTRvbs2QMPf0OGDCGlZDIZDA3AZqoQT9yQuktT5Cy/uKSd5fhAdohBEY+hVkrg3s9fgXvgwM/0gkc8kAASQAKaCHBWo6bhadjWG/bcgeIwvGucExY1NU3HeLQa5aCkD++XlNy//xDOzTT4GGWQh8kkFTqeahkp6v0jmkvJq8Zv/QiMGDHixx9//Oyzz2xtbYmk4uLi+fPnv/LKK+fOnWuA7MpfTzAGo3+KRLJL3AABWMTwBKAfwX650EWFnY+i4FGBrY/NQ/didYcU5htBH1fpv2xeS4p0ZEFRZuihDsmCIniKBJBAKyRw9+7d3Nxc0jC1ViMMXsMrBEmGBQsW9OzZs/VR0GAftb6GamvR/cTwZT7rD7JZpqyKf1vgM5RdP/75pq0xB7PYvwvkXLT9+Np5I82oh/vndQ9kiyaP7d6REbLox9KIAWZaSmnTphWkZWRk9OvXjzSEGz7mAhDPhXUJ6J6/e/fuT5484Sad5OTkjBw5Et7jFBERUS+q5s9PTUkZM8pjmAUl3Vevkpi5EQjISn7+5MOQVQez5LIHroqPXu75Erl4Xd0/75XAg3O3H3u7fcrkQPZ6Tbl+cPKL1UNtueub9ML+8EWBWxQdmKIGDqRyc+eePP3K2NGBRHLy8rEdl9PBubEXP5nOrcUpOnv48AQ/drdeFclypfAbCSCB1k4gKSmJNNHa2vrll19WbS7cax4+fAjxsClPEzsaYWENvMBQVSWDx3BXVYNLbikCZcdWvu6zg3c3SV7vk8woL3cdSq9+7uK5mLRnoKtrbhZ999qxeILZv/LXTrB4TP9DBMetWhmltVQrfP7gI4D/Lrh0+DHNGN6/f//Ro0fBiuUM2TqVEVk7eniQXGqdT3UKwAyGI3D/gk/fsaRHus6cSR0E4zF3vc+oIs6we0zXtXfx5L38OrO2jJ3S+db5JcT5fHX/v8eSZzu5CMgrdxkw5fllKar4L8VanOTlnqR2NouyZOVyeIYEkEBrJsANT0+ZMuXpp58WNBXGuHbu3EkiFy1a1K1bN0GGRjoFe5GTTMKNaj629RFq2e3vpzMm48BF8bceVFWV5sd/4Mr+ABXst6jLv6YMnLI98Uzhg6rzKSlVpVdWMVm27D7xkOo0L/5B6a3jU+i8rsfySx/AZvCl8S91orSWYiXjVxMQAHcmLJppfVOSmwCdEVQhO75tEWO0TTmWV5qyZ09KVWH8Irr77fXb+7t8XJrVc+Cik/n3oA8f3zyTjsldlXqdDBrcPsyYjK6rEhkRD07umssUWZVf9clQl3cfVJWeXE/3YNf1x0ur6B4cv/AlJoP8Q6NkeQb8RgJIoLUTePz4MezITVqpdng6PDz80aNHkKFTp07LlzPDFk3FpFHNREEj2rqv8Xra1wyRmXvXetLDWaKenmu/TTTz8Vyv8C+Iek44dH6CApzZs75+c9dn7aUqHtO3LZHIzKIDveyTsuxsYSYyowjTOkopxLXCEKxNgYXMpGEwZKx7AHI2OD9sZA9dGtyK/P4D/sUvvvgCJj56eXm1QtCtvknS3N3MqPIHiTvGPmPGNLez59rwKTtGJVM7ztxY++wLJBLGmz/48dTaAczZyLlLZy4/eJCiKqvBaoRZJKV5dMmBS+eT7VdFg195BcxOivr5zkOqZyeRiBJ1sKR7sKVpB7r7CuY1a5HMKIQfSAAJtAUCMPOKLHN56qmnxo8fL2gyTHmMjo4mkYsXL+7atasgQ6Oe8t2NjVoRCG/rViPL13VkH/ndB5iMfmsKxbMaSZ77t69ekFz9o+CvGoqqKSgmkXXia1gpVqsW+2VnZzd9+vSmVB/sReioEomEqxTmOG7cuNHPz4+bOsklYaDlEDBhnseoLas+pH7oKiWuQ+qvW0wDWKOQCU/xn05MRvrMrM/YKdRB7rmP7aW5ub/dn2DbGdLv5uczhbpZ1tmBKUqbZEYKfiABJNAWCHDD0/BqCVWjEG431dX0zBYLC4tly5Y1JRC+o4TU26hzHHW4ajZl65upLlf3/uTmROqXyQRTndu+xWsAAEAASURBVEoOvz/Fb29uPbVrWKl6VtLms8PrBD/44IOEhASOBLwqPigoaPXq1ZaW8qmpXBoGWhQBacFVcBnSR+5BpZUsTJypCe/yVaN5BqrZwHcWUck7qFUTXr+/fdmAmhy/5TtoAYs8HBTPioxEtR9aJKvNj5FIAAm0RgJpaWmkWarD04WFhbCJB0mFcbYuXbo0FwBVC9LgmvAuuwaX3XIEZmVfe0iN5AxHkag9X/frhz8kJuPc9fGB4iFdLCwqfv7UxXM9P49quGGlVOVgjBYC169fh+114D3xXB54NdO2bdtgv0YuBgMtl4BZn+dnUhQYjtvP5Pv0M1feMcesc2ddjD5o/V3JScIgd8tiP5aG66qLqyfj5Y+lgV9IAAloJZCXl/frr7+SLKpW44YNG2pqYBiSsrKy4mZnaZXXghPxssn8eMm/FsuoTiwMafqBA/yfND+H9jIOXHT4kyWTSbyFrRU/gzxcwX+BiM6l5KXxu/4Ezp49y5mMYCmCvdhoL/TEnlL/n0f/EjLqISPk10KZ2Uu6GomCah9eTVsPPXjgByePzLcs/bP0EWXzzHMvPEMPVQuOCnQrCojgKRJAAgwBbnga5l8NhF27eAeMd8FLJUjE0qVLO3dWc23hZVcKgjF6+vTpAQMGKMUaxwmsC+zfv7+qLm39Xujw6ljGl7Ej5JPX9iyZ0El69/CauX47uJ3haGIdzWhvc+6tgrsUBVvm3L9+LGCU8vIo9t6WlXTy95GediV3Ky162tZdipaNh14ExGLx8OHDodPC4x2MSsPYtF7ieIVlUtqxJRJVEj+mtKqSkplAlMhMsFaCVwaDBifQqd/bM6nkg9SO6R+4Xtwx+QVmIx3Zw98vnTpzs5vX9KG6OBtFIgtar9wtiz6Qeg7vYQWvhr0muWzzrwFDRgx4hh1gqK2hrdOsVUeuLxjqIC0pF1nbyh8iDd4mFIgEkECLI/Ddd98RnadOnSpQfv369bC8GiJhE8fg4GBBqvZTWFgDG/TApsLaszVLKoy5g3qqVbd1q9HshTe2TwlcnEwlr/LsvkqZj3xS3AuvvkJtyaKSl/fr+O1Mepa93KaUZ6A6dX+JopJhE0cfpx20jLlXHnxSdynl2vCsAQRg+kjD3v6ivS5p3j7z/vKhTCbrStdeK5lArKRijhNjhWgXgamGIdBp6sfx1EEf6F7TXZKpga5TulDJzIapFLX+Dd2sRrMXJm2mKHjOy03ekQu9lHd8cPjK2snPQkSvF9ke7GLD9OAPjletHcnLiEEkgATaLgGYLAjvrSXtFwxP37p1a9++fSQJZtjXdzI9DJE9ePDgnXfeMUK4KSkpajc5VmNIGqH2jalS53mfX9k8k94BjhwD524/fmw73wHdc0LIsc1zmdQsxmScuSt+u6IAndBzwY+xipiBduDy0qEUqRA/jY+AidLEViX9DObNVJKKJwoCyuzNnvW8d+XYoilMj8zNIibjQNeZmw+7s35C5fwKOXSIfip+ePUoGRpYtOv4lSsX4eWTJ4+RPR+pLdOjyaaPtmMXxDLbQJLiH7zSgw7UJZlkxk8kgARaN4HU1FQybbF9+/Zjx47lNzYsLKy2ll6KZ2Nj8/777/OTGi/clzk4+eQUPrmYRg20dV8jDdfs2YV7UuZG3a+srjUxsSBT7M88APcGNxZpNnbhJ1Vzw0sqYV29ibVtZ6A268G7MH7J4es8YHpK1dT7JZW1JubWncngVt2lGvWnReENJmDm4P3kiXeDi2NBfQgMmL3ngVe0ovPBlrnPjo04dH7Dw/vl1XB1NjG36NSJ65oUpZofSsw+9GAWTCdgOmj+KcbBuOhwxGzOfTigPzV3B2y5St0qlVLP0uZn5+kRKVNXMxcBC+vOjPw6JevTTCyLBJBASyHADU+PGzcOdvDm1L5x4wa8e4ycrlixAvbc4ZKaIABmIng6ySdUBwE4BPVCBkGM/qec2aO/qJYtwaxTZzPFnwHuNyozpsw62fJy8CxGruFmnW0bUIorjgEkgARoAiKeUcgREXXqbMvroVy8hvwqHfRk1oXbowY/Qz/yPbz78ycRYDLCEpkxz/FkCi4CukqmBeGBBJBAqyWgac+dtWvXymT0uz5sbW3//e9/N2X7ib0oMBNJZGOrgVZjYxNG+UgACTQngb5D3elZx7k7xjoycxZ5umze4VWP5Y68ghhEAkigjRDIycm5c+cOaay7O1xM2AM24jkg327lww8/bMq3sxAPIrER+ZaiwIgERSGGZJZrbYBvtBoNABFFIAEkYLQEOg+dV3jRIXbv/rSTuVm5uaDnwIGur3hMe2f+jKHyNdRGqzwqhgSQQPMS4PbccXR05O8EDI5GeI0t6AbvIVuwYEEzKimwCxvDUuS3Dq1GPg0MIwEk0AoJdH5h7JKIseyb0Vth+7BJSAAJNBYBblIjf/X0tWvXDtLvuqePkJAQc3NzEq7XJyyjyczM1MdJKbAXSe2CSM4BKYivl6r8zLiGmk8Dw0gACSABJIAEkAASoAmUlZX99NNPhAXfavzPf/7zzz//QDxs+h0QEEAy1OszPz8f3mcNL6qoV6kGZAZjkRwNKKu2CFqNarFgJBJAAkgACSABJNCmCSQnJ5NhaPAIjhzJbsKQm5ubkJBAuHz00UdmZiqrYOti9vnnn8P7YC5cuAAZnzx5Uld2XdOJW5FzLkKAC+sqQod8aDXqAAmzIAEkgASQABJAAm2MADc87eHhAW+VIq1fs2YNMfV69+49f/78eiGBPb1nzZo1Z84c8joZKKu/1ci3DiEMnkXOWOSH66Wnlsw4r1ELHExCAkgACSABJIAE2iIBGIM+ceIEaTk3PH358uWjR4+SyFWrVnGmpC6A4AUzPj4+BQUF/Mz6W418aU0QRquxCSBjFc1P4OrVq998883WrVubTBUDvhS7yXTGipAAEkACSIAQ+OGHH0pLS0l4woQJJBAaGkrsvD59+vj5Kb14Vgs3GOaG11WvW7eOjHdrydmAJHAo8ktxjkaIhLAglZ+zYWG0GhvGDUu1MALPPvuss7PzvHnzmkbv8+fPb9++vWnqwlqQABJAAkjA4AS44ekhQ4bAYDTIv3jxIngfSEWrV6+GFwzqUik4F8HFyL3JWlDkt99+A4NSENmwU/5wOcgkpw0WDuYmvIBbVRO0GlWZYEwrJAA7I9jb23PPi43dQpiz8vTTTzd2LSgfCSABJIAEGokAt1MjNzwNjkZSF9xN3n33XV3qhQ16AgMDYTojydy1a9dHzMGVvXfvHqy54U6NJwB+VsFgOtENrUbj+Y1QEySABJAAEkACSKD5CRQVFcFaaaLHpEmTIPDjjz9ydiSYjyovLVWjM8yJWrZsGZcAS2qGDh0K49QQA8XJ2wjHjh3LTZTkchpDALR98cUXVTXBNdSqTDAGCSABJIAEkAASaLsEuJHoLl26vPzyywCCczT269dv9uzZuqDhzEFYNLNt2zbwKcbFxZGC3t7eukgwwjxoNRrhj4IqIQEkgASQABJAAs1GgHMrTpkyBaYbnTt37vvvvyfawM47Ok5ACg4OtrKycnFxgZnuED58+PDNmzeJkA8++KABGz02Gw5exWg18mBgEAkgASSABJAAEmjbBGBi+smTJwkDMjwNa1/I6QsvvAAbLuqI5+23375//35OTs6gQYOgyCeffMLJdHJy6tWrl45yjCpb3fMaYcpnw96xaFTtRGWajMDdu3fBgd9k1WFFQIBsGAvTUHSZaoPEkAAh8Mcff7i7uyMNJIAEBAQyMjIePnwIkU899dRrr712+vTp9PR0kgfeJaijo1EgE4SAw5JELl26FAKwLvvGjRuCbMZ/WrfVCBaAtbW18bcENTQSAvBG9ha3bamRoGuwGgR4//7967XlbIOrw4KtgwCs6yTz8VtHc7AVSMBQBLjh6VdffdXGxgaGpIlkWB0yffr0htXyv//9jxMyfvx4CJPdfBomrRlL1W01bty48aWXXmpGFbHqlkUgJCQENqBqWTq3dG2JsRgdHQ0XuJbeFtS/yQj4+vra2to2WXVYERJoKQS4KYwwPJ3JHETztWvXgvexAa2AvQ+57XVWrlxJJMB8x/j4+AZIU1sE3pStdntFtZn1iazbatRHOpZFAkgACSABJIAEkEBLIXDt2jXO8QE7NS5cuJBoDjMRYZ5iw1qxZcsW8lYYeE7jvJWLFy9OSUnRf1oR2IucViTcqOZjQ6xmTj8MIAEkgASQABJAAkig1RDgXgljZ2cH0/RhPiJpGjga27Vr14BmVlRUfPHFF6QgrKTmlk6DvThs2LCGOS8FajSqmSioC61GARA8RQJIAAkgASSABNooAW5So1gs5mY0wjw9T0/PhhHZuXNnZWUllAV78b333muYEO2l+O5G7Tn1T8URav0ZogQkgASQABJAAkigxRMApx33wuhu3bpxq57DwsIa5miEgelPP/2UcPHz82uMmcSqjsZGneOIVmOL/5djAxqDQNGVjCNfHsrI/u1maSllYz/Z03eR/zQ7s8aoCmUigbZLAN51u2nTJjLlq+1SMNaWww4q8A5lY9WuUfRKTU0lG5m1b9+eW78C74Z54403GlbfgQMHYIsrUnbRokUNE6J7KVULUveyOuZEq1FHUJitDRG4sm+2s18cr8ESSWZSeFBIfu1GB+wxPC4YRAJ6Erh8+TK8aW3atGl6ysHiBidQWFj45ZdftjWrkRueHjhwIOzOTaiCo7HBeLmdvadOnar2tc4NltxcBfEe2FzksV6jJVB59gvaZBQHRy2e7W5bm7vD3ytGAhHh/4l7Z/8cR6PVGxVDAi2RQIcOHcAf0xI1b906f/vtt23NZIQfNC0tjfysxcXFJAALViZOnNiw3xo27blw4QIpS3b2FsiBpTDHjx9//vnnBfHGcAoE3nzzTVVN0GpUZYIxbZyAxVtRWS+aDBztSDa3d4xOScnuNRHsxsqKR20cDTYfCSABJNBaCYBzETyspHV37twhgXXr1jW4vVu3biVlYdeeMWPGqMqBuZI1NTVcpaoZmjdG7fputBqb90fB2o2RgK3TaKW9j+2GzHOjgjKNUVXUCQkgASSABAxCgBuehvcmgDEHMkeNGjVhwoSGCYe3BXKb+HA7ewtEwYze0aNH6zMCLhBowFNwjqp9dxRajQaEjKJaKYHK3zPQZGylvy02CwkgASRACHBWIzEZIVIfe27z5s3//PMPCOnRo4eXl5cmyObm5vb29ppSmzGe21dSoANajQIgeIoEhATyvt2bxMSNe9UY+7ZQXTxHAkgACSCBehIoKyv76aef+IVcXV3HjRvHj9E9fP/+/bi4OJJ/yZIlsCJb97J15uzbty/kgbcUkpzklB9D4hvpE63GRgKLYlsLgZLTC31i6Ma4Rc12ITMdW0vTsB1IAAkgASTAEIB9dohrkOOhj6Nxx44dZBMccCXOmzePk2nAABiLYDiSTxALATgE8jnLUhCvzym+G0Yfeli21RMo2jTDlRmddk6KXYg2Y6v/vbGBSAAJtE0C3PA0af748ePVrl/RBU5tbe2uXbtIzvnz59vY2OhSql55iDkoMBMbw0ZU1QqtRlUmGIMECIHyAwG9VjI2Y1h6ytQ+6JjHPwYSQAJIoBUSAC/jiRMn+A2Dt07zT+sVjo+PJ8uiYYl0Y+zsTaxD7pNxMvYFDQVGpNqYejVEbWa8EarFgpFIoPLIkrFkaNo/XrJ6nB0SQQJIAAkggVZJ4IcffoB5jVzTXn/9dVg9zZ3WN8Dt7A37HTbBXowCFyPYjoKY+uqvPT9ajdr5YGrbJCBLXSf2iqS39vaNzYn2dmqbFLDVSAAJIIG2QEAwPP2f//ynwa2GXbsvXrxIiqvd2bvBklULqrUOBZGcA1IQrypNxxi0GnUEhdnaEIGL0X4TQ5mRad/4rTOfKy8pkbGtF1nYWuPLqNvQXwGbqgeBkpISW1ulnU/1EIZFkUAjEuBeOQ11TJ48efjw4Q2ujNvZe/Dgwfo4LBugAPEycr5GYi8ayljk9MF5jRwKDCABhoD0YlhgHMsizqebuWWXbtzR5WBeJWJCAkigTgLwamnoNkOHDoWxvzozYwYk0IwEYA7iL7/8wimgj6Px119//f7774koTTt7cxUZKgDWITEQQSAEwEzkTvlhQ1XXQn2N0tRNIbvOUoFR4R59GNePTCqViczMjLs5LUJJQ/2zWq4csx4j3agkDdt6G3LTrZaLqMk0xy7TZKgNWhHsOfLVV1+BSNgAD159MX369E2bNvXp08eglWgUVn7j9Gc7YlIzJKWQxcZ+8oy5i96daqfjGEFlUepXcUfTz/4muQnF7Z3HTfcP9h6tqrn0/IHN4YczqRcX7t84zUKoS/npA/tjDicyMij74ZPnBiya6sLOjS7IiN54KM/GxlxYqLq62nzQ8rA5drz7mLTg9OaNMZm/VS7cuX+ao3I9lTeOxO5JSsyWlNINpVX1C5g+zpFXWlgDnqslcPToUS7+jTfeePnll7nT+gZgZ+8nT55AqV69er311lv1Ld4i8rfQP1htQWok3NfHhYaC1SgrSh3CvCZ4l6QiwEm5XxnNj9AilDQaWs2riN2KjCcrmlcFrJ2isMu03H9Bx44d33333c8//5w04fDhw998882yZcs+/PDDTp06NWq7Ss5v7zY8iFeFRJKZFL4zLD9ntUOdtzvplQBLZ2Z3VlaARCJJiou8kJC/bZoDJ7PyRkboW+OZac8UVTFDPn2FSy/Z7tktiLwYgImjhcSEhyTd2jiVtj5Lf9oZE0PPmVZ3+AeA1cgmVGZEh44PjCRnno+U6yk/7dnFlVcJRVQ9HJWduHiYOskYp5FAdHQ0l6bP0unS0lJYPU1Ewc7eJiYmnNhGDQjGoDlHI1QKYUGq/pq01BFqU0tF26v//JXtgrWKSGMLtQgljQ0a6tOWCajpMrKCA5vWfbRuX4HyDbQtUzLatu/bty8xMbFfv35EQ6lUumHDBlhPCqYkccY0iubSK0uJyejsnyK5VVyYnxAmpiuShC7byS5Q0FKvrPAKbTK6+cenSwqLC3OSIkjmSK8dN+R/uYv7llj2k5uMkGxJCWzRK/uWEpPRPyrlVnFxfnYCowEVLg46z0xvsZ+6IyEhiX+kp8c7s2rZmBNx5ReXtLPkTEY2UfEly9i8iDEZxbFZ1yqqK4rzs0Lc6OSkoPCLOIlGAaru0MOHD69evUryvfLKKzAZse4yGnLA0mnwF0MiPDXNnTtXQ65GjAYDkTugGhI2eH2CP7zB5TeFQAvnaQlR0mtSq6HPqPj8m6J+nepoEUrq1BLMhASahICaLlNdenhlaBLlJg6e08dIBxWaBE0LqUQsFk+cOBFupevWrXvw4AFofffu3Tlz5sBrMyIjIxtjoUDR2S/jaDjOSSnRHozLbtrq/bG/WvrFUUl7ThQtlg8SawAocpgoybn2nIsjGc22m7oiJ+rsENoGvPlXNeVA/+XKf/CjnX++USkrBv/q7BpEVQhkFSVCZaBBSEr0Yg86zXbaQUmsubMfWHRpF4qGjbOzdhw9zVG5lPQiWI3g+/CNfYeMhVf+eoLxMYLtu6hgtXMgYyHyylT/9gvtKhFHhc4ZTcuycBgduiUifMhKXh4M6kRgxYoV3GPMli1bdCqjLtPjx485n6W/v7+1tbW6XMK4O3fuwMTfBr+3UCjOoOdFRUVqVwW1JKuxsrxcKqPMLKwtzJQdvyK7aYuFI4oymUwkolsnk1aWV8rMLCwsFLMeZYwokbWttdr2M0WklEgEP7wgAyeWklaWVEIeM1tr1duXrLy8HOpnVJX/jOqUJGmMMqAtnV1QHQX1gR5MLMlmZm2rkoli26NWgrx+/EYCLYyAmi5DRhN4Aw1KTYJ+UCmlO561sCcp+hHdV8hVhOtrpL+rKUULV9eXlSptwSews/Eff/yRlpYGAf7x999/80+5cIPjvb294daYm5tLbs8w2fHVV18Fm3L79u0GxSf96dAxWqDvSnf5KC8YVJP9wqi4UEpy9nbJxYXdhoAB5h8riZ7jxFQty1jnPh42THDbVZERYEFZOym/NdTKrjuTzUJ+y7FwT0/J7jNqmIOF9EoBk6T0IbtxNpSJWPLOWC7BzMk9wplaKaFycv+k1O38evHzsDg6t3jR26w5af781JSUMaM8hllQ0n2cIJVA0tU8KeVixsRXV7HJBhxyg188JSXFw8MDdqtWqbw1RNTU1HzxxRekJfAGF5iD2+BWffnll3/++ScUf+qppxYsWKC7HKjXzY1xFOtepklyfvvtt+p/d+jGmg76SktRly5d0pShyeLLJAm+cg8+qBQWnxDGQI7KKaN1qJb40hDFORWsRpJYOsJ/V0r6rmA6hTncguMht7IoccI1RoK8JbXFORG+/N/POSwhp1aeKhebnh6rEEu5hWQXc1me5KdE8cuLQ+KLSXEVJSFakqSUGYZGIhIkCllsEf/0nBQy+kAaEhyrUOlJRX6Uv1KF8TlshXKtm/obpi69/fbbTV1rXfXBik5QrK5cBkuHfRx69OhhMHF1Cbp58yb8N/7666+6MraodKUuU8H0adIDuM9gSTVpUW1OQgS/Gzj7RuRwvVLej1KyU4IVlxG3WPrqUZYQxlw8GJHisCT+5UBjX25RFLUoC4tUOJTNEjAzM/Px8bG0tNSiZH2SKnYxg8HiXRJ+qep8dqrZLklxgj9pqHNKIX2hrZDEknOYdMgvwobLctjs4lj5vUWRq0LCvDIOzE1F3JOKHPIeOV/uZsQkVrP1+qqRA/cvUotzWDpPEhesiGUaxd7s5NH58axqbsyftuJaAvv/D05S3EHkmRv2DVNRySRUmGbwv//9D1whDZNjzKWioqK4f35QUJA+qr700ktElKenp+5yPv744ylTpsDqMSM8wIYG56tqWyjVKC7GSKzG2ltC7zz3M8utxhxyreA6qmSX4k7AZdYQ8JXfeOAOkk0moEBON1+F8egff40w0SjWOYJYaux1hK7JTSwmvdg5i1xUqoVKZvOUdHZT3M18d+WwP0F1jqZmhGWRCsvIBYWtj8gIy+Z+wWYJoNUI2NFqNMB/T6nLsAYB3bcUB/ugmB0l77jOYn7HZbu25n6kkCQP+cayBoe2vmyAthmFiBkzZsjb3TzfYJTAWJ4BrUZyPRRHyS+hBDP72EDR94uyLPa/4htf+6QYXID0wTcKawuTYnfFxsZGhfnLL8rilHy+Zcj+duqtRmJKUuJs5RLXyEOPWxT/sYQIupXE+iASbqm199RbjU+eFPNuIOzP5+wbpV5Gg/5usAoe3GasaIrq0KHDe++99/PPPzdImDEWevToEX8/UX0cZLCzNwfq9OnTure2JVqNiv8E12YjC8i+i1zNqOQWL6FNpcIc+UMVT1HVQWI20Tkkp7j6SW0hv4NFpFyD3pmfEsbkicv8hUwelqVu9mfsU3H6reqM/fszwA8RTFt+MT7RN2S8yiDoHJxdCFeF6qwoxq6TrDwGAwUU9VtmCp3PH5yaGYmJGbVl15LiIxzkky35SsL6UH+yKaB/7K3qJ5czLkNm4kCNC/zgdDkthn8Ex9JXoerCLGJHhsYcp+ur/DWR0ThWUkbXd7k6PyspZfKz/IIYRgItlwCvy1gEHKmtLia3fLf0wupamHZefcTFgl5q7c+sPhBHpFdfToSOC+MJzP0+ZkfyDUHbg+NpP31xNnEIMYniiGtltU+q89ne98VZcjnQ3pcFYlvoKQw/mZqawgAZ3Du7d+/es2dP2C7kmWeegS1y7O3twcMEi1ccHR1ffPHFgQMHOjs7gzfFxcUFtmAcNmzYiBEjYGIieCPGjBkD42vjx493d3eHocxJkyaB72Tq1KngcYGdR8DHD7apl5cXSOCbIEAMMly/fh1S1Y+C6cG0e9cOSqWrS+g5gJSzHWx2Yz36fwmMlRbnY9KuG4waQ3zKTl/FP6369mq/QD8/v6BQbp3zkL5d5BdxJblaTuyt5EPaJFPJbaamQX0VFbGli75YHUkHfWNfr9+b7m0D9ufLn5ZYWdP8p9VPBltO/df9+/fZ2VFMOthYn332GfwHXF1djxw5QpxK6ku2kNhPP/0UNqInysLeopyzsAHqczt7DxkyBGZfNEBCSyqixSg2Cl+j3E/A+QBA4dpbKcSPx/kaGVuKN0JNjETnkGvsABYMHLCO6Ij0QnmT2QfNYDI2wTo2qJAU3givPDKWEcT6Gp1DFO5J/lPskyc5xOfhFnZN+UGTrpFtCKuk3G3J83RCnsIk8nQbQVyJ8rYHy52dkEX+zLqLfmatYJ2jYUmsNxTimv1AXyP8BOhrNMD/ULnL0AJVY2CaBxmVpMK4jg0Z2Z7oG09fALh+lMB1kzJ2aohbBFeqOIs8RobkMx4fbX2ZVqU1HDA6HBwc3Ngt+frrr/lbgcDd0cnJ6dSpU6Te9PR0KysrA+nAuuVUfI1knIfxNdI1FbN/GeZGzb+zMGqUZackwWS+hPhdIYp5UWJ2dIenqHZfIzfwRUqwF3w35rrNE1KWLb8xZat6IUk+Db7GshzWRQmuUl+F9SiOylLrseTVqWsQRqjt7OzAuTh//nxwNArMGkgKCwuDBRO6ijOyfDAiDJYi1yhwozZYwWvXrnFPPjC7sV5yWqKvkZsRztEzugB59B/q3JfTTNRn7DtiKpNxs3GRqgHxwlnsWjiYEW0/GAzNTMr3tZHcNGmzbvb0urXLt0opChaumZCnwPCVS6msrszyeRD5Fz1fDPbkelRNUWTOMQVindggxPUdL6bi5JrYDxsHC+WozND+lqHBUQkB06Y4athb9lEN3SznEJ/+nCg4txs9z40KyqRSL91eMZp7E5fv7LccaSWYo++Q8RRFz5ymfzmLZyeKqaQkKlTcP1QcHL8s4K3RXItJdvxUEIB5Ofn5+YrzxgzBWtHGFI+y+QRIxw1duaS6KwX9lKLMqb+ymY5bWKnot5Tv7ClcP7Ie5kFfQcQzJiouB53JLeQXslpW977MVwXDfALwnozFixdzr8qAJDAQwdT497///fTTT/NzGjhsquzoKyuuYCqwNCH3O9s35voHJsUwcc4+k52Ua4f/xlQSM8074B2vj/qLw+Gq/r8vL45e7KKcU8uZBaWkgqykuJDO3UuwlLEyKTyIkRLmO8xaiziVpKJ1Y4cwLkoYPd/v4WAh234l3M8Z9hdICnLdOriYd/tQKVrPiEGDBoGLETav3rt3LzjnuEso2IuhoaGwOh7cyYsWLRo5cmQ9BTdzdljIX1xczCkBPnIuXN8AOBrBUoRSvXv3Bhr1Ld7i8rcAq5G5J7gNfobcGwjh2hpdSNfwFpOZd+xFF6mkII5vqNH7bdGH9NYV2haDQxIXTg8mKB2m7OWGieSLVcpFWQ9bnJ8i7TdxJURHBnlFBsEGDemxi8epUC4/zwwt2/fppZwke5BJSxxkZ8UTrKRzLcVvOgxSXHuwcMbKOAmVFOmTBJcR3/TCz8ZpMFV5MttcsKCgAN5Pzy2Xa4L2w0z/JqilzVchvX6R7bhxkXB3Vz4sTXn9S6kfdbBirifq+jK53evcl5VrxDM5AbAwwJEJ25GQCHDGwL7fERERfAePPK/BvsnF8WZeoYxy4n768tsS5rIqdibjw7IbO1YTkxHqlazc+M1r26ZymQWqOE4N2eUWHphJVTy4L0jSeiq5c0/mohgtrszNpFUQD1V6u4v0xrd+jMfBP8HbTqs4QWLllW9DmZtUrIQ2GSH1/9m7GrCoqvx92QcUagcFwzbIkFADk3GTNclVEyyFtRhL6ANHE9vAzBDTYLHEFktC1wTXTDDDEkzFirEP2DaltEzWYHOopJLMDFJJKWhjjPnX/733DIfLzADDMDMO8LuPz3juuef8zjkvDPPO79PVK2Tl3uMX3ILxGXD4v6eFNqWD0VQrbwcPHvzII48gc3VpaSkiSBB3z3hSS0sLtGu4QC4ffvjhe++911QraeWS9pyGHI3gwXyFAQMG3HLLLfy2Ww3EIBYUFLApiKeR2/S7Jafng5EkEgrUnsvpUkJHb5YuJzp4QNlnp5sm+3Di6DbQ1uu7Dw+CmRs//C0VtfeN9GjWyxfw8PKylAEERqb81hxf/varmSoxx1bBkmnDhhtKAsgkKsYg0r6sTPN+lS6xTXGJ9/5QSSN68vyPssGdNhVBKTuOxT9R/uq2zIWZ4oLT/EZ9/dtK/04n9cOH11xzDTy3HBY0CrMOLxLQD9F24JHdrxsnvXHV+bWbZ3tIaR/46h4Ki9+3fI6sYdl7WTaBmjIE0tLSOGWEN+Szzz5rNvebbEbPm4rxEaLxRZv92ol1ka2V9fTluwpF0cqJTPNQvnmZpBcIT072zM7GYNXmey4kdaTq09dWSpRTGHi5+f0xrUPrM8XwP8JarBG0b35wItq/Vbddd2ibJCT0hmGtA/G//t1NWdKtOvG2tsIzsgFGTdmHtUEfolKO5J+J+PS4knlfKoxUrUZienAL6o8EnLhqamqgq0Mid/g+MnnHjh2DIXv58uX333//woULeXb3Hqxmx6nIIQq2xxeAb67VJYvwi80ye0MCEOAyHdkAX+TLsbZd6aPsF5Ev65SNyq/OCXB9ly5dzRsvSV/RbLnTFughxav62xb3cT1T1rn7TIhOLP4tcvXY4fhGeP4nyWrWbq+uPkOlPzYFR7/Oj2v96yYIpw7hSy2uiPEj2w3v6sYncELimuLIKauHRyFZWNk3DSv9vbqa08+e4+8d/PHnzp3rmHN7e3vv3LnTMWv1v1Ua/yf7UtciOXsIBV+07FB0S2FjEW5dv5ctEtMPB+GTGI5xeCOsWbMGTmNGoTB2AmRkeJTI2YS8RekzX8mI9nLV15Q+EyXV/lMtioLTj75mb5gUO6Uu3LohzsMjWwMF9ZKwdTNb1qDeYFXuXOXmy4o2LZ02PghfOPRNdXsyFzG15Miruf1HLI6OTL26nyXNZuPFJr3eTcqr647MuorRsySvobw5i24d90pMkJe+qfoZtUrSDKpnjud+R4JQf3CttLHwrMWGjIvtQZGWQbbepsZG8YHuf02C3k1a2d2NacoFzfJ1+3anRftIH+M1B3YwZTv7IGsvzMZ3gYGBGzZsQLEfqNk2b94MysgWAIlEjh5YbMEsYbaeMWOGY37u3TpeU1OTUTZvq83TSPcInTpbHZQRGtlu7cSGg0ET5dzRhpJNRf3OtMu5etxHRkGVgD8DsctKa8S3Q13lzr+MiGVf/2y5VcXIu6SFslVL9lUb4qrwZ6OmfN/2neViwHLXl6509dK1e8uRRFi8mhoZWzz7/c+mU4dPxF83XNl3P7qzTpKuq69cEY2vqbgSpitl3yClLrMvupp9iYlry081sKfNP12QGp4Des13AbPHok5CoAMEDF/tyl7dj+BoXX1dPd46o6fPkkZnxq/eV9/KJpvqa0q3bz/E3lodCOu0uxvv5U7l9N+HyNvy4YcfoqZZYmKiw6iDIiSuUPozXpap8nZzGevixvyFBCFt/f0h+PR45oFY8UeizMiKg3rPN82QXjFz2eZydLdcrBW0ebFTgr09XGBydfP0m5MpfdQos1bFMcWhbudcNw9cCMBmpQvLlvi5ST0xBRJdU8x+WlJtCmWxwd6Q4uYZnCrJSNM8IWeH5S9vZKKT1aGmvyW66u2SUA83Nz94uuNKneLnInUVVDW5B97OcgyVpauGurnMmjs3YqzLiGlLJDkJq+/DSR1xwRiNxEmwqyC2CWYcXnYZxuu33noLVGzkyJFgkBcusA8mR2zJkjVQl8hoSzNnzrRkoukYkOazZ8+iH7/hMNCbDnBYj8Moo3hYh53K2oUUUUtzpLmaqBGe0Bj5hc6R3kTWypPNk3sIIrTkzieK2EKq4KEuYyNmRUS4uHmOCFPFz3nPVFsoE8ObzV/szU6NDcNfK0x28VQy/0j1zNF8BG/grxvL+6rNnuOHv1ARYz2GhrLxGftXtWkf+QSjhqSpbPnx67y81LDh+NsUgb8awbHwaQHnXDDWIs5pJJFuCQGnR0DxB/YBmx07wsXFY6jf4/Bfcw+6RyMl72afoBGzZuG94Dl0RFR8/LunLXvjtj+3ZP3rxnu5/Wy6MyAABy+YpFGTy7GIKOLyawvTJOYo1ejD6qrknOONoipRV/U6I3D5BclMLa0Ydz/75dEUl+PLt3Lu1vzWNI1aLXNvVyZkFdVWpHA19oDLlOZPpBjA+hVBceeOFBrCrw1CVDklx9dEy83QTR9Lru3K5NXTfc19y3czSDOzluh4q5i/t7Yoy5DoW1NQUCZtFifVXnhW7vNkZrodupCLZ/fu3agztGrVKsRW8xW++uqrZcuWIUYEymZkQ+T9l7CBypY8Sw7bBqgtLuu2BALKJiLJ1LXXXmudkJ7PgqKRXVyUXUmk87NGwWscQkxyZO9UZU7JwXwpA+tAQ+F48W3U7jLn9ih9EWw/iv1Ba/UCcQ+MaTyxP1klLaUt00j+y8pwdY4myvCXz5zYVol453vN3LAFfom4MFn6X5V/pDYmkPlEGm1SEZN7oSQnWRomaNmbPjyh8EjtyraSU0ZT2Ni2V8XomVsSVOK9tszwVyMtv/bZaEt9MNskUYsQcEIETH//fRdrC9lbTNyu8mrp89Y9esP7qALF/kSUaTTSe0GpTs6ZNYq9cU3ltB5W9o52E9iNwk0c3vl7uXU6/e+ECLj6xq3Z8VtzIyJkcTU2txRvSGJBKO4hiS0tzS0tv80P4VzWNXrDMeT+bHk7CU49rl6B81fmHvutpbHxgjj5wgXk0s1NiZHxOvcYPDd77YjjQn0mxO049huTce5CY8tvxUmRrT6OBsQUiQfEZY9tMP/n2j0wzuwi6JzPDoN6mym5SCt1Qdop9tqMZTYkhRgXwXXcTwjVsJ544gnEHe7atUuesxBuf88//zx8W9GJR9zb1XE7k60Eysh8MaGBYt1WKxqRHABFMpkQhArJFrmUzVYCacewGBf8FnZ0RNSgxPdFfEXoSfbLjoR3v1/XUN8EdxIFIlPEzwp4fQjuUksUpdfDViW6lbReerFktexeHALzlVGEU3shfK5U8hmD21evFh+bimWC5XJZwWjMNq6Ga7JJJrEBdbLFnYkna91C6//mphgfRCy0jdOiQrePwkRAqyDH/Q8v+C+//BJpYB23pAUrIc8wHLQzMzMtGGuDIYjXhpuLw/LvwA6ItMzw70bGZhvs3nlEmPv9h21a/FNg+v4y1IzGW8mkpLsZOWKXK/8DIh3ZdFSH72XngagHO1Gr1cjvDQe1Hsjo6dQDBw5AT8ODKnoqjubbDgGUIUZcS21trXUiq6qqEHQC927wGLkERCXCaQGmbaSUl/c7oI3ka0gd2ig5ioI1MvKDePBbb73VitXhtYm5mIik90eOHLFCAqY8/vjj8AqFpta66XadhaT9KBYPbbHRKm00y+iB8926e/nIOZFru8Qm+KBov2OjzwM8lBO71rHthfBehVdbuHZrJ/vfVKypYLA//qWz3WyTTYpP8eHX7lztZogfgO07xBntyLDIFr3czS9oMpU6CIFehYC533/8xnfwlnH18pJFG8gPakaORV0dvpflwqlNCBACJgggl3teXh5P9AhVAhsCR0Dk7ESM1B133IGIGVi3TabaqwNBMIwywgUTOYOwDCy51m3g008/ZZQRQhA53pMdg1WjSFJPJNhpLosNNxXei1ij6eaphxAgBAgBQoAQIAScFAHkdUeWR2TuhD0XyXpQdOfXX3/FXmExK5Ku66+/HnEkKFNkde4bC09+/vx56D7ZYPggMqIGLSOKalooQT4MoeLsFuU3QX/lj7rVxq4OHjx44403dmuWYwZDF4syoaZrEWs0xYR6CAFCgBAgBAgBQsA2CMAcDHMnLvjSIMFhfn4+2BITDaUd7OApKSmo/f3ggw9ed911tlnSRAq0nsi5g27UX4DPKntuXc4dTOeJ1UCIe1LoCD5FqPxulpyZnMDRHXBRQOYs01WJNZpiQj2EACFACBAChAAhYGME4FYI9oY6hGBdSPRYUVHBFoDhGCVnNm7cCOUfzNYgcz2hYqabrq+vh6aT9c+aNQtBOayNvJKmg7vsgShkasQwT0/PBQsWdDm+8wGjRo1asWJF52MuyVN4pppdtxfEUJvdN3USAoQAIUAIEAKEQK9DANo+kK2PPvro8OHDcXFxKOjHjgCTKJwFo6OjkUV87dq18vItPTwjSlmyoBw4MiIch0lDmC+yAnVXsk6n27JlC5uFjEIgjt2V0PPxIN+4uBx2K+/hj+zRINZoD1RJJiFACBAChAAhQAh0hsBNN92EyqunT5+G9hGGWj4U6XtSU1NB6WC2Brnk/dY1zpw5A70mmwtF5rvvvsva1pmnX3zxRWguIQHa0Eub2ZvRRLzC7o8LW0Lb6GInte0rsUbb4knSCAFCgBAgBAgBQsBSBIYOHYoENCdPnkS+tqlTp/JpsAKj1PX48eOR2gZVWJhRmD+1vPH000+zcGDknEe2KV7/0IpMjdCGwpLOlkY2N4TCWL4N247kNFEulnXKe+zRJr9Ge6BKMns9AnWVpQV7Xzt85MuT8NoeEhARqU5OivE3TYPU6w9KByAELiUCyGkKkx94w6XcBK1tDgGEOSNns7kndumD6m62dB0/fhzBzqCJLHgFi/3nP/+ZO3cuYrGR5RG5Hq+55hrLd1BXV5ebm8vGJyUlocolayPOA2TUcjlsJColYnusjf10d7qtxjN2iFdoFtkrk4xboyXYAKPOHt4Sa+whgDS9DyJQvTMxeE6e7GBalArKTk0+0bIBdcnoIgQIAVshgMws0N84ZzSArc7YS+Ugurm4uNjxmw8ODoZBGZ6IUDQ+99xznKXBzRFZHtEPx8eHHnpo2rRpluwNU/C1BCPhgIiE1TB5s1kI6LYi4IZXI0SdG+dJl8NIJEfDHkyRC0eDPgPlaFCbEAACuk9KRMqYkFW4+O6pQ4QzBY/Hpxagzmv2prcWb2hXTJbgIgQIgR4h4CFdSF/SIyk02Q4IIPEKVGt2EGyRSFiT4TWI65133kHM8htvvMEUn3h9TbqCgoLAHefNm9dJPMq3336LYoZsPagGEQqzf/9+dmuFeRqlyVHKiE13khKCRnyR7c2okysgjfrZYCteya/RCtBoSt9GwH3Gk9rjtc25KXEh/r6+/uNSNudJ1b6FY1//2LdPTqcjBAgBQsCpELjlllug8oTX49/+9jcUwOR7q66uBqdEWUIEuEAtyvvljaeeeop5Qw4ePBis8b333vvpp58w4He/+x3qAcpHWtJGaRk2DEnCUWrPkinOMAZkkV222gyxRlshSXL6DgIK/5AgX5kPo+IKlqrBc2DfOSOdhBAgBAiB3oIAIqwzMzMRbY0QZrlpGCwQacPHjBkDg/Wrr74KX0x+IgRiv/DCC+wWqkH4Qrz55pvsNiwsDOm1+UhLGnDA5dWiQUDBOy2Z5eAxTK3IlYto8LYNd+KMJ7fh8UgUIdBzBCq3r2VOjlETR/ZcGkkgBAgBQoAQsAIBVP+DSbq8vPzo0aNoIO8jFwLbMWJpAgICoF9EqWv0P/nkk7/88gsaCHxhLhDc4G6FeRoBOkwa1Jbz58/n6zpDQ84O0YZmkZNFedtWWyXWaCskSU6fQqC+cl9u7vbtuRsTZ40NjRdJoyqr5L4QRZ86JB2GECAECIFeiMCf/vQnKB3htggFJGdIOAd6kMQHQdYoAIO6hexky5cvh5fkl9LFerrLGn/++WceiI0gbnuXzHbyHwhFwzj5D4i2d2kQOP3OyoWpiIBpu0KVw9u+2LZ1U4sQIAQIAULgEiAAKzOcHVHDGoE7sFMjbgbx+NgHlIIajYZtCAzvr3/9K9rcPA1XyLFjx3Zru4jmvnDhAqa4urrCjbJbcx0wGApF+SpyGo220VP5SOvaXbBGYARSb51omtVvERgxYkRvP3vA7DxNUMMA4adT1ZWbUzPBH9OjgsuyDh5ImeyER3Nzc8Ou4Prj4uLihNujLTknAggUcJJQUOfEh3bVKxCAiyFiU3B98cUX4I7QQf74Y1vYIhwfEW19//33o3ohO053S8LIM3vffffdVhQh7ARGENza2to9e/Z0MsbyRyjDyAdDJru1WjgM/S0tLVwgb3TBGuFbum3btpEjyZ2LI0aNLhCAJv+HH37oYpDTP/YKnGDIsRMdk5g0b8WEYDDHstT1lQ9OHud8Zmp8e4ajD6t/4PTQ0gadCAGEETjRbmgrhEAPEBg1ahQKtyBBY0REBBKDc0lQE65bt47fdpc17tu3D3yUTbd5Zu9PPvkEAeAon8i35zwN0GWzweldsEYcYNy4cSjy7TwnoZ04OQLwOGZZVZ18n93YnntQWn5OZugSQWj8QacXFF2/a7oh3EZDySZgIyBJDCFACPRiBODaWFFRwQ6gVCo/++wzeWA1+pHrG0ZbRLQgrsWSc/LM3qh2GBoaaskUy8eAXyHZOI/OtnyiA0YiEbpZ7kfRMA4An5bo9QjUVrN8YJ5urs5IGXs9vnQAQoAQIARsgcDf//53lg/8qquuOnLkCPLvrFy5ErnkueyvvvoKKkPYZxDXgsTdvN9so7Ky8uDBg+wRuXMwHIg1mv1Voc5+jICucq6LS+LavdV1DRIK+rrKnYsMBQav9HE+83Q//lHR0QkBQoAQaEMAmkWut0OgDMiir69vRkaGl5dX2yCphbDovLw8hMVMmTIFnn9mHfgwcP369Wwi/PS6G3lttGKfuSXW2Gd+lHQQGyHQItQKQl5qbLCft4vL2LEubn6hc8ok2Rn7VwWRqtFGMJMYQoAQIARsi8ATTzzx66+/QiZTJTLhH3/8cV1dHWujzAwiY+Sqx0OHDiHGxd/fH0pKpPKW7wfG7qKiItbjtJm95Rt2TJs+Ax2DM63SexBQKLfuz1+7cUOeBsYLgwFDGZ6w8h+rYsb59p5j0E4JgX6KQEPNoa2b8koPaM8DgCEBM+9esPi+aHmxp85waaorfaXgtf2Hv9SexPQAZcRdCclxk/1NpujKd67L3FMmjF60Y02MiQWi4dDOHXl7iiUZQkDYzAWJi6Nb/3qcOpC7Znf1kCFtNlODcISzeYx9NGO+b/uPZV1NadoThd8LwhUhczJTItvyfzXV7M3fpik+oj0vHlTcanziXRH994ttVVXV3r17GZgrVqxASnDW5jl3oC9k0dYIjkHZmOeee66mpoaNAV8E40SG8DvvvBO5dSZNmoT+jRs3Mh0k8oTfd999bCS9tv/1JDwIAUJAcA2MmJ8bMf9ZXVNTE4JfBFd3hZei7W81IUQIEAJOi0B9+cahYQhc45dWW6bJ3JxxomJlYJcfd7qqRE+lmNO/9YLfm6Yg+2jRiQ0xga19QlPNgfQ7p2Uzj7jGu9tq2BlG1G+cNXSJIV2g2CUKyctM03y9Jlpkn+c/2pyX15E7XUIiWKNBDvuvfuOdUYa1wsenc9bYcGiW9xTZItIqBdl7co4UJ01oJ6Df3KxatYrla0SWb5ajkR3dtCQMDNaIiYGfYklJyaZNm0pLS9lEcEQYuHEhjAYSYMJmEh588MHLLrus3wDZxUHJQt0FQPS43yIgkkUf8SLK2G9/B+jgvQwBXdUjjDIqE0q0X5+rPVGUoRKPoE1ftrmyy7Poa6tEmhCeULhfW3uutkKTxaZkx26qaeWGlduXeo5opYx47CkYcdGq7Y8wypiQU/L1uXMnjhRJOxAyVUvKm0R5AdGbioqQhbrt2r+/UMlWEoZ4tBdXs3dNW7UBz4GtD/UH1i2WKKMq/+DxxubGcycOpoWLIjRLMiulVQzy+s1///3vf2F9Zsd97LHHBgwYwNrnz59HBULWNnJMRHZbZOEBp0TVGDBIue8jiH5SUhLL+4hsuA899JDzA3n55Zc7ZpPEGh2DM61CCBAChAAhYF8E6g6/XCCuoNSU5EaG+Pv4Bsas3JGvFrs0294xuLaJd+Yv18AobcXx5gO5cREhvj6+46JTKnIY5Tv5fTOb0vB+fDZa6pwS7cEcsauR9fPXuuJ4cQvKtJLcpEh/H5/ACTG7tPnSY83bR8UteAVNjomJll8RE4MYa1Tnz2tnC2+qXBYrLqdKkLbRtlbzl5+J2kpVTvr8yUEKd4VP4OT0fxg4rrRWv3vhikZUQ4mPj+fnhx6RhVSjSAwCX3i/vBEYGIioF2Tb3rp1q2muGSggFyxYADM385iUT3SSNvgip4zytp22R6zRTsCSWEKAECAECAFHIqD7aPeb4nrq1OltVl7FzPgMsVN7+HR95Szol5AhYXuV2CNe+gOrI8SuiFxJQ+cVMi5I7owyyPdKaZhCLL4kXorp+0uOnGjckRQ5crDBbY49YK/6msPpUmvpvKm83z1kepbECis+OcM75Y3KFzMksqtaPDtI3n8ge7moUFTl5yy9S97P25pPq3WtN83/M7TMVPNoHdPd/1E96NFHH0X2me5OdPD4jz76CEUF2aLIs8NqZbHbV155hTVuu+02roA0uz2EyMAqDZ3l+++/HxYWJh8D6onpqHn2j3/8g5UWlD91hvb//tf647f/bog12h9jWoEQIAQIAULA7gi0fHdW0sBNCpEzP4U/c0nUfHxmmDpB3ERevLq0TjQ5N1UVTEsvQyMtOdIkokUQGirXxkqebappIw2PXYMiIicEijdmyVnzj+fxCLxV6Sffgve1EgnRHNWasR7rqnIXiuRQmZE0QbYJXc1OtrfCnPl+gtE8xS13sZPM+cvqfQ04SPXe2VOk+iLJC0JlQqTNWP+C9DTgSUhtfd111yFY5PPPP7delj1npqczri5Aazhv3jy+FPJ7l5WJP19cRuZp1mn29c9//jPv5yE16Dl58iQ4NCoKIgrb2Zg01zXynduvQazRftiSZEKAECAECAHHIWDQ/l1sx+jc/UIkG7VwscU15umDkq1XG5W6Ry/UP6eWTJmq/DQpTkXcqL5u3/bc7du3b1ydONY7lHHGkvWzLWViBp1kU7sdCO5jbpK2UNsoctX216m3X5BWEVbOk9tPG/IemIOByoz9cf5Cc3tx6A+Me3KLJLIsXYUMYZ7BsSBHSnXO1+uiW30f2y/T/TtYZnmVL5TUQ2IaFHRGLRMYc0+fPt19efaaAbdFBLUw6aCPrq5tALz33nusvC20ybfeequFO8AspAdng9944w1kc5SbthHpjvhrMOmJEyfu3LkThaQ7F4uQmgkTJiBeu/NhPXkKRSO7uBC7kkhijRxnahAChAAhQAj0egSuvKJ9uGtzvaiBFJS+SHbjNXl9UbJ4VzDHzWWoFGiiLNmsbiOFzadXxi+EY9ySdB7nHDrc2yRLjiiikytgUKtJmw2qPy1uQTl2eNtChtl1L60UPRcFdf4M/za6c6p03RJRR6bOT44wDDT+zydxxwnmdMmfxCTEyGTwbisbYI3wBQRTlM+HAXf58uXIbggitWXLlvr6evnTS9LmikbUoZ4zR6Ta/OI5d2BxvvJK5mzAH3bY4CUEr7/++ltuuSU2NhY8Eml9UEtGzsY+/PBDLDds2DDYxJHZ0aw4KGsRSYOi2IsWLUI9a7NjbNvZSiDtaLAm1mjbHxlJIwQIAUKAELiUCJz9/ud2y3sMDhDvtXXnm/FfYMyKLTK2pc4viJQnSFSMyivRQHdVVLglTc1iVNKDvWMOdY8dnfy5vXZw8FBRlPbYd0aW5obyvekSpc1arGojlLrKx6MyMT6tJGuc1OvmJmlRPQe2cdGGyqUuI6QwakGlNpwnfYrfrI2HTNWZEGXFhVwzCoXi+PHjsMbCMot0NlwI8tQgOTby0aDyCsKQd+zY0djYyJ86svHBBx+8/fbbbEUExKCms3x1zhqxSXl/J22Yofms1NRUPnLMmDFgyYiYyc7OBj3l/efOnXvyyScRghMTE8Ot4fypu7s7GDa7ReVrlDfkj3pvo+3LTe89A+2cEOgSAfxgreiIAABAAElEQVSZ++mnn86cOdPlSJsMgMc0SwBmE2kkhBAgBLqBgIxcibMunGOMBlXkJSE+ty9IWKhhZmHlnJkh7SV7TYiMZj0xcYnzYlcEq0DgNOtfrpycNK79yE7uFEIbv8Mwff25WnG0n6L9J26TJnOJJCVDPcFLaogv1bs2FEg3Y7zOV1bCFnzZD9oPxY6Txw5XVg6+7A/jgoTVU0MlFaWq5MSOyECFfmNVZrwyXYPMO1OeueFcymQfSYBtXm6QrqysLFC0l19+GeVSuIoRjoNg2LhAjxAvcu+994KfoW2bhS2QwhWNwcHB99xzj3wGKBoM66zHcqdGJABnMddDhw696y7jIKRBgwYtWbIESXn+/e9/I9EjD6zGFITd4Bo9ejSShM+dOxdqWiz9u9/9rrCwcPLkyVDcNjQ0oAgN2LY8WAem88OHD0OjKd+5k7Q//fRTJEU3sxl8tnV04RcCE6CR7mgA9RMCpgig+ufs2bNN+y9tD6oCmPntt2cXIvIu7ZFpdULA+RF455138Elso302MiWiMrmkRSbxwhGWkkZV0Sj1tpxIYzpE6e2vTNbIB8vmsWbjlnBxXHjGfqNHjdot0oMtTKphNOtE6p+v5VIv5EhCVDkVciHNJwqlLQgJRSfk/a3pfthDk1dlTp1hFSFfK1u85bhkekc6nnaryCV3qw2LKlSJplNAgEATEXTi6elpsjkB6kmUUUHQMYaZzrVtDwzHfAO7du0yEp6Tk8Oegv8haY7RU7O3cIJkbA8TMzMzzY6Rd0IxmZKSMmTIEL4N1gAyDz/8MNS0bDA3eeNpcnKyXAJqZEOn65wXzPFgxvLdsnb7bz5GR6dbQqCvIAAPlalTp6IegGMO9O677/IvwY5ZkVYhBPo9AorxESpBo9Fmv3ZiXWRrZT19+S6JnCknDpOsveWbl2WKRuHw5GTP7GwMVm2+50KSTNXXDkZ9bSWLwR3YQQrl9sRJMfyPUM5oBO2bH5yI9m/1CKw7tE0SEnrDMJlw/bubGJ1VJ97GorwNDweNikhICJDVIvH4+eSbUoFTZUJy2GVXjXJrYYZOlbI1tFuc6Xol875UGKlaZUvapIlwk0jpQqwMlG3QPuKVx82goNaL0nXFFVdAVwftI0KSoVGzydJGQvjfWJiP4X1o9JQbmm+//XYLN/Dss8/CJAU5UJfKq8sYSea3MExDBYs4IXBWzEUCIPYI9vp/SheUiPBrhG4SBBdZ3fEUBu6bb7551qxZbCRyG0E9iSLXXKbzNFBfkf9Y5bsi1ihHg9p9FgH8pcM3QuSPcMwJT5w4AduEY9aiVQgBQoAhMDI8SuRsQt6i9JmvZER7ueprSp9h9fhUi6JgtdXX7A2TKreoC7duiPPwyNbA/LwkbN3MljWoN1iVO1e5+bKiTUunjQ/ychf0TXV7MhcxS/bIqwe1gqzXoc6oq7vu54tiT+PFJr3eDXY5V1d3RO8qRs8SiauQN2fRreNeiQny0jdVP6NWiTRVUM8cLzMc1x9cKxUKDM9aPK69RTcwMik3UpzAL331qDxNvKBamrNhPsYiKY/0SLN83b7dadE+0sd4zYEdOAsuI9dJqc8uL6BWMCvhAlN87bXXQB+hOWYmSqz3/fffb5YuxIvAdgz6CEO3Dfexf/9+rmtEViCjv7egO7AFs+UsNE9j5/BcZFOQWwes18LdAgf4LOJCNDeUc7DggwuyuQAEF1xC8RTuoSz2HLFWyCUOxsnGoMi1PNePhYs6YBiMAGZXoQ82s7BQJyFACBAChEAvQ0ARElfI8tFkqrzdXMa6uI2IYgENaevvh/9i3TMPSBopZUZWHNR7vmkVjCVkLttcjqO2XKwVtHmxU4K9PVzGjh3r5uk3J1NSEiqzVsUxxaFu51w3OJ94IACblS4sW+LnJvXEFEh0TTH7aWZ3LosN9oYUN8/gVElGmuYJOTssf3kjE52sDu0S5eYWxkIuiuE80IQF3p4v+Zsh7c5QN5dZc+dGjHUZMW2J9DBh9X1GnppStz1fYJWGwRpm6++++w5EEW58ct0eqBKcBZGyB1/aoZazVdJHxL6wM+EndeeddxqdDyEySJGDTugLIiI6ikNvNwlpdBirw+bhm9jumWU3yLCDwCAIgZYOXJlP+uabb2CJhlc9gwV2cGhhu0zZw6ebNsA4OenEU+muXY/pFBv2EGvsDpj4kolvmR1fuprSxFmzlq4t1XU8hp4QAoQAIUAI2AcBRVx+bWGaxBwRsyytoUrOOd4oqhJ1Va8zApdfkOwrPVKMu1+TLDo5aorLG5AZZ+7W/IwE5vSISsTSEGVCVlFtRQobj54Bl7Hn0kP5i2IAu1MExZ07UmgIvzYIUeWUHF8TLTdDN31cLNorlcmrp8sjuOUCTduNvOa1Yv7e2qIsKdE3Nl9QUCZtFifVXni2XYpzUyH27IF+DoHVBw8eBE9iTFG+GmJToBREKh8kO0TycEbR5AMsb//rX/9CaA4bDyYqJ6msk5unYQ7uSGdmtBxMyqwHISBG+YaMRnZ+6+Pjs2LFCrg8vvrqq9OmTeODmaMnuz169GjPrdKMOOL1a+mCZJE5tr/46jZsuMC9sSNxCAsCT0c0jGllxo6m9OF+fV1pqF8U3ptbtI2JIZKDjMlpmypzPUMXCuE5Fw4keZk87ScdaWlpKAa/d+9epzovvF5QDwoOzo7ZFf5mwS0G37wdsxytQgj0UgRgZ4SJk6VituURdE31TeKXd3eFl8K9zRFLr0enaEmWX9AGwOIs69TD5CqZoV0VXrBUW3k1NdSLSgZXdy8vo9BpJlBc1l22N6uW0TU0wEKOqdJW25/LKoFtk1Cjb+HChcg109bV/RY+C6DDg9tfdXW10WxQvUmTJsFyjZw1YFpGTzu/vemmm1gibqgwKyoqTAcHBASASqEfkSiW8DP8HvJAZrBeqEtNZVrXg5gYEOjdu3cjd6ORBMRcw2wNBolM4EaPOr8FM8Tp8MqGsZMadcofdS6to6f40eC9aRoM0N91jXWHduJrwfZDzLm4I/TE/uYzX7DvnuYrSbGpbuy/gTZ98zKZ9EoIEAKEACFgGQLuChARXHLKiJnM+dBIhCu4W7s/2a4KhZc4uQeUEUswGT7mKaO4lx5TRggBJRV3ir32lH8agWKjWySvgCm5k6SPSH+NSO2oqKiXXnrJwqSPb731Fq/dAsuv6U6hJ2ZECo8sdGrkYc6wd/ecMoJwI1YaOsuQkJDx48fn5+ebUkbsbcGCBUjHY7r/LnvY6fgr+CIuzGKv8ummPfKn1rXbvVesE9GrZ535757MTE34H2LmT/bv/CAKZUxRju64btD4YSxSrfPh9JQQIAQIAUKAECAERASMkj7CGIX82AwahKEgUw8uhJWA5EHFhVe0OwKOezSCkJklhdw8jQzb8ozcHQlE8CJWZ0/lmb07Gt95P8JfoqOjOx/Dnv7444/gl8g0acngTsZwiszGgCka9XQy14pH/Yc16kHq9XpXyWBhDJSnif4Qv8ewzmOcaGUQv88pXF19Y5JSjGfiXtfUAFOIZIbwMOgaTUfpxUHi8maNFZ3tzVQW9RAChAAhQAgQAr0OAWaVhmF648aNYFcIuy4uLgZ5YgdB3ICUKvsVhNfccccdoI+wGrMPYn5SZJHkCW7MKhoxEspINt58kmouq7UBCzISOuLuqquugk22tdvK/82qD1G05uqrr4bd/Nprr8UroqqhhUUbzpSwUFu5kiCYZYdGnVzdaNRv9aL9wkJdU7oxwsXN2xvJPr09PVxmrdiJ6lBNVdvxGxwqZWHQLAlDG1fiTtH3omr7XGRvT9y4b+eKCE/M8vaMya2CK/VcccisSilSTkK8Ye/quS4e0hBvT5dZq4srTS3d+sq9a7G6p2F5t7Fz11bWt4XUmN2b1T9OmkgIEAKEACFACDg5AmBRM2bM2L59+9mzZ8EU4dqIwHS+Z/iVwmANszVoHEzYyKHDAjDw+sQTT7BhcG1E1kg+hTdg5ub2a7OaSD6SNUDyUL6FteEBOWCAIarJaJjlt+CdCNAB5YXaMjc3F9Hc0GUioBukDSUHt23b9vjjjyPkHPu3vDS25aubjsS67DJ9ZF1P39c1NlXljohiKQnCUR1HoynTZGYtS4v7o2DIqCQHzlDAVHqSt0TFPVQbJWVkG10U5+j3LZ0aKyXcMkjQpMeKUXGC4GnowH/lG2NYejBBqVIrG8VYt4LU0IIabXMuIt062puP+WCbNrHUIgQIAUKAECAEejsCAwcORN4cXGCK0DtC+4hiffKkj89JFxR1SPoImoXwXHbkjhSNME+z6bBxW+KhCG3f//73P8hEgRakaew5nsgcydOP91xatyQw2zS3UDMtIyhjt4R0Objv6xq/LCsRUUgovPDbgeLiAy0XjmsKswI9BEXI/S2/NR/JUuFheNbB5t9a8G1gr3GlUXXJ8XPnvj6eExmAYXIupz/1lkqijMrkonOonNRcW5QWLi6Eq5H9JyDsOkHSZaqy9jcfK96x48AFbZGUtiFv0xs1GNTR3gzz6T9CgBAgBAgBQqAfIACrNMo3w7iMvIYgilOmTIFpj5/722+/RbKeRx99lPUgdJqHPPMxrMGdGqdPny7XXxoNY7fIhgN1IGs/8MADSLhtdpiTd4Id4mKbRAM0kd/K27Y6Rd9njQakvqw5K6kKXb2CouMipQxZ8Ft0v2yQSAU93S93FyPajKLQlEUntkYG+fj4B4X4GyfSOV5aJElWF2TGiKn53X1j1rxdkiFyUH4df32LFHadsTklgnn2eoXE5OeIY/I05cgAYbjM7K31Ef1PCBAChAAhQAj0GwRQxAsZf1D3BQkdwRSR3NH06EhYA+IIf0QkhpQ/hQkb7pKsxxLzNJJy19XVYTwYKkr/yUVRuyME+j5rDJgQIR6+LD3Y02Xpxr3VdW1srSNQWH94Vl5MYIdhXIa54ZOGtw1xnRprKC7ZKplpJ9NTl66Aw4R4rVi6ofik+LS2CXnrrd5bq3z6nxAgBAgBQoAQ6IMI+Pn5IVkgYl+QHhxx00YehzBVp6SkQKkGMzQK0rCIbHg0wlGSYQFdY5eg8MzeMJEjPKXL8c45AApFXHxvXNGIHrTlj/iYnjT6vl+j14SkEyU6Vlcqe0ls9hJBnbM/Pymiy5N7uncYEc0RD48cLTdbtxjqPrHnus8rC1irIDuTTzE0PMWcjgpr92Ysje7thgDq/aQ9Ufi9IFwRMiczJbLtO4LdViTBhED/QQDxsz/99FMnaVb6DxTOdlLo7eDq5wy7Ap9DNUJegg/ejZwaYpPvS1dSUhJs1pxZKpVKOXkyewrEqXz88cfs0SOPPGJ2jL076+vrQYvnzJljk4Xk9awhk91aLfzTTz9FZR3TjXXJnUyn9L6ewMiU35rjy99+NVO1EPEqBUumDRv+9ZroLhI0WnLOssOfNQmTOXF0cxsom+V+3Tg1VhPU+bWbZ3tI+fv5Uw+FoeSA/fbG16JGDxCo33hnlCHkKXx8OrHGHkBJUwkBUwQ8PT0RTouUyKaPqOfSIoDIX/CxS7sHtjrK1CEqmbVBDcH2Dh8+jLiZoqIinvQRY1BmkO82MDAQgQqd+zWuX7+ejYexe+LEiXyuIxuI+IZxHDlbHLmo5WuZzbveL1ijiJG7z4ToxOLfIlePHZ6uFc7/xKrAG9Br1LVYjmO7kZrqc3qhtVyU7u2XXpI/bbkouVIWfNGyQ8HLmMoHGNqd7s3MeOpyFAI1e9ekSq6p4oKSethRK9M6hEC/QAABp/hof/rpp/vFaXvVIZGA+sMPP3SGLaMm4eeff852gtBp0Cxo0XDl5OSgEiDo42uvvcaTPrJh6IFKctasWciAc+uttxolfcQYCESwNhv8t7/9jTUc/wp2C1076g06fukuV0RiI2SUNB3W5/0adaWrl67dW97AMiQ2NTK2aMiwIwiM2JWl7qrWCfqG+vqmtkyKpmDJe0bezKqSZy97plTkhrq6nUv/ososk48ZPZ25OWbGr97HUzQ21deUbt9+SHSv7GJvclHUvgQINFUui83GuqoEKcip8RJsgZYkBAgBQqA/IwAl4urVqxkC4DFIc8jRgJYazouo1weD9auvvmoUN4NUPgh2+ctf/vKHP/zhwQcfRHVpmLP53LVr17Jb5PRBRnHeT40uEejzrLH5i73ZqbFh3m4uEbMiXDyVmZLqSD1zNINm2BgWn5Ud7IE84EOHZlr61co9SLVF4hKa1ChPfPfx8JuT3UoZW/M1ugfdo0kWM+2UpauGihuYFTHWxXPoiKj4+HdPg752sbcuf3g0wK4IHMheLubfVOXnLL3LrguRcEKAECAECAGzCCDd95dffskecTu10UgkfQTzQ8EV1o/c4HKb7/nz57ds2QIXvWHDhi1fvryiogI90FCywfBoNNVEGsmnWzkCfZ41es3csIXlUSzTMFanyj9Sy4OjfSIWFyaz5yIsaWGSJVnundiGlpHngVfirhM56ra5yoQtB/dvkdIx8jnu0Rve379FYo7gjsgwLnJWpTo5Z9YoOEN2sTcuhRqOR0BXs3NauvgLU5gz30+QPA0cvwlakRAgBAiBfowA8nU/+eSTDIDbbrvtxhtv7AgMjDxw4AB7iow83333HWOKcIHgU2pra+HL+Kc//QnFqeH1iP7f//738fHxfAA1LEGg7/s1BkYkHvgtsamhAWWgWbXo9mf2ittw4M4MsUq0q8LLS8rYGDJ/R8s9+YJR9kb3kB0tLVvhIcnnuwcm7TiQsFmaK00G4hUt98mHIE46InHDscR1UhVswVWqg80FdLU3S36CNMYeCDTkPTAHcpUZ++P8UcLHHkuQTEKAECAECIHOEID1+auvvmIjeC1BsxPeffdd5toIyx8cGZH0MVG6wBThNQjNIq9ejekXLlxgQuBTm5eXd/fdd/v7+5sVS52mCLTRcNNnfakHhNAHl1dr4Er7s7krxKeMMrInru7IAW5ygfSZdBvmGkKiRV5oMgRyXA3rm9tA53sz2QR12B2BU6Xrloh6RnV+coTdF6MFCAFCgBAgBEwQQOGWp556inUjrsXIbdFoOIrKsJ6wsLChQ4fyp0j6CBv00aNHYeZGJE1wcDB/hAYS36BadEBAwKRJk5599lkekS0f01val19+uWO22l9Yo2PQpFX6AgK6ysejMnGQtJKscVJSJUNCJc+BRj4KfeGwdAZCgBAgBJwSgW3btp06dQpbg/qwc0UjxvBCgh2VhBkxYsTKlSs/++wzNIyOi7CYDz74YPHixb6+vjNmzNi+fbtRRLbReGe7BV/klFHettM+iTXaCVgS21sRqN61oUDa+xiv85WV5ZWVVYePSDFSJ48dRh2rarH8FF2EACFACBAC9kPg4sWLa9asYfJRuGXs2LGdrIXyJ6gfwwYgaLqTkVBJIg8lG4Bq12CKSNDDxyNeG8kg4emITiyKfJDM/ZEPcNrG//73P4ftzYwZ1mFr00KEgBMi8HOjIfZlTlj70CZt9rTQbEGZ03gsied1d8L905YIAUKAEOjtCGzduhV1qHEKSxSN+/btY+cF2/vjH//YydmfeeYZ9hTpHlHtGu3s7GyE0cDxEbl7uIoRnBUZH3EhXIYnfZTHZXeyxCV5xHWNDlidWKMDQKYlehMCg0ZFJCQEyCppefx88s08DaLflQnJYZddNYrs1L3px0l7JQQIgd6GgE6ny8wU3YRw3XXXXWPGjGHtjl65efr2228Hy+xoGMzTyArOnvISgkj6iOgZXFA9lpSUgD6+8cYbP//8MxuGFNwF0oXwmpiYGOQMR9lreVx2R2vxfpi/O9kSH9aThqmiESTStLMnS8jnEmuUo0FtQkAIjEzKjWyHg756VJ4mXlAtzdkwn+pQt4OGbggBQoAQsDUCSJpTVyf6AoGfrVq1qnPxMCIfOnSIjencPJ2VlcWGIWJapZLyLctEI+kj1Iq4wBQ1Gg3oI6zViMhhQ5DiMVe6EF6DmGvQR2Twkc0230T5mdjYWMTagtci3Y/5QTbttR9Z5Nskv0YOBTUIAfMINLdclB5cZIWFzA+iXkKAECAECIEeIwAWyOkdyJlR1LOpeHA75n2IZN0RER1mvUB8NC/ct2zZMqgYTUWxHlil58yZA43jmTNnQBSnTp0qVy4ilQ/M3OPHjx85cmR6evrx48c7koN+pPWB1RuelKCz4J2djOxFj0jX2It+WLTVS4pAo0Dvlkv6A6DFCQGLEGioObR1U17pAa34KT0kYObdCxbfF+1roZmgqa70lYLX9h/+UnsS0wOUEXclJMdNNk3mpyvfuS5zT5kwetGONTEmjs4Nh3buyNtTLMkQAsJmLkhcHD1OKiEhCKcO5K7ZXT1kiIfxYcB9PMY+mjHfV/pDU1dZWrD3tcNHvjwJtjEkICJSnZwU49/uFJ2tYiy899wjAw7oGvYLYgda1uXGec4d0LtBgwZ1NB5Fq+GtiKeenp733XdfR8Pk/d7e3gnSBcUnS/qIDD58ALggSh3iQqQO2O0999xjmvQxOjp67969mFJTUwMt5jvvvAONJpfAGgjB4QZxo0eX9hYbM78BGN07upBsHXP++9//djSA+gkBUwRQCX727Nmm/Ze2By4p2JjD9oDvqSh+6rDlaCFCoJciAD8zfNLbcPPnjuSY+ahTZpxosWCRZm2CmclCctEJ+eTGE/sN9b4wOHzLBfkzsX0ux9j4KQpN03zNBlZktQ+za7diwnFpn8cLzW9EdoouVjHeVPfvEWKCTDTdn9ejGbAOw57LIAG3s0QW52obNmzoaDwIORebkpLS0bAu+xlTHD3aUJFY/qOD8+LEiRP/+c9/gvLK5SQnJ/NhcXFx8kdog2uCR7o75YWNPfTQQ0Ybxi1pT/gPlBqEACFACBACvRkBXdUjYUvEAygTSgpWhA7Rv7dtWWy6RtCmL9s8szhpXOdn09dW5WFEeELh44unhgw582FBqCoVHdmxmxa3bAiUPi0rty8Njc9uk+NpbIKo2v7IErGAvZCQU7Li3lD9V+8tC4tFR6ZqiaqxeIJCCIjeVHRtw4ABbTJ+//uflk6bI5abFYZ4iKvoPikRN5KQVbj47qlDhDMFj8enFuB59qa3Fm+IDsSjLlfBmN54bdq0CZm3sXOYm5FescsjHDt2jOV0xMhOnBpRY4aJhf5y0aJFXYrtaEBgYODj0qXVauH4uGvXLiT9YYNBpw5LF2giDOXQPiJ3D74RoYYhytuwKO+dO3ciW6S8mjYo77XXXovBHa14CftfeOEFXtpbvg1ijXI0qE0IEAKEACHQWxGoO/xygbh3paYkN1IyCMes3JH/hWd8gaDZ9k5dUquRuIPzuQZGaSuOjxwXxOzAvtEpFTmHQ0UOePL7ZiFQtEM3vC9RRnVOScoNXyinLBEajWTVFWMx7CCtJDcpUnzmE7NLm++hRLFjzdtH6yZE+HoFTY4Jaj9LVwn1I1ihOn+eZAt3n/Gk9njWyCCDWd03ZXPe4YIw7OPY1z9KM7tepf0CveMOikaUkGZ7nTdvHihal/vm5unhw4d3FG4CPgcVIBNl1o7c5SqmA5TShUDvDz/8EPRxz549Z8+eZcNg2EUQDK4HH3wwKioKjPD555+PjIxEtl8MQH0aEMe5c+eywSDHw4YNw2FNl7jkPYgoN+v9SdEwl/xHQxsgBAgBQoAQ6DkCuo92vylKUadON/gQ4kYxMz5D7NQePl1fOQt2RBeXxO28tLz+wOoIsSsiV0rT6hXSShnFKYIwyJelgFa05ttSTN9fcuRE446kyJGDjR3UMF5fc5g54i2dN1WcL13uIdOZUbriE9Fdz/SqfDFDIruqxbMNdFLhH9JKGaXhiivYPjylNa1bxXRdZ+uB6yELGUFmREsUjdg/z7ljGhPNT/f666/zmJWHH36Y99ukcdNNN23cuBEhMqCJCxYsGDx4MBcLN8ri4mIEXEObCJ0icvewR3/9618PHjzIh1nRAEXGxSeyW3kPf2SPBrFGe6BKMgkBQoAQIAQcjEDLd2dFM69qUoi7bGWFP1NZaT4+M0wtuQvmxatL60Sv/aaqgmnpZWikJUeaRLRAsVi5Nla0FAuqaSMNj12DIiInSFpHQ0YW8XHb1fzjeelGrfSTb8H72jCxW3NUK3HTtvFiS1eVuxBqREGZkQT7tdmrcvtaaR9C1MSRGGDNKmbldtWJvIkIMWlqMrPrrqZ2+3ljYyOMuWwaqrNYwoEQnlxeXs6mdGKe5pm9b7755gkTJnR7ZxZMgE7ulltuQQlEaBwZU7xMlvIXOlQkDOcx1L/88gsiY1AX2wLBnQ1hEOEVVnJcGIq20dXZfGufEWu0FjmaRwgQAoQAIeBMCBi0fxfbMTp3vxC1tMmLLa4xTx+UIlW0Ual79EL9c2oYjkEK89OiW6Ok9XX7tueiEvHG1YljvUMZZyxZP7sDOmdyeINOsqndDgT3MTdJW6htFLlq++vU2y8wRrhy3hT5k/rKfbnYSO7GxFljQ+PFIaqskvtCpI10fxW5ZEvav/76K2ypFy5ceO+99+R+eJbMtW4MYlkaGhowd8CAAY899pglQmCeZjG7Hh4eU6a0Q49PhwMijsBueWZv/tTmDWweWk/4OyLRT2Fh4W233Wa2ogxOimzhnEdasQ1OE+VzWae8xx5t8mu0B6okkxAgBAgBQuDSIHDlFZe1W7i5XtRACkpfJLvxmry+KFkTmy0UzHGTrMLoL9msbiOFzadXxi+UxnMZocO9TbLk8IfmGwGDWk3a7Hn9aVGkcuzwtoUME+teWinF1qjzZ/i3+zg+/c7KhantNhKqHC5XYCIvkMWrmN9lJ73IUHjVVVexAYhQQb1mKLE6Gd/DRz/88ANYIxMCA67ZIAzTJbh5evr06YhCNh2AnrVr17J+mInB4cyOsUcnqrMgYhpOjXBnRNbG0tLSb775Rr4QtJJ33HEHChvKOy1sM3aIV/xQ2CubaPozYgMsFGvhsHa/pmbnwCMSdXjMPqJOQsAUgU8//RTft0z7qYcQIAQIAQcgcPZ7Qzk4w1oegwPEWBNt3flmwd89MGbFFlW2ZBMWn6vzCyJZgkQ2WjEqr0TTIAz46cKpypLNmWLkcnqwd8XBc8WTDQlhDFI7/e/kz1A2ymjM4KFiuIv22Hew9XrJZjaU702XmGHWYpURoQyYnacJahgg/HSqunJzaqa4j6jgsqyDB1ImtwqwdJXW8d37Hw55yCCGUBL450FLhzLN3ZvfndGwTbMa0Mj2smLFCkumYmNwJWQjOzJPIwlOUVERG7N8+XJ5sm5LlrB6DLSbcKasqKhA4kJe29pUGkraQJuLYjOmj7rVw0gkn2IPpsiFo9EZa4SpHkT4xRdflE+gNiHQJQI8QKzLkQ4bgHxd8IDhfjP2XhdftJjpxN4LkXxCgBAwRmBge0XfhXON0ghPN/Z553P7goSFGmYWVs6ZGdJ+uteEyGjWExOXOC92RbAqEx6J61+unNxV4h6ZHIXQbgv6+nO14lM/RftP3CZNppQnSMhQT5CTSXGsV+AEKceOIETHJCbNWzEhGMyxLHV95YOTR4rPcVm4Chvc7Vdkw1YoFHA3xEy45b3//vuTJk3qthQLJoA5IaCEDUxMTLSQRR05cgRWYDZrxowZZteB/hJOhHiEIBWHfSr95z//CQ8PB6k1uyV0ovYMiB0qX48bNw7E0YjzdTTLbL/ZuUadXAFp1G9WoCWd7X+HTWbgF8WkjzoIgd6HADJmwfuYu07b+wCgjEipYO9VSD4hQAjIEWClP09W1+qFEP72azitFQNeBJWS2Yf1NZtWMsqITm3qmn23bIjmg+XS0A6KTtsSnrmwTGj88QejR53ear89qx/XZnFu+qRM3IJqfJBcoaireT1eDIMREorifDsVJ7gHpeXnZIaCYjb+oOO+kRat0rngzp/CzHrllVeyuI2lS5eCDyHcvPMpVjz9xz/+wbgp3BNRi8FCCdw8jdIsPNG3fC4KriA8hfUgRyO4mvyp/dowPRtRRkRP33DDDeCIuEJDQ5FRiMNYXV1tKzLX0YlsLp+iYTqCmvr7FALXX389LBSo7O6YC9YcfFPvUwjSYQgBZ0dAMT5ChT1qs187wZmVoC/fVShuXDlxmETZyjcvE829QnhyMhus2lzeIA4we+lrKyXKKQy83Oxzof27XDH8j6JQQfvmByfaxtcd2iYJCb1hWFunoH93U5Z0q068revEhLXVn0qDoTB17c4qsgW73wS54e6GH330EYKEui+jixnff/89T6a4cOFC7kzZxTRZzp2OzNOgjCzcBF/gkTqxS4G2GoD9IBE4oqTxig8CkDacEcZ0FNeG0R/JGjlltNWKXA5TK3LlIhq8zcf0vEGssecYkgRCgBAgBAiBS4/AyPAoaRN5i9L3NYjEUV9T+kxUtkgSVYui4Jeor9kbJlVuURdu3bBhc5o0eknYuhqJZVblznUZm7j3UHWDTnygb6rbmb6IqSVHXj1IGit2Ix8N9H26nyXNZuPFJj3rkUQoRs+SaGPenEV7q0Uyqm+qXqtWiTsQ1DPHy1wj6w+ulTYWnrV4nMwDUhyoq5yLpJJr91bXiRIgo65y56I5bCNX+oD7Wr6KNL8nLzNnzoS9lUlADkWbV0xGtAoS00A+UtWkpoqVeCy5oM9DVRg2Ejs0nQJtH4J4WD+iUq6++mrTMXbqgWsfilPDpo9XxLuY1YPadmk5O0QbPJWTRXnbVosSa7QVkiSHECAECAFC4FIioAiJK1SLGyjLVHm7uYx1cRsRxYhI2vr74b9Y98wDseJjZUZWHNR7vmkVW8RbIXPZ5nL813KxVtDmxU4J9vZwgd3TzdNvTqakJFRmrYoLkkbqds51gyHVw81lKCtdWLbEz03qiSmQshoqZj8tqTaFsthgb0hx8wxOlWSkaZ6Qs8Pylzcy0cnqUEmy7KVFqBWEvNTYYD9vF4hwcfMLnSMNFjL2rwoSremWriITan0T6kYWR4Jc1mvWrLFekMlMOCY+++yzrBslj2ENNxlivgOxJswKjJJ9ZlMwgrR98cUXbHJSUpJ5KdRrFQLEGq2CjSYRAoQAIUAIOB0Cirj82sI0iTnCTixtT5Wcc7xxDapI66peZwQuvyCZ+REqxt2vSVZilKZYtFIr527Nz0gQ7zFXy2YrE7KKaitS2Hj0D7iMPZcGyV8UhsQRiqC4c0cK1a1SpCGqnJLjawyxLWxO08fFokujMnn1dHkEN3uoUG7dn5+gaidCGZ5QVFG7MsKwEctWYeJ6+goC/cADDzApYJDffvttTyW2zn/66aeZ8hJOhykpKa3dXf/PnRphDjbrQc4ze0+bNg2uhF1L7M0joFDExU/AFY3oQVv+iI/pScPFyG2zJ7JoLiHgtAjExsbCoQRlQx2zQ/xRQ9ax7777zjHL0SqEQC9F4MCBA3feeSfS9dl4/7qm+ibRzOyu8FK4t8W6wJiMPqNANRiYBVd5px7VUEQjNDwIvbyMrMeW77OpoV4MXHF19/IyCp1mMsRl3WV7M5Ws14kbkWSIxzAdgJ6uVjE7yaJO6PPgaAj9IkbDIjxy5EhWJAY5CHfu3GmRiE4H4c8j4kKQ3QKj0tLSLNditrS0XHHFFSyApqCgYM6cOUbrIEUiZ4r4U9yR46PRrEtym5ycDLUo6spcktU7XxRJ1OEPmp7OamS2jW17O7X1UYsQIAQIAUKAEOi9CLgrfNzl8cqGk7i6muFersYJol0VIGlmZncPDoWX6ILY8WWyrMlQV3Bec6eQD+xqFflY69uwHcOpkakDUfgE8dTjx4+3Xpw0E9/hGWVEfh+EKlouDdkQGWVEWAny15hO5Jm9wXQjIyNNBzhPDxSBYOTIiu08W+I7QSzRqVOn+C1vEGvkUFCDECAECAFCgBAgBMwg8PDDD8MHETQC9kmwxh5m5YMKExVT2DLQt3l7e5tZsoMubp6+6aabhg4dajQKknlCckdm9jbahoW3Y8aM+b//+7/du3dbON6Rw0C4R48ebboi+TWaYkI9hAAhQAgQAoQAIdCGAEr28SoJH3zwQQ+N1LBHo+QMpCOcpbvloTlrNGt6huclTNiQDCaqVhs8XNuOQa0eI0CssccQkgBCgBAgBAgBQqCvIzB79uyJEyeyUz722GNIQGTdiU+fPv3888+zuVBbonCL5XJOnjzJso5jimnOHaTj5Zm9UTsb2Xwsl0wjLUSAWKOFQNEwQoAQIAQIAUKgXyMATR5LUg2HPNR0sQ6LJ598khX68/Lygnm6W0L27dvHxsPVEsHdRnNh9WaRVW5ubgjlMXpKtzZBgFijTWAkIYQAIUAIEAKEQB9H4MYbb7zvvvvYIRF0gkiO7h4YdDM/P5/NWrZsGSzU3ZLAzdO33367UZGVX3/9lWd/RNVpy8vMdGsDNJhYI/0OEAKEACFACBAChIBFCKDkCbP8IhGP5WWjuWhMZ36HqM7c3fzbiLk+dOgQE2Vqnn7llVdqamrY0+5K5tujRpcIEGvsEiIaQAgQAoQAIUAIEAIiAqjOx8niSy+9xCv7WYIOWB2msJGPPvoocu5YMouPefvtt5kzJQzQERERvJ81Nm7cyBrTp083NV4bDe57t5df3kGpdFsflTLv2BpRktf7EdDXHUj/++vNQzw8ZGdpPi/MSEmPDDST7002ipqEACHQDQQQGAEFksM+8LqxMxoqCCipbBYGWJZzc3OR4wZGYURA79+/3+ww086MjAy9HmnLBR8fH0SrmA7ovIebp2+++WZPT0/54MOHD/NkQNie/FGfb8vfPqyNqCD7nZpYo/2wJcm9FYHmM59k5mWb7t57waPEGk1hoR5CwGoE4HyGGseo8GG1BJpoJwSOHj3K45GNloCFOisri+W1QXUf5EdEgR+jMaa3KAxdWFjI+lNTU+Vcx3Sw2Z5//etfrN/UPM1LCAYFBZlN/W1WYJ/pBE20Ak/rjk+s0TrcaFafRsBtII6nTMjJunuU8IvhpL/8Iowa1T17Sp/GiA5HCNgAARQRHjhw4B133GEDWSTCpgjgR/Piiy92JDIuLi47O/ujjz7CABisEZsCq3FHg1k/FI3IaI02wp9Rqq7zwaZPYQr/5ptvWL8Ra0S/RiPW9cYFw7dRlAzr79uvDqOMgJFYY9/+XaLTWY9AwLjwyIgQ6+fTTEKAECAE+igCYGbIwjN58mScDwkUc3JyOq8KePz48ZdffpmBAZZpRSZFbp4OCAhAqUA5rlA0MsM36lOjTLb8UX9om9qjQSJNO20FBUXD2ApJktP3EBALDNBFCBAChAAhYIrApEmT7rnnHtb/1FNPoWyx6Rje8/e//x1OkLj19fW1LpPiW2+9xaRFR0dzsWgglJun8kHZQ4927ujygf2iDbLILvudllij/bAlyb0bgZOnzjU0NdTX1zc0WVkCoXefn3ZPCBAChECnCKAwIBwMMAS5tR9//PGOxn7yySdFRUXsaVpaGooTdjSyo37ILy8vZ0+NzNNbtmxpbGzEI+wkMTGxIwnUbysEyEJtKyRJTl9DQJsZ5Z3ZeiilKmf16kXRIfSGaUWE/icECIH+jgCMxQhYBncEECgSiCyJwcHBpqA88cQTTNGIrD0PPPCA6YAue6BoZDZomLaZWZxNgaPk5s2bWRvpx+Ex2aUopxqAULB///vfI0aMcKpdsc18//33Zh2O6UPQCX9YtKVLjoD47VmpVCIP7fmyMi1utJolKs3RLRU7Esdd8s3RBggBQoAQcBIEEA0Nvnju3DmwOjBIbkfm20MUC4Ks2S2qVzPdJH9qYYM7NSI+Wq6q3LNnD4rNMCEwT1sozXmGwT304sWL3333nfNsSb4Ts3FFxBrlEFGbEBARUITM/+23+a1Y6Our33kkOKpAEAoWbki5b0dIt60rrZLof0KAECAE+hYCyJuYmZl5//3341glJSVgjX/5y1/kR1y1atVvv/2GHn9//wULFsgfWdiGnhIKOTbYyDzNM3tj0TFjxlgo0HmGQVcK1SkKczvPlvhOUCKcxbzzHtYg1mgECN0SAkYIuPoERW48klUQlgreWFW7NYQSfRshRLeEACHQjxGYP38+svBUVVUBAyS+mTFjBk8PXllZyXPiwPFxwIABVuB05MgR+JeziRDOJaC6IB6xWyQb5/29q4HwHfBpJ9yzXKcr3x5Fw8jRoDYhYB4Bj0FDzT+gXkKAECAE+jcCcM5DFh6GwWeffcYdDdEDRSPrhwck/A6tw4mbp1En8JprruFCeGbv66+/ftq0aby/zzeGSxc/JrvFK++xa4NYo13hJeF9BIGzX3whnSR8mDfZp/vIz5SOQQgQArZCAKRt1qxZTBqyef/4449oo7rMG2+8wTpXrlzZZRrwjjbDfSXl5umTJ0++/vrrbEpKSkpHc/twP6OJeIVnJy6cFG2jyx7HJ9ZoD1RJZm9GQFe9elbi9gNVDTqxXqog6GoO5UarMsWmMjzQS/yfLkKAECAECAE5AqgxyHghYm8RNI1H6enpbABihOfOnSsfbHn7zJkziKdh4+Wscf369bzSzN133225wL4xktNE+XFYp7zHHm1ijfZAlWT2ZgRafizT5MVPU3p7uMEg4uLiMWLKQjGMWhCKdj/q25tPRnsnBAgBQsBOCIwaNQqZd5hwGKmRoLG0tJTdgj6iPqF160KhyIJpBg8efOONNzIh0GXyaodY1Lq4bOv24wyzGDvkr0y/iI2hYbQ90x6jAVbcWvmDtGIlmkII9A4EFKNStqQJmzORcUerZXRRCE/IylyVNMGXzNO942dIu+zPCDTUHNq6Ka/0gFasVTIkYObdCxbfF23pe7eprvSVgtf2H/5SexLTA5QRdyUkx002DVbQle9cl7mnTBi9aMeaGIUx3A2Hdu7I21MsyRACwmYuSFwcPc7wlfPUgdw1u6uHDPEwntTc3Owx9tGM+b5tH8sNh/buKdCUHNGeFE8S4DdRvTQpZlzrn6HOVjEW7pB7JNZBmZYLFy788ssvixYtYmted911KFpt9frcPI0oaU49n3vuuZ9++gkyEbGRkJBgtfBLNRFR4chb3tDQUFdX1/M9GKkYwRSNenq+hFxC26+nvJfahEA/RsArMnEN/umaUBQGRmpXdy8vBb1R+vEvBB29FyFQX75xaNgS2Ya12jJN5uaMExUrA7t8F+uqEj2Vee0mazUF2UeLTmyICeTdTTUH0u+cls2+UTbezRxZ+FNBqN84a+gSTVsHvnxq8jLTNF+viRbZ5/mPNuflGb6Otg0ytBISwRpZu6FyqXdotmwEvsNqNNqbGo9NFllqF6vI5jmu6eXltXr16oceeghLwk7NFkZADA+p7u5WWlpaDhw4wGZx8zQSQ/KAm/j4eNSe7q5Ye4/H2d977z2UWAQvBIfGK79wi35UQWR7QHBPUFCQ1fsxyw6NOrm60ajf6kW7fBtZLZkmEgK9GwF3hZe7iQ6hdx+Jdk8I9G0EdFWPMMqoTCgpWBE6RP/etmWx6RpBm75s88zipHGdn15fWyVSxvCEwscXTw0ZcubDglAV8m0J2bGbFrdsYKSzcvvS0HgZl/MUjD5Eq7Y/wihjQk7JintD9V+9tywsFhwyU7VE1Vg8QSEERG8qurZBnoLm97//aem0ORKRHOJhENeQG2+gjBmFB+fdOsZTaDxZdfT9T4QgSUfZ5Sqdn9R+T6H5++c//1ldXc2WQKmYnjgdvvvuu6xaIMK0kd+byXz55ZdPnz6NNnJQc5u4/U7UXckoAw3XJguViH/+8587r9/drdWZlpHrGhlftBVZ5Dsx+oXn/dQgBAgBQoAQIAR6EwJ1h18uEPer1JTkRkoqu5iVO/K/8IwvEDTb3qlLajUSd3Am18AobcXxkeOCmAnYNzqlIudwqMgBT37fLASK3yEb3pcoozqnJOWGL5RTlgiNRrLqirEYdpBWkpsUKT7zidmlzfdQxguC5u2jdRMifL2CJscYaZd0lUrUnxIEdf48ZgvXVWkWStrKrIPnUib7SGt4eUX4j4uQmkLXq7Bxjn+FEXnevHkrVqxgSyOFNQif1dvg5umwsDAfH4aDwDN733777T1R1Fm9q84notCLhZQxJCTk2muv7TlrlLNDI+IIysh6Ot9zt55a/+Ps1jI0mBAgBAgBQoAQsCcCuo92vynKV6dON1h5caOYGZ8hdmoPn66vnAX1lItL4nYxH7V06Q+sjhC7InIlk6FXSCtlZI8H+bK6xgo3w3jF9P0lR0407kiKHDl4oKFP9p++5jALG146byrvdg+ZngVWKAgVn5zhnfJG5YsZEtlVLZ5toJNHS14SB6gLkwyUUT5csG6VdiIsu4GBGO6JX375pWXDDaNQIYaPR4pv5oDIe7rV4JkauXm6rKzso48+YkKcM7M3Asb/9re/ITbohhtuiIiIiImJQent2267Ddm8jc7+97//3ainV9wSa+wVPybaJCFACBAChEDnCLR8d1Y086omtav6qfBnLomaj88MU0uBE3nx6tI60R2xqapgWnoZGmnJkWa8URoq18aKJmtBNW2k4bFrUETkBEnr2CI+ML6afzwvdamVfu6yZ97Xhol3mqNagzub7Jmgq8qV9IrKjCTYr6Wr4bNScVfJqgnugq6+ru7UqVN1dQ3cgdKaVeQrWtwG4UPcCfR5s2fP5lVYOp/9zjvvoGQLH3P27NmnnnqK33ar8dVXX3HCyqsU8szesALffPPN3RLosMEosfj555+jLs7+/fvhgglfRuStRLCTfAOof8gzXMr7rWhDoYiLT2SqR3Zrc0UjxBJr5FBTgxAgBAgBQqAXI2DQ/l1sx+jc/ULU0pkutrjGPH1QJba1Ual79EL9c2oYjkEK89OkOBWxra/btz13+/btG1cnjvUOZZyxZP1sM5xSHG1yGXSSTe12ILiPuUnaQm0jZ3585qm3X5BWEVbOm2Lo1J18XySN8KccEeHiMdTPD5/9fn7ebi4R28ulkNvur8KXs7xx7tw5RnQQ8Pvqq6/edNNNkyZN2rdvH8uD05EcnqORB6mg2OA333zT0fhO+nkS7z/84Q/giBh54sQJbrNG6cJO5jrJI+AGdvjKK6+w/fAYcNzCiA8dt233yegje4Vk3rDtKuTXaFs8SRohQAgQAoTApUTgyisua7d8c70UaKL0RbIbr8nri5I1sdlCwRw3ySoMF8SSzeo2Uth8emW8IT9rq5DQ4d7GtsXWRx39HzCo1aTNRtSfFregHDu8bSHD1LqXVkqxNer8Gf5mPo7BHpXhqgDhpAaZwISy+LAo79qKcMNcy1cxTOjWf7///e8V0sW99D744AOVSgXbKxibWq02rVOMBI0ffvghWwVKwYcffhiJFXU63fLly/fs2dOt1TGYm6fhv8gI1j/+8Q9QWDy66qqrYmNjuyvQkeMRNI3jFxYW8kVBfIcMGcJCwmHFvuuuu/AIYT3vv/9+eHjrj5SPdoIGHDThTmq6ETO/pqaDqIcQIAQIAUKAEOgVCJz9/ud2+/QYHCDGmmjrzjcL/u6BMSu2qLJZrAmGqfMLImUJEgXFqLwSTYMw4KcLpypLNmcWgKulB3tXHDxXbM7DsN06spuTP0PZKLNRDx4qhrtoj30HC7WXbFxD+d50idJmLVaZEEpBlVGUkzzLX8r7VV+5/ZbQeJzihde14ROZCEtXkS3YjeZll10G0ojCfQUFBaCAn376KZv8xRdfwFEPqRkRv/zggw96e3tzobzq9J/+9CcUg6mvr1+2bBmeIuM32CS0lXxkl42ff/6ZW7qZeRo8DDthE5OTkwfIo9C7FOfYAVCIAiLOtqFihKcjHBzh6cg2gluWjQhsGEpZ5yyiDb2yWW0osUbH/jbRapcIASTQqqio+O9//+uY9fHn0siLxTHr0iqEACEgDGyv6LtwrlECxdONfd753L4gYaGGmYWVc2aGtEfMa0JkNOuJiUucF7siWKwmqln/cuXkrhL3yOQohHZb0NefqxWf+hklfm3SZLLUkhnqCTIy2SIw98eo2NsYZcRUn3H3LFXFxyOw+iJfx8JV+HhrGiBnCxYsQFpEaP7WrVt38OBBJgX268cffxwOfPfffz84XEBAAFz3/vOf/7CnLM5j8eLFzz77LNwT0bl06VIQR7MsxOy23n77bSgp8QhVChmpgigktUEP6Oxf//pXs7MueSfyBCFGZ9u2bXwno0ePRhkbRqOZcf/qq6/m9RXRViqVOTk5fLzzNOCa6evra7of8ms0xYR6+iACyKqKeEAwOcdcFy9eZJaUPgglHYkQcFYEGKE6WV0rdx9sOK2VvARVSmYf1tdsWskoI46hTV2zTz7Y6GRB0WlbJONh448/GD3q9Fb77Vm51KZPysQtqMYHyRWKuprXRRYoCAlFce0+nBVDQqWY61Nfn5Wt0uoqaXDexBOLVpFJsL4JtocoYGSuPnr0KEzDPGs3aBzy4IwcOfLee+/ljoYTJkxg2kEwTh68Ul5ezjWFluyD+y9OnToVKk/89UZcDpsInipXcFoizTFjEPuCZDqcMiLlEEzziIkBZQR1RppJtg0A5cyK0i6xIl1jlxDRgL6AAL4KI0ksvhk75jD4Xu6034YdgwCtQgg4HAHF+AiVWD4l+7UT6yKDDB9u+vJdkm+ZcuIwibKVb16WKRqFw5OTPbOzMVi1+Z4LSXJVn3zf+tpKiXIKAy+Xd7e1PduaaCmG/xHRNsgq/uYHJ6L9DWl0hLpD2yQhoTcMk43Wv7spS7pVJ97WVnhG6rkyUDRoC5mFRzMiubfjhS9Oig8bL7Z0ZxVJnu1eQIDgoQiz9fr161E8EHZkyP6///u/Xbt28UXkCWXgBzllyhSmoYRRG1Za0wQ0fKK8wWtYs5w7cBBkBl/wV/gLykc6QxvsOTU1FeHSPFQInouIqUISb7a9tWvXAiW0hw4dCuO1M+zZ6j2QrtFq6GgiIUAIEAKEgBMhMDI8StpN3qL0fVKiGn1N6TNRUu0/1aIoH0RI1+wNkyq3qAu3btiwOU0avSRsXY2kGazKnesyNnHvoeoG0TQq6JvqdqYvYmrJkVcPksaK3bCcotSo7mdJs9l4sUnPeiQRitGzQBsFIW/Oor3VDeLopuq1apXku6ieOR5baL3qD66VNhaetZgXlm595j4hSkoRVBD7TGmN1NlQunqJRHaFuyeNEixfpVWibf/Hl/BNmzYhkgMEETTISDh8GWGTRSlq1r9hwwZmmMb4rCxGlI1mGN9+/PHHrPoLHsyYMQOv3IaLbDVQbRpPuKT3CGdBpAsM6Iwy4rAwzR87doxTRuyO57CEpd5C3nxJz9Tp4jgnXYRAn0cA33HhgOywY8LFB9kiHLYcLUQI9FIEYNQbNGiQ7TbfWKhu+8CTzLzsNu1ECxapzWKxqsqMWmnJxoot7LEq5wg6KnLaQlnhbSYTlMXG//Zbs1x+2wC0VPmNTOZxSbXJnsmEpGlOSM8NL0dyJHaJMja14s6Mr2Zt2znkW0nWNEtDGy1bxVhsd+4RDAG3ti5nwOfHrPIMc6Fg++GHHyABNmWGx+WXX15b24plx6J5ikcQRIyCjyOHGhSt43mOfoKzgyLLi9/4+/sjStp0HykpKTjC9ddfD18p+VPoX2H6h6rSCS/U9UHQuny3rE26Rv7bSA1CgBAgBAiBXo2AIi6/tjDNwLgkDZ+gSs453rgGVaR1Va+nSpbi/IJk5keoGHe/Jllkh5ricigGlXO35mckMLao1bLZyoSsotqKFDYeIwdcJmOTcqgUA9idIiju3JFCdasUqVOVU3J8TbTcDN30cbHo0qhMXj1dHsHNBbqH5NceTFNJUgxbUaZtOdi4IZpFZlu2Chdnx8bAgQN5th04IPKVYFAGVRo2bBjc+BBqDb6IR+BG+PbOx3TU4Dl3mHmaO0eGhobKFXgdTXdMP0J/EBMNSz13YYdXUlVVldk0OlCynjlzBjpU5DOy0/YYwnYSO/M0XwAAQABJREFULhfrAvIov6c2IdAnEYAHNxxNHOzXiHxXfRJMOhQhYCsEoJi58847oZGylUCDHF1TfZNoZnZXeCnc29z3YUxGn2tbhzgcBmbBVd6ph0JINEK7uiq8vGT5cwyyLfyvqaEeMiDZy8sodJoJEJd1l+3NrFhdU0OTJEXhY34nXa1iVqpFnUiyvXDhQqgGOx+9e/fue+65h4159913EfIMFSPmci6FR+hEsmuWwgIGXJQEHDduXEdikWEHJaeZFyC0jNdcc01wcDAjKvCevPvuuzua6LB+GN8zMjKefvpptkms6+fnt3Xr1qgo5iDRjY0gDh22bGDYjTkmQzlfBCnn7NxkVLc7IiMj4ZbKcifJJ7d/98ifUJsQIAQIAUKAEOiNCLgrfNzb9F78BK6uZkigq7tRp6sCXNPMbC7GoobCy6dTGSbLmpMK1mvuHG1Du1qlbaQ9WqCGPPYFNZdZib/i4mLkdIRxc8eOHSx7DiKgedYz8D/49iEcu6P9wAWQsTFk2IGRFLEvjDIiSQ0KG3Y0y2H9IHnz5s1rVUWLyyLh+T//+c/Bgwc7bA+mC3G+aPrI5j1kobY5pCSQECAECAFCgBDo+wggm8zx48fZOaF+4wdG/Zi8vDyUz4YuDQVReD9rIKR6yZIlej00sWYubp6ePn06CmHz8irICimvyGdmpp27sOEnn3xy/PjxnDIiEui1114DOb60lBHn5upGO2MgiifW6ACQaQlCgBAgBAgBQqBPIQCNIGeKYHimHocgVatXr0YRauR0RNi1/PDoufbaaxEZDV4o74fykse+IOkjIrURcYIBcAfkITXy8Q5rf/bZZ6hts3LlSuhN2aKIsES9HMR0O2wPHS3EI2n4ALuSSGKNHGdqEAKEACFACBAChIBFCEALCEs0G8rt1KYzYWiGlfnLL7+EV2JQUBAfgNw6UB8iXGbFihXcBfzIkSOo48XGIKxky5YtrI0w7UulzwORhbUdjphwx2SbQY5xKFlRJhHFAPlxnKRhyiBtvjFijTaHlAQSAoQAIUAIEAJ9GQGYa7miEUrBsLCwzk+LcjIIZIE526jmMgKhEKQ4fPhwBCDjKTdP//GPf0RszdmzZyEWqW2QAbFz+XZ6euLECWQpRxg4yn2xJW6//XaoGHkAkJ3WdWaxFA3jzD8d2hshQAgQAoQAIeB0CLz00ks1NSwDudCJotF03y+88MJ1113HomRAB1moNaKSUYgPj3juHjBRWLHZdATBwJxtKsquPQjBQeJuVHxh9W+wFhKLZmdnz58/37brwkbPfUNtK7mH0vjBjeQQazQChG4JAUKAECAECAFCoEME4NsHh0X2GLo3lBnscKjJA2TSQR5HrqeMj49/9dVXf/zxRwwEUWtsbGQzkPEHuQ9ZG6EzJmLs24E4HmysTKoezlZCQVrwWtjTbbswzPHIW96lpta2i1ooDT8OJN8xHUys0RQT6iEEGAINh/buKdCUHNGi/uuQgAC/ieqlSTEm1b8ILUKAEOgBAgiq+OSTT3oggKbaBQEwJ6YINJWOCtRff/01+pF8sVuKRiYKBl9kN4QvI+R/++23cHBEwDUiY3gVQQxDTUI2+MYbbzSNs2GP7PT6/PPPP/LII8jZyeQjEGfdunVIXWmP5eAZiYxCZsmZPZbrlkyNRuPl5WU6hVijKSbUQwgIQkPlUu/QbBkSKBWh0Whvajw2udMkbLIZ1CQECIEuEDh58iQsdCEhIV2Mo8eXAgGzFZNhTeYV/xBBjPoo3d0aeBh8GZmp99///jdUekglDYXihAkTKisrjaQhePmJJ5546KGHkPrb6JHNb6HghHtlaWkplwynxu3btxsFgPOnNmkgS5El9XJssla3hCAzpdnxxBrNwkKd/RyBhtx4A2XMKDw479YxnkLjyaqj738iBHn0c2To+ISALRHA5zFc2ZzTr8uW5+yFssDn0tLSTDcOVRyS6aAfikbwOdMBlvTMnTsXykWW+hsGa3gxwh6KOGs2F+HSvFwQvlRAnYl6M2CZSA+OytSWyLdiTEFBAWK9+bpgzGvWrAGXxTGtkGbXKQgegnym7kWD3cp70LbfRazRftiS5N6KgK5Ks1Ajbj7r4LmUyewLrpdXhP+4iN56Ito3IeC0CCAkAgXZnHZ7/XZjyM6NH43R8RFKDC7FOpGwUKnsoCq30TSTW0jesGHD1KlT8eTzzz9HXsbrr7+eGYXB0ngcBg+XQdbG5557Ljc394477li+fLltHQHPnTuXmJiIkjZ8m5APEzm0gLzHCRsgiyCO7BXbQwOX0T45szTq78mt8e9ET2TRXEKgbyBwtOQl8SDqwiQDZewbx6JTEAKEACHQIwTggMgqU4PPrVq1qieyUH4QvJNJQGzNK6+8wtr4CgEjONqenp6owoKcjjywGn6QGIZs26g0uG/fPqgne7IBNhdpF0FYOWUcMGAArOeIUHFyysjooBFNtAdHNEWYWKMpJtTTzxFo+Ky0DBAkqya4C7r6ujp4hdfVNZivftXPoaLjEwKEQL9BAAo/MCp2XCRfBNnq4dGffvppsDQIuXDhwu7du5k0tFkjISEBS0AlCYM41r3qqqv4cmB1KpUqODgY5nKeSZE/tbBx/vz5e++996677uJ5xZHKu6KiAl6GyC5poZBLMoyxQ/4qKRmHYydGJNJsT883TKyx5xiShL6FgO7k+yJpFLJjR0S4eAz188Nb0c/P280lYnt5Xd86Kp2GECAECAFLEUClFlbEBYrG9PR0S6d1PC4wMBCqRPacOxQy8zR4G8/sDTdHMDmQJOS+GT16NJcH0zZqxvj7+8Nozrkmf9p54/XXXx8zZgzK1bBhqHAN1Wl5eTk6O5/ohE+BjPzCDo1ubbtnYo22xZOk9SkEwB6V4SpVOPPdKYsPi9pXRzrHPvUjpsMQAoSAJQiAzGVlZbGRcXFx8tqAlkzvaAzKCcrr8oG9sZFQAYIOymdBK7lgwQIkaQLhQ2gzf4T6MY899hjSQCJyBWyJ93fUQG5I5GKMjo4+c+YMGwOmCL6IyB6+ekdzna3f7HmNOpkm0lQNafVZiDVaDR1N7OMIqDKKvm5sOXaguPjAsXMV+RJz1L7wuvb/2zv/gCir7P8/fMNEa1A0dPPHoqGFbYwla5hlBZpJPxxSXEtHEytwzQArJSypxVYSf4EZC7iFJViJlUNbmJtaUqa5YI6VVLBiBiUkk8wmGNPH7/t57szlmR8w/JgZZuA8fwz3uT/OPfc1FMdz7z2nmy+blkcEiAARsCKARCksvx+8gA5xNLIZkHCFx/FBDRIVsvqWInvjrsw999zz8ccff/755zgWybeSkX8ZuWRGjRqFTWfsMlupb6zYs2cPbEQE02HvGI7sL0gwjb3ploZ4ej33OzpqIWQ1OookyekuBJoEFt01YtY9AQrjP3z9x92/VCUt0JiMtLssltZBBIgAEbBHAOFvEPuG9ULQHMeGv0FOZ4voNrjsgtiNrSs1fvx4XGT59ttvEcqxb9++rDMixmPTGblqkO1aHnYRrVjCX//61zvvvBNxxVln3HfB+Uicrezdu3frc3lKK3Mocrci8zI6XHmyGh2OlAR6OAHFwBDJr3iq8oxsJU3Gcjf534tsZVQkAkSACLRK4MUXX2RXRrCHu3Llylb7trtx3759FrehkZqljVKQnxpRe3BdBjEd5WHAITMiIgLR45EvG/kP4ZtEkCCcy2RiYaTCl/nFF184NoJPG3V2eDe5dYgynIv4ZLPIy46al6xGR5EkOd2GwOBAyWpMzT8iO8NY9+1JcYH1F0zmY7dZLi2ECBABItAyAYRRXLduHWtHqG0Yai337UjLe++9Jx+GqzYsjqO8svUyQkti0xy2I2I6yv2gOAT54IMPIi0eBCILEROCwPLIRpOenm4z803rE1ErCJDVSL8GRMCCgE9oRIxYlTdrw+4KqU23e1V8qnSgcfYtbh331WIl9EoEiAAR6CQBJHFhN5R79er1zDPPdFKa9XCLrWQEZZSfdLTu31KNj48PskWXlZWxmI68G4488vLcuXMRAxKhInlNNyjAoYiHL4Q7GlGDsryJ9+lMgXLDdIYeje2eBAJnLFELOXmCkBgxKhEbG/jfDFtogubBcTayuXdPCrQqIkAEejwB3Dhev349w/DQQw9Z3GvuPB5sE/ODhlwaNsQXL17csezPcFXOmDHj7rvvRkZpJAnkMllhx44duAGDtNcdzmpjIbCTr4hnjqjpPFZlJ6XxS+6QA5nstcPCcfkJm/vWKpHVaM2Eano8AZ/g3KoDwxcvSdVoBaPJqEzK2pwUO8mnx7MhAESACPQcAgiyzSIp4soIouQ4fOEW29PwFzY2NiJwN9IG8mwx7Z20tLQUG9PYnuYDYUrChYlXmEE46Yhn2rRpmAKXZnifLilAya+++spmvu8u0Uc+KYhBN3kNK5PVaM2EaoiA4D1k0updx5L1On0jDjd6K/z9yF6kXwsi4BEEdBXFWzbn7N6nPQt1B468e/bCJQ9OH9LG/4D11bvfyntn78HvtCcxfKQy/C8xCXMmmQUOlCA0Ht6+NnXHfuHaxdtWRyksueiKt2/L2bFLkiGMnHD3wtgl08cNYb1O7cte/WbZwIF9LAch9UqfsctSFgwx/lluTYg01m4Hyxna+w67Aef/2Ci47oYPH95eCXb7v//++7wPrtrAfmKJCt9+++3i4mJcpuatbSkgcA92t59//nkewecPf/gDsiDiRjbi8uDUIw8Gjm1xPDfccMOyZctmzZrVVZEaEfEHvs8OuwPbwqTDfWBYX3/99TaG4+4SPUSg2xNAZC9kF3DZMv/1r3/h/1Yum44mIgIeSmDv3r2I2OdA5WsOZdj4O6dMKW9qwyQNWulEs6WAhIJy+eD68r0JLPA/OoZl1cnbxHJNBovSZS4mSVPJOpas4YPNe4hvMSeMetoRYncWS6Xa/45Ez5dffjlTES5AbKS2X4adEbDh4AXkFNRqNXZs+XWWkJAQmK12RMiajx8/bhF2EWkPcfWbd0HwHdiO1hvf2HaHcYxLP7ynywqIT47wkzh56YYPTHbcgrJG0fyF8W+OCkSACBABIkAEPI9A4/HHJ8SLaitjirSVNVXlBSmSBadNfiKz1O5yDFXHc9ApLCZ/r7aqpqpEY0yFkj5rc4UpnkLp1qW+oyanG086C4KvYLFhd3zr4/EacaqYjKLKmpryQwXMhkxVxR+WIsGOnL65oEAjf/buzTcZkgP7SOLsCrHbwe5i7Xaor6+HKcO6xcbGDhli9JXaHdj2DnA0so1jNgTZBXHhZsOGDewVwbp5OO7WZSJMI87wwcrE3jTriXwzOMKI2I24Xs3HXnbZZY899th3333HYjry+lOnTmFqZJeBDccTxvBWKlgSsDYkqYYIdD8C5Gvsft8pragbEHCsr7Fqb5L0F06pafaL1eeqWd2a5roWwdVpS040yFpLjG5D1aF6VlvHPJnqjCLtAakYlmVsMY6qSmGzJRVxMQ3aXPZ3N2VvCyo0lDAd1bknpFF2hdjtwCfveGHmzJlMbUSoQfrpjgtqeSTyuLAp8BkWFsY7hoeHs3qYqnAQ8nqbBWSjtgi7GBkZiZscNjvLK1lMR4sA4zi+iUs/X3/9tbyn88rka+S/AFQgAkSACBABIuBKAo3/eVOK/KdOnNrsF1PcHS0ZctqDp2tLI2EjeHnFbj1uUsuwb1W4WBWeLfkB/YLHBckPQPYbMljqqehlHKCYurfoUHn9trhpo/vbiPhvqDiYLPVcOv924whB8AmeyjalS778iVfKC6WvpuSJ76olM4Pww64Qux3kwjtWxq2Rjz76iI3FdWact+mYnFZGwctYVFTEO8gje+MKDtu5rq6uRu4W3seiAGMOO8s4e3fo0CHW1L9/f9x0eeeddwYNGmTR2foVdiqcndjXxtUZJLlmHXAR5+WXX/7Tn/6ERNU4WGk9impoh5p+B4gAESACRKAbEGj68Yy4c6y6JdhHthpFQKD0pvnip+Fq6dxiTrR6d7W45aw/njc5eT8KSQnTrG60CIKuNG2WuGUtqCaPNjZ7B4VPCw0UX2yEJBGEhnNnxf6CWjlUrsKAqyaItZojWsk2FcvNT+Px7EXilrYyJS5UmsWukNoOzNI8X5tK2ClGzhWca4S3b/ny5W0a085On332GbudjXEIK3jXXXdxAQiL88gjj7BXxP2xDs2DJkTtRuzupUuX4hIR64nbG7iSjISHXE5bCjAQsQ8OaVgmjtiyIbBH33333VtvvRVeTFzllm+jt0Vm9+5DVmP3/n5pdUSACBCBnkLA6P0zT+DkMzSY7f9eaPKOeuEAO+cYkbjDINT+Qx0tolHlJk033ZI2VBduzYYZsWlV7NgBIcxmLFo/02g02gVp9EnqzW1Kn+tuklSoqhdtVfPn1J5XpFmElfNvNbbYFWK3g/kUHXvDKUBfX1+c+WuL364DU+BwIR+VmJgovxaDemQIVChE6jAKrc1W5AaEZXngwAEmAT1xURqey6FDh3KZ7SrAOMbJyNOnT+P+h/yq+OHDh3G6CRmrcf+am6ftkuyyzvi+XDMXWY2u4UyzEAEiQASIgCsIDL6ir9k0DbXS3RXlEAS78Zu0viBBbM2b28trUKLYoCzKVDcbhQ2nV0Yvio6Ojk/OMd14CRkxwCpKjtkE1i8j+xkNO2NT7WlpprEjmicytlS/tlIKbaPOvTPA4l6NXSF2O1gr1u4a54Wk4eFmcEF7/vz5FpoNHjyY56GBffn555+zDjDspk6d+te//hXnHVkNNpqxy8x9kxZy2vUK6xMBwCsqKrDNLQ8Djhps0+O6zHPPPcfycbdLrLM7w17kJqO87KR5yWp0ElgSSwSIABEgAl1A4MzP581m7dN/pPiurT4rbmUGRq3IYreapU7q3LxppgCJYoXi6pwiDbxWBflZSWp2szl5zICo4lqpd1s/Tp43dzb2HySK0h770WKHWnd4Z7JknK5ZorIyKO0Ksduhreq6vl95eXltrZHp/fff37evuaEvKRQfH4+daxSxX4ydaBTgAw4ODv73v/8ttQsYhUg6uFDl2Iw12J3HNvexY8cQ0HHKlClsLnzCXoQHFLYjLEjoz+vdocBvu7tAGYt/3LhgRpqCCHQBAeTFys3N/eCDD1wzN4JW4FS1a+aiWYgAETAj0Nvc0VdXUy81+/Zif+/8710Ys0jDtoWVc+8ONhsr+IVOm85qoubEzp+1YowqFScS179eOilunHnPVt4UgpkKhtqaKrH3UIX5X1y9JjVekpKiDvWzEteKEGZ8ttLBSpibVeDuMNdo1apVvCwv4Doz9ouxQYzKgwcPygProObmm2+GETlq1Cj5EMeW75Qe5Dxcu3Yt4viwyOHYp8ZudXZ29n333YfsMhbXt20qoNPp4ALkF25s9ulkJfc1dlJOW4aTr7EtlKiPxxNA8FjcCjzvqgdJsTweGS2ACHgaAfYPtZNlVfLjg7rTWvHCi6BSsv1hQ8XmlcxkRKU2cXWhvLPFioOmJ2WFiXX1536xaGr1VfvDGblU/Zf7RRVU44PkDsXGinejxWswQkzBnCE2xLUoxBh6W2ixg3wWG4K7ugqXS5AHgWlx1VVXDRs2rCWNEP0H1iFr5bEYYU2mpaXhUKNTTUauEu5o5+fnY5MaMR152HMsAbdkbrrpJtyYQTh0eEN5f4sCbmT7+/sjtDgkWDQ56pVHCOcCnWpEmv/Lh89JBSLQvQjgv9uYmJjUVLgNXPEguSoScLliJpqDCBABIwHF+HCVoNFo098pXzstyPjHzXD4jXyxXTlxuGRMHc58IlXcFA5LSPBNT0dnVeb9dXE2XH2SUENVqWRyCr1buGrgK3UzfShGXI/db42gfe/T8ukBQcbq6uKXJSEhN8gz8hk+2syiiKtj72G3vI3d7QpRjGhq8ywmzdzpJ/x2+Pc706j184jYFIaNKNf9z3/+86uvvnrttdfKK11QxsY04gEh2yEcjS+++CICWLJJEZ0HT1BQEA5EYl/bQlv02b59O4KQI4TQ3LlzP/nkE+edE2X6uGCrmnyNLvh9oymIABEgAkTA6QRGh0VIc+QsTi7Uic4+Q8XuDRFSIhfV4gh/8X3nBClzizp/y8aNmUlS7/gJa1nql+PZ87zGxu4sLtNJWwUGffX25MXMLTl6WD+T9gbsJCA7feN5ybNZf0FvYDWSc1FxbSQMOkHImbt4Z5kOBYO+LE2tks4uqu8eDxVMT+2BNEmxsDVLxsmj9KDdrhC7HUyTuOfPlJQUrlgrVuOuXbsQFgexuHlnbPIiFqPrTUauAOJBIlN2ZWUlPIhjxozh9WVlZVgIjleuXr0a+9G8HgUeyRzXsVvai5f3d/+yVyueVffXnjQkAm0kgPz02M5wsa+R/3u0jUpSNyLQ0wjAJpgxYwaP29fp5eu3z/Odm2cUgxsokrmG16TyptWB3tVp4UMT4fZTplQdW4lNYX1ptm/IIjSrMg7tigst3RQeEs9ciwKu0Gq1ptHKNVXHlkubyI3b5/Xh8s20VeXW71oAb6a+bLvvmLkmDZSCSUiSpnz19Gaf4uFNkZL9ijQ2JdPl13GkkXaF2O1gpluHXhCwcNGiRUg/3aHRLQ7CbejQ0FDWDPvvq6++su6K34e4uLht27bxJgRiZ7YKrre/8sorvL4LC9AHe0o48sgDADFlsDuMjSZsZ7OrPKi899572Y78JZdcAsck9rW52itXrnzppZeuueYaXuM+BXw1uDMuj75u1A0rp4cIdHsClFGw23/FtEBPJODYjIIigaaq/CS1/E+vKiHjhJT1r0GbxepztTwLYJMmQbzdLIRl1GFoXXluSoz0zgUoY9YUVDVxtA0FFu28ozqfC605lG+8fm1sVWUUsVSBXE49Oy6pTNDIExjyZhTsCrHbQS6tA2Uc10MUww4MbH0I/gHPmf3973+37ox8LfKwi7C0cHUG1hUbhbCOR48etR7VhTUspqNFvEmojbvhSKUNxZDekMe8xDlO3JXk2sLtioSNbvsg0jtXlRfI18h/ganQnQmQr7E7f7u0No8l4GhfowlEo75WL24z+yj8FD7Nx/exmYw67+YKsT82mAVveaVBr9eLm9De3go/P4vdY9ME9n/qdbWQAcl+fhZXp9lYcVofmW42JdoTItjtYFNsWyqd4Wv8/vvvYTbhnB9TANeTx44dy5UBdni2/vnPf/IanBdE6MTx48fjHCRCbTPHJwI0yreteeeuLfz3v/9FGhtc6+ZHNpk+yKm9bNky3L+Gx5HVLFiwAAE9WBkxKffs2cPiCnWt/tazP//88wsXLsR5TYsm8/96LBrplQgQASJABIiAxxHwUfj72LhJ7O1twwj09rGo9FbA1rQxun0UFH7+rcqwmtaWeHtCBLsdbEntsjqkjeYm45VXXik3Gffv34/dZ6SiYcrBdQdbCoYLYoCjBqEZkbtFrRa9yOj59ttv42BDly3D1sSwhrHXDN8hPuGi49EoYeDiQZhJmI8oYCgsy3vuuQfXw5kYPz+/iRMn2hLZxXU8v6KFHnQbxgIIvRIBIkAEiAARIAIOJgBXIi6RcKHc9wbn3GOPPTZ58mRuMgYGBn788ccI1shMRjZkzpw5cDqyMjIQIpgaF+U+hYEDByYnJ2MhuGo9evRorhiy18Bk5BeoEdADt6p5a3sLODHJD01irPRmVtNege3qT1Zju3BRZyJABIgAESACRKDdBJAqGkf6+LC77roL5U8//RQeR3Z+Dq+49fLoo48iL8stt9zCe7ICmhD7hpWRmgVZYSw6uM8rziniIhEuViOmozwMOIsTDj3r6upmz56Nk4Kd0ZkZjvjEnW48ECVajuZPZ+S3NJasxpbIUD0RIAJEgAgQASLgAALYmIZpyAUhhg7sQhz4Q5Rsnp0PMRGRLRDdWgpSjYjfMLaYENykccOU0HyBCAOOTWpsW+MeDzyjOKDJm1gBsRuxX29R2fZXbibKh7BKeY0zynSu0RlUSSYRIAJEgAgQASJgJLBz5065TXPDDTfAXvz66685oIceemjDhg2+vuZh03mzqfDCCy8gjiPytSI6D/aCMzMzTS3u8hOK4cwlIuxwz2JLmiH04/z581tqbaWekcQnHIvsk3XGq8Uo1sGispOv5GvsJEAaTgSIABEgAkSACLRGwMKvduTIEW4yIr4PAh/i6rRdkxETwAzit3q3bNnChbQ2t2vbcFMH93XsmoxQCrbvBx980HntYDjKHwi0eO38FHIJ5GuU06AyESACRIAIEAEi4EgCOLx46NAhuURs4LJX5NlDgj7cI5a3tl5+6qmncKsGQRBhmcGCLCoqar2/i1sRxBs3vnn8HdyPwW1xWMbskxV4DbLFwIDusIawDq3HWlRyB6RFvfXANtaQ1dhGUNSNCBABIkAEHEwAx92Qnw9hnB0sl8R1mgCOGzrqnjICGVqrg8DXWVlZ9913n3VT6zUKhQKHGpF/Bd12796NqODsYk3ro1zWikyDiN0IE23w4MGwDq0zU7tMEzaRo4xFrjZZjRwFFYiARMBQkb1scxluwVnxaDjbMFa9bMEkKbWYVStVEAEi0F4CiNuMfbrs7Oz2DqT+ziYAk5F7BDsz18mTJzUajYUERCtEbBp/f1liboserb4isiPuULOUj7hSM3XqVB7UptVxLmqEvYjHRZPJpmGnGNknqpmXkaxGGSEqEgFnEGj4OTM93ZSA1nKCmNtiFwhkNVpioXci0DECuDaLYMLufBm2Y+vqBqNYbphOLgR257x58yysT9wCWb16dWckIwY4ovAgxCOE4GgjfJZLlizpjECPHiu3DpnJyD6xKJiMvOyoNZKv0VEkSU53IaC4erNGo5Ov5tLLfzuydFayaEkOvNzaBSnvSmUiQASIABEQCVRUVCCbi8WJRuziPPvss50HhFQrkZGRuE8NUX/7298wUf/+/TsvliTYJUBWo11E1KGnEfCbNH26xZpLTykFAVZjzANTAyya6JUIEAEiQATkBBC/GjFxEKfw119/ldejPG3aNEcd9UtLS8Pl66amJviqYTjyGOAWM3b7V4s9aDgX+ZId7miEZLIaOV4qEIEWCOhLUxbloU2VERtskbG2hRFUTQSIABHomQS+//77hQsX7t27V758hPVmd2sceHMFKfuQihBRHjERjFQklRk1apR8Uvcv19TU4A71Aw884BBVcX2by4FM9tph4V999dVtt93GBfICWY0cBRWIgG0CZe9mS2e5w+IeGGe7B9USASJABIiAICAmzuOPPy7PHMio8OvYERERDuT0zDPPvPrqq2fPnoV8ROGxvnbjwLmcIep///sfzmjaunvpjNnaLROpw63HkNVozYRqiICcQEX23BzxPSbh1g5e+JNLozIRIAJEoBsSqK6ufuSRRxAHh6/t8ssvh1WEV7gAWdpApIQZOnQo79D5AgI9Ym+aXYUpLCxEeO2wsLDOi3WZBKQchEfwzTffdNmMbZ8IZwlGjhxp3Z9yw1gzoRoi0Eygdt92lis0d0kY/RurmQuViAARIAImAvn5+ddddx03GX18fBYvXsxMRnThd6gduD1tmlmIjY3lWZ7h5uRz8Q5UcCwBshody5OkdTMCutefTxaXFJahClZ0s7XRcogAESACnSSAk3lIu4wrzDqdMfJEaGjoF1988cMPPzDJ1157LaJes/Ldd9/dyemshyNSI78Hg3mxRW7dh2ocSICsRgfCJFHdjYD++I74/eKikpZHtSPjVXfDQOshAkSACNgg8NZbb8HF+M4777A2XHlBIEbkD7zkkkv+9a9/sUoYkawwYMCAG2+80YaUTldhLxWBvpmY5ORk7uPstGASYIMAWY02oFAVEZAINH6weZFUSHhoCkX2pl8KIkAEiICRQF1d3Zw5c6Kiompra1kVziz+5z//QQRvmIy418x2ipFSj3fAPRg0OYkgZmTCf/rpJ+QbdNIsJBYEyGqkXwMiYJuAoXrPKukajCprYSAdabQNiWqJABHocQTgR4SL8fXXX2crxx4xPHyHDx8ODg5GDbaqca+ZNeF040cffcTKztieZpLx+ac//QkHHNlrenr6qVOneFMPKVx22WWuWSlZja7hTLN4HoHPXmZ5BcOe+Iv4v0J6iAARIAI9nABC6iAW47333vvjjz8yFDDXkP0FF5l79erFapBg+vz58yj37dsX91TYfjHiy/BNZCcxhA7ITgnhjY2Ny5cvd9IsbigW9iI3GeVlJ6lKVqOTwJJYDyegK16fLB5pVCYtn0RHGj38yyT1iYAnETBUpM2LDI9cVdboXlp/+OGHcDHm5uYytWAIwjgrKSkJCQnhiiJTy0svvcReo6Oji4uLWXnixIkDBw7k3ZxRuOKKK+DyZJJ37Nhx8OBBZ8zinjKtc/A4T0+yGp3HliR7MAH9ya+lyN7KlQ/d7sHLINWJQI8joCvevglG11jpiYxdUVha3XYG1aW701bERoZLw8Mjl6btPGXbdGs8vH1VJEy7FTttxEEW2qKDrnhnduy8SElNpFSel7az1DhVw7mDeZr9mpJzTXYUryjeuSJ2nnGporbby3QGO2M61AyjBHvNcBaePn2aCUBelk8++WTNmjUW6QGxbY3AjegDmzI+Pr6oqIj1d0bMHeulIHBjYGAgq1+6dCkSG1r36ZY13NfogtXRcS0XQKYpPI+AYlxsU9ODguDjTf+JeN63Rxr3WAK1myIHxUv/4GMItFqtJic1SVO5enqAXShl22PHsJD+xq5a7X5NemJCedNG+clmfcW+5BmT2fkVoX62lZnWBh10pUsHhLBAsCY9BY1Ge1P9sUkI8NVLYFG+jDu+Leh9eFPkBPlSBabtjkN1u0Iduj0Cf+GCBQt49BwvLy/k8XvhhRdsZjThQXCmT58Oo+27775j6jv1UCMnhEvc69atu++++1Dz+eef5+XlzZs3j7d214K1oxFGpHWlo5ZPvkZHkSQ53Y2AtzeZjN3tO6X1dG8Cx7c+zuyomIyiypqa8kMFKmnBqar4w7ZcguY0Gr8sEq+/xazJ11ZWVVWWrFErpQ7pm9+v4D1Lty71HWUyGVHrK1j8u7INOuiyo40mY0r+gcqaurqaypK9BRkZK4P68HnsFap3x0hLDUvKP1GD04Y1B3KTpDGapG2l9ga3tR1mH+Jm33777dxkHDFixL59+zIyMmyajMg9jYiJTDoGvvfee6yMfDBKJYPZ1qk73C8yMpJnT16xYkVDQ0OHRXniQBiL7HGe8mQ1Oo8tSSYCRIAIEAGXEajeFZ2HyZRJRdlx0wL8/QNDo97QskN4mj1H7O5T+9z5vPZEVUP28jnBAUOGBIxbnpnDjM5jledMa9B9Ei26CNUZRdoDGWJlvanF+NO+Do3HNYs0Yu81B2pWzpkU4O/n5x8wLjwqLi7K38IClZyNjXodgtfozTfK9T+d0ooyVOuS5wT5KxQK/0kLkjIkw8xXrHfAU1FRgQje8B3ybCsxMTHHjx+HEdmSdIS/YU046Thp0iRuNbrG0ci1gs7YH8crIo2npaXxeio4hIDFL6lDZJIQIkAEiAARIAIuJWCoOMiuQiydfzuf2Cd46hqlkKgVSr78SZj4U2SfEBhsMbna7AUsMIJh36qpk3HvLSyrfl+sIiA4iI9EQXHFYOnVtzevVUzdW3Qo4ObQQEXjcRuxXezrED7kSNFrojh1ftyk1hPbK2q+Ll6VsiRZI9mHGLGmKHP5NLZ5jV1s6dGUVTaOC/KRygZmWFrasaxj+z+xE/3777+zccOGDfvnP/955513tiKmrKyMn2J84okncHWaX4VxsdWIyJG4iMOSxKxduxbZsYcMcdOAu/ASI0iQe+azwTV5vd6Gi56sxlb+K6AmIkAEiAAR8AwCDefOSoqqlUOZFcXUHnDVBEHQCpojWn3c/eoYQZMj5ESr75taMm2It/54nmgyIvlTgskak621dGuaFLBViJg42lTtHRQ+jZVt3lSxr4Mw8uvd4owJqlAfobG2uu58U1OvXr6DhvhZ/THOiwjJM80r/sxLjKgSDu1bLqZaUYy5LUYQoN7cMfdfqs2NCvYuXDETxjGexaprxR+dfq666ir4MGE3zJ8/H1vS/fv3b10kPHzs9glMzFmzZr377ru//fYbhuCsYXh4eOtjHd66atWqN998E5Yrtmufeuqp116TLHWHT9NpgfDd4ugnTNtOS3K8gDNnzuBYsLVcq19U6y5UQwSIABEgAkTAzQkY3W96c3vO57qb1EJOnlBVbxB8ol44oMq5VSNoIxJ3NG274x/qaHFNqtwk012Z2tLCt4/U9RbqPyt6OUdy8qnWFD3Y9hz0dnVoPPmJaDQK6bNGHRMEqSi+ItV97qG8BaGWLrGYrAPrHpqkaKhIU41K3C/sT0wt/euucfA3egc9fygrZ8IiQdDMUg5gIrA5v2ZvYVSA3Gg2tXTo5+WXX/72229PmTLF7uiff/5527ZtrBuuTiPuN9+exo425NiV4NgOyEmDLDVPP/00xOJODFSShwdy7FydkTZhwgTEudyyZUtnhDhp7OzZs6GetXBx758eIkAEiAARIALdgsDIfkbTzbia2tOiv0Q5doS4t+s3aX1BgtiQN7eX1yDJOacsylQbt30F4fSHKxctio5eFM9MRnQMUY5ovxXWqg7i9OIDk1EZplKFsWsi+6MnRBRWm13IjsnXZsdOUsC3owh8fEuBNEjzyXc6qSD4h8aW57ODl6wCn3PV4QH8pfMFbFK3xWTERJmZmezeCQzEhx9+GDW7d+9mCrh4e5qvGtdx/vjHP+IVHlBE4eH1blVAFkRAdiuVuDI4G2ozAyRZjRwRFYgAESACRMDTCZw8b+5s7D9INMu0x35kR7QCo1ZkyWwtdW4etqr5mkfOzNFoioo0BVlrkpg1lxwxJjzNGKqad7NXsKMDhqtSCirrm47t27Vr37GaklxpLu0r78o3BFWxM4L5RN5Dr1HzF6mA29yj5krXapQwPVlb4lCvecW1Zqan+SCnvF24cAFWIxP90EMPYS/76NGjVVVVrAbpp50yqz2hPj4+CCfJeuGEZUEBM7vtDfOEdtxkx8M1Za/yGt7kjELzfy3OkE4yiYCbEMD/wpAOFUdtXKMPDgPhPI1r5qJZiAARkBFQmG6KsDpDbY1kvgwVfXbS43/vwphFON4oPsq5dzdbZnj3CwydzqJET4+KjZu/InRMqhb7wutL/zpJ3Bdu69OyDk0CM14jZt0TYNLIf9z9S1XR0bAAL5hN0ATzl/s5fQYOlxrZzZzafatCpNvc2EDfJl6RMRwvTFWqcB0o79bZ42v2xbV+0cZsmk6/5Ofn4wwcxMA7FRcXhwLfnr766qsRD7zTM3RQwP33348TmUh4iPGJiYkIIWkRk7yDct1jGMzEyspK9gmNUMBjoRo6WNR0/tX031HnJZEEIuDGBLALgJMu48ePd42OyKBw5MgR18xFsxABIiAjoP3hjGFcAP/Tpv9yv3h6UDU+yGj1GSo2r2QmI6q1iasLp2ycznvL5MBiC0rKzUgNiUd8nV8aDYLJyDPrY/ulZR0UA0OUAg5Mnqo8IwTx3WSTd7T5sjbkKvrKt9obfzotzSUZlvr3Nkn3xdX5ksmIBu/g6SvL8+tGzU0X9u/7rz7Ovx02ru01tL2WR/ZGeG3cocHA999/nw3vqu1prnx6evpNN92ETeqTJ09CT9yM4U0eXWD2ooWZyCqdvS7b/7E4e1aSTwRcTACRF0aNGpWamuqaefFPbXa4xzXT0SxEgAgoRlyPnWfcdHnv0/LpAUFGINXFL4tGoxByA3PVCYczn4D7ELdPEhJ809M12nRV5v11cS1kU6kq+0qS49urpSRRvlK76aMNOigCsRutFVLzj6RM47Zt3bcnRRH1F0zmo/iW9/qe54KNnk+hsVKbJ1YaH+aUVI03u6czaDiLEq6QW5umEc76+cEHH3z55ZdMOo4SonD27NnDhw+zmi63GkNDQ+fMmQNvKPTB//8XLlw4aNAgppvnfjIPIrMR5ZaihRGJBaKGdXbgYulcowNhkigiQASIABHoIgKKayOlA4s5cxfvLNNBCYO+LE2tko4Kqu8eL+7ZGip2six86vwtGzdmsmwq8RPWVuAoYGPpPC+v2LSdZdXiWPStLt2+2JhgcLDMdWdoxGMQGs9Lllv9Bb2B1UinCe3r4BMagZg5sAlnbdjNUs7odq+KlwxZYfYtV4tNpidVNWrFdik5te54yuxoqTpmqtIPOQcVkitRE79y5/FaY3d9RW7Oe1JZb75HbxLnnJ88sjfss4kTJ2ISRG1kgcFxMwaxvp0zbTukwlhkmWwQHPGZZ55px0gP6Qq7UP5Aa4tXx66DrEbH8iRpRIAIEAEi0CUEFDNfEF1KuJ08a8wAr7Fje/mOQbQaPEma58aJBwSrNzwyS3xXpqyZg9OLQ5JKssRXIfWJzMNCk1CFCIiJs8YMHeCFwV69hobMlUYLKXufDTJuyzVun9cLJkgfXMCeEC8O3R8/tJdUE5UnHVi0q4MQOGOJWhwpJEaMwjxjvQZEJEuXWhI0D46DRWj2pM4N6YPjNQOUzKyMyV8qaeJz7/JcqR/C7gzyCo+cFxnu5TsqPk+0kNW5q6TFmslx0stXX321Z88eJhyRvVmBH2q84447EKzRSVO3Xezw4cOffPJJ1v+VV15BiMS2j3XznrAOrTW0qIS7kT3WPTtWQ1Zjx7jRKCJABIgAEXAvAoqgOTWH8o3po40BilUZRSdWS/u8jcffZUZkbl7CEElxxbiHNAni9WXNrsM6hXLL3twYlfiKLWTJQ4nIODEFJVUrw1l3seHSvqyDWDZ7FEbzqHUdxCE+wblVB5LYRMYwysqkrAP1G6fzqy+SZHV+UT6zL9lESfklL80x7rwrghfUlBTEsKg9+zV5Gsm+VaoyNNpcY9obNsi5n9zRGBAQMGPGDEyGdDLcjuzy7Wm+eFyFwbl2ph7bRudN3akA6xDLYZ+sgDL3OzpqpXSu0VEkSQ4RIAJEgAh0MQH/0Dnbjs3J1NViE1nw9vHza77D4hMc29T0IKw22RlF7+kbjzWlNqIn/hb6hS/IDl/wUiNCILDRCj+FuSGHOOHZxy5m21ljKzqwkd5DJq3edSxZr2PzKPz9zKbxGbetqSlXQKhsYc7Fv2yq1RkEb4Wfn6ii7PEfF5W9LyrDKAQrsNZW1tsJRWSpZucFIRthtFlsv88++6yuro7N1lUxd6zXetlll2GfesGCBWj68MMPCwsLcZ/aupuH1jAzkbkYmZnIPrEcVPKyo1Zn/mvoKKkkhwgQASJABIhAFxFQ+MkOIsp08PY2M89Yi7ePWaVofvk44AZySzpwdVqbR7QYjdr5+YsnMlt6WhPS0hgH1b/00kuI1Ahhvr6+CNPIpPLtaSSDdqvsz/Pmzdu0aVNpaSn0XL58OSxaJGVxEImeJYZ2qHvW902rJQJEgAgQASLQSQK4EfSPf/yDCXnkkUdgOLKy+8TcsVggYknyCEHffPMNTF6LDp77yvaguf5wLsrLzAfJazpfIKux8wxJAhEgAkSACBCBHkTgtddeq60Vr29jY/qxxx5jK//hhx+MBzUFwX0ONfJv5dZbb505cyZ7TUlJ4TvpvIOnF5j5yI1IXnDsukxecMdKJWlEgAgQASJABIhAdySAoNmIns1WFhUVhaswrMy3pwcOHHjjjTe64dLT0tKQIey3337T6XTPPfcc9qy7Vsljx47t378fGXS6Vg2bs+NbtpnXh6xGm7iokggQASJABIgAEbBBABEZT5w4wRqWLl3Ke/DtaZwaxI4wr3efAlLXJCQkwHaESthhf/TRR6+55pouVA/2Ii4VPf30012oQ0tTJyUl2TRnyWpsiRjVEwEiQASIABEgApYEeMCdm2++GcG9WTNuxuzdu5eV3XB7mq9hxYoVubm52F43GAyIwsP9o7yDKwsI/YlcNVOmTHHlpG2ca926dT7mF8XYQHf810Abl0TdiAARIAJEgAgQAVcSwMlFbh3yyN5Q4KOPPvr1119RwEnHqVOnulKlds3Vr1+/VatWsSFwjv773/9u13DqTL5G+h0gArYI6Ct25r6s2XVIe/Ysmkcqw/8SHfuXcFOGCFsjqI4IEIH2EsDZqfPnz0dHs3R57R1N/Z1I4PTp0/DGWU+wfv16VondXpVKyuEovfPt6ZtuumnAgAHWA92n5uGHH968eTNLnw134xdffMGCTbqPhu6sCVmN7vztkG5dREBXHDngVinJl1EB/PNak5e+I+PQrjjjdkwXaUbTEoFuReDcuXNNTU2vvvpqt1pVt1gMDHo/P8sMhz/++OMbb7zB1ocDgvLDi9xqdOftaaY5bERssjOHKGzHLVu2LFq0qFt8aa5YBO1Qu4IyzeFRBAz71i6RTEZV7oET9Q31NeUHksLEFWjiU0ulXLMetRxSlgi4L4H+/ftjx/D/6HE/AkigglN3Fr86cNHhAjIq8cXJPcSIgFheXs4633XXXRaj3PAVObLvueceplhycnJ9fb0bKumeKpHV6J7fC2nVhQQavvtai+lVGckLJgUpfBT+gZOS163pQoVoaiJABIhAlxPAWYKsrCymRkxMzOWXX85V4o7GYcOGKZVKXu/OhbVr17IUPLgZw086urPCreuGrImtd3BUK1mNjiJJcrobAc1XZY2mNTWIh7zFp4n9oE8iQASIQA8jsHXrVhYZG8YWj+zNGPCbyO6/Pc2/tKCgoMWLF7PXF1988b///S9v8qwC7EVuMsrLTloFWY1OAktiPZeAYspfYkTtc+betapQJwj6sp0zb00UaxIWhjggP60oiR4iQASIgAcRwDHHjIwMpvDs2bPhU+TK/+9//ysuLmavHrE9zTV/9tln2dlNhA1atmwZr/e4Aru97hq1yWp0DWeaxZMIBM55PkstKrw/WTXAy8t3zKz9gqBUZ1SunU7XxzzpiyRdiQARcBABpFT59ttvmTB5ZG/U7Nmzhx127N279+TJkx00oSvE4K43DEc209tvv33gwAFXzOqEObiv0QmyLUWS1WhJhN6JgCD4x24rbw4pIRGJiokKIJuRfjmIABHokQR4ZO/bbrstJCREzoAfarz99ttdab7IdehwGZvUPAMKrGG4VDssqqsGwtHIHq6AU78Fsho5ZyoQARMBXelSr1Es8o5KbbQek28dGrmp2Eb4MtMg+kkEiAAR6JYESktLP/74Y7Y0BDi0WCMSDLIaDzrUyJfQq1cvHoESy8TZTd7kiQWTAWk6ie+ENZDV6ASoJNKzCVSvuj0kXVyCqqi8fte2XU112hTJdNTE37qhuNazF0faEwEiQATaSYA7GkePHs0D1jAZsLSqq6tZGemn2ynYLbpjRXxj/ZlnnoHh5RZquasStOXmrt8M6dVFBPTH300WA+8Iudpt0wLFyy/efsErd56o6zUGpuTBo6eFSf5dpBpNSwSIABFwNYGqqqodO3awWbGHK4/sjUq+PX3NNdeMGjXK1co5aD6YxTfccAOCZsICfuGFF1wZiAdxLtPS0hy0DkeK+f77722KI6vRJhaq7MEEjMF1VMrRsvvS3oNZuFtF7149GA0tnQgQgR5HYNOmTcjfg2Xj7siDDz5osX5PjLljsQS8IsYk0gzm5OSgjA1rRKMcPny4dTeH1ygUCgQYR3Iah0t2iEB5SE4ukKxGjoIKREAk0KsfMxY1T64tfDNpur/0n0jFvm2pEh5KDUO/JUSACPQcAoiqw2wpLBlp9/r27Stf+88///z555+zGs+KuSNfBSvDv4hkibDhGhoannrqqfz8fOs+Dq/R6/U4WMlyGzpceCcF/utf/8K3by2ErEZrJlTTown4BN6bqxKiNWLYnUHJgkqtrtfm7Zf2rAUhZtWDwT2aDi2eCBCBnkQgNzf3l19+wYovvfTSJUuWWCx99+7d2NVFJXxmkyZNsmj1rNdBgwY9/fTTiYliaN7XX389Li4uNDTUBUvAzj7mdcFE7Z0CGbptDqHbMDaxUGVPJqBYsLOqYI0U6Bu5p/OMJqMqIUNb91KwT08mQ2snAkSgawg0VuyOjYxcmrabJ6xygR4IQ5OeLt0MFIT777//yiuvtJiUb08jrTPMSotWj3uNj48fOXIk1MbCLWJSutVaRkgPV4m94pPXOLVAVqNT8ZJwzyTgPSRqefbFiw11dTXSU9fQdHHXxrhgP/LNe+YXSlr3IAK64u2b5kWGj5WeyNgVhaXGG75tYVBdujttRWxkuDQ8HFbazlO2zbTGw9tXRUaGR67YaevUSlt00BXvzI6dFympGR4ZOS9tZ6ntqSS9m86dytFo0nd/2yBbhq6iOG3pPONSoUt2YXUrImQD21hsbGzkefasA+78/vvvH3zwARPl6dvTbBWIUs4vpnz22WfwOLYRVJd0Y2YiPiulBzqgbPE4QzH6K+gMqiSzexDw8fMj12L3+CppFT2EQO2myEHxLNSqtGKtVqvJSU3SVK6eHmAXQdn22DFzxfsQpker3a9JT0wob9oYKPtTqa/Ylzxjcjo7tVI/2yqGaxt0QETYASy8l3EqrVbQaLQ31R+bJLuDZ1JD+mm8htebK1J7eNOgCfGyPqK2qZkp5SUr5drKOrS7yGPQIDANrFuL8bCrdDodKr28vDw05o7FivAaFRV1yy23fPLJJyjjdON9993n4+OOfwVgKDIDUb4EVimvcUaZfI3OoEoyiQARIAJEwNUEjm99nJmMMRlFlTU15YcKpECrQqoq/rAtl6C5fo1fFokmY8yafG1lVVVlyRq1UuqQvvn9Ct6zdOtS31EmkxG1vgI341ifNuigy442mowp+Qcqa7ClUVmytyAjY2UQi9TAJ2ul0Hj8cWYyKmOKtJU1VeUFLKisNvmJzNJWxrW9CfkDWZ5ADLF2NKKSb08jZs2QIUPaLtnNe27cuBF2MJRE6BkeANytdIZ1CH34JzcfUbDQ07rGokMHXslq7AA0GkIEiAARIALuRqB6V3QedFImFWXHTQvw9w8MjXpDmytpqdlzxO4+tc+dz2tPVDVkL58THDBkSMC45Zk5zOg8VnnOtFTdJ9HiOT91RpH2QIZYWW9qMf60r0Pjcc0iyRu65kDNyjmTAvz9/PwDxoVHxcVFsYgNzRIb9braWp1ONHj7mIf8qj74urhUQakpyp4WHOA/JDBq5bZctVileflDu0sV+9l7du3axboEBQXZdCVyq7F7bE9zHn/+85/nz5/PXhG78aeffuJN7lmA+Sh/oKTFq2PVJqvRsTxJGhEgAkSACHQBAUPFwWRp2qXzb+fT+wRPXSN5DEu+/EloLI2EE8nLK3brcVMHw75V4WJVeDZMM0VAcNAQ2Xak4orBUj/f3qbugmLq3qJD5fXb4qaN7t9cy5vt6yAIR4peE/ur8+Nayxeg27lqnlcf3wGDBg0Y4OsVuWpX6Sk+iyA0/ufN9yQhiVObfXyKu6NTxErtwdP2HasyYbaKiD5TVlbGWnAvBIQsev3www/HjxsxemIiQYvlWLz+/e9/ZzGGEHpmxYoVFq3u8wrr0FoZi0rmiXSg05GsRmvmVEMEiAARIAIeRqDh3FlJY7VyqMzyEwZcNUGs1hzR6n2uVceI5Zxo9e5q8Tii/nje5OT9KCQlTLM+T1i6NU3csRaEiImjpZ/48A4KnxYqpYwyZgMwNbCf9nUQdF/vFmdMUIX6CI211dWnTp2qrtaZH440FC69fVay5ExkcjXJs+amikVf9t704xnxWKXqFrOgDoqAQKlZ80VlZ83GPn36ZGdn9+/fPzw8nDve2Nzskzsar7jiihtvvFHe1A3KQ4cOZSF4sJZXX3316NGjnrso7nd01BLIanQUSZJDBIgAESACXUfAuIerN7fnfK67Sdq4rao3CD5RLxyQNp21EYk7DELtP9TRorqq3CTTXZna0sLs7CTg0XgAAB+FSURBVK1bszfFRo4NiRaNRtWaogeDrU3KFpZpV4fGk5+IRqOQPmtUuFefQUOHwgk0dOiAXl7hWw8bN5YNp95XSXdtlAkFNU2I5VBVkBRmnM+0IW70c14wW6vP0GBpqcKFJnMrtAVlW69G9Gn42/bu3WvzOgi3GqdNm2aRY7B1sZ7S+uSTTw4bNgzaIiClzWOdbrgQ5lDkbkUUeNmB2pLV6ECYJIoIEAEiQAS6lsDIfuZHAGtPi2455dgRounnN2l9QYKoX97cXl6DEqWWokw1twpPf7hy0aLo6EXxORqxDU+IcoTcdckq7X22qoNpMKxHZZhKFcbu3OyPnhBRKHlAT+wukLqo81Klk44+Q6JW7ylil11MY9nPwVeYZWoRGmolpZVDBrb9Wo25xLa9XbhwYd++faxv99ueZuuCxZyaKvl3BeGjjz5655132samC3rJrUOU4VzkxqK87CjNyGp0FEmSQwSIABEgAl1O4OR5Mwec0H+QaJZpj/3Idm0Do1ZksUsukqbq3LxpQ5qvQY+ciaiIRUWagqw1ScyaS44YE55W3M5V2dEB0lQpBZX1Tcf27dq171hNSa40l/aVd42mqjhd2C0yc9X79lmR1jqc+fm8WWWf/iPFd231WXlUR7MuDnmBFcWC8lxyySV33nmnQ2S6oZC5c+fyzfdly5bxG+VuqKorVWr+r8WVs9JcRMDFBHCaG6mx9uzZ45p5z507Z31+3DVT0yxEoGcTUAhmvkZDbU2VCGSowvTXzv/ehTGLNOzIonLu3cFyXH6BodPZ4cDpUbFx81eEjknVCvsT15f+ddI47pCUD7BdblmHJoEZrxGz7gkwaeQ/7v6lqmhkMRUuNIsLm3atfMKmJlkb79XbbKlCXU291OTby7RW3tOhBb49PXHiRD8/P4fKdiNh+H84ovDcfPPN0KmiomLTpk3YtnYj/UyqwKFoKoo/uaORlS1a5T07Vnbu71bHdKJRRMDhBJDoEzmvHC62FYF//OMfW2mlJiJABJxDQPvDGcO4AP6nTf/lfvEgoWp8kNEIM1RsXslMRlRrE1cXTtk4nfc2U8knKCk3IzUkHvF1fmk0CCYjz6yP7ZeWdVAMDFEK2P0+VXlGCAowjTZ5R43HFcXq/Qe/1gvNMb979ZK1mczLk2VVBiGYK687rZXOTKqU0m68Sbjjf77//vtMaDeLuWNNCmbx7Nmz33zzTTQ9//zzCxYswO0f624droH/srq6+q233uqwBPlAeXRJyGSvHRZeW1vb1GT6zZRNw3/fZHVUJALdjgBLL9btlkULIgJEwEhAMeJ67DxrBO17n5ZPDwgy1lYXvyxZUiE3DGc1hzOfgPsQG8AJCb7p6Rptuirz/rq4UNsOs6qyr6RRcN618LfS1zgP+9EGHRSB2I3WCqn5R1Kmcdu27tuTooB6+e0WTVlNs6XauOe112QzKcaHq8RkMunvlK+dFmRUzXD4jXyxj3LicLmXUjbMIcVvvvkGjjcmqrseapSDWrNmjUajQXJF7CAlJydnZmbKWztZ/lJ6nnjiiU7KcdJwaGctmc41WjOhGiJABIgAEfA0AoprI6UDizlzF+8s00F7g74sTa2Sjgqq7x7vL9ZU7JwgZY9R52/ZuDEzSVpi/IS1Fbhz3Fg6D6Ec03aWVYtj0be6dPtiY4LBwf7NdpgBBgQ8j43npS3j+gt6A6uRri3b18EnNEIK/5M3a8NuZnvpdq+KlwxZYfYtV2Pi0bdNlhRIf2LDbnE7u7F6+9K7VKmS8Ss1iH3CIqRizuLkQilsj6Fi94YI6ea1anGEuFSnPXx7evjw4cHBwU6bx10EBwQEIGIl0yYnJ+err9g/JByj3rhx4+655x4cEnXDZ9KkScj6Y2OdF+khAkSACBABItAVBBDYpV+/fo6auf6E5Gxjf+iU7DaL+JKkKZemqFrDItgoU6qk9/qSLNZXlXHoYn2JKbwN6mSDBSFlL+uOMQ35ajbC6lOVW89k2tEBMrTNMpSyiRI0DZKEixfr5Pd1zGZSZbFZLl6sl2vSvFQhqRzBehzxFBYWIk+gtSREcGQqxcbGWrd2y5r6+vrBg1nEdwG3fxy4Rhydcmercd26ddaLJV+j2X+S9EIEiAARIAIeSkARNKfmUL4xfbSW3UdWZRSdWC3dcGk8/m6i5LDLzUsYIq1QMe4hTYJocWl2HdYplFv25saomAFmHKwMiykoqVoZzrqLYy7tK7PQJCHGD8WlrNC6DmIfn+DcqgNJbCItm0iZlHWgfuN0U4gfv9g3yjPUzUasMibrwN4s84kVc3Kr8pOM9qdxqQkZJ+pXB7awl27Us3M/9Hp9cbHxRnlP2J5mtBQKBbLFsPIHH3zAj3V2jqWnjvaCIempupPeRIAIEAEi4MkEEPZvxowZv/zyi2MXgfzN2EQWvH38/MzusGAzGVabxRlFbDCjJ680NMI0YqMVfgqTIdd+/VrSgUtClmk2j8Lfz+Y0rIO3t8JParepvNCor9VjUYKPqKwjDcZ333130aJFVVVVXGEU3n777ZkzZ6LQu3fvuro6lnZP3qG7lhHrG7vJx44dwwLHjBkDa9+b/8Z0Ys3PPPMMZLLbNp0Q45ShiN+uUqmsz1w68pfMKYqTUCJABIgAESAC7SGg8JMdRJQN9Pa2YZ55+5hVesP+8mk+xigb3b5iSzpwKXbnsehgU3lYi/6O0JZr1XqBH2q8/fbbe47JCCbIf4MoPGx3/sSJE1lZWUuWLGmdVXdtpR3q7vrN0rqIABEgAkSACDiMAHYmi4qKmLiesz3N8YWFIZOPdN9KEJ577jmHO8j5RG5eIKvRzb8gUo8IEAEiQASIQNcTOHr06I8//sj06PaRGm3iXrt2LdJzo+ns2bMpKSk2+3RV5WWXXeaaqclqdA1nmoUIEAEiQASIgAcT4NvT11xzTWAgS6HjwcvpgOqjR49+7LHH2MDNmzd/9913HRDi8CGwF7nJKC87fCImkKxGJ4ElsUSACBABIkAEug8Bfne4B25P829x5cqVAwcOxCvyprhPgkGEe+QaOrtAVqOzCZN8IkAEiAARIAKeTeDnn3/+/PPP2Rp6stXYv3//v/3tb4wDQloiCIA7fK/c1+gCZchqdAFkmoIIEAEiQASIgAcTwD0YRJ/BAhC8EFlDPHglnVYd4c0RfIeJefzxxxmWTkvtuACeV4aLcKoRSZF3OGcqEAEiQASIgEsJNDQ0nD9/ftasWS6dlSZrAwFcfEHqRN6RH2q844472I0Q3tTTCojUuH79enYfCNEWX3nllYcffthNILhgq5qsRjf5rkkNIkAEiECPI6DT6QwGQ0UFy8jc45bvzgtGZBkc3WMa/v7773v27GHlnrw9zb+viIgIpBZEnhjUIFL37Nmz4YLlrd27QFZj9/5+aXVEgAgQAfclgEzHvr6+paWl7qtiT9WM5YZhqz948CDse5S9vLxgMPVUJGbr3rBhA7KIw54+c+bM6tWrU1NTzZrb9nLhwoWPP/74xhtvbFt3l/Y6efIk0sNYT0lWozUTqiECRIAIEAEiQASMBPj29A033HDllVcSFxC49tprccAxMzMT5fT0dJRHjBjRXjI4A4A9Zdhn7R3ogv7QDUat9URkNVozoRoiQASIABEgAkTASIBi7tj8VcBl6u3bt2MrHwZWYmJiB9JJ9+vXb8qUKTk5OTbld23lAw88gH0Aax3oDrU1E6ohAkSACBABIkAERALff//98ePHGQs61Cj/nbjiiiuSk5NZzY4dOz799FN5a3ctk9XYXb9ZWhcRIAJEgAgQgc4S4I5Gf3//8ePHd1Zc9xr/6KOPjho1iq1p6dKlSNXtgvVhK1y+G85e5TVO1YGsRqfiJeFEgAgQASJABDyYAD/UiHsw/+//kc1g9lVeeuml69atY1VHjhzZtm2bWbMzX5iZiM9K6cFUKFs8zpiffgOcQZVkEgEiQASIABHweAI4scfTn7AIhR6/JEcvQKVShYWFMakrVqxA/FFHz2BDHgxF1MJGlLexSnmNM8pkNTqDKskkAkSACBABIuDxBD766CNmBiG0NSIUevx6nLMAROFhXtiqqqq0tDTnTNIslVmH/JP5F9FsYUTarGmW0tESWY0dJUfjiAARIAJEgAh0awJ8e3rixIlIwdyt19rxxV1//fULFy5k49euXQvbseOy2j8S5qP8gQCL1/aLbG0EWY2t0aE2IkAEiAARIAI9lgC3Gml7uvXfgVWrVl1++eXoA9dsUlJS650d1Qrr0FqURSXzRFq7Ia0HtrGGrMY2gqJuRIAIEAEiQAR6EAFkFOQBqCnmTutf/B/+8AccamR98vLycDOm9f7OaGWmITcQmb3I/Y6OmpGsRkeRJDlEgAgQASJABLoPAZ4a5I9//ON1113XfRbmnJUg8k5AQABkI/4Oys6ZxIZUZh2yBpRhJuKTvcrLNkZ2qIqsxg5ho0FEgAgQASJABLo1AVygZuuj7em2fM8+Pj5r1qxhPRHxG3G/2zLK4/qQ1ehxXxkpTASIABEgAi0S0FUUpy2dFz5WesIjV2QXVhuNnxaHNDfoq3dvTYudF8mGR85bur34VHOrrNR4qnhV7Lzw8MidZXpZNSvqirdvMskYGxm7orC02qqPAD03rVjKZoKceUvTDrdDUUHQV+zctAIasIWKqu4rM1hP09EanM/77bff2Gjanm4jxdmzZ+PaEOuMHIPcWdvG4R3rxvag+VjuaEQNymjlTQ4pUB5qh2AkIUSACBABItD1BGoPbxo0IV6mh1a7X5OamVJesjLQ7p+7xuOxvkp5SmCtVqvJSz9SUL4xKlAmU78vO3nyonRWE3newlSr3RQ5KF7T3F0UkpOapKlcPV3cvmRP6dalIdFGCVKNVtivyRtw28WVoaYurf7UFUcOuFU2icBU3ZFxaFdc2yS0Kh6NX3zxBesCF1p4eLi97tRuJLBx48YJEyZgkxrmGspPPfWUy9BYGIgWrw5TA2ujhwgQASJABIiA6wns3bu3X79+Dpu3QatmfxuVMUXaypqq8oIUFatQZZTYnaWpPF/sHBaTv1dbVVNVojHuNgpCQnmTaXRdSQKTaPrMKKkztYk/tblGFWIyiiprasoPFRg1EFSH6o0d60uyjKNVKQdOVNbV1VWWlxRkZRSU1MhFtVxu2puklCSocg+cqG+oryk/kGSMM60qMc3S8vA2tUyePJkpiZQwbRpAnUwE1Grj74BCofjpp59M1TZ+zpgxo2/fvghp5IZPnz59HnnkEWul7f7jy/RfBv0kAkSACBABIuDGBKoPvp4nqqfUFGVPGyKWolZuy/3WNzpP0Lz8YXXcOKlOrLf5eAdGaEtOjB4X5CM1D5m+vCTjYIjoNjz5c4MQqBBr9d9+KHkIYZUuObVSuUju7hPbq3dhMmiQVJQdN02s8I96Q5vbRxktCJo9R6pDw6GC/q2Ni8SmsIyaXXH+Yknw8/MLCBwnFc0+DI16nb5R8PZGB9lf64bvvtainyojecGkIBQUgZOS161JDUk0G9yJF9gKJSUlTAAdamwvyNTU1LfeequhoUGv1z/zzDNbtmxpScKQIUMCAwNjY2Nb6tCF9XCUXnnlldYKyH4PrRuphggQASJABIiAZxBo/M+b74maqhOnNpuHirujU4S8ZEF78LReOLs9UjL0Ykrqs8dJVqBQvS986OT9ggCXYdw4v+BxfvK19hsyWHpV9DLV9rl6elHRbTdPC1UIjVtNlfynoeJgsvSydP7tvNIneOoapZCoFUq+/EmA1aj74jXJts3NjGEmI+8pLxhqSzc8/mRiHlRjjzKlIDcpapz8b7bmq7JGYRyzcRt+NfZrMg3ozE94yBB98JdffoEQOtTYXpLDhg1btmxZSkoKBr7yyiuPPfaYUsl8w5aS4GjHtevoaPyjwu2eN99809fX11otug1jzYRqiAARIAJEwOMINP14RvLA3RLMDCm2AEUAO5Ko+aJSP3oK2zrMiU7dLbXqtyaKJqMgJKmUZvaiWKcrTZuVIxZUk0czE1MQvP2CpokmIx4b5lnDubNii6BWDpWrMOCqCWKt5ogWF2f0J49KMyZMGuVj0NVWn8JTrdMbxB780R2OGhTCTMYwtVrafNYmzwp5dHuZ1EUx5S8xYiFn7l2rCnWQWbZz5q2SozFhYYhJVS6sAwU4mTIzMwcNGvTqq6+OHDmyAxJ6+JDly5fDjwgI//d//+fKKDwuwE5Wowsg0xREgAgQASLgdAK92QwXzOw5n6HBzFS80GTwCYw6lCGeM9SmRmytMOiK06X9ZCFLmxTAnHiG6sKt2Vu3bt20KnbsgBBmMxatn9lWS8zok9SbaSD4XHeTpEJVPWzDSmP85/RRUeG9BgwaimuuI4YO8O0VvnR7tdF0NOxeGyNtfav2Vjbs27Zt38W6ggTRdMyZm10h9Qmc83yWJHJ/smqAl5fvmFmwRJXqjMq10+XOyE4SR+7p+fPnd1JIzxx+2WWXYZ+arX3fvn2FhYXdhgNZjd3mq6SFEAEiQASIgDD4ir5mFBpqRQ+koBwysA9+hC5ez66zRI/qNeBWcT8ZZxBjg01mYcPpldGLsGMYn5wjjUJ7yIgB4sD2PCP78S1taVjtaVGYcuwI0zRSrUa09FRqFdu83J8+d+iy3aJN2KjNShX7JxVtCQ9gPku/qNR10q2a9OLyRmmwf+y2ctM9G6kChzhjooy2r7GCfnQlgXnz5oWEhDANnnzySSTa6UptHDc3WY2OY0mSiAARIAJEoKsJnPn5vJkKffpLO6za6rMNYr13YPKhDFmHmNykac2viqtzijRFRUUF+VlJambOJY8ZEFVc29ylDaWT580thP6DRFHaYz/KQjuqC0oqmy4e27Vt17GLNfkx0lzpWeIettCLGZepiY+vWIHtTelJ2nhSmrj+vLQKXelSr1GSP1KA3clUSr51aOSmYqO/klXRZ9cR8PLywoUSNv933323efPmrtPFkTOT1ehImiSLCBABIkAEuphAb3NHX11NvaSQby/j5q1fqEo6FSjVJs02XosxKu0XOm36tGnToubErt527IQmSarWrH+91Njeph8KwUwFQ21NlThuqAIaNF2QTEfV5HvGcc+g/4wli7ngxsrjeexFm5eamm568pjvs7e4iupVt4dIV7lVReX1sDub6rQsxJAm/tYN7bRw+bxUcDiBSZMmRUVFMbGrVq06e/asfIpvvvnGgQ5I7InLhTuvTFaj89iSZCJABIgAEXAdgQvSVCfLquT+Nt1prXT7RKU07Q+fKsyWDixKvVOXFp6SdzfTNmh6UpZ0FaX+nHibuM2P9oczcpn6L/eLKqjGB8GJ+IerpV3Lk6fP2BAnOhl9RgSppaaskqqGegRzlD8N2EzXH383WTIhc7XbpkkBgbz9glfuPMF23g8ePW1DMFV1EYG0tLTevcUDtzqd7rnnnuNaLFmyJCgoKCsri9d0uAB7kZuM8nKHBbY+kKzG1vlQKxEgAkSACHgEAcX4cHGvVpv+TnmzzWY4/Ea+qL1y4nC276s7HK8SrymExSRIO7taVfTLOrGHrcdQVSqZnELvVhw5cP4ZH8WI65nM9z4tN9XBM1j8siQk5IbhqBwwQvwUtMmfsostUr+6qlPST+kaTZPANrLLfmjyUSBQo/yRjjkat79VSn61G4O9B7PTlwoLV6sklz66igBuoCckMHtegI144sQJpklBQQEK9fViTPbO6/brr6bAS52XZU8CWY32CFE7ESACRIAIeAKB0WERkpo5i5MLdaLhaKjYvSEiXfTLqRZHSMERG3c+NUE6DhiTmb1xS5G0Ab1/UUqhaLQdz57nNTZ2Z3GZTrpwYtBXb09ezLySo4f1kySLH4ZG8TEY9PXSznfjr3pWJU6ouDZSMhtz5i7eWSbaogZ9WZpaJXkG1XePF1XwGTWB7Y/PfWJDhWQe6soKF0dI921VkVfDtFWM/osaHYV0VXxhmelApUFfcbhw6/bDUK1XP2b/ap5cW1grzio+Ffu2sSu7zOJklfTpDgRWrFiBGEbQxGAw4FoMU4nn+HaIhtzX6BBpdoRYp4uhGiJABIgAESACLiDg4IyCF+vzJXuL/dljl1mkchJLCVhzYA1rStlbJa2uLksy8mBVHqq7WJIh7UZLPczCMivXsN4Y0nAil0mw/szVin6j+hOSa5M1y2I7J2nKOU+edRC9ZF2UBeUNrE9DueiIMj7KMFUYV2yNlL6wPteotthFhYCOzUuN0Rpl8Nk6WECwGEQc7OBgGmZOIDs72/R1Ch988AEakWyQ1SCIOjyFjnr4LJ0XiEOZ69atM1+H+Ea+Rg6ZCkSACBABIuDRBBRzcqvyk4yWo+ThE1QJGSfqVweK28j699ZLobDVuQliZj88fg9laCSLS3P4pE45b0tuCrvMLGi1bLQyZk1BVcly1lsc0etS8dPmI92AUQTNqTmUb7x+bRSiyig6sXo6CzYujgxesOVQLrtng4nEGqUqaW/lJ1GBxtjgiCtZX743gcXk0e7XSMcilWHqDE2EZGsoFuysKlhjvNKjycvbLwnBSrV1L5mFOBdl09P1BB566KHg4GCmx+OPP/679DhDLW4sOkM4k+kFy9F50kkyESACRIAIEIGWCCAA8owZM1jmupb6dKS+UV+L9M3YDlb4KXyazx1K28uCj1mNuHGIrj7evJsB6YOxBY3szzhVaLTj2q+EXlcLGYK3j5+feHXaxmNo1Ek5YbwlLW10EDe4dTomBb4pC7XFAZIEcZNaUtX2NDYF26989913Fy1aVFUl3f623516WBLA9Zdnn322T58+TzzxBHaoP/zwwzvuuIN1Qt4dHHZkm9TwNe7YscNysBu8I5KASqWC8ha6OPS3zEI2vRIBIkAEiAARcD0BH4W/j3EH0Hxybx9rM9Db27zOWwFb0+Zoc1mtvyn8/O3IgEHpbz6zlUQYg61KgUlqR4KVSKpwEQHkoX7xxRcxGbanYT7i0vS9994LWxw1ycnJOOPI9IBd/sYbb7hIp/ZMU1NTY7M7WY02sVAlESACRIAIEAEiQAQ6SKB///5s5Llz57ArnZOTA7/d7t27EaPx559/5kJPnjy5bNky/upWhb59zdMsScqR1ehW3xEpQwSIABEgAkSACHg8gaeffhrHF9euXYsb91hMWVnZI488gkA8MBPla0M0xz//+c/yGjcpHzp06Px58zRLkmZkNbrJF0RqEAEiQASIABEgAt2EgLe3NzapFy5ciGg7b731FluVhcmIyrFjx+KYoxuu+YEHHrCpFd2htomFKokAESACRIAIEAEi0CkCI0aM2LlzJ2598TvUnRLnBoPJanSDL4FUIAJEgAgQASJABLopgbCwsKNHj27evHnAgAGdXyIsUTxcDnuV1/AmZxTIanQGVZJJBIgAESACRIAIEAEjgUsuueTRRx/97rvvFi9e/P/+nwNML2Ym4rNSejANyhaPM+jTuUZnUCWZRIAIEAEi0CYCOHE/f/78NnWlTi4k8MMPP7hwtp4yFXyNL730EgJh4jl48GCHlw1DkRmIcgmsUl7jjDJZjc6gSjKJABEgAkTAPgFcBYiLi+Ox6+wPoB6uIgD7BgHYXTVbz5oHZxw//fRTXJFBzhgvL6/2Lh7WIYYwG1FuKcKOtBCFGnSwqOzkK1mNnQRIw4kAESACRKCDBAYOHIhctx0cTMOIgCcTmDlz5pEjR3DesZOLsLALnWEpyjUkq1FOg8pEgAgQASJABIgAEXAFAUTn6cw0FvYiE2VRyR2QFvUdnrdTGnd4VhpIBIgAESACRIAIEAEi4CgCzMvIfY3MXnSUsciVdMBFHi6LCkSACBABIkAEiAARIAIuIwDrkBmImBEFmIn8VV52lD5kNTqKJMkhAkSACBABIkAEiEB3JkA71N3526W1EQEiQASIABEgAt2YgMUeNHc0YskoW7R2ngNZjZ1nSBKIABEgAkSACBABItA+AhcvXvz111/Ly8vbN6yF3h9++CFvgUz22mHhCKQK9bhAXiCrkaOgAhEgAkSACBABIkAEXESgpKQEgRunTJniovnaOc21115rPYKsRmsmVEMEiAARIAJEgAgQAecSGDduHELcZ2ZmOneaDkmfN2/eDTfcYD2UrEZrJlRDBIgAESACRIAIEAHnEkBC6j59+gwbNsy503RIeu/evW3my6Y71B3CSYOIABEgAkSACBABItDDCJDV2MO+cFouESACRIAIEAEiQAQ6RICsxg5ho0FEgAgQASJABIgAEehhBMhq7GFfOC2XCBABIkAEiAARIAIdIkBWY4ew0SAiQASIABEgAkSACLgHgcsuu8w1itAdatdwplmIABEgAkSACBABIuBgAnJ7kZUROdzBc8jEka9RBoOKRIAIEAEiQASIABHwKAJONRMtSJDVaAGEXokAESACRIAIEAEi4DEE5O5GZytNO9TOJkzyiQARIAJEgAgQASLgFALWjkYYkdaVjpqbrEZHkSQ5RIAIEAEiQASIABHoMgLOMxb5kmiHmqOgAhEgAkSACBABIkAEiECLBMjX2CIaaiACRIAIEAEiQASIgPMIHD169OGHH3ae/A5L/uabb2yOJavRJhaqJAJEgAgQASJABIiAEwmoVKr//e9/TpygE6LnzJlz5513WgvwunjxonUt1RABIkAEiAARIAJEgAgQATkBOtcop0FlIkAEiAARIAJEgAgQAdsEyGq0zYVqiQARIAJEgAgQASJABOQEyGqU06AyESACRIAIEAEiQASIgG0CZDXa5kK1RIAIEAEiQASIABEgAnIC/x8z/3YL3VenhgAAAABJRU5ErkJggg==)"
   ]
  },
  {
   "cell_type": "markdown",
   "metadata": {
    "id": "amCx4qTuG8O_"
   },
   "source": [
    "At the implementation level, the array essentially contains a single pointer to one contiguous block of data.\n",
    "\n",
    "The Python list, on the other hand, contains a pointer to a block of pointers, each of which in turn points to a full Python object.\n",
    "\n",
    "Again, the advantage of the list is flexibility: because each list element is a full structure containing both data and type information, the list can be filled with data of any desired type.\n",
    "Fixed-type NumPy-style arrays lack this flexibility, but are much more efficient for storing and manipulating data."
   ]
  },
  {
   "cell_type": "code",
   "execution_count": 25,
   "metadata": {
    "executionInfo": {
     "elapsed": 2194,
     "status": "ok",
     "timestamp": 1621352924754,
     "user": {
      "displayName": "Vincenzo Nardelli",
      "photoUrl": "https://lh3.googleusercontent.com/a-/AOh14GjPK26_e6OTwkTbx-Bj4I8qLqir6RkknYKsq2GM=s64",
      "userId": "12315026942894680720"
     },
     "user_tz": -120
    },
    "id": "JmhZpZ2z1HcJ",
    "jupyter": {
     "outputs_hidden": false
    }
   },
   "outputs": [],
   "source": [
    "import numpy as np"
   ]
  },
  {
   "cell_type": "markdown",
   "metadata": {
    "id": "8ipdVA1y1HcJ"
   },
   "source": [
    "## Creating Arrays from Python Lists"
   ]
  },
  {
   "cell_type": "code",
   "execution_count": 26,
   "metadata": {
    "colab": {
     "base_uri": "https://localhost:8080/"
    },
    "executionInfo": {
     "elapsed": 2188,
     "status": "ok",
     "timestamp": 1621352924754,
     "user": {
      "displayName": "Vincenzo Nardelli",
      "photoUrl": "https://lh3.googleusercontent.com/a-/AOh14GjPK26_e6OTwkTbx-Bj4I8qLqir6RkknYKsq2GM=s64",
      "userId": "12315026942894680720"
     },
     "user_tz": -120
    },
    "id": "QQsTF-IV1HcL",
    "jupyter": {
     "outputs_hidden": false
    },
    "outputId": "e9f8327a-0a88-41c6-e2f1-c2603fdd15a7"
   },
   "outputs": [
    {
     "data": {
      "text/plain": [
       "array([1, 4, 2, 5, 3])"
      ]
     },
     "execution_count": 26,
     "metadata": {},
     "output_type": "execute_result"
    }
   ],
   "source": [
    "# integer array:\n",
    "np.array([1, 4, 2, 5, 3])"
   ]
  },
  {
   "cell_type": "code",
   "execution_count": 27,
   "metadata": {
    "colab": {
     "base_uri": "https://localhost:8080/"
    },
    "executionInfo": {
     "elapsed": 2184,
     "status": "ok",
     "timestamp": 1621352924755,
     "user": {
      "displayName": "Vincenzo Nardelli",
      "photoUrl": "https://lh3.googleusercontent.com/a-/AOh14GjPK26_e6OTwkTbx-Bj4I8qLqir6RkknYKsq2GM=s64",
      "userId": "12315026942894680720"
     },
     "user_tz": -120
    },
    "id": "AXDymFMY1HcL",
    "jupyter": {
     "outputs_hidden": false
    },
    "outputId": "1d765214-457b-4508-b4b5-80831b134ac6"
   },
   "outputs": [
    {
     "data": {
      "text/plain": [
       "array([3.14, 4.  , 2.  , 3.  ])"
      ]
     },
     "execution_count": 27,
     "metadata": {},
     "output_type": "execute_result"
    }
   ],
   "source": [
    "np.array([3.14, 4, 2, 3])"
   ]
  },
  {
   "cell_type": "code",
   "execution_count": 28,
   "metadata": {
    "colab": {
     "base_uri": "https://localhost:8080/"
    },
    "executionInfo": {
     "elapsed": 2180,
     "status": "ok",
     "timestamp": 1621352924755,
     "user": {
      "displayName": "Vincenzo Nardelli",
      "photoUrl": "https://lh3.googleusercontent.com/a-/AOh14GjPK26_e6OTwkTbx-Bj4I8qLqir6RkknYKsq2GM=s64",
      "userId": "12315026942894680720"
     },
     "user_tz": -120
    },
    "id": "7YzELOTV1HcL",
    "jupyter": {
     "outputs_hidden": false
    },
    "outputId": "8dc1db3c-6444-4cda-9a1c-3aaef8a3c526"
   },
   "outputs": [
    {
     "data": {
      "text/plain": [
       "array([1., 2., 3., 4.], dtype=float32)"
      ]
     },
     "execution_count": 28,
     "metadata": {},
     "output_type": "execute_result"
    }
   ],
   "source": [
    "np.array([1, 2, 3, 4], dtype='float32')"
   ]
  },
  {
   "cell_type": "code",
   "execution_count": 29,
   "metadata": {
    "colab": {
     "base_uri": "https://localhost:8080/"
    },
    "executionInfo": {
     "elapsed": 2176,
     "status": "ok",
     "timestamp": 1621352924755,
     "user": {
      "displayName": "Vincenzo Nardelli",
      "photoUrl": "https://lh3.googleusercontent.com/a-/AOh14GjPK26_e6OTwkTbx-Bj4I8qLqir6RkknYKsq2GM=s64",
      "userId": "12315026942894680720"
     },
     "user_tz": -120
    },
    "id": "h1__UhxK1HcL",
    "jupyter": {
     "outputs_hidden": false
    },
    "outputId": "a61e8720-8830-424b-b4f0-747ce69aa1bd"
   },
   "outputs": [
    {
     "data": {
      "text/plain": [
       "array([[2, 3, 4],\n",
       "       [4, 5, 6],\n",
       "       [6, 7, 8]])"
      ]
     },
     "execution_count": 29,
     "metadata": {},
     "output_type": "execute_result"
    }
   ],
   "source": [
    "# nested lists result in multi-dimensional arrays\n",
    "np.array([range(i, i + 3) for i in [2, 4, 6]])"
   ]
  },
  {
   "cell_type": "markdown",
   "metadata": {
    "id": "KWq4h3o91HcM"
   },
   "source": [
    "## Creating Arrays from Scratch"
   ]
  },
  {
   "cell_type": "markdown",
   "metadata": {
    "id": "cENkD49dG8PB"
   },
   "source": [
    "Create a length-10 integer array filled with zeros"
   ]
  },
  {
   "cell_type": "code",
   "execution_count": 30,
   "metadata": {
    "colab": {
     "base_uri": "https://localhost:8080/"
    },
    "executionInfo": {
     "elapsed": 2172,
     "status": "ok",
     "timestamp": 1621352924756,
     "user": {
      "displayName": "Vincenzo Nardelli",
      "photoUrl": "https://lh3.googleusercontent.com/a-/AOh14GjPK26_e6OTwkTbx-Bj4I8qLqir6RkknYKsq2GM=s64",
      "userId": "12315026942894680720"
     },
     "user_tz": -120
    },
    "id": "uewNuifw1HcN",
    "jupyter": {
     "outputs_hidden": false
    },
    "outputId": "cf1270e2-1a77-48b7-9f85-36a1834f0292"
   },
   "outputs": [
    {
     "data": {
      "text/plain": [
       "array([0, 0, 0, 0, 0, 0, 0, 0, 0, 0])"
      ]
     },
     "execution_count": 30,
     "metadata": {},
     "output_type": "execute_result"
    }
   ],
   "source": [
    "np.zeros(10, dtype=int)"
   ]
  },
  {
   "cell_type": "markdown",
   "metadata": {
    "id": "PEvf0wodG8PB"
   },
   "source": [
    "Create a 3x5 floating-point array filled with ones"
   ]
  },
  {
   "cell_type": "code",
   "execution_count": 31,
   "metadata": {
    "colab": {
     "base_uri": "https://localhost:8080/"
    },
    "executionInfo": {
     "elapsed": 2168,
     "status": "ok",
     "timestamp": 1621352924756,
     "user": {
      "displayName": "Vincenzo Nardelli",
      "photoUrl": "https://lh3.googleusercontent.com/a-/AOh14GjPK26_e6OTwkTbx-Bj4I8qLqir6RkknYKsq2GM=s64",
      "userId": "12315026942894680720"
     },
     "user_tz": -120
    },
    "id": "nGCruCJo1HcN",
    "jupyter": {
     "outputs_hidden": false
    },
    "outputId": "23c6e1d4-3a17-46ae-bef2-d5c8f6655649"
   },
   "outputs": [
    {
     "data": {
      "text/plain": [
       "array([[1., 1., 1., 1., 1.],\n",
       "       [1., 1., 1., 1., 1.],\n",
       "       [1., 1., 1., 1., 1.]])"
      ]
     },
     "execution_count": 31,
     "metadata": {},
     "output_type": "execute_result"
    }
   ],
   "source": [
    "np.ones((3, 5), dtype=float)"
   ]
  },
  {
   "cell_type": "markdown",
   "metadata": {
    "id": "YI5Zei1NG8PB"
   },
   "source": [
    "Create an array filled with a linear sequence\n",
    "Starting at 0, ending at 20, stepping by 2"
   ]
  },
  {
   "cell_type": "code",
   "execution_count": 32,
   "metadata": {
    "colab": {
     "base_uri": "https://localhost:8080/"
    },
    "executionInfo": {
     "elapsed": 2165,
     "status": "ok",
     "timestamp": 1621352924757,
     "user": {
      "displayName": "Vincenzo Nardelli",
      "photoUrl": "https://lh3.googleusercontent.com/a-/AOh14GjPK26_e6OTwkTbx-Bj4I8qLqir6RkknYKsq2GM=s64",
      "userId": "12315026942894680720"
     },
     "user_tz": -120
    },
    "id": "YrFzaaku1HcO",
    "jupyter": {
     "outputs_hidden": false
    },
    "outputId": "7553f04b-d98d-4cc1-9c40-c48fc4f9003e"
   },
   "outputs": [
    {
     "data": {
      "text/plain": [
       "array([ 0,  2,  4,  6,  8, 10, 12, 14, 16, 18])"
      ]
     },
     "execution_count": 32,
     "metadata": {},
     "output_type": "execute_result"
    }
   ],
   "source": [
    "np.arange(0, 20, 2)"
   ]
  },
  {
   "cell_type": "markdown",
   "metadata": {
    "id": "LsQANwf5G8PC"
   },
   "source": [
    "Create an array of five values evenly spaced between 0 and 1"
   ]
  },
  {
   "cell_type": "code",
   "execution_count": 33,
   "metadata": {
    "colab": {
     "base_uri": "https://localhost:8080/"
    },
    "executionInfo": {
     "elapsed": 2161,
     "status": "ok",
     "timestamp": 1621352924757,
     "user": {
      "displayName": "Vincenzo Nardelli",
      "photoUrl": "https://lh3.googleusercontent.com/a-/AOh14GjPK26_e6OTwkTbx-Bj4I8qLqir6RkknYKsq2GM=s64",
      "userId": "12315026942894680720"
     },
     "user_tz": -120
    },
    "id": "UZe2EyMI1HcO",
    "jupyter": {
     "outputs_hidden": false
    },
    "outputId": "2ff378f1-5e48-4bb7-aed9-86a31be4e254"
   },
   "outputs": [
    {
     "data": {
      "text/plain": [
       "array([0.  , 0.25, 0.5 , 0.75, 1.  ])"
      ]
     },
     "execution_count": 33,
     "metadata": {},
     "output_type": "execute_result"
    }
   ],
   "source": [
    "np.linspace(0, 1, 5)"
   ]
  },
  {
   "cell_type": "markdown",
   "metadata": {
    "id": "8s2dyghnG8PC"
   },
   "source": [
    "Create a 3x3 array of normally distributed random values with mean 0 and standard deviation 1"
   ]
  },
  {
   "cell_type": "code",
   "execution_count": 34,
   "metadata": {
    "colab": {
     "base_uri": "https://localhost:8080/"
    },
    "executionInfo": {
     "elapsed": 2154,
     "status": "ok",
     "timestamp": 1621352924757,
     "user": {
      "displayName": "Vincenzo Nardelli",
      "photoUrl": "https://lh3.googleusercontent.com/a-/AOh14GjPK26_e6OTwkTbx-Bj4I8qLqir6RkknYKsq2GM=s64",
      "userId": "12315026942894680720"
     },
     "user_tz": -120
    },
    "id": "Wn72LdP31HcP",
    "jupyter": {
     "outputs_hidden": false
    },
    "outputId": "80a00819-f251-4bbb-f35b-5779d5da42d5"
   },
   "outputs": [
    {
     "data": {
      "text/plain": [
       "array([[ 0.35386684,  1.55088531,  0.36888147],\n",
       "       [-3.01569558,  1.36439555, -1.9180242 ],\n",
       "       [-0.30998777, -1.34181205, -0.37788369]])"
      ]
     },
     "execution_count": 34,
     "metadata": {},
     "output_type": "execute_result"
    }
   ],
   "source": [
    "np.random.normal(0, 1, (3, 3))"
   ]
  },
  {
   "cell_type": "markdown",
   "metadata": {
    "id": "66mP0fgUG8PD"
   },
   "source": [
    "Create a 3x3 identity matrix"
   ]
  },
  {
   "cell_type": "code",
   "execution_count": 35,
   "metadata": {
    "colab": {
     "base_uri": "https://localhost:8080/"
    },
    "executionInfo": {
     "elapsed": 2151,
     "status": "ok",
     "timestamp": 1621352924758,
     "user": {
      "displayName": "Vincenzo Nardelli",
      "photoUrl": "https://lh3.googleusercontent.com/a-/AOh14GjPK26_e6OTwkTbx-Bj4I8qLqir6RkknYKsq2GM=s64",
      "userId": "12315026942894680720"
     },
     "user_tz": -120
    },
    "id": "ugm0neyk1HcP",
    "jupyter": {
     "outputs_hidden": false
    },
    "outputId": "535cbc86-e79e-4857-d55b-6e155167da97"
   },
   "outputs": [
    {
     "data": {
      "text/plain": [
       "array([[1., 0., 0.],\n",
       "       [0., 1., 0.],\n",
       "       [0., 0., 1.]])"
      ]
     },
     "execution_count": 35,
     "metadata": {},
     "output_type": "execute_result"
    }
   ],
   "source": [
    "np.eye(3)"
   ]
  },
  {
   "cell_type": "markdown",
   "metadata": {
    "id": "t99ZnTiK1HcQ"
   },
   "source": [
    "## NumPy Standard Data Types\n",
    "\n",
    "Because NumPy is built in C, the types will be familiar to users of C, Fortran, and other related languages."
   ]
  },
  {
   "cell_type": "code",
   "execution_count": 36,
   "metadata": {
    "colab": {
     "base_uri": "https://localhost:8080/"
    },
    "executionInfo": {
     "elapsed": 2147,
     "status": "ok",
     "timestamp": 1621352924758,
     "user": {
      "displayName": "Vincenzo Nardelli",
      "photoUrl": "https://lh3.googleusercontent.com/a-/AOh14GjPK26_e6OTwkTbx-Bj4I8qLqir6RkknYKsq2GM=s64",
      "userId": "12315026942894680720"
     },
     "user_tz": -120
    },
    "id": "bVj2StSWG8PE",
    "outputId": "f9ae777f-e00f-4294-c5bf-00b790655b56"
   },
   "outputs": [
    {
     "data": {
      "text/plain": [
       "array([0, 0, 0, 0, 0, 0, 0, 0, 0, 0], dtype=int16)"
      ]
     },
     "execution_count": 36,
     "metadata": {},
     "output_type": "execute_result"
    }
   ],
   "source": [
    "np.zeros(10, dtype=np.int16)"
   ]
  },
  {
   "cell_type": "markdown",
   "metadata": {
    "id": "3pK3I82S1HcR"
   },
   "source": [
    "| Data type\t    | Description |\n",
    "|---------------|-------------|\n",
    "| ``bool_``     | Boolean (True or False) stored as a byte |\n",
    "| ``int_``      | Default integer type (same as C ``long``; normally either ``int64`` or ``int32``)| \n",
    "| ``intc``      | Identical to C ``int`` (normally ``int32`` or ``int64``)| \n",
    "| ``intp``      | Integer used for indexing (same as C ``ssize_t``; normally either ``int32`` or ``int64``)| \n",
    "| ``int8``      | Byte (-128 to 127)| \n",
    "| ``int16``     | Integer (-32768 to 32767)|\n",
    "| ``int32``     | Integer (-2147483648 to 2147483647)|\n",
    "| ``int64``     | Integer (-9223372036854775808 to 9223372036854775807)| \n",
    "| ``uint8``     | Unsigned integer (0 to 255)| \n",
    "| ``uint16``    | Unsigned integer (0 to 65535)| \n",
    "| ``uint32``    | Unsigned integer (0 to 4294967295)| \n",
    "| ``uint64``    | Unsigned integer (0 to 18446744073709551615)| \n",
    "| ``float_``    | Shorthand for ``float64``.| \n",
    "| ``float16``   | Half precision float: sign bit, 5 bits exponent, 10 bits mantissa| \n",
    "| ``float32``   | Single precision float: sign bit, 8 bits exponent, 23 bits mantissa| \n",
    "| ``float64``   | Double precision float: sign bit, 11 bits exponent, 52 bits mantissa| \n",
    "| ``complex_``  | Shorthand for ``complex128``.| \n",
    "| ``complex64`` | Complex number, represented by two 32-bit floats| \n",
    "| ``complex128``| Complex number, represented by two 64-bit floats| "
   ]
  },
  {
   "cell_type": "markdown",
   "metadata": {
    "id": "JB3MJbGK1HcR"
   },
   "source": [
    "## Array Attributes"
   ]
  },
  {
   "cell_type": "markdown",
   "metadata": {
    "id": "bketJoJfG8PE"
   },
   "source": [
    "One-dimensional array"
   ]
  },
  {
   "cell_type": "code",
   "execution_count": 37,
   "metadata": {
    "colab": {
     "base_uri": "https://localhost:8080/"
    },
    "executionInfo": {
     "elapsed": 2144,
     "status": "ok",
     "timestamp": 1621352924759,
     "user": {
      "displayName": "Vincenzo Nardelli",
      "photoUrl": "https://lh3.googleusercontent.com/a-/AOh14GjPK26_e6OTwkTbx-Bj4I8qLqir6RkknYKsq2GM=s64",
      "userId": "12315026942894680720"
     },
     "user_tz": -120
    },
    "id": "180ppYcA1HcR",
    "jupyter": {
     "outputs_hidden": false
    },
    "outputId": "d94b257d-f826-489e-de5a-1fe832a93208"
   },
   "outputs": [
    {
     "data": {
      "text/plain": [
       "array([5, 0, 3, 3, 7, 9])"
      ]
     },
     "execution_count": 37,
     "metadata": {},
     "output_type": "execute_result"
    }
   ],
   "source": [
    "np.random.seed(0)\n",
    "\n",
    "x1 = np.random.randint(10, size=6) \n",
    "x1"
   ]
  },
  {
   "cell_type": "markdown",
   "metadata": {
    "id": "wqQbKTeJG8PF"
   },
   "source": [
    "Two-dimensional array"
   ]
  },
  {
   "cell_type": "code",
   "execution_count": 38,
   "metadata": {
    "colab": {
     "base_uri": "https://localhost:8080/"
    },
    "executionInfo": {
     "elapsed": 2140,
     "status": "ok",
     "timestamp": 1621352924759,
     "user": {
      "displayName": "Vincenzo Nardelli",
      "photoUrl": "https://lh3.googleusercontent.com/a-/AOh14GjPK26_e6OTwkTbx-Bj4I8qLqir6RkknYKsq2GM=s64",
      "userId": "12315026942894680720"
     },
     "user_tz": -120
    },
    "id": "cuwhvZe51HcS",
    "outputId": "f674addd-1315-450a-dc7b-08cdd9453c19"
   },
   "outputs": [
    {
     "data": {
      "text/plain": [
       "array([[3, 5, 2, 4],\n",
       "       [7, 6, 8, 8],\n",
       "       [1, 6, 7, 7]])"
      ]
     },
     "execution_count": 38,
     "metadata": {},
     "output_type": "execute_result"
    }
   ],
   "source": [
    "x2 = np.random.randint(10, size=(3, 4))\n",
    "x2"
   ]
  },
  {
   "cell_type": "markdown",
   "metadata": {
    "id": "XMMJ4IMXG8PF"
   },
   "source": [
    "Three-dimensional array"
   ]
  },
  {
   "cell_type": "code",
   "execution_count": 39,
   "metadata": {
    "colab": {
     "base_uri": "https://localhost:8080/"
    },
    "executionInfo": {
     "elapsed": 2134,
     "status": "ok",
     "timestamp": 1621352924759,
     "user": {
      "displayName": "Vincenzo Nardelli",
      "photoUrl": "https://lh3.googleusercontent.com/a-/AOh14GjPK26_e6OTwkTbx-Bj4I8qLqir6RkknYKsq2GM=s64",
      "userId": "12315026942894680720"
     },
     "user_tz": -120
    },
    "id": "pabRBAv01HcS",
    "outputId": "b499d6cf-1d75-4d7a-b1e8-a7e5aaf33129"
   },
   "outputs": [
    {
     "data": {
      "text/plain": [
       "array([[[8, 1, 5, 9, 8],\n",
       "        [9, 4, 3, 0, 3],\n",
       "        [5, 0, 2, 3, 8],\n",
       "        [1, 3, 3, 3, 7]],\n",
       "\n",
       "       [[0, 1, 9, 9, 0],\n",
       "        [4, 7, 3, 2, 7],\n",
       "        [2, 0, 0, 4, 5],\n",
       "        [5, 6, 8, 4, 1]],\n",
       "\n",
       "       [[4, 9, 8, 1, 1],\n",
       "        [7, 9, 9, 3, 6],\n",
       "        [7, 2, 0, 3, 5],\n",
       "        [9, 4, 4, 6, 4]]])"
      ]
     },
     "execution_count": 39,
     "metadata": {},
     "output_type": "execute_result"
    }
   ],
   "source": [
    "x3 = np.random.randint(10, size=(3, 4, 5))  # Three-dimensional array\n",
    "x3"
   ]
  },
  {
   "cell_type": "markdown",
   "metadata": {
    "id": "lzxify5V1HcS"
   },
   "source": [
    "Each array has attributes ``ndim`` (the number of dimensions), ``shape`` (the size of each dimension), and ``size`` (the total size of the array):"
   ]
  },
  {
   "cell_type": "code",
   "execution_count": 40,
   "metadata": {
    "colab": {
     "base_uri": "https://localhost:8080/"
    },
    "executionInfo": {
     "elapsed": 2131,
     "status": "ok",
     "timestamp": 1621352924760,
     "user": {
      "displayName": "Vincenzo Nardelli",
      "photoUrl": "https://lh3.googleusercontent.com/a-/AOh14GjPK26_e6OTwkTbx-Bj4I8qLqir6RkknYKsq2GM=s64",
      "userId": "12315026942894680720"
     },
     "user_tz": -120
    },
    "id": "SHDES1Gf1HcS",
    "jupyter": {
     "outputs_hidden": false
    },
    "outputId": "5bdcf4e9-ae84-460d-f47e-db9cb98d0641"
   },
   "outputs": [
    {
     "name": "stdout",
     "output_type": "stream",
     "text": [
      "x3 ndim:  3\n",
      "x3 shape: (3, 4, 5)\n",
      "x3 size:  60\n"
     ]
    }
   ],
   "source": [
    "print(\"x3 ndim: \", x3.ndim)\n",
    "print(\"x3 shape:\", x3.shape)\n",
    "print(\"x3 size: \", x3.size)"
   ]
  },
  {
   "cell_type": "markdown",
   "metadata": {
    "id": "NZK8beMi1HcT"
   },
   "source": [
    "Another useful attribute is the ``dtype``, the data type of the array (which we discussed previously in [Understanding Data Types in Python](02.01-Understanding-Data-Types.ipynb)):"
   ]
  },
  {
   "cell_type": "code",
   "execution_count": 41,
   "metadata": {
    "colab": {
     "base_uri": "https://localhost:8080/"
    },
    "executionInfo": {
     "elapsed": 2375,
     "status": "ok",
     "timestamp": 1621352925009,
     "user": {
      "displayName": "Vincenzo Nardelli",
      "photoUrl": "https://lh3.googleusercontent.com/a-/AOh14GjPK26_e6OTwkTbx-Bj4I8qLqir6RkknYKsq2GM=s64",
      "userId": "12315026942894680720"
     },
     "user_tz": -120
    },
    "id": "gJixb97H1HcT",
    "jupyter": {
     "outputs_hidden": false
    },
    "outputId": "88af3a06-1803-4b06-c4d2-19328b6dbae6"
   },
   "outputs": [
    {
     "name": "stdout",
     "output_type": "stream",
     "text": [
      "dtype: int64\n"
     ]
    }
   ],
   "source": [
    "print(\"dtype:\", x3.dtype)"
   ]
  },
  {
   "cell_type": "markdown",
   "metadata": {
    "id": "hKoP8fPt1HcU"
   },
   "source": [
    "## Array Indexing"
   ]
  },
  {
   "cell_type": "markdown",
   "metadata": {
    "id": "_6YTMgJK1HcU"
   },
   "source": [
    "In a one-dimensional array, the $i^{th}$ value (counting from zero) can be accessed by specifying the desired index in square brackets, just as with Python lists:"
   ]
  },
  {
   "cell_type": "code",
   "execution_count": 42,
   "metadata": {
    "colab": {
     "base_uri": "https://localhost:8080/"
    },
    "executionInfo": {
     "elapsed": 2367,
     "status": "ok",
     "timestamp": 1621352925009,
     "user": {
      "displayName": "Vincenzo Nardelli",
      "photoUrl": "https://lh3.googleusercontent.com/a-/AOh14GjPK26_e6OTwkTbx-Bj4I8qLqir6RkknYKsq2GM=s64",
      "userId": "12315026942894680720"
     },
     "user_tz": -120
    },
    "id": "ZAgQEQ1-1HcV",
    "jupyter": {
     "outputs_hidden": false
    },
    "outputId": "36914c00-aadd-4b8e-e1b3-094ceb36485b"
   },
   "outputs": [
    {
     "data": {
      "text/plain": [
       "array([5, 0, 3, 3, 7, 9])"
      ]
     },
     "execution_count": 42,
     "metadata": {},
     "output_type": "execute_result"
    }
   ],
   "source": [
    "x1"
   ]
  },
  {
   "cell_type": "code",
   "execution_count": 43,
   "metadata": {
    "colab": {
     "base_uri": "https://localhost:8080/"
    },
    "executionInfo": {
     "elapsed": 2362,
     "status": "ok",
     "timestamp": 1621352925009,
     "user": {
      "displayName": "Vincenzo Nardelli",
      "photoUrl": "https://lh3.googleusercontent.com/a-/AOh14GjPK26_e6OTwkTbx-Bj4I8qLqir6RkknYKsq2GM=s64",
      "userId": "12315026942894680720"
     },
     "user_tz": -120
    },
    "id": "bNidF-nX1HcV",
    "jupyter": {
     "outputs_hidden": false
    },
    "outputId": "e288c28c-f1fa-4db0-eec8-98909dc3ecf2"
   },
   "outputs": [
    {
     "data": {
      "text/plain": [
       "5"
      ]
     },
     "execution_count": 43,
     "metadata": {},
     "output_type": "execute_result"
    }
   ],
   "source": [
    "x1[0]"
   ]
  },
  {
   "cell_type": "code",
   "execution_count": 44,
   "metadata": {
    "colab": {
     "base_uri": "https://localhost:8080/"
    },
    "executionInfo": {
     "elapsed": 2356,
     "status": "ok",
     "timestamp": 1621352925010,
     "user": {
      "displayName": "Vincenzo Nardelli",
      "photoUrl": "https://lh3.googleusercontent.com/a-/AOh14GjPK26_e6OTwkTbx-Bj4I8qLqir6RkknYKsq2GM=s64",
      "userId": "12315026942894680720"
     },
     "user_tz": -120
    },
    "id": "VAMxJjqX1HcV",
    "jupyter": {
     "outputs_hidden": false
    },
    "outputId": "b721bce2-e9f0-437f-d592-1238d5921ee9"
   },
   "outputs": [
    {
     "data": {
      "text/plain": [
       "7"
      ]
     },
     "execution_count": 44,
     "metadata": {},
     "output_type": "execute_result"
    }
   ],
   "source": [
    "x1[4]"
   ]
  },
  {
   "cell_type": "markdown",
   "metadata": {
    "id": "RVflGipu1HcW"
   },
   "source": [
    "To index from the end of the array, you can use negative indices:"
   ]
  },
  {
   "cell_type": "code",
   "execution_count": 45,
   "metadata": {
    "colab": {
     "base_uri": "https://localhost:8080/"
    },
    "executionInfo": {
     "elapsed": 2351,
     "status": "ok",
     "timestamp": 1621352925010,
     "user": {
      "displayName": "Vincenzo Nardelli",
      "photoUrl": "https://lh3.googleusercontent.com/a-/AOh14GjPK26_e6OTwkTbx-Bj4I8qLqir6RkknYKsq2GM=s64",
      "userId": "12315026942894680720"
     },
     "user_tz": -120
    },
    "id": "Tk99uMMq1HcW",
    "jupyter": {
     "outputs_hidden": false
    },
    "outputId": "90839303-f3ad-40db-933c-a2b34dff59a1"
   },
   "outputs": [
    {
     "data": {
      "text/plain": [
       "9"
      ]
     },
     "execution_count": 45,
     "metadata": {},
     "output_type": "execute_result"
    }
   ],
   "source": [
    "x1[-1]"
   ]
  },
  {
   "cell_type": "code",
   "execution_count": 46,
   "metadata": {
    "colab": {
     "base_uri": "https://localhost:8080/"
    },
    "executionInfo": {
     "elapsed": 2348,
     "status": "ok",
     "timestamp": 1621352925011,
     "user": {
      "displayName": "Vincenzo Nardelli",
      "photoUrl": "https://lh3.googleusercontent.com/a-/AOh14GjPK26_e6OTwkTbx-Bj4I8qLqir6RkknYKsq2GM=s64",
      "userId": "12315026942894680720"
     },
     "user_tz": -120
    },
    "id": "svcFujVf1HcW",
    "jupyter": {
     "outputs_hidden": false
    },
    "outputId": "f1b4e561-589d-4c3d-909d-6eb2e07d1da0"
   },
   "outputs": [
    {
     "data": {
      "text/plain": [
       "7"
      ]
     },
     "execution_count": 46,
     "metadata": {},
     "output_type": "execute_result"
    }
   ],
   "source": [
    "x1[-2]"
   ]
  },
  {
   "cell_type": "markdown",
   "metadata": {
    "id": "k3ZcQwto1HcW"
   },
   "source": [
    "In a multi-dimensional array, items can be accessed using a comma-separated tuple of indices:"
   ]
  },
  {
   "cell_type": "code",
   "execution_count": 47,
   "metadata": {
    "colab": {
     "base_uri": "https://localhost:8080/"
    },
    "executionInfo": {
     "elapsed": 2342,
     "status": "ok",
     "timestamp": 1621352925011,
     "user": {
      "displayName": "Vincenzo Nardelli",
      "photoUrl": "https://lh3.googleusercontent.com/a-/AOh14GjPK26_e6OTwkTbx-Bj4I8qLqir6RkknYKsq2GM=s64",
      "userId": "12315026942894680720"
     },
     "user_tz": -120
    },
    "id": "0VC52jzb1HcW",
    "jupyter": {
     "outputs_hidden": false
    },
    "outputId": "c9352a22-00fd-421f-bc89-e4dbe23edff0"
   },
   "outputs": [
    {
     "data": {
      "text/plain": [
       "array([[3, 5, 2, 4],\n",
       "       [7, 6, 8, 8],\n",
       "       [1, 6, 7, 7]])"
      ]
     },
     "execution_count": 47,
     "metadata": {},
     "output_type": "execute_result"
    }
   ],
   "source": [
    "x2"
   ]
  },
  {
   "cell_type": "code",
   "execution_count": 48,
   "metadata": {
    "colab": {
     "base_uri": "https://localhost:8080/"
    },
    "executionInfo": {
     "elapsed": 2338,
     "status": "ok",
     "timestamp": 1621352925011,
     "user": {
      "displayName": "Vincenzo Nardelli",
      "photoUrl": "https://lh3.googleusercontent.com/a-/AOh14GjPK26_e6OTwkTbx-Bj4I8qLqir6RkknYKsq2GM=s64",
      "userId": "12315026942894680720"
     },
     "user_tz": -120
    },
    "id": "QaZ96JJn1HcW",
    "jupyter": {
     "outputs_hidden": false
    },
    "outputId": "c5ef0798-51ea-40f2-b8d2-ccb8a13c08db"
   },
   "outputs": [
    {
     "data": {
      "text/plain": [
       "3"
      ]
     },
     "execution_count": 48,
     "metadata": {},
     "output_type": "execute_result"
    }
   ],
   "source": [
    "x2[0, 0]"
   ]
  },
  {
   "cell_type": "code",
   "execution_count": 49,
   "metadata": {
    "colab": {
     "base_uri": "https://localhost:8080/"
    },
    "executionInfo": {
     "elapsed": 2335,
     "status": "ok",
     "timestamp": 1621352925012,
     "user": {
      "displayName": "Vincenzo Nardelli",
      "photoUrl": "https://lh3.googleusercontent.com/a-/AOh14GjPK26_e6OTwkTbx-Bj4I8qLqir6RkknYKsq2GM=s64",
      "userId": "12315026942894680720"
     },
     "user_tz": -120
    },
    "id": "L4hO2GNo1HcX",
    "jupyter": {
     "outputs_hidden": false
    },
    "outputId": "256dbc69-9149-4c19-92e3-b18e0d1061aa"
   },
   "outputs": [
    {
     "data": {
      "text/plain": [
       "1"
      ]
     },
     "execution_count": 49,
     "metadata": {},
     "output_type": "execute_result"
    }
   ],
   "source": [
    "x2[2, 0]"
   ]
  },
  {
   "cell_type": "code",
   "execution_count": 50,
   "metadata": {
    "colab": {
     "base_uri": "https://localhost:8080/"
    },
    "executionInfo": {
     "elapsed": 2331,
     "status": "ok",
     "timestamp": 1621352925013,
     "user": {
      "displayName": "Vincenzo Nardelli",
      "photoUrl": "https://lh3.googleusercontent.com/a-/AOh14GjPK26_e6OTwkTbx-Bj4I8qLqir6RkknYKsq2GM=s64",
      "userId": "12315026942894680720"
     },
     "user_tz": -120
    },
    "id": "EtALRs6z1HcX",
    "jupyter": {
     "outputs_hidden": false
    },
    "outputId": "70f57344-7b84-4d1b-fe01-aa55806ed451"
   },
   "outputs": [
    {
     "data": {
      "text/plain": [
       "7"
      ]
     },
     "execution_count": 50,
     "metadata": {},
     "output_type": "execute_result"
    }
   ],
   "source": [
    "x2[2, -1]"
   ]
  },
  {
   "cell_type": "markdown",
   "metadata": {
    "id": "dboihcYC1HcX"
   },
   "source": [
    "Values can also be modified using any of the above index notation:"
   ]
  },
  {
   "cell_type": "code",
   "execution_count": 51,
   "metadata": {
    "colab": {
     "base_uri": "https://localhost:8080/"
    },
    "executionInfo": {
     "elapsed": 2326,
     "status": "ok",
     "timestamp": 1621352925013,
     "user": {
      "displayName": "Vincenzo Nardelli",
      "photoUrl": "https://lh3.googleusercontent.com/a-/AOh14GjPK26_e6OTwkTbx-Bj4I8qLqir6RkknYKsq2GM=s64",
      "userId": "12315026942894680720"
     },
     "user_tz": -120
    },
    "id": "CB4vKN-Z1HcX",
    "jupyter": {
     "outputs_hidden": false
    },
    "outputId": "0ad61aba-81a0-44ad-df3f-227db5358c7d"
   },
   "outputs": [
    {
     "data": {
      "text/plain": [
       "array([[12,  5,  2,  4],\n",
       "       [ 7,  6,  8,  8],\n",
       "       [ 1,  6,  7,  7]])"
      ]
     },
     "execution_count": 51,
     "metadata": {},
     "output_type": "execute_result"
    }
   ],
   "source": [
    "x2[0, 0] = 12\n",
    "x2"
   ]
  },
  {
   "cell_type": "code",
   "execution_count": 52,
   "metadata": {
    "colab": {
     "base_uri": "https://localhost:8080/"
    },
    "executionInfo": {
     "elapsed": 2322,
     "status": "ok",
     "timestamp": 1621352925014,
     "user": {
      "displayName": "Vincenzo Nardelli",
      "photoUrl": "https://lh3.googleusercontent.com/a-/AOh14GjPK26_e6OTwkTbx-Bj4I8qLqir6RkknYKsq2GM=s64",
      "userId": "12315026942894680720"
     },
     "user_tz": -120
    },
    "id": "D7jJ4BZ21HcY",
    "jupyter": {
     "outputs_hidden": false
    },
    "outputId": "25f5c01f-8740-476f-b862-e3187037dc66"
   },
   "outputs": [
    {
     "data": {
      "text/plain": [
       "array([3, 0, 3, 3, 7, 9])"
      ]
     },
     "execution_count": 52,
     "metadata": {},
     "output_type": "execute_result"
    }
   ],
   "source": [
    "x1[0] = 3.14159  # this will be truncated!\n",
    "x1"
   ]
  },
  {
   "cell_type": "markdown",
   "metadata": {
    "id": "LPAcIYQC1HcY"
   },
   "source": [
    "## Array Slicing"
   ]
  },
  {
   "cell_type": "markdown",
   "metadata": {
    "id": "3CR3AnKd1HcY"
   },
   "source": [
    "Just as we can use square brackets to access individual array elements, we can also use them to access subarrays with the *slice* notation, marked by the colon (``:``) character.\n",
    "The NumPy slicing syntax follows that of the standard Python list; to access a slice of an array ``x``, use this:\n",
    "``` python\n",
    "x[start:stop:step]\n",
    "```\n",
    "If any of these are unspecified, they default to the values ``start=0``, ``stop=``*``size of dimension``*, ``step=1``.\n",
    "We'll take a look at accessing sub-arrays in one dimension and in multiple dimensions."
   ]
  },
  {
   "cell_type": "code",
   "execution_count": 53,
   "metadata": {
    "colab": {
     "base_uri": "https://localhost:8080/"
    },
    "executionInfo": {
     "elapsed": 2317,
     "status": "ok",
     "timestamp": 1621352925014,
     "user": {
      "displayName": "Vincenzo Nardelli",
      "photoUrl": "https://lh3.googleusercontent.com/a-/AOh14GjPK26_e6OTwkTbx-Bj4I8qLqir6RkknYKsq2GM=s64",
      "userId": "12315026942894680720"
     },
     "user_tz": -120
    },
    "id": "heCnnqB91HcZ",
    "jupyter": {
     "outputs_hidden": false
    },
    "outputId": "8071d3a8-f0e9-400f-de65-7ced71424b1c"
   },
   "outputs": [
    {
     "data": {
      "text/plain": [
       "array([0, 1, 2, 3, 4, 5, 6, 7, 8, 9])"
      ]
     },
     "execution_count": 53,
     "metadata": {},
     "output_type": "execute_result"
    }
   ],
   "source": [
    "x = np.arange(10)\n",
    "x"
   ]
  },
  {
   "cell_type": "markdown",
   "metadata": {
    "id": "FaioOEmvG8PM"
   },
   "source": [
    "First five element"
   ]
  },
  {
   "cell_type": "code",
   "execution_count": 54,
   "metadata": {
    "colab": {
     "base_uri": "https://localhost:8080/"
    },
    "executionInfo": {
     "elapsed": 2313,
     "status": "ok",
     "timestamp": 1621352925014,
     "user": {
      "displayName": "Vincenzo Nardelli",
      "photoUrl": "https://lh3.googleusercontent.com/a-/AOh14GjPK26_e6OTwkTbx-Bj4I8qLqir6RkknYKsq2GM=s64",
      "userId": "12315026942894680720"
     },
     "user_tz": -120
    },
    "id": "4e7Irfno1HcZ",
    "jupyter": {
     "outputs_hidden": false
    },
    "outputId": "81e95296-79d6-48ec-8d3a-ffe0ffb3cc72"
   },
   "outputs": [
    {
     "data": {
      "text/plain": [
       "array([0, 1, 2, 3, 4])"
      ]
     },
     "execution_count": 54,
     "metadata": {},
     "output_type": "execute_result"
    }
   ],
   "source": [
    "x[:5]"
   ]
  },
  {
   "cell_type": "markdown",
   "metadata": {
    "id": "o1wvPZDPG8PM"
   },
   "source": [
    "Elements after index 5"
   ]
  },
  {
   "cell_type": "code",
   "execution_count": 55,
   "metadata": {
    "colab": {
     "base_uri": "https://localhost:8080/"
    },
    "executionInfo": {
     "elapsed": 2306,
     "status": "ok",
     "timestamp": 1621352925014,
     "user": {
      "displayName": "Vincenzo Nardelli",
      "photoUrl": "https://lh3.googleusercontent.com/a-/AOh14GjPK26_e6OTwkTbx-Bj4I8qLqir6RkknYKsq2GM=s64",
      "userId": "12315026942894680720"
     },
     "user_tz": -120
    },
    "id": "CEJe1CJw1HcZ",
    "jupyter": {
     "outputs_hidden": false
    },
    "outputId": "e01e2aab-b093-48aa-a1fb-40cef662c391"
   },
   "outputs": [
    {
     "data": {
      "text/plain": [
       "array([5, 6, 7, 8, 9])"
      ]
     },
     "execution_count": 55,
     "metadata": {},
     "output_type": "execute_result"
    }
   ],
   "source": [
    "x[5:] "
   ]
  },
  {
   "cell_type": "markdown",
   "metadata": {
    "id": "e4IrsPTQG8PN"
   },
   "source": [
    "middle sub-array"
   ]
  },
  {
   "cell_type": "code",
   "execution_count": 56,
   "metadata": {
    "colab": {
     "base_uri": "https://localhost:8080/"
    },
    "executionInfo": {
     "elapsed": 2302,
     "status": "ok",
     "timestamp": 1621352925015,
     "user": {
      "displayName": "Vincenzo Nardelli",
      "photoUrl": "https://lh3.googleusercontent.com/a-/AOh14GjPK26_e6OTwkTbx-Bj4I8qLqir6RkknYKsq2GM=s64",
      "userId": "12315026942894680720"
     },
     "user_tz": -120
    },
    "id": "ay8RQMLY1Hca",
    "jupyter": {
     "outputs_hidden": false
    },
    "outputId": "16e19ebf-a71b-4d85-9e78-fcde8e309b01"
   },
   "outputs": [
    {
     "data": {
      "text/plain": [
       "array([4, 5, 6])"
      ]
     },
     "execution_count": 56,
     "metadata": {},
     "output_type": "execute_result"
    }
   ],
   "source": [
    "x[4:7]"
   ]
  },
  {
   "cell_type": "markdown",
   "metadata": {
    "id": "OsNpJ0HPG8PN"
   },
   "source": [
    "every other element"
   ]
  },
  {
   "cell_type": "code",
   "execution_count": 57,
   "metadata": {
    "colab": {
     "base_uri": "https://localhost:8080/"
    },
    "executionInfo": {
     "elapsed": 2298,
     "status": "ok",
     "timestamp": 1621352925015,
     "user": {
      "displayName": "Vincenzo Nardelli",
      "photoUrl": "https://lh3.googleusercontent.com/a-/AOh14GjPK26_e6OTwkTbx-Bj4I8qLqir6RkknYKsq2GM=s64",
      "userId": "12315026942894680720"
     },
     "user_tz": -120
    },
    "id": "kPTWAjhK1Hca",
    "jupyter": {
     "outputs_hidden": false
    },
    "outputId": "2a8c2b64-7aa9-4648-e6ee-939ec850cbe4"
   },
   "outputs": [
    {
     "data": {
      "text/plain": [
       "array([0, 2, 4, 6, 8])"
      ]
     },
     "execution_count": 57,
     "metadata": {},
     "output_type": "execute_result"
    }
   ],
   "source": [
    "x[::2] "
   ]
  },
  {
   "cell_type": "markdown",
   "metadata": {
    "id": "XG2QwNkaG8PN"
   },
   "source": [
    "every other element, starting at index 1"
   ]
  },
  {
   "cell_type": "code",
   "execution_count": 58,
   "metadata": {
    "colab": {
     "base_uri": "https://localhost:8080/"
    },
    "executionInfo": {
     "elapsed": 2293,
     "status": "ok",
     "timestamp": 1621352925016,
     "user": {
      "displayName": "Vincenzo Nardelli",
      "photoUrl": "https://lh3.googleusercontent.com/a-/AOh14GjPK26_e6OTwkTbx-Bj4I8qLqir6RkknYKsq2GM=s64",
      "userId": "12315026942894680720"
     },
     "user_tz": -120
    },
    "id": "tnNH_jxg1Hcb",
    "jupyter": {
     "outputs_hidden": false
    },
    "outputId": "40d4d8fa-7eee-432e-a7e0-215b5ae0b5bb"
   },
   "outputs": [
    {
     "data": {
      "text/plain": [
       "array([1, 3, 5, 7, 9])"
      ]
     },
     "execution_count": 58,
     "metadata": {},
     "output_type": "execute_result"
    }
   ],
   "source": [
    "x[1::2]"
   ]
  },
  {
   "cell_type": "markdown",
   "metadata": {
    "id": "FtDIVBnD1Hcc"
   },
   "source": [
    "A potentially confusing case is when the ``step`` value is negative.\n",
    "In this case, the defaults for ``start`` and ``stop`` are swapped.\n",
    "This becomes a convenient way to reverse an array:"
   ]
  },
  {
   "cell_type": "code",
   "execution_count": 59,
   "metadata": {
    "colab": {
     "base_uri": "https://localhost:8080/"
    },
    "executionInfo": {
     "elapsed": 2288,
     "status": "ok",
     "timestamp": 1621352925016,
     "user": {
      "displayName": "Vincenzo Nardelli",
      "photoUrl": "https://lh3.googleusercontent.com/a-/AOh14GjPK26_e6OTwkTbx-Bj4I8qLqir6RkknYKsq2GM=s64",
      "userId": "12315026942894680720"
     },
     "user_tz": -120
    },
    "id": "A-J9Gde_1Hcc",
    "jupyter": {
     "outputs_hidden": false
    },
    "outputId": "273f56c2-7ae3-49a9-f1fb-838152267b6f"
   },
   "outputs": [
    {
     "data": {
      "text/plain": [
       "array([9, 8, 7, 6, 5, 4, 3, 2, 1, 0])"
      ]
     },
     "execution_count": 59,
     "metadata": {},
     "output_type": "execute_result"
    }
   ],
   "source": [
    "x[::-1]  # all elements, reversed"
   ]
  },
  {
   "cell_type": "code",
   "execution_count": 60,
   "metadata": {
    "colab": {
     "base_uri": "https://localhost:8080/"
    },
    "executionInfo": {
     "elapsed": 2283,
     "status": "ok",
     "timestamp": 1621352925016,
     "user": {
      "displayName": "Vincenzo Nardelli",
      "photoUrl": "https://lh3.googleusercontent.com/a-/AOh14GjPK26_e6OTwkTbx-Bj4I8qLqir6RkknYKsq2GM=s64",
      "userId": "12315026942894680720"
     },
     "user_tz": -120
    },
    "id": "saCzMbJ91Hcd",
    "jupyter": {
     "outputs_hidden": false
    },
    "outputId": "c1b494d2-27a8-4b59-f182-ae7b84f70a04"
   },
   "outputs": [
    {
     "data": {
      "text/plain": [
       "array([[12,  5,  2,  4],\n",
       "       [ 7,  6,  8,  8],\n",
       "       [ 1,  6,  7,  7]])"
      ]
     },
     "execution_count": 60,
     "metadata": {},
     "output_type": "execute_result"
    }
   ],
   "source": [
    "x2"
   ]
  },
  {
   "cell_type": "code",
   "execution_count": 61,
   "metadata": {
    "colab": {
     "base_uri": "https://localhost:8080/"
    },
    "executionInfo": {
     "elapsed": 2280,
     "status": "ok",
     "timestamp": 1621352925017,
     "user": {
      "displayName": "Vincenzo Nardelli",
      "photoUrl": "https://lh3.googleusercontent.com/a-/AOh14GjPK26_e6OTwkTbx-Bj4I8qLqir6RkknYKsq2GM=s64",
      "userId": "12315026942894680720"
     },
     "user_tz": -120
    },
    "id": "SAHPLrDU1Hcd",
    "jupyter": {
     "outputs_hidden": false
    },
    "outputId": "b736ac5d-1d4b-4839-d00d-c45465e9c33a"
   },
   "outputs": [
    {
     "data": {
      "text/plain": [
       "array([[12,  5,  2],\n",
       "       [ 7,  6,  8]])"
      ]
     },
     "execution_count": 61,
     "metadata": {},
     "output_type": "execute_result"
    }
   ],
   "source": [
    "x2[:2, :3]  # two rows, three columns"
   ]
  },
  {
   "cell_type": "code",
   "execution_count": 62,
   "metadata": {
    "colab": {
     "base_uri": "https://localhost:8080/"
    },
    "executionInfo": {
     "elapsed": 2274,
     "status": "ok",
     "timestamp": 1621352925017,
     "user": {
      "displayName": "Vincenzo Nardelli",
      "photoUrl": "https://lh3.googleusercontent.com/a-/AOh14GjPK26_e6OTwkTbx-Bj4I8qLqir6RkknYKsq2GM=s64",
      "userId": "12315026942894680720"
     },
     "user_tz": -120
    },
    "id": "4fjETvBE1Hcd",
    "jupyter": {
     "outputs_hidden": false
    },
    "outputId": "06c35bfc-6ddf-4a41-a76d-594778b2497d"
   },
   "outputs": [
    {
     "data": {
      "text/plain": [
       "array([[12,  2],\n",
       "       [ 7,  8],\n",
       "       [ 1,  7]])"
      ]
     },
     "execution_count": 62,
     "metadata": {},
     "output_type": "execute_result"
    }
   ],
   "source": [
    "x2[:3, ::2]  # all rows, every other column"
   ]
  },
  {
   "cell_type": "markdown",
   "metadata": {
    "id": "6mIDX73e1Hcd"
   },
   "source": [
    "Finally, subarray dimensions can even be reversed together:"
   ]
  },
  {
   "cell_type": "code",
   "execution_count": 63,
   "metadata": {
    "colab": {
     "base_uri": "https://localhost:8080/"
    },
    "executionInfo": {
     "elapsed": 2271,
     "status": "ok",
     "timestamp": 1621352925018,
     "user": {
      "displayName": "Vincenzo Nardelli",
      "photoUrl": "https://lh3.googleusercontent.com/a-/AOh14GjPK26_e6OTwkTbx-Bj4I8qLqir6RkknYKsq2GM=s64",
      "userId": "12315026942894680720"
     },
     "user_tz": -120
    },
    "id": "9WbUToRT1Hce",
    "jupyter": {
     "outputs_hidden": false
    },
    "outputId": "15762022-9731-4819-89c3-b074940c55bf"
   },
   "outputs": [
    {
     "data": {
      "text/plain": [
       "array([[ 7,  7,  6,  1],\n",
       "       [ 8,  8,  6,  7],\n",
       "       [ 4,  2,  5, 12]])"
      ]
     },
     "execution_count": 63,
     "metadata": {},
     "output_type": "execute_result"
    }
   ],
   "source": [
    "x2[::-1, ::-1]"
   ]
  },
  {
   "cell_type": "markdown",
   "metadata": {
    "id": "tQBwGiKf1Hcf"
   },
   "source": [
    "Accessing array rows and columns\n",
    "\n",
    "One commonly needed routine is accessing of single rows or columns of an array.\n",
    "This can be done by combining indexing and slicing, using an empty slice marked by a single colon (``:``):"
   ]
  },
  {
   "cell_type": "code",
   "execution_count": 64,
   "metadata": {
    "colab": {
     "base_uri": "https://localhost:8080/"
    },
    "executionInfo": {
     "elapsed": 2267,
     "status": "ok",
     "timestamp": 1621352925018,
     "user": {
      "displayName": "Vincenzo Nardelli",
      "photoUrl": "https://lh3.googleusercontent.com/a-/AOh14GjPK26_e6OTwkTbx-Bj4I8qLqir6RkknYKsq2GM=s64",
      "userId": "12315026942894680720"
     },
     "user_tz": -120
    },
    "id": "uWQz22NA1Hcg",
    "jupyter": {
     "outputs_hidden": false
    },
    "outputId": "f0c4668f-6e0d-498e-fa69-e889af2735ba"
   },
   "outputs": [
    {
     "name": "stdout",
     "output_type": "stream",
     "text": [
      "[12  7  1]\n"
     ]
    }
   ],
   "source": [
    "print(x2[:, 0])  # first column of x2"
   ]
  },
  {
   "cell_type": "code",
   "execution_count": 65,
   "metadata": {
    "colab": {
     "base_uri": "https://localhost:8080/"
    },
    "executionInfo": {
     "elapsed": 2263,
     "status": "ok",
     "timestamp": 1621352925018,
     "user": {
      "displayName": "Vincenzo Nardelli",
      "photoUrl": "https://lh3.googleusercontent.com/a-/AOh14GjPK26_e6OTwkTbx-Bj4I8qLqir6RkknYKsq2GM=s64",
      "userId": "12315026942894680720"
     },
     "user_tz": -120
    },
    "id": "Sy8uf4rA1Hcg",
    "jupyter": {
     "outputs_hidden": false
    },
    "outputId": "6f0a19d5-5769-483f-9f41-86601de4b513"
   },
   "outputs": [
    {
     "name": "stdout",
     "output_type": "stream",
     "text": [
      "[12  5  2  4]\n"
     ]
    }
   ],
   "source": [
    "print(x2[0, :])  # first row of x2"
   ]
  },
  {
   "cell_type": "markdown",
   "metadata": {},
   "source": [
    "## Arithmetic Operations"
   ]
  },
  {
   "cell_type": "code",
   "execution_count": 66,
   "metadata": {},
   "outputs": [],
   "source": [
    "a = np.array([1,2,3])\n",
    "b = np.array([(1.5,2,3), (4,5,6)], dtype = float)"
   ]
  },
  {
   "cell_type": "code",
   "execution_count": 67,
   "metadata": {},
   "outputs": [
    {
     "data": {
      "text/plain": [
       "array([[2.5, 4. , 6. ],\n",
       "       [5. , 7. , 9. ]])"
      ]
     },
     "execution_count": 67,
     "metadata": {},
     "output_type": "execute_result"
    }
   ],
   "source": [
    "a + b"
   ]
  },
  {
   "cell_type": "code",
   "execution_count": 68,
   "metadata": {},
   "outputs": [
    {
     "data": {
      "text/plain": [
       "array([[-0.5,  0. ,  0. ],\n",
       "       [-3. , -3. , -3. ]])"
      ]
     },
     "execution_count": 68,
     "metadata": {},
     "output_type": "execute_result"
    }
   ],
   "source": [
    "a - b"
   ]
  },
  {
   "cell_type": "code",
   "execution_count": 69,
   "metadata": {},
   "outputs": [
    {
     "data": {
      "text/plain": [
       "array([[ 1.5,  4. ,  9. ],\n",
       "       [ 4. , 10. , 18. ]])"
      ]
     },
     "execution_count": 69,
     "metadata": {},
     "output_type": "execute_result"
    }
   ],
   "source": [
    "a * b"
   ]
  },
  {
   "cell_type": "code",
   "execution_count": 70,
   "metadata": {},
   "outputs": [
    {
     "data": {
      "text/plain": [
       "array([[0.66666667, 1.        , 1.        ],\n",
       "       [0.25      , 0.4       , 0.5       ]])"
      ]
     },
     "execution_count": 70,
     "metadata": {},
     "output_type": "execute_result"
    }
   ],
   "source": [
    "a / b"
   ]
  },
  {
   "cell_type": "code",
   "execution_count": 71,
   "metadata": {},
   "outputs": [
    {
     "data": {
      "text/plain": [
       "array([ 2.71828183,  7.3890561 , 20.08553692])"
      ]
     },
     "execution_count": 71,
     "metadata": {},
     "output_type": "execute_result"
    }
   ],
   "source": [
    "np.exp(a)"
   ]
  },
  {
   "cell_type": "code",
   "execution_count": 72,
   "metadata": {},
   "outputs": [
    {
     "data": {
      "text/plain": [
       "array([0.        , 0.69314718, 1.09861229])"
      ]
     },
     "execution_count": 72,
     "metadata": {},
     "output_type": "execute_result"
    }
   ],
   "source": [
    "np.log(a)"
   ]
  },
  {
   "cell_type": "code",
   "execution_count": 73,
   "metadata": {},
   "outputs": [
    {
     "data": {
      "text/plain": [
       "array([1.5, 2. ])"
      ]
     },
     "execution_count": 73,
     "metadata": {},
     "output_type": "execute_result"
    }
   ],
   "source": [
    "c = np.array([1.5,2], dtype = float)\n",
    "c"
   ]
  },
  {
   "cell_type": "code",
   "execution_count": 74,
   "metadata": {},
   "outputs": [
    {
     "data": {
      "text/plain": [
       "array([4., 5.])"
      ]
     },
     "execution_count": 74,
     "metadata": {},
     "output_type": "execute_result"
    }
   ],
   "source": [
    "d = np.array([4,5], dtype = float)\n",
    "d"
   ]
  },
  {
   "cell_type": "code",
   "execution_count": 75,
   "metadata": {},
   "outputs": [
    {
     "data": {
      "text/plain": [
       "16.0"
      ]
     },
     "execution_count": 75,
     "metadata": {},
     "output_type": "execute_result"
    }
   ],
   "source": [
    "c.dot(d)"
   ]
  },
  {
   "cell_type": "code",
   "execution_count": 76,
   "metadata": {},
   "outputs": [
    {
     "data": {
      "text/plain": [
       "16.0"
      ]
     },
     "execution_count": 76,
     "metadata": {},
     "output_type": "execute_result"
    }
   ],
   "source": [
    "1.5*4+2*5"
   ]
  },
  {
   "cell_type": "markdown",
   "metadata": {
    "id": "-mSnHPJn1Hcg"
   },
   "source": [
    "# 2 - Data manipulation and analysis with Pandas\n",
    "\n",
    "[Pandas documentation](http://pandas.pydata.org/).\n",
    "\n",
    "Pandas is a Python data analysis Library. The name is derived from the term \"panel data\". \n",
    "\n",
    "- The Pandas Series Object\n",
    "- The Pandas DataFrame Object\n",
    "- Construction DataFrame Objects\n",
    "- Data loading\n",
    "- Data indexing and selection\n",
    "- Aggregation and grouping\n",
    "- Simple aggregation\n",
    "- GroupBy\n",
    "- Aggregate, filter and transform"
   ]
  },
  {
   "cell_type": "code",
   "execution_count": 77,
   "metadata": {
    "executionInfo": {
     "elapsed": 2262,
     "status": "ok",
     "timestamp": 1621352925019,
     "user": {
      "displayName": "Vincenzo Nardelli",
      "photoUrl": "https://lh3.googleusercontent.com/a-/AOh14GjPK26_e6OTwkTbx-Bj4I8qLqir6RkknYKsq2GM=s64",
      "userId": "12315026942894680720"
     },
     "user_tz": -120
    },
    "id": "tSt7r29A1Hch",
    "jupyter": {
     "outputs_hidden": false
    }
   },
   "outputs": [],
   "source": [
    "import pandas as pd"
   ]
  },
  {
   "cell_type": "code",
   "execution_count": 78,
   "metadata": {
    "executionInfo": {
     "elapsed": 2261,
     "status": "ok",
     "timestamp": 1621352925019,
     "user": {
      "displayName": "Vincenzo Nardelli",
      "photoUrl": "https://lh3.googleusercontent.com/a-/AOh14GjPK26_e6OTwkTbx-Bj4I8qLqir6RkknYKsq2GM=s64",
      "userId": "12315026942894680720"
     },
     "user_tz": -120
    },
    "id": "4cYrbPEi1Hch"
   },
   "outputs": [],
   "source": [
    "#pd.DataFrame?"
   ]
  },
  {
   "cell_type": "markdown",
   "metadata": {
    "id": "L9XZD2j01Hci"
   },
   "source": [
    "## The Pandas Series Object\n",
    "\n",
    "A Pandas ``Series`` is a one-dimensional array of indexed data.\n",
    "It can be created from a list or array as follows:"
   ]
  },
  {
   "cell_type": "code",
   "execution_count": 79,
   "metadata": {
    "colab": {
     "base_uri": "https://localhost:8080/"
    },
    "executionInfo": {
     "elapsed": 2259,
     "status": "ok",
     "timestamp": 1621352925020,
     "user": {
      "displayName": "Vincenzo Nardelli",
      "photoUrl": "https://lh3.googleusercontent.com/a-/AOh14GjPK26_e6OTwkTbx-Bj4I8qLqir6RkknYKsq2GM=s64",
      "userId": "12315026942894680720"
     },
     "user_tz": -120
    },
    "id": "IzxRdj871Hci",
    "jupyter": {
     "outputs_hidden": false
    },
    "outputId": "e0f7a7d2-886d-40df-a985-c797fefbfb68"
   },
   "outputs": [
    {
     "data": {
      "text/plain": [
       "0    0.25\n",
       "1    0.50\n",
       "2    0.75\n",
       "3    1.00\n",
       "dtype: float64"
      ]
     },
     "execution_count": 79,
     "metadata": {},
     "output_type": "execute_result"
    }
   ],
   "source": [
    "data = pd.Series([0.25, 0.5, 0.75, 1.0])\n",
    "data"
   ]
  },
  {
   "cell_type": "markdown",
   "metadata": {
    "id": "eEYJrhvB1Hci"
   },
   "source": [
    "As we see in the output, the ``Series`` wraps both a sequence of values and a sequence of indices, which we can access with the ``values`` and ``index`` attributes.\n",
    "The ``values`` are simply a familiar NumPy array:"
   ]
  },
  {
   "cell_type": "code",
   "execution_count": 80,
   "metadata": {
    "colab": {
     "base_uri": "https://localhost:8080/"
    },
    "executionInfo": {
     "elapsed": 2254,
     "status": "ok",
     "timestamp": 1621352925020,
     "user": {
      "displayName": "Vincenzo Nardelli",
      "photoUrl": "https://lh3.googleusercontent.com/a-/AOh14GjPK26_e6OTwkTbx-Bj4I8qLqir6RkknYKsq2GM=s64",
      "userId": "12315026942894680720"
     },
     "user_tz": -120
    },
    "id": "IiW7CGIi1Hck",
    "jupyter": {
     "outputs_hidden": false
    },
    "outputId": "2735f419-e12c-4b19-e3fd-dd23cc6ee82c"
   },
   "outputs": [
    {
     "data": {
      "text/plain": [
       "array([0.25, 0.5 , 0.75, 1.  ])"
      ]
     },
     "execution_count": 80,
     "metadata": {},
     "output_type": "execute_result"
    }
   ],
   "source": [
    "data.values"
   ]
  },
  {
   "cell_type": "markdown",
   "metadata": {
    "id": "MvN320eT1Hcl"
   },
   "source": [
    "The ``index`` is an array-like object of type ``pd.Index``, which we'll discuss in more detail momentarily."
   ]
  },
  {
   "cell_type": "code",
   "execution_count": 81,
   "metadata": {
    "colab": {
     "base_uri": "https://localhost:8080/"
    },
    "executionInfo": {
     "elapsed": 2456,
     "status": "ok",
     "timestamp": 1621352925226,
     "user": {
      "displayName": "Vincenzo Nardelli",
      "photoUrl": "https://lh3.googleusercontent.com/a-/AOh14GjPK26_e6OTwkTbx-Bj4I8qLqir6RkknYKsq2GM=s64",
      "userId": "12315026942894680720"
     },
     "user_tz": -120
    },
    "id": "Ip_8-qt41Hcm",
    "jupyter": {
     "outputs_hidden": false
    },
    "outputId": "2cfc941d-62c8-44d1-cd84-0609a4724bd8"
   },
   "outputs": [
    {
     "data": {
      "text/plain": [
       "RangeIndex(start=0, stop=4, step=1)"
      ]
     },
     "execution_count": 81,
     "metadata": {},
     "output_type": "execute_result"
    }
   ],
   "source": [
    "data.index"
   ]
  },
  {
   "cell_type": "markdown",
   "metadata": {
    "id": "yR9lYozC1Hcn"
   },
   "source": [
    "Like with a NumPy array, data can be accessed by the associated index via the familiar Python square-bracket notation:"
   ]
  },
  {
   "cell_type": "code",
   "execution_count": 82,
   "metadata": {
    "colab": {
     "base_uri": "https://localhost:8080/"
    },
    "executionInfo": {
     "elapsed": 2454,
     "status": "ok",
     "timestamp": 1621352925226,
     "user": {
      "displayName": "Vincenzo Nardelli",
      "photoUrl": "https://lh3.googleusercontent.com/a-/AOh14GjPK26_e6OTwkTbx-Bj4I8qLqir6RkknYKsq2GM=s64",
      "userId": "12315026942894680720"
     },
     "user_tz": -120
    },
    "id": "3JlVwE3v1Hcn",
    "jupyter": {
     "outputs_hidden": false
    },
    "outputId": "d936716d-dee1-4bb3-bd09-09b648758098"
   },
   "outputs": [
    {
     "data": {
      "text/plain": [
       "0.5"
      ]
     },
     "execution_count": 82,
     "metadata": {},
     "output_type": "execute_result"
    }
   ],
   "source": [
    "data[1]"
   ]
  },
  {
   "cell_type": "code",
   "execution_count": 83,
   "metadata": {
    "colab": {
     "base_uri": "https://localhost:8080/"
    },
    "executionInfo": {
     "elapsed": 2451,
     "status": "ok",
     "timestamp": 1621352925227,
     "user": {
      "displayName": "Vincenzo Nardelli",
      "photoUrl": "https://lh3.googleusercontent.com/a-/AOh14GjPK26_e6OTwkTbx-Bj4I8qLqir6RkknYKsq2GM=s64",
      "userId": "12315026942894680720"
     },
     "user_tz": -120
    },
    "id": "4N3eSfHt1Hco",
    "jupyter": {
     "outputs_hidden": false
    },
    "outputId": "57570525-967a-431b-87b0-ae019365a8ce"
   },
   "outputs": [
    {
     "data": {
      "text/plain": [
       "1    0.50\n",
       "2    0.75\n",
       "dtype: float64"
      ]
     },
     "execution_count": 83,
     "metadata": {},
     "output_type": "execute_result"
    }
   ],
   "source": [
    "data[1:3]"
   ]
  },
  {
   "cell_type": "code",
   "execution_count": 84,
   "metadata": {
    "colab": {
     "base_uri": "https://localhost:8080/"
    },
    "executionInfo": {
     "elapsed": 2448,
     "status": "ok",
     "timestamp": 1621352925228,
     "user": {
      "displayName": "Vincenzo Nardelli",
      "photoUrl": "https://lh3.googleusercontent.com/a-/AOh14GjPK26_e6OTwkTbx-Bj4I8qLqir6RkknYKsq2GM=s64",
      "userId": "12315026942894680720"
     },
     "user_tz": -120
    },
    "id": "U2T8M2Ve1Hco",
    "jupyter": {
     "outputs_hidden": false
    },
    "outputId": "ce3b482c-c249-4a59-9fbd-de306c4ab299"
   },
   "outputs": [
    {
     "data": {
      "text/plain": [
       "California    38332521\n",
       "Texas         26448193\n",
       "New York      19651127\n",
       "Florida       19552860\n",
       "Illinois      12882135\n",
       "dtype: int64"
      ]
     },
     "execution_count": 84,
     "metadata": {},
     "output_type": "execute_result"
    }
   ],
   "source": [
    "population_dict = {'California': 38332521,\n",
    "                   'Texas': 26448193,\n",
    "                   'New York': 19651127,\n",
    "                   'Florida': 19552860,\n",
    "                   'Illinois': 12882135}\n",
    "population = pd.Series(population_dict)\n",
    "population"
   ]
  },
  {
   "cell_type": "markdown",
   "metadata": {
    "id": "64HRRWrs1Hco"
   },
   "source": [
    "By default, a ``Series`` will be created where the index is drawn from the sorted keys.\n",
    "From here, typical dictionary-style item access can be performed:"
   ]
  },
  {
   "cell_type": "code",
   "execution_count": 85,
   "metadata": {
    "colab": {
     "base_uri": "https://localhost:8080/"
    },
    "executionInfo": {
     "elapsed": 2444,
     "status": "ok",
     "timestamp": 1621352925228,
     "user": {
      "displayName": "Vincenzo Nardelli",
      "photoUrl": "https://lh3.googleusercontent.com/a-/AOh14GjPK26_e6OTwkTbx-Bj4I8qLqir6RkknYKsq2GM=s64",
      "userId": "12315026942894680720"
     },
     "user_tz": -120
    },
    "id": "KkTBr3ky1Hcp",
    "jupyter": {
     "outputs_hidden": false
    },
    "outputId": "ed985e3e-a043-427e-c828-742635e7c61f"
   },
   "outputs": [
    {
     "data": {
      "text/plain": [
       "38332521"
      ]
     },
     "execution_count": 85,
     "metadata": {},
     "output_type": "execute_result"
    }
   ],
   "source": [
    "population['California']"
   ]
  },
  {
   "cell_type": "markdown",
   "metadata": {
    "id": "4_M3QQD81Hcp"
   },
   "source": [
    "Unlike a dictionary, though, the ``Series`` also supports array-style operations such as slicing:"
   ]
  },
  {
   "cell_type": "code",
   "execution_count": 86,
   "metadata": {
    "colab": {
     "base_uri": "https://localhost:8080/"
    },
    "executionInfo": {
     "elapsed": 2441,
     "status": "ok",
     "timestamp": 1621352925228,
     "user": {
      "displayName": "Vincenzo Nardelli",
      "photoUrl": "https://lh3.googleusercontent.com/a-/AOh14GjPK26_e6OTwkTbx-Bj4I8qLqir6RkknYKsq2GM=s64",
      "userId": "12315026942894680720"
     },
     "user_tz": -120
    },
    "id": "gKaL6ONG1Hcp",
    "outputId": "b4a05f74-f729-4b84-ff57-9c4aab2a80a0"
   },
   "outputs": [
    {
     "data": {
      "text/plain": [
       "New York    19651127\n",
       "Florida     19552860\n",
       "Illinois    12882135\n",
       "dtype: int64"
      ]
     },
     "execution_count": 86,
     "metadata": {},
     "output_type": "execute_result"
    }
   ],
   "source": [
    "population['New York':'Illinois']"
   ]
  },
  {
   "cell_type": "code",
   "execution_count": 87,
   "metadata": {
    "colab": {
     "base_uri": "https://localhost:8080/"
    },
    "executionInfo": {
     "elapsed": 2437,
     "status": "ok",
     "timestamp": 1621352925229,
     "user": {
      "displayName": "Vincenzo Nardelli",
      "photoUrl": "https://lh3.googleusercontent.com/a-/AOh14GjPK26_e6OTwkTbx-Bj4I8qLqir6RkknYKsq2GM=s64",
      "userId": "12315026942894680720"
     },
     "user_tz": -120
    },
    "id": "cKZyLoYJ1Hcp",
    "outputId": "338283a0-67e0-4f04-b1e6-f78c0e4e270c"
   },
   "outputs": [
    {
     "data": {
      "text/plain": [
       "New York    19651127\n",
       "Florida     19552860\n",
       "Illinois    12882135\n",
       "dtype: int64"
      ]
     },
     "execution_count": 87,
     "metadata": {},
     "output_type": "execute_result"
    }
   ],
   "source": [
    "population[2:5]"
   ]
  },
  {
   "cell_type": "markdown",
   "metadata": {
    "id": "JpZlL55a1Hcq"
   },
   "source": [
    "## The Pandas DataFrame Object\n",
    "\n",
    "The next fundamental structure in Pandas is the ``DataFrame``.\n",
    "\n",
    "The ``DataFrame`` can be thought of either as a generalization of a NumPy array, or as a specialization of a Python dictionary."
   ]
  },
  {
   "cell_type": "markdown",
   "metadata": {
    "id": "wYL57m-L1Hcq"
   },
   "source": [
    "DataFrame as a generalized NumPy array\n",
    "\n",
    "A ``DataFrame`` is an analog of a two-dimensional array with both flexible row indices and flexible column names.\n",
    "\n",
    "Just as you might think of a two-dimensional array as an ordered sequence of aligned one-dimensional columns, you can think of a ``DataFrame`` as a sequence of aligned ``Series`` objects.\n",
    "\n",
    "Here, by \"aligned\" we mean that they share the same index."
   ]
  },
  {
   "cell_type": "code",
   "execution_count": 88,
   "metadata": {
    "colab": {
     "base_uri": "https://localhost:8080/"
    },
    "executionInfo": {
     "elapsed": 2434,
     "status": "ok",
     "timestamp": 1621352925229,
     "user": {
      "displayName": "Vincenzo Nardelli",
      "photoUrl": "https://lh3.googleusercontent.com/a-/AOh14GjPK26_e6OTwkTbx-Bj4I8qLqir6RkknYKsq2GM=s64",
      "userId": "12315026942894680720"
     },
     "user_tz": -120
    },
    "id": "cMznSObc1Hcq",
    "jupyter": {
     "outputs_hidden": false
    },
    "outputId": "19d76ed3-a7b8-4f31-eae7-df3bac3e8e9b"
   },
   "outputs": [
    {
     "data": {
      "text/plain": [
       "California    423967\n",
       "Texas         695662\n",
       "New York      141297\n",
       "Florida       170312\n",
       "Illinois      149995\n",
       "dtype: int64"
      ]
     },
     "execution_count": 88,
     "metadata": {},
     "output_type": "execute_result"
    }
   ],
   "source": [
    "area_dict = {'California': 423967, 'Texas': 695662, 'New York': 141297,\n",
    "             'Florida': 170312, 'Illinois': 149995}\n",
    "area = pd.Series(area_dict)\n",
    "area"
   ]
  },
  {
   "cell_type": "code",
   "execution_count": 89,
   "metadata": {
    "colab": {
     "base_uri": "https://localhost:8080/",
     "height": 206
    },
    "executionInfo": {
     "elapsed": 2430,
     "status": "ok",
     "timestamp": 1621352925230,
     "user": {
      "displayName": "Vincenzo Nardelli",
      "photoUrl": "https://lh3.googleusercontent.com/a-/AOh14GjPK26_e6OTwkTbx-Bj4I8qLqir6RkknYKsq2GM=s64",
      "userId": "12315026942894680720"
     },
     "user_tz": -120
    },
    "id": "ELP3aAFe1Hcq",
    "jupyter": {
     "outputs_hidden": false
    },
    "outputId": "f81dc76c-40aa-4d27-c38b-87b02eef35c9"
   },
   "outputs": [
    {
     "data": {
      "text/html": [
       "<div>\n",
       "<style scoped>\n",
       "    .dataframe tbody tr th:only-of-type {\n",
       "        vertical-align: middle;\n",
       "    }\n",
       "\n",
       "    .dataframe tbody tr th {\n",
       "        vertical-align: top;\n",
       "    }\n",
       "\n",
       "    .dataframe thead th {\n",
       "        text-align: right;\n",
       "    }\n",
       "</style>\n",
       "<table border=\"1\" class=\"dataframe\">\n",
       "  <thead>\n",
       "    <tr style=\"text-align: right;\">\n",
       "      <th></th>\n",
       "      <th>population</th>\n",
       "      <th>area</th>\n",
       "    </tr>\n",
       "  </thead>\n",
       "  <tbody>\n",
       "    <tr>\n",
       "      <th>California</th>\n",
       "      <td>38332521</td>\n",
       "      <td>423967</td>\n",
       "    </tr>\n",
       "    <tr>\n",
       "      <th>Texas</th>\n",
       "      <td>26448193</td>\n",
       "      <td>695662</td>\n",
       "    </tr>\n",
       "    <tr>\n",
       "      <th>New York</th>\n",
       "      <td>19651127</td>\n",
       "      <td>141297</td>\n",
       "    </tr>\n",
       "    <tr>\n",
       "      <th>Florida</th>\n",
       "      <td>19552860</td>\n",
       "      <td>170312</td>\n",
       "    </tr>\n",
       "    <tr>\n",
       "      <th>Illinois</th>\n",
       "      <td>12882135</td>\n",
       "      <td>149995</td>\n",
       "    </tr>\n",
       "  </tbody>\n",
       "</table>\n",
       "</div>"
      ],
      "text/plain": [
       "            population    area\n",
       "California    38332521  423967\n",
       "Texas         26448193  695662\n",
       "New York      19651127  141297\n",
       "Florida       19552860  170312\n",
       "Illinois      12882135  149995"
      ]
     },
     "execution_count": 89,
     "metadata": {},
     "output_type": "execute_result"
    }
   ],
   "source": [
    "states = pd.DataFrame({'population': population,\n",
    "                       'area': area})\n",
    "states"
   ]
  },
  {
   "cell_type": "code",
   "execution_count": 90,
   "metadata": {
    "colab": {
     "base_uri": "https://localhost:8080/"
    },
    "executionInfo": {
     "elapsed": 2426,
     "status": "ok",
     "timestamp": 1621352925231,
     "user": {
      "displayName": "Vincenzo Nardelli",
      "photoUrl": "https://lh3.googleusercontent.com/a-/AOh14GjPK26_e6OTwkTbx-Bj4I8qLqir6RkknYKsq2GM=s64",
      "userId": "12315026942894680720"
     },
     "user_tz": -120
    },
    "id": "QPu8eBts1Hcr",
    "jupyter": {
     "outputs_hidden": false
    },
    "outputId": "8308ea46-0cc8-464d-de94-7b5e6ec6cc0e"
   },
   "outputs": [
    {
     "data": {
      "text/plain": [
       "Index(['California', 'Texas', 'New York', 'Florida', 'Illinois'], dtype='object')"
      ]
     },
     "execution_count": 90,
     "metadata": {},
     "output_type": "execute_result"
    }
   ],
   "source": [
    "states.index"
   ]
  },
  {
   "cell_type": "code",
   "execution_count": 91,
   "metadata": {
    "colab": {
     "base_uri": "https://localhost:8080/"
    },
    "executionInfo": {
     "elapsed": 2422,
     "status": "ok",
     "timestamp": 1621352925231,
     "user": {
      "displayName": "Vincenzo Nardelli",
      "photoUrl": "https://lh3.googleusercontent.com/a-/AOh14GjPK26_e6OTwkTbx-Bj4I8qLqir6RkknYKsq2GM=s64",
      "userId": "12315026942894680720"
     },
     "user_tz": -120
    },
    "id": "5MSdebmT1Hcr",
    "jupyter": {
     "outputs_hidden": false
    },
    "outputId": "88afe9b2-9761-4ab8-9bed-9ec186855514"
   },
   "outputs": [
    {
     "data": {
      "text/plain": [
       "Index(['population', 'area'], dtype='object')"
      ]
     },
     "execution_count": 91,
     "metadata": {},
     "output_type": "execute_result"
    }
   ],
   "source": [
    "states.columns"
   ]
  },
  {
   "cell_type": "markdown",
   "metadata": {
    "id": "M1fvMU-G1Hcr"
   },
   "source": [
    "Thus the ``DataFrame`` can be thought of as a generalization of a two-dimensional NumPy array, where both the rows and columns have a generalized index for accessing the data."
   ]
  },
  {
   "cell_type": "markdown",
   "metadata": {
    "id": "hVS3Nn_z1Hcr"
   },
   "source": [
    "DataFrame as specialized dictionary\n",
    "\n",
    "Similarly, we can also think of a ``DataFrame`` as a specialization of a dictionary.\n",
    "Where a dictionary maps a key to a value, a ``DataFrame`` maps a column name to a ``Series`` of column data.\n",
    "For example, asking for the ``'area'`` attribute returns the ``Series`` object containing the areas we saw earlier:"
   ]
  },
  {
   "cell_type": "code",
   "execution_count": 92,
   "metadata": {
    "colab": {
     "base_uri": "https://localhost:8080/"
    },
    "executionInfo": {
     "elapsed": 2419,
     "status": "ok",
     "timestamp": 1621352925231,
     "user": {
      "displayName": "Vincenzo Nardelli",
      "photoUrl": "https://lh3.googleusercontent.com/a-/AOh14GjPK26_e6OTwkTbx-Bj4I8qLqir6RkknYKsq2GM=s64",
      "userId": "12315026942894680720"
     },
     "user_tz": -120
    },
    "id": "vA5_6zax1Hcr",
    "jupyter": {
     "outputs_hidden": false
    },
    "outputId": "4cc37659-2aaf-416a-a32c-e569a63e4520"
   },
   "outputs": [
    {
     "data": {
      "text/plain": [
       "California    423967\n",
       "Texas         695662\n",
       "New York      141297\n",
       "Florida       170312\n",
       "Illinois      149995\n",
       "Name: area, dtype: int64"
      ]
     },
     "execution_count": 92,
     "metadata": {},
     "output_type": "execute_result"
    }
   ],
   "source": [
    "states['area']"
   ]
  },
  {
   "cell_type": "markdown",
   "metadata": {
    "id": "qKUUXHew1Hcs"
   },
   "source": [
    "## Constructing DataFrame objects"
   ]
  },
  {
   "cell_type": "markdown",
   "metadata": {
    "id": "JE8QiiFu1Hcs"
   },
   "source": [
    "From a single Series object"
   ]
  },
  {
   "cell_type": "code",
   "execution_count": 93,
   "metadata": {
    "colab": {
     "base_uri": "https://localhost:8080/",
     "height": 206
    },
    "executionInfo": {
     "elapsed": 2415,
     "status": "ok",
     "timestamp": 1621352925232,
     "user": {
      "displayName": "Vincenzo Nardelli",
      "photoUrl": "https://lh3.googleusercontent.com/a-/AOh14GjPK26_e6OTwkTbx-Bj4I8qLqir6RkknYKsq2GM=s64",
      "userId": "12315026942894680720"
     },
     "user_tz": -120
    },
    "id": "4ZWKsdnT1Hcs",
    "jupyter": {
     "outputs_hidden": false
    },
    "outputId": "fc2e2761-b553-4b9c-acdf-21ff2a85b1e4"
   },
   "outputs": [
    {
     "data": {
      "text/html": [
       "<div>\n",
       "<style scoped>\n",
       "    .dataframe tbody tr th:only-of-type {\n",
       "        vertical-align: middle;\n",
       "    }\n",
       "\n",
       "    .dataframe tbody tr th {\n",
       "        vertical-align: top;\n",
       "    }\n",
       "\n",
       "    .dataframe thead th {\n",
       "        text-align: right;\n",
       "    }\n",
       "</style>\n",
       "<table border=\"1\" class=\"dataframe\">\n",
       "  <thead>\n",
       "    <tr style=\"text-align: right;\">\n",
       "      <th></th>\n",
       "      <th>population</th>\n",
       "    </tr>\n",
       "  </thead>\n",
       "  <tbody>\n",
       "    <tr>\n",
       "      <th>California</th>\n",
       "      <td>38332521</td>\n",
       "    </tr>\n",
       "    <tr>\n",
       "      <th>Texas</th>\n",
       "      <td>26448193</td>\n",
       "    </tr>\n",
       "    <tr>\n",
       "      <th>New York</th>\n",
       "      <td>19651127</td>\n",
       "    </tr>\n",
       "    <tr>\n",
       "      <th>Florida</th>\n",
       "      <td>19552860</td>\n",
       "    </tr>\n",
       "    <tr>\n",
       "      <th>Illinois</th>\n",
       "      <td>12882135</td>\n",
       "    </tr>\n",
       "  </tbody>\n",
       "</table>\n",
       "</div>"
      ],
      "text/plain": [
       "            population\n",
       "California    38332521\n",
       "Texas         26448193\n",
       "New York      19651127\n",
       "Florida       19552860\n",
       "Illinois      12882135"
      ]
     },
     "execution_count": 93,
     "metadata": {},
     "output_type": "execute_result"
    }
   ],
   "source": [
    "pd.DataFrame(population, columns=['population'])"
   ]
  },
  {
   "cell_type": "markdown",
   "metadata": {
    "id": "g1miXnsT1Hcs"
   },
   "source": [
    "From a list of dicts\n",
    "\n",
    "Any list of dictionaries can be made into a ``DataFrame``."
   ]
  },
  {
   "cell_type": "code",
   "execution_count": 94,
   "metadata": {
    "colab": {
     "base_uri": "https://localhost:8080/",
     "height": 143
    },
    "executionInfo": {
     "elapsed": 2410,
     "status": "ok",
     "timestamp": 1621352925232,
     "user": {
      "displayName": "Vincenzo Nardelli",
      "photoUrl": "https://lh3.googleusercontent.com/a-/AOh14GjPK26_e6OTwkTbx-Bj4I8qLqir6RkknYKsq2GM=s64",
      "userId": "12315026942894680720"
     },
     "user_tz": -120
    },
    "id": "ZOICbjJb1Hcs",
    "jupyter": {
     "outputs_hidden": false
    },
    "outputId": "048f6288-762a-4296-db4a-0b69fded3f7c"
   },
   "outputs": [
    {
     "data": {
      "text/html": [
       "<div>\n",
       "<style scoped>\n",
       "    .dataframe tbody tr th:only-of-type {\n",
       "        vertical-align: middle;\n",
       "    }\n",
       "\n",
       "    .dataframe tbody tr th {\n",
       "        vertical-align: top;\n",
       "    }\n",
       "\n",
       "    .dataframe thead th {\n",
       "        text-align: right;\n",
       "    }\n",
       "</style>\n",
       "<table border=\"1\" class=\"dataframe\">\n",
       "  <thead>\n",
       "    <tr style=\"text-align: right;\">\n",
       "      <th></th>\n",
       "      <th>a</th>\n",
       "      <th>b</th>\n",
       "    </tr>\n",
       "  </thead>\n",
       "  <tbody>\n",
       "    <tr>\n",
       "      <th>0</th>\n",
       "      <td>0</td>\n",
       "      <td>0</td>\n",
       "    </tr>\n",
       "    <tr>\n",
       "      <th>1</th>\n",
       "      <td>1</td>\n",
       "      <td>2</td>\n",
       "    </tr>\n",
       "    <tr>\n",
       "      <th>2</th>\n",
       "      <td>2</td>\n",
       "      <td>4</td>\n",
       "    </tr>\n",
       "  </tbody>\n",
       "</table>\n",
       "</div>"
      ],
      "text/plain": [
       "   a  b\n",
       "0  0  0\n",
       "1  1  2\n",
       "2  2  4"
      ]
     },
     "execution_count": 94,
     "metadata": {},
     "output_type": "execute_result"
    }
   ],
   "source": [
    "data = [{'a': i, 'b': 2 * i}\n",
    "        for i in range(3)]\n",
    "pd.DataFrame(data)"
   ]
  },
  {
   "cell_type": "markdown",
   "metadata": {
    "id": "Rh7o_AgV1Hcs"
   },
   "source": [
    "Even if some keys in the dictionary are missing, Pandas will fill them in with ``NaN`` (i.e., \"not a number\") values:"
   ]
  },
  {
   "cell_type": "code",
   "execution_count": 95,
   "metadata": {
    "colab": {
     "base_uri": "https://localhost:8080/",
     "height": 112
    },
    "executionInfo": {
     "elapsed": 2406,
     "status": "ok",
     "timestamp": 1621352925233,
     "user": {
      "displayName": "Vincenzo Nardelli",
      "photoUrl": "https://lh3.googleusercontent.com/a-/AOh14GjPK26_e6OTwkTbx-Bj4I8qLqir6RkknYKsq2GM=s64",
      "userId": "12315026942894680720"
     },
     "user_tz": -120
    },
    "id": "CIubcuft1Hcu",
    "jupyter": {
     "outputs_hidden": false
    },
    "outputId": "830f2980-400e-43d5-a05c-7c11cdea05fa"
   },
   "outputs": [
    {
     "data": {
      "text/html": [
       "<div>\n",
       "<style scoped>\n",
       "    .dataframe tbody tr th:only-of-type {\n",
       "        vertical-align: middle;\n",
       "    }\n",
       "\n",
       "    .dataframe tbody tr th {\n",
       "        vertical-align: top;\n",
       "    }\n",
       "\n",
       "    .dataframe thead th {\n",
       "        text-align: right;\n",
       "    }\n",
       "</style>\n",
       "<table border=\"1\" class=\"dataframe\">\n",
       "  <thead>\n",
       "    <tr style=\"text-align: right;\">\n",
       "      <th></th>\n",
       "      <th>a</th>\n",
       "      <th>b</th>\n",
       "      <th>c</th>\n",
       "    </tr>\n",
       "  </thead>\n",
       "  <tbody>\n",
       "    <tr>\n",
       "      <th>0</th>\n",
       "      <td>1.0</td>\n",
       "      <td>2</td>\n",
       "      <td>NaN</td>\n",
       "    </tr>\n",
       "    <tr>\n",
       "      <th>1</th>\n",
       "      <td>NaN</td>\n",
       "      <td>3</td>\n",
       "      <td>4.0</td>\n",
       "    </tr>\n",
       "  </tbody>\n",
       "</table>\n",
       "</div>"
      ],
      "text/plain": [
       "     a  b    c\n",
       "0  1.0  2  NaN\n",
       "1  NaN  3  4.0"
      ]
     },
     "execution_count": 95,
     "metadata": {},
     "output_type": "execute_result"
    }
   ],
   "source": [
    "pd.DataFrame([{'a': 1, 'b': 2}, {'b': 3, 'c': 4}])"
   ]
  },
  {
   "cell_type": "markdown",
   "metadata": {
    "id": "QdqjIirh1Hcu"
   },
   "source": [
    "From a two-dimensional NumPy array"
   ]
  },
  {
   "cell_type": "code",
   "execution_count": 96,
   "metadata": {
    "colab": {
     "base_uri": "https://localhost:8080/",
     "height": 143
    },
    "executionInfo": {
     "elapsed": 2401,
     "status": "ok",
     "timestamp": 1621352925233,
     "user": {
      "displayName": "Vincenzo Nardelli",
      "photoUrl": "https://lh3.googleusercontent.com/a-/AOh14GjPK26_e6OTwkTbx-Bj4I8qLqir6RkknYKsq2GM=s64",
      "userId": "12315026942894680720"
     },
     "user_tz": -120
    },
    "id": "XHHrEVM61Hcv",
    "jupyter": {
     "outputs_hidden": false
    },
    "outputId": "fecb8806-b08f-41d2-e5f8-b9b9c1af3392"
   },
   "outputs": [
    {
     "data": {
      "text/html": [
       "<div>\n",
       "<style scoped>\n",
       "    .dataframe tbody tr th:only-of-type {\n",
       "        vertical-align: middle;\n",
       "    }\n",
       "\n",
       "    .dataframe tbody tr th {\n",
       "        vertical-align: top;\n",
       "    }\n",
       "\n",
       "    .dataframe thead th {\n",
       "        text-align: right;\n",
       "    }\n",
       "</style>\n",
       "<table border=\"1\" class=\"dataframe\">\n",
       "  <thead>\n",
       "    <tr style=\"text-align: right;\">\n",
       "      <th></th>\n",
       "      <th>foo</th>\n",
       "      <th>bar</th>\n",
       "    </tr>\n",
       "  </thead>\n",
       "  <tbody>\n",
       "    <tr>\n",
       "      <th>a</th>\n",
       "      <td>0.652790</td>\n",
       "      <td>0.635059</td>\n",
       "    </tr>\n",
       "    <tr>\n",
       "      <th>b</th>\n",
       "      <td>0.995300</td>\n",
       "      <td>0.581850</td>\n",
       "    </tr>\n",
       "    <tr>\n",
       "      <th>c</th>\n",
       "      <td>0.414369</td>\n",
       "      <td>0.474698</td>\n",
       "    </tr>\n",
       "  </tbody>\n",
       "</table>\n",
       "</div>"
      ],
      "text/plain": [
       "        foo       bar\n",
       "a  0.652790  0.635059\n",
       "b  0.995300  0.581850\n",
       "c  0.414369  0.474698"
      ]
     },
     "execution_count": 96,
     "metadata": {},
     "output_type": "execute_result"
    }
   ],
   "source": [
    "pd.DataFrame(np.random.rand(3, 2),\n",
    "             columns=['foo', 'bar'],\n",
    "             index=['a', 'b', 'c'])"
   ]
  },
  {
   "cell_type": "markdown",
   "metadata": {
    "id": "RuANz5vuG8Pb"
   },
   "source": [
    "## Data loading"
   ]
  },
  {
   "cell_type": "code",
   "execution_count": 97,
   "metadata": {
    "colab": {
     "base_uri": "https://localhost:8080/",
     "height": 206
    },
    "executionInfo": {
     "elapsed": 3215,
     "status": "ok",
     "timestamp": 1621352926052,
     "user": {
      "displayName": "Vincenzo Nardelli",
      "photoUrl": "https://lh3.googleusercontent.com/a-/AOh14GjPK26_e6OTwkTbx-Bj4I8qLqir6RkknYKsq2GM=s64",
      "userId": "12315026942894680720"
     },
     "user_tz": -120
    },
    "id": "ITosW9GgG8Pb",
    "outputId": "e1eaa95b-0739-49e0-9af1-eb24a1d42daf"
   },
   "outputs": [
    {
     "data": {
      "text/html": [
       "<div>\n",
       "<style scoped>\n",
       "    .dataframe tbody tr th:only-of-type {\n",
       "        vertical-align: middle;\n",
       "    }\n",
       "\n",
       "    .dataframe tbody tr th {\n",
       "        vertical-align: top;\n",
       "    }\n",
       "\n",
       "    .dataframe thead th {\n",
       "        text-align: right;\n",
       "    }\n",
       "</style>\n",
       "<table border=\"1\" class=\"dataframe\">\n",
       "  <thead>\n",
       "    <tr style=\"text-align: right;\">\n",
       "      <th></th>\n",
       "      <th>PassengerId</th>\n",
       "      <th>Survived</th>\n",
       "      <th>Pclass</th>\n",
       "      <th>Name</th>\n",
       "      <th>Sex</th>\n",
       "      <th>Age</th>\n",
       "      <th>SibSp</th>\n",
       "      <th>Parch</th>\n",
       "      <th>Ticket</th>\n",
       "      <th>Fare</th>\n",
       "      <th>Cabin</th>\n",
       "      <th>Embarked</th>\n",
       "    </tr>\n",
       "  </thead>\n",
       "  <tbody>\n",
       "    <tr>\n",
       "      <th>0</th>\n",
       "      <td>1</td>\n",
       "      <td>0</td>\n",
       "      <td>3</td>\n",
       "      <td>Braund, Mr. Owen Harris</td>\n",
       "      <td>male</td>\n",
       "      <td>22.0</td>\n",
       "      <td>1</td>\n",
       "      <td>0</td>\n",
       "      <td>A/5 21171</td>\n",
       "      <td>7.2500</td>\n",
       "      <td>NaN</td>\n",
       "      <td>S</td>\n",
       "    </tr>\n",
       "    <tr>\n",
       "      <th>1</th>\n",
       "      <td>2</td>\n",
       "      <td>1</td>\n",
       "      <td>1</td>\n",
       "      <td>Cumings, Mrs. John Bradley (Florence Briggs Th...</td>\n",
       "      <td>female</td>\n",
       "      <td>38.0</td>\n",
       "      <td>1</td>\n",
       "      <td>0</td>\n",
       "      <td>PC 17599</td>\n",
       "      <td>71.2833</td>\n",
       "      <td>C85</td>\n",
       "      <td>C</td>\n",
       "    </tr>\n",
       "    <tr>\n",
       "      <th>2</th>\n",
       "      <td>3</td>\n",
       "      <td>1</td>\n",
       "      <td>3</td>\n",
       "      <td>Heikkinen, Miss. Laina</td>\n",
       "      <td>female</td>\n",
       "      <td>26.0</td>\n",
       "      <td>0</td>\n",
       "      <td>0</td>\n",
       "      <td>STON/O2. 3101282</td>\n",
       "      <td>7.9250</td>\n",
       "      <td>NaN</td>\n",
       "      <td>S</td>\n",
       "    </tr>\n",
       "    <tr>\n",
       "      <th>3</th>\n",
       "      <td>4</td>\n",
       "      <td>1</td>\n",
       "      <td>1</td>\n",
       "      <td>Futrelle, Mrs. Jacques Heath (Lily May Peel)</td>\n",
       "      <td>female</td>\n",
       "      <td>35.0</td>\n",
       "      <td>1</td>\n",
       "      <td>0</td>\n",
       "      <td>113803</td>\n",
       "      <td>53.1000</td>\n",
       "      <td>C123</td>\n",
       "      <td>S</td>\n",
       "    </tr>\n",
       "    <tr>\n",
       "      <th>4</th>\n",
       "      <td>5</td>\n",
       "      <td>0</td>\n",
       "      <td>3</td>\n",
       "      <td>Allen, Mr. William Henry</td>\n",
       "      <td>male</td>\n",
       "      <td>35.0</td>\n",
       "      <td>0</td>\n",
       "      <td>0</td>\n",
       "      <td>373450</td>\n",
       "      <td>8.0500</td>\n",
       "      <td>NaN</td>\n",
       "      <td>S</td>\n",
       "    </tr>\n",
       "  </tbody>\n",
       "</table>\n",
       "</div>"
      ],
      "text/plain": [
       "   PassengerId  Survived  Pclass  \\\n",
       "0            1         0       3   \n",
       "1            2         1       1   \n",
       "2            3         1       3   \n",
       "3            4         1       1   \n",
       "4            5         0       3   \n",
       "\n",
       "                                                Name     Sex   Age  SibSp  \\\n",
       "0                            Braund, Mr. Owen Harris    male  22.0      1   \n",
       "1  Cumings, Mrs. John Bradley (Florence Briggs Th...  female  38.0      1   \n",
       "2                             Heikkinen, Miss. Laina  female  26.0      0   \n",
       "3       Futrelle, Mrs. Jacques Heath (Lily May Peel)  female  35.0      1   \n",
       "4                           Allen, Mr. William Henry    male  35.0      0   \n",
       "\n",
       "   Parch            Ticket     Fare Cabin Embarked  \n",
       "0      0         A/5 21171   7.2500   NaN        S  \n",
       "1      0          PC 17599  71.2833   C85        C  \n",
       "2      0  STON/O2. 3101282   7.9250   NaN        S  \n",
       "3      0            113803  53.1000  C123        S  \n",
       "4      0            373450   8.0500   NaN        S  "
      ]
     },
     "execution_count": 97,
     "metadata": {},
     "output_type": "execute_result"
    }
   ],
   "source": [
    "path = \"https://raw.githubusercontent.com/pandas-dev/pandas/master/doc/data/titanic.csv\"\n",
    "titanic = pd.read_csv(path)\n",
    "titanic.head()"
   ]
  },
  {
   "cell_type": "code",
   "execution_count": 98,
   "metadata": {
    "colab": {
     "base_uri": "https://localhost:8080/",
     "height": 269
    },
    "executionInfo": {
     "elapsed": 3212,
     "status": "ok",
     "timestamp": 1621352926053,
     "user": {
      "displayName": "Vincenzo Nardelli",
      "photoUrl": "https://lh3.googleusercontent.com/a-/AOh14GjPK26_e6OTwkTbx-Bj4I8qLqir6RkknYKsq2GM=s64",
      "userId": "12315026942894680720"
     },
     "user_tz": -120
    },
    "id": "jX1AL60nG8Pb",
    "outputId": "9e2bfcfa-948d-46f2-8f1f-ab12c991c3d5"
   },
   "outputs": [],
   "source": [
    "#path_xls = \"https://github.com/pandas-dev/pandas/blob/master/doc/data/test.xls?raw=true\"\n",
    "#test = pd.read_excel(path_xls)\n",
    "#test"
   ]
  },
  {
   "cell_type": "code",
   "execution_count": 99,
   "metadata": {
    "colab": {
     "base_uri": "https://localhost:8080/",
     "height": 238
    },
    "executionInfo": {
     "elapsed": 3948,
     "status": "ok",
     "timestamp": 1621352926794,
     "user": {
      "displayName": "Vincenzo Nardelli",
      "photoUrl": "https://lh3.googleusercontent.com/a-/AOh14GjPK26_e6OTwkTbx-Bj4I8qLqir6RkknYKsq2GM=s64",
      "userId": "12315026942894680720"
     },
     "user_tz": -120
    },
    "id": "DjN0aa7LG8Pb",
    "outputId": "88718c5d-3d8f-4db1-8503-4a7a3bfd0ea0"
   },
   "outputs": [
    {
     "data": {
      "text/html": [
       "<div>\n",
       "<style scoped>\n",
       "    .dataframe tbody tr th:only-of-type {\n",
       "        vertical-align: middle;\n",
       "    }\n",
       "\n",
       "    .dataframe tbody tr th {\n",
       "        vertical-align: top;\n",
       "    }\n",
       "\n",
       "    .dataframe thead tr th {\n",
       "        text-align: left;\n",
       "    }\n",
       "</style>\n",
       "<table border=\"1\" class=\"dataframe\">\n",
       "  <thead>\n",
       "    <tr>\n",
       "      <th></th>\n",
       "      <th>City[a]</th>\n",
       "      <th>Country</th>\n",
       "      <th>UN 2018 population estimates[b]</th>\n",
       "      <th colspan=\"4\" halign=\"left\">City proper[c]</th>\n",
       "      <th colspan=\"3\" halign=\"left\">Metropolitan area[d]</th>\n",
       "      <th colspan=\"3\" halign=\"left\">Urban area[8]</th>\n",
       "    </tr>\n",
       "    <tr>\n",
       "      <th></th>\n",
       "      <th>City[a]</th>\n",
       "      <th>Country</th>\n",
       "      <th>UN 2018 population estimates[b]</th>\n",
       "      <th>Definition</th>\n",
       "      <th>Population</th>\n",
       "      <th>Area(km2)</th>\n",
       "      <th>Density(/km2)</th>\n",
       "      <th>Population</th>\n",
       "      <th>Area(km2)</th>\n",
       "      <th>Density(/km2)</th>\n",
       "      <th>Population</th>\n",
       "      <th>Area(km2)</th>\n",
       "      <th>Density(/km2)</th>\n",
       "    </tr>\n",
       "  </thead>\n",
       "  <tbody>\n",
       "    <tr>\n",
       "      <th>0</th>\n",
       "      <td>NaN</td>\n",
       "      <td>NaN</td>\n",
       "      <td>NaN</td>\n",
       "      <td>NaN</td>\n",
       "      <td>NaN</td>\n",
       "      <td>NaN</td>\n",
       "      <td>NaN</td>\n",
       "      <td>NaN</td>\n",
       "      <td>NaN</td>\n",
       "      <td>NaN</td>\n",
       "      <td>NaN</td>\n",
       "      <td>NaN</td>\n",
       "      <td>NaN</td>\n",
       "    </tr>\n",
       "    <tr>\n",
       "      <th>1</th>\n",
       "      <td>Tokyo</td>\n",
       "      <td>Japan</td>\n",
       "      <td>37468000.0</td>\n",
       "      <td>Metropolis prefecture</td>\n",
       "      <td>13515271.0</td>\n",
       "      <td>2191.0</td>\n",
       "      <td>6,169[13]</td>\n",
       "      <td>37274000</td>\n",
       "      <td>13452.0</td>\n",
       "      <td>2,771[14]</td>\n",
       "      <td>39105000</td>\n",
       "      <td>8231.0</td>\n",
       "      <td>4,751[e]</td>\n",
       "    </tr>\n",
       "    <tr>\n",
       "      <th>2</th>\n",
       "      <td>Delhi</td>\n",
       "      <td>India</td>\n",
       "      <td>28514000.0</td>\n",
       "      <td>Capital City</td>\n",
       "      <td>16753235.0</td>\n",
       "      <td>1484.0</td>\n",
       "      <td>11,289[15]</td>\n",
       "      <td>29000000</td>\n",
       "      <td>3483.0</td>\n",
       "      <td>8,326[16]</td>\n",
       "      <td>31870000</td>\n",
       "      <td>2233.0</td>\n",
       "      <td>14,272[f]</td>\n",
       "    </tr>\n",
       "    <tr>\n",
       "      <th>3</th>\n",
       "      <td>Shanghai</td>\n",
       "      <td>China</td>\n",
       "      <td>25582000.0</td>\n",
       "      <td>Municipality</td>\n",
       "      <td>24870895.0</td>\n",
       "      <td>6341.0</td>\n",
       "      <td>3,922[17][18]</td>\n",
       "      <td>NaN</td>\n",
       "      <td>NaN</td>\n",
       "      <td>NaN</td>\n",
       "      <td>22118000</td>\n",
       "      <td>4069.0</td>\n",
       "      <td>5,436[g]</td>\n",
       "    </tr>\n",
       "    <tr>\n",
       "      <th>4</th>\n",
       "      <td>São Paulo</td>\n",
       "      <td>Brazil</td>\n",
       "      <td>21650000.0</td>\n",
       "      <td>Municipality</td>\n",
       "      <td>12252023.0</td>\n",
       "      <td>1521.0</td>\n",
       "      <td>8,055[19]</td>\n",
       "      <td>21734682</td>\n",
       "      <td>7947.0</td>\n",
       "      <td>2,735[20]</td>\n",
       "      <td>22495000</td>\n",
       "      <td>3237.0</td>\n",
       "      <td>6,949[h]</td>\n",
       "    </tr>\n",
       "  </tbody>\n",
       "</table>\n",
       "</div>"
      ],
      "text/plain": [
       "     City[a] Country UN 2018 population estimates[b]         City proper[c]  \\\n",
       "     City[a] Country UN 2018 population estimates[b]             Definition   \n",
       "0        NaN     NaN                             NaN                    NaN   \n",
       "1      Tokyo   Japan                      37468000.0  Metropolis prefecture   \n",
       "2      Delhi   India                      28514000.0           Capital City   \n",
       "3   Shanghai   China                      25582000.0           Municipality   \n",
       "4  São Paulo  Brazil                      21650000.0           Municipality   \n",
       "\n",
       "                                       Metropolitan area[d]            \\\n",
       "   Population Area(km2)  Density(/km2)           Population Area(km2)   \n",
       "0         NaN       NaN            NaN                  NaN       NaN   \n",
       "1  13515271.0    2191.0      6,169[13]             37274000   13452.0   \n",
       "2  16753235.0    1484.0     11,289[15]             29000000    3483.0   \n",
       "3  24870895.0    6341.0  3,922[17][18]                  NaN       NaN   \n",
       "4  12252023.0    1521.0      8,055[19]             21734682    7947.0   \n",
       "\n",
       "                Urban area[8]                          \n",
       "  Density(/km2)    Population Area(km2) Density(/km2)  \n",
       "0           NaN           NaN       NaN           NaN  \n",
       "1     2,771[14]      39105000    8231.0      4,751[e]  \n",
       "2     8,326[16]      31870000    2233.0     14,272[f]  \n",
       "3           NaN      22118000    4069.0      5,436[g]  \n",
       "4     2,735[20]      22495000    3237.0      6,949[h]  "
      ]
     },
     "execution_count": 99,
     "metadata": {},
     "output_type": "execute_result"
    }
   ],
   "source": [
    "df = pd.read_html('https://en.wikipedia.org/wiki/List_of_largest_cities')[1]\n",
    "df.head()"
   ]
  },
  {
   "cell_type": "code",
   "execution_count": 100,
   "metadata": {
    "executionInfo": {
     "elapsed": 3947,
     "status": "ok",
     "timestamp": 1621352926795,
     "user": {
      "displayName": "Vincenzo Nardelli",
      "photoUrl": "https://lh3.googleusercontent.com/a-/AOh14GjPK26_e6OTwkTbx-Bj4I8qLqir6RkknYKsq2GM=s64",
      "userId": "12315026942894680720"
     },
     "user_tz": -120
    },
    "id": "ci7QiaI1G8Pb"
   },
   "outputs": [],
   "source": [
    "#df.to_csv(\"scraped_data.csv\")\n",
    "#df.to_excel(\"scraped_data.xlsx\")"
   ]
  },
  {
   "cell_type": "markdown",
   "metadata": {
    "id": "oy33wyQUG8Pc"
   },
   "source": [
    "## Data Indexing and Selection"
   ]
  },
  {
   "cell_type": "code",
   "execution_count": 101,
   "metadata": {
    "colab": {
     "base_uri": "https://localhost:8080/"
    },
    "executionInfo": {
     "elapsed": 3943,
     "status": "ok",
     "timestamp": 1621352926795,
     "user": {
      "displayName": "Vincenzo Nardelli",
      "photoUrl": "https://lh3.googleusercontent.com/a-/AOh14GjPK26_e6OTwkTbx-Bj4I8qLqir6RkknYKsq2GM=s64",
      "userId": "12315026942894680720"
     },
     "user_tz": -120
    },
    "id": "gVbUNWWKG8Pc",
    "jupyter": {
     "outputs_hidden": false
    },
    "outputId": "3fee0e44-a1ea-4347-859b-8d276239be8b"
   },
   "outputs": [
    {
     "data": {
      "text/plain": [
       "California    423967\n",
       "Texas         695662\n",
       "New York      141297\n",
       "Florida       170312\n",
       "Illinois      149995\n",
       "Name: area, dtype: int64"
      ]
     },
     "execution_count": 101,
     "metadata": {},
     "output_type": "execute_result"
    }
   ],
   "source": [
    "states['area']"
   ]
  },
  {
   "cell_type": "markdown",
   "metadata": {
    "id": "5Da98Y0mG8Pc"
   },
   "source": [
    "Equivalently, we can use attribute-style access with column names that are strings:"
   ]
  },
  {
   "cell_type": "code",
   "execution_count": 102,
   "metadata": {
    "colab": {
     "base_uri": "https://localhost:8080/"
    },
    "executionInfo": {
     "elapsed": 3938,
     "status": "ok",
     "timestamp": 1621352926795,
     "user": {
      "displayName": "Vincenzo Nardelli",
      "photoUrl": "https://lh3.googleusercontent.com/a-/AOh14GjPK26_e6OTwkTbx-Bj4I8qLqir6RkknYKsq2GM=s64",
      "userId": "12315026942894680720"
     },
     "user_tz": -120
    },
    "id": "t4cRAiuwG8Pc",
    "jupyter": {
     "outputs_hidden": false
    },
    "outputId": "275bebb4-e09e-4996-97c1-2dbf3fecc448"
   },
   "outputs": [
    {
     "data": {
      "text/plain": [
       "California    423967\n",
       "Texas         695662\n",
       "New York      141297\n",
       "Florida       170312\n",
       "Illinois      149995\n",
       "Name: area, dtype: int64"
      ]
     },
     "execution_count": 102,
     "metadata": {},
     "output_type": "execute_result"
    }
   ],
   "source": [
    "states.area"
   ]
  },
  {
   "cell_type": "code",
   "execution_count": 103,
   "metadata": {
    "colab": {
     "base_uri": "https://localhost:8080/",
     "height": 206
    },
    "executionInfo": {
     "elapsed": 3934,
     "status": "ok",
     "timestamp": 1621352926795,
     "user": {
      "displayName": "Vincenzo Nardelli",
      "photoUrl": "https://lh3.googleusercontent.com/a-/AOh14GjPK26_e6OTwkTbx-Bj4I8qLqir6RkknYKsq2GM=s64",
      "userId": "12315026942894680720"
     },
     "user_tz": -120
    },
    "id": "DkQHhW3BG8Pc",
    "jupyter": {
     "outputs_hidden": false
    },
    "outputId": "0aae38ca-86f2-47cd-e529-251762fa1a80"
   },
   "outputs": [
    {
     "data": {
      "text/html": [
       "<div>\n",
       "<style scoped>\n",
       "    .dataframe tbody tr th:only-of-type {\n",
       "        vertical-align: middle;\n",
       "    }\n",
       "\n",
       "    .dataframe tbody tr th {\n",
       "        vertical-align: top;\n",
       "    }\n",
       "\n",
       "    .dataframe thead th {\n",
       "        text-align: right;\n",
       "    }\n",
       "</style>\n",
       "<table border=\"1\" class=\"dataframe\">\n",
       "  <thead>\n",
       "    <tr style=\"text-align: right;\">\n",
       "      <th></th>\n",
       "      <th>population</th>\n",
       "      <th>area</th>\n",
       "      <th>density</th>\n",
       "    </tr>\n",
       "  </thead>\n",
       "  <tbody>\n",
       "    <tr>\n",
       "      <th>California</th>\n",
       "      <td>38332521</td>\n",
       "      <td>423967</td>\n",
       "      <td>90.413926</td>\n",
       "    </tr>\n",
       "    <tr>\n",
       "      <th>Texas</th>\n",
       "      <td>26448193</td>\n",
       "      <td>695662</td>\n",
       "      <td>38.018740</td>\n",
       "    </tr>\n",
       "    <tr>\n",
       "      <th>New York</th>\n",
       "      <td>19651127</td>\n",
       "      <td>141297</td>\n",
       "      <td>139.076746</td>\n",
       "    </tr>\n",
       "    <tr>\n",
       "      <th>Florida</th>\n",
       "      <td>19552860</td>\n",
       "      <td>170312</td>\n",
       "      <td>114.806121</td>\n",
       "    </tr>\n",
       "    <tr>\n",
       "      <th>Illinois</th>\n",
       "      <td>12882135</td>\n",
       "      <td>149995</td>\n",
       "      <td>85.883763</td>\n",
       "    </tr>\n",
       "  </tbody>\n",
       "</table>\n",
       "</div>"
      ],
      "text/plain": [
       "            population    area     density\n",
       "California    38332521  423967   90.413926\n",
       "Texas         26448193  695662   38.018740\n",
       "New York      19651127  141297  139.076746\n",
       "Florida       19552860  170312  114.806121\n",
       "Illinois      12882135  149995   85.883763"
      ]
     },
     "execution_count": 103,
     "metadata": {},
     "output_type": "execute_result"
    }
   ],
   "source": [
    "states['density'] = states['population'] / states['area']\n",
    "states"
   ]
  },
  {
   "cell_type": "markdown",
   "metadata": {
    "id": "H99ASkhEG8Pd"
   },
   "source": [
    "Thus for array-style indexing, we need another convention.\n",
    "Here Pandas again uses the ``loc``and ``iloc`` indexers mentioned earlier.\n",
    "\n",
    "Using the ``iloc`` indexer, we can index the underlying array as if it is a simple NumPy array (using the implicit Python-style index), but the ``DataFrame`` index and column labels are maintained in the result:"
   ]
  },
  {
   "cell_type": "code",
   "execution_count": 104,
   "metadata": {
    "colab": {
     "base_uri": "https://localhost:8080/",
     "height": 143
    },
    "executionInfo": {
     "elapsed": 3930,
     "status": "ok",
     "timestamp": 1621352926796,
     "user": {
      "displayName": "Vincenzo Nardelli",
      "photoUrl": "https://lh3.googleusercontent.com/a-/AOh14GjPK26_e6OTwkTbx-Bj4I8qLqir6RkknYKsq2GM=s64",
      "userId": "12315026942894680720"
     },
     "user_tz": -120
    },
    "id": "R_KpiZCGG8Pd",
    "jupyter": {
     "outputs_hidden": false
    },
    "outputId": "d1f113f0-6f83-4822-e5a6-b2d7a1ba9eab"
   },
   "outputs": [
    {
     "data": {
      "text/html": [
       "<div>\n",
       "<style scoped>\n",
       "    .dataframe tbody tr th:only-of-type {\n",
       "        vertical-align: middle;\n",
       "    }\n",
       "\n",
       "    .dataframe tbody tr th {\n",
       "        vertical-align: top;\n",
       "    }\n",
       "\n",
       "    .dataframe thead th {\n",
       "        text-align: right;\n",
       "    }\n",
       "</style>\n",
       "<table border=\"1\" class=\"dataframe\">\n",
       "  <thead>\n",
       "    <tr style=\"text-align: right;\">\n",
       "      <th></th>\n",
       "      <th>population</th>\n",
       "      <th>area</th>\n",
       "    </tr>\n",
       "  </thead>\n",
       "  <tbody>\n",
       "    <tr>\n",
       "      <th>California</th>\n",
       "      <td>38332521</td>\n",
       "      <td>423967</td>\n",
       "    </tr>\n",
       "    <tr>\n",
       "      <th>Texas</th>\n",
       "      <td>26448193</td>\n",
       "      <td>695662</td>\n",
       "    </tr>\n",
       "    <tr>\n",
       "      <th>New York</th>\n",
       "      <td>19651127</td>\n",
       "      <td>141297</td>\n",
       "    </tr>\n",
       "  </tbody>\n",
       "</table>\n",
       "</div>"
      ],
      "text/plain": [
       "            population    area\n",
       "California    38332521  423967\n",
       "Texas         26448193  695662\n",
       "New York      19651127  141297"
      ]
     },
     "execution_count": 104,
     "metadata": {},
     "output_type": "execute_result"
    }
   ],
   "source": [
    "states.iloc[:3, :2]"
   ]
  },
  {
   "cell_type": "markdown",
   "metadata": {
    "id": "RzUsHcHzG8Pd"
   },
   "source": [
    "Similarly, using the ``loc`` indexer we can index the underlying data in an array-like style but using the explicit index and column names:"
   ]
  },
  {
   "cell_type": "code",
   "execution_count": 105,
   "metadata": {
    "colab": {
     "base_uri": "https://localhost:8080/",
     "height": 143
    },
    "executionInfo": {
     "elapsed": 3925,
     "status": "ok",
     "timestamp": 1621352926796,
     "user": {
      "displayName": "Vincenzo Nardelli",
      "photoUrl": "https://lh3.googleusercontent.com/a-/AOh14GjPK26_e6OTwkTbx-Bj4I8qLqir6RkknYKsq2GM=s64",
      "userId": "12315026942894680720"
     },
     "user_tz": -120
    },
    "id": "u1zAX0xGG8Pd",
    "jupyter": {
     "outputs_hidden": false
    },
    "outputId": "8ab6d741-f99e-42bd-e1b2-39e58f803b18"
   },
   "outputs": [
    {
     "data": {
      "text/html": [
       "<div>\n",
       "<style scoped>\n",
       "    .dataframe tbody tr th:only-of-type {\n",
       "        vertical-align: middle;\n",
       "    }\n",
       "\n",
       "    .dataframe tbody tr th {\n",
       "        vertical-align: top;\n",
       "    }\n",
       "\n",
       "    .dataframe thead th {\n",
       "        text-align: right;\n",
       "    }\n",
       "</style>\n",
       "<table border=\"1\" class=\"dataframe\">\n",
       "  <thead>\n",
       "    <tr style=\"text-align: right;\">\n",
       "      <th></th>\n",
       "      <th>population</th>\n",
       "      <th>area</th>\n",
       "    </tr>\n",
       "  </thead>\n",
       "  <tbody>\n",
       "    <tr>\n",
       "      <th>California</th>\n",
       "      <td>38332521</td>\n",
       "      <td>423967</td>\n",
       "    </tr>\n",
       "    <tr>\n",
       "      <th>Texas</th>\n",
       "      <td>26448193</td>\n",
       "      <td>695662</td>\n",
       "    </tr>\n",
       "    <tr>\n",
       "      <th>New York</th>\n",
       "      <td>19651127</td>\n",
       "      <td>141297</td>\n",
       "    </tr>\n",
       "  </tbody>\n",
       "</table>\n",
       "</div>"
      ],
      "text/plain": [
       "            population    area\n",
       "California    38332521  423967\n",
       "Texas         26448193  695662\n",
       "New York      19651127  141297"
      ]
     },
     "execution_count": 105,
     "metadata": {},
     "output_type": "execute_result"
    }
   ],
   "source": [
    "states.loc[:'New York', :'area']"
   ]
  },
  {
   "cell_type": "code",
   "execution_count": 106,
   "metadata": {
    "colab": {
     "base_uri": "https://localhost:8080/",
     "height": 112
    },
    "executionInfo": {
     "elapsed": 3919,
     "status": "ok",
     "timestamp": 1621352926796,
     "user": {
      "displayName": "Vincenzo Nardelli",
      "photoUrl": "https://lh3.googleusercontent.com/a-/AOh14GjPK26_e6OTwkTbx-Bj4I8qLqir6RkknYKsq2GM=s64",
      "userId": "12315026942894680720"
     },
     "user_tz": -120
    },
    "id": "85VbCUn9G8Pd",
    "jupyter": {
     "outputs_hidden": false
    },
    "outputId": "dba76d68-847f-4162-e95e-a32275852a6f"
   },
   "outputs": [
    {
     "data": {
      "text/html": [
       "<div>\n",
       "<style scoped>\n",
       "    .dataframe tbody tr th:only-of-type {\n",
       "        vertical-align: middle;\n",
       "    }\n",
       "\n",
       "    .dataframe tbody tr th {\n",
       "        vertical-align: top;\n",
       "    }\n",
       "\n",
       "    .dataframe thead th {\n",
       "        text-align: right;\n",
       "    }\n",
       "</style>\n",
       "<table border=\"1\" class=\"dataframe\">\n",
       "  <thead>\n",
       "    <tr style=\"text-align: right;\">\n",
       "      <th></th>\n",
       "      <th>population</th>\n",
       "      <th>density</th>\n",
       "    </tr>\n",
       "  </thead>\n",
       "  <tbody>\n",
       "    <tr>\n",
       "      <th>New York</th>\n",
       "      <td>19651127</td>\n",
       "      <td>139.076746</td>\n",
       "    </tr>\n",
       "    <tr>\n",
       "      <th>Florida</th>\n",
       "      <td>19552860</td>\n",
       "      <td>114.806121</td>\n",
       "    </tr>\n",
       "  </tbody>\n",
       "</table>\n",
       "</div>"
      ],
      "text/plain": [
       "          population     density\n",
       "New York    19651127  139.076746\n",
       "Florida     19552860  114.806121"
      ]
     },
     "execution_count": 106,
     "metadata": {},
     "output_type": "execute_result"
    }
   ],
   "source": [
    "states.loc[states.density > 100, ['population', 'density']]"
   ]
  },
  {
   "cell_type": "markdown",
   "metadata": {
    "id": "Jh2OYYzyG8Pd"
   },
   "source": [
    "Additional indexing conventions\n",
    "\n",
    "There are a couple extra indexing conventions that might seem at odds with the preceding discussion, but nevertheless can be very useful in practice.\n",
    "First, while *indexing* refers to columns, *slicing* refers to rows:"
   ]
  },
  {
   "cell_type": "code",
   "execution_count": 107,
   "metadata": {
    "colab": {
     "base_uri": "https://localhost:8080/",
     "height": 112
    },
    "executionInfo": {
     "elapsed": 3916,
     "status": "ok",
     "timestamp": 1621352926797,
     "user": {
      "displayName": "Vincenzo Nardelli",
      "photoUrl": "https://lh3.googleusercontent.com/a-/AOh14GjPK26_e6OTwkTbx-Bj4I8qLqir6RkknYKsq2GM=s64",
      "userId": "12315026942894680720"
     },
     "user_tz": -120
    },
    "id": "rs0POckiG8Pd",
    "jupyter": {
     "outputs_hidden": false
    },
    "outputId": "3ed9aabe-fcc5-4cfe-9ba0-9400435fd427"
   },
   "outputs": [
    {
     "data": {
      "text/html": [
       "<div>\n",
       "<style scoped>\n",
       "    .dataframe tbody tr th:only-of-type {\n",
       "        vertical-align: middle;\n",
       "    }\n",
       "\n",
       "    .dataframe tbody tr th {\n",
       "        vertical-align: top;\n",
       "    }\n",
       "\n",
       "    .dataframe thead th {\n",
       "        text-align: right;\n",
       "    }\n",
       "</style>\n",
       "<table border=\"1\" class=\"dataframe\">\n",
       "  <thead>\n",
       "    <tr style=\"text-align: right;\">\n",
       "      <th></th>\n",
       "      <th>population</th>\n",
       "      <th>area</th>\n",
       "      <th>density</th>\n",
       "    </tr>\n",
       "  </thead>\n",
       "  <tbody>\n",
       "    <tr>\n",
       "      <th>Florida</th>\n",
       "      <td>19552860</td>\n",
       "      <td>170312</td>\n",
       "      <td>114.806121</td>\n",
       "    </tr>\n",
       "    <tr>\n",
       "      <th>Illinois</th>\n",
       "      <td>12882135</td>\n",
       "      <td>149995</td>\n",
       "      <td>85.883763</td>\n",
       "    </tr>\n",
       "  </tbody>\n",
       "</table>\n",
       "</div>"
      ],
      "text/plain": [
       "          population    area     density\n",
       "Florida     19552860  170312  114.806121\n",
       "Illinois    12882135  149995   85.883763"
      ]
     },
     "execution_count": 107,
     "metadata": {},
     "output_type": "execute_result"
    }
   ],
   "source": [
    "states['Florida':'Illinois']"
   ]
  },
  {
   "cell_type": "markdown",
   "metadata": {
    "id": "eE75vB4VG8Pe"
   },
   "source": [
    "Such slices can also refer to rows by number rather than by index:"
   ]
  },
  {
   "cell_type": "code",
   "execution_count": 108,
   "metadata": {
    "colab": {
     "base_uri": "https://localhost:8080/",
     "height": 112
    },
    "executionInfo": {
     "elapsed": 3910,
     "status": "ok",
     "timestamp": 1621352926797,
     "user": {
      "displayName": "Vincenzo Nardelli",
      "photoUrl": "https://lh3.googleusercontent.com/a-/AOh14GjPK26_e6OTwkTbx-Bj4I8qLqir6RkknYKsq2GM=s64",
      "userId": "12315026942894680720"
     },
     "user_tz": -120
    },
    "id": "iv2IZngzG8Pe",
    "jupyter": {
     "outputs_hidden": false
    },
    "outputId": "aa337824-b8a3-481b-f0cc-4a313783cc48"
   },
   "outputs": [
    {
     "data": {
      "text/html": [
       "<div>\n",
       "<style scoped>\n",
       "    .dataframe tbody tr th:only-of-type {\n",
       "        vertical-align: middle;\n",
       "    }\n",
       "\n",
       "    .dataframe tbody tr th {\n",
       "        vertical-align: top;\n",
       "    }\n",
       "\n",
       "    .dataframe thead th {\n",
       "        text-align: right;\n",
       "    }\n",
       "</style>\n",
       "<table border=\"1\" class=\"dataframe\">\n",
       "  <thead>\n",
       "    <tr style=\"text-align: right;\">\n",
       "      <th></th>\n",
       "      <th>population</th>\n",
       "      <th>area</th>\n",
       "      <th>density</th>\n",
       "    </tr>\n",
       "  </thead>\n",
       "  <tbody>\n",
       "    <tr>\n",
       "      <th>Texas</th>\n",
       "      <td>26448193</td>\n",
       "      <td>695662</td>\n",
       "      <td>38.018740</td>\n",
       "    </tr>\n",
       "    <tr>\n",
       "      <th>New York</th>\n",
       "      <td>19651127</td>\n",
       "      <td>141297</td>\n",
       "      <td>139.076746</td>\n",
       "    </tr>\n",
       "  </tbody>\n",
       "</table>\n",
       "</div>"
      ],
      "text/plain": [
       "          population    area     density\n",
       "Texas       26448193  695662   38.018740\n",
       "New York    19651127  141297  139.076746"
      ]
     },
     "execution_count": 108,
     "metadata": {},
     "output_type": "execute_result"
    }
   ],
   "source": [
    "states[1:3]"
   ]
  },
  {
   "cell_type": "markdown",
   "metadata": {
    "id": "BTzSwJdPG8Pe"
   },
   "source": [
    "Similarly, direct masking operations are also interpreted row-wise rather than column-wise:"
   ]
  },
  {
   "cell_type": "code",
   "execution_count": 109,
   "metadata": {
    "colab": {
     "base_uri": "https://localhost:8080/",
     "height": 112
    },
    "executionInfo": {
     "elapsed": 3906,
     "status": "ok",
     "timestamp": 1621352926798,
     "user": {
      "displayName": "Vincenzo Nardelli",
      "photoUrl": "https://lh3.googleusercontent.com/a-/AOh14GjPK26_e6OTwkTbx-Bj4I8qLqir6RkknYKsq2GM=s64",
      "userId": "12315026942894680720"
     },
     "user_tz": -120
    },
    "id": "EW8_13UKG8Pe",
    "jupyter": {
     "outputs_hidden": false
    },
    "outputId": "e519bfe7-b316-4748-e22e-b616b2dcb728"
   },
   "outputs": [
    {
     "data": {
      "text/html": [
       "<div>\n",
       "<style scoped>\n",
       "    .dataframe tbody tr th:only-of-type {\n",
       "        vertical-align: middle;\n",
       "    }\n",
       "\n",
       "    .dataframe tbody tr th {\n",
       "        vertical-align: top;\n",
       "    }\n",
       "\n",
       "    .dataframe thead th {\n",
       "        text-align: right;\n",
       "    }\n",
       "</style>\n",
       "<table border=\"1\" class=\"dataframe\">\n",
       "  <thead>\n",
       "    <tr style=\"text-align: right;\">\n",
       "      <th></th>\n",
       "      <th>population</th>\n",
       "      <th>area</th>\n",
       "      <th>density</th>\n",
       "    </tr>\n",
       "  </thead>\n",
       "  <tbody>\n",
       "    <tr>\n",
       "      <th>New York</th>\n",
       "      <td>19651127</td>\n",
       "      <td>141297</td>\n",
       "      <td>139.076746</td>\n",
       "    </tr>\n",
       "    <tr>\n",
       "      <th>Florida</th>\n",
       "      <td>19552860</td>\n",
       "      <td>170312</td>\n",
       "      <td>114.806121</td>\n",
       "    </tr>\n",
       "  </tbody>\n",
       "</table>\n",
       "</div>"
      ],
      "text/plain": [
       "          population    area     density\n",
       "New York    19651127  141297  139.076746\n",
       "Florida     19552860  170312  114.806121"
      ]
     },
     "execution_count": 109,
     "metadata": {},
     "output_type": "execute_result"
    }
   ],
   "source": [
    "states[states.density > 100]"
   ]
  },
  {
   "cell_type": "markdown",
   "metadata": {
    "id": "YULz2lee1HdD"
   },
   "source": [
    "## Aggregation and Grouping"
   ]
  },
  {
   "cell_type": "markdown",
   "metadata": {
    "id": "_ENJ1v8x1HdD"
   },
   "source": [
    "An essential piece of analysis of large data is efficient summarization: computing aggregations like ``sum()``, ``mean()``, ``median()``, ``min()``, and ``max()``, in which a single number gives insight into the nature of a potentially large dataset.\n",
    "In this section, we'll explore aggregations in Pandas, from simple operations akin to what we've seen on NumPy arrays, to more sophisticated operations based on the concept of a ``groupby``."
   ]
  },
  {
   "cell_type": "markdown",
   "metadata": {
    "id": "76XB1UQL1HdD"
   },
   "source": [
    "Here we will use the Planets dataset, available via the [Seaborn package](http://seaborn.pydata.org/) (see [Visualization With Seaborn](04.14-Visualization-With-Seaborn.ipynb)).\n",
    "It gives information on planets that astronomers have discovered around other stars (known as *extrasolar planets* or *exoplanets* for short). It can be downloaded with a simple Seaborn command:"
   ]
  },
  {
   "cell_type": "code",
   "execution_count": 110,
   "metadata": {
    "colab": {
     "base_uri": "https://localhost:8080/"
    },
    "executionInfo": {
     "elapsed": 4428,
     "status": "ok",
     "timestamp": 1621352927325,
     "user": {
      "displayName": "Vincenzo Nardelli",
      "photoUrl": "https://lh3.googleusercontent.com/a-/AOh14GjPK26_e6OTwkTbx-Bj4I8qLqir6RkknYKsq2GM=s64",
      "userId": "12315026942894680720"
     },
     "user_tz": -120
    },
    "id": "k6nzdA691HdD",
    "jupyter": {
     "outputs_hidden": false
    },
    "outputId": "bb650aba-d1c6-467b-e638-1835cb0ef289"
   },
   "outputs": [
    {
     "data": {
      "text/plain": [
       "(1035, 6)"
      ]
     },
     "execution_count": 110,
     "metadata": {},
     "output_type": "execute_result"
    }
   ],
   "source": [
    "import seaborn as sns\n",
    "planets = sns.load_dataset('planets')\n",
    "planets.shape"
   ]
  },
  {
   "cell_type": "code",
   "execution_count": 111,
   "metadata": {
    "colab": {
     "base_uri": "https://localhost:8080/",
     "height": 206
    },
    "executionInfo": {
     "elapsed": 4425,
     "status": "ok",
     "timestamp": 1621352927326,
     "user": {
      "displayName": "Vincenzo Nardelli",
      "photoUrl": "https://lh3.googleusercontent.com/a-/AOh14GjPK26_e6OTwkTbx-Bj4I8qLqir6RkknYKsq2GM=s64",
      "userId": "12315026942894680720"
     },
     "user_tz": -120
    },
    "id": "3CHh2pyI1HdE",
    "jupyter": {
     "outputs_hidden": false
    },
    "outputId": "37aee408-6a69-459d-da57-2f2ad0b46b87"
   },
   "outputs": [
    {
     "data": {
      "text/html": [
       "<div>\n",
       "<style scoped>\n",
       "    .dataframe tbody tr th:only-of-type {\n",
       "        vertical-align: middle;\n",
       "    }\n",
       "\n",
       "    .dataframe tbody tr th {\n",
       "        vertical-align: top;\n",
       "    }\n",
       "\n",
       "    .dataframe thead th {\n",
       "        text-align: right;\n",
       "    }\n",
       "</style>\n",
       "<table border=\"1\" class=\"dataframe\">\n",
       "  <thead>\n",
       "    <tr style=\"text-align: right;\">\n",
       "      <th></th>\n",
       "      <th>method</th>\n",
       "      <th>number</th>\n",
       "      <th>orbital_period</th>\n",
       "      <th>mass</th>\n",
       "      <th>distance</th>\n",
       "      <th>year</th>\n",
       "    </tr>\n",
       "  </thead>\n",
       "  <tbody>\n",
       "    <tr>\n",
       "      <th>0</th>\n",
       "      <td>Radial Velocity</td>\n",
       "      <td>1</td>\n",
       "      <td>269.300</td>\n",
       "      <td>7.10</td>\n",
       "      <td>77.40</td>\n",
       "      <td>2006</td>\n",
       "    </tr>\n",
       "    <tr>\n",
       "      <th>1</th>\n",
       "      <td>Radial Velocity</td>\n",
       "      <td>1</td>\n",
       "      <td>874.774</td>\n",
       "      <td>2.21</td>\n",
       "      <td>56.95</td>\n",
       "      <td>2008</td>\n",
       "    </tr>\n",
       "    <tr>\n",
       "      <th>2</th>\n",
       "      <td>Radial Velocity</td>\n",
       "      <td>1</td>\n",
       "      <td>763.000</td>\n",
       "      <td>2.60</td>\n",
       "      <td>19.84</td>\n",
       "      <td>2011</td>\n",
       "    </tr>\n",
       "    <tr>\n",
       "      <th>3</th>\n",
       "      <td>Radial Velocity</td>\n",
       "      <td>1</td>\n",
       "      <td>326.030</td>\n",
       "      <td>19.40</td>\n",
       "      <td>110.62</td>\n",
       "      <td>2007</td>\n",
       "    </tr>\n",
       "    <tr>\n",
       "      <th>4</th>\n",
       "      <td>Radial Velocity</td>\n",
       "      <td>1</td>\n",
       "      <td>516.220</td>\n",
       "      <td>10.50</td>\n",
       "      <td>119.47</td>\n",
       "      <td>2009</td>\n",
       "    </tr>\n",
       "  </tbody>\n",
       "</table>\n",
       "</div>"
      ],
      "text/plain": [
       "            method  number  orbital_period   mass  distance  year\n",
       "0  Radial Velocity       1         269.300   7.10     77.40  2006\n",
       "1  Radial Velocity       1         874.774   2.21     56.95  2008\n",
       "2  Radial Velocity       1         763.000   2.60     19.84  2011\n",
       "3  Radial Velocity       1         326.030  19.40    110.62  2007\n",
       "4  Radial Velocity       1         516.220  10.50    119.47  2009"
      ]
     },
     "execution_count": 111,
     "metadata": {},
     "output_type": "execute_result"
    }
   ],
   "source": [
    "planets.head()"
   ]
  },
  {
   "cell_type": "markdown",
   "metadata": {
    "id": "nClyrwgr1HdE"
   },
   "source": [
    "This has some details on the 1,000+ extrasolar planets discovered up to 2014."
   ]
  },
  {
   "cell_type": "markdown",
   "metadata": {
    "id": "UG4KpPA71HdE"
   },
   "source": [
    "## Simple Aggregation in Pandas"
   ]
  },
  {
   "cell_type": "code",
   "execution_count": 112,
   "metadata": {
    "colab": {
     "base_uri": "https://localhost:8080/"
    },
    "executionInfo": {
     "elapsed": 4419,
     "status": "ok",
     "timestamp": 1621352927326,
     "user": {
      "displayName": "Vincenzo Nardelli",
      "photoUrl": "https://lh3.googleusercontent.com/a-/AOh14GjPK26_e6OTwkTbx-Bj4I8qLqir6RkknYKsq2GM=s64",
      "userId": "12315026942894680720"
     },
     "user_tz": -120
    },
    "id": "Vj2M1u4_1HdE",
    "jupyter": {
     "outputs_hidden": false
    },
    "outputId": "d2b07791-a7bb-4d90-e823-3252ff368096"
   },
   "outputs": [
    {
     "data": {
      "text/plain": [
       "0    0.374540\n",
       "1    0.950714\n",
       "2    0.731994\n",
       "3    0.598658\n",
       "4    0.156019\n",
       "dtype: float64"
      ]
     },
     "execution_count": 112,
     "metadata": {},
     "output_type": "execute_result"
    }
   ],
   "source": [
    "rng = np.random.RandomState(42)\n",
    "ser = pd.Series(rng.rand(5))\n",
    "ser"
   ]
  },
  {
   "cell_type": "code",
   "execution_count": 113,
   "metadata": {
    "colab": {
     "base_uri": "https://localhost:8080/"
    },
    "executionInfo": {
     "elapsed": 4417,
     "status": "ok",
     "timestamp": 1621352927327,
     "user": {
      "displayName": "Vincenzo Nardelli",
      "photoUrl": "https://lh3.googleusercontent.com/a-/AOh14GjPK26_e6OTwkTbx-Bj4I8qLqir6RkknYKsq2GM=s64",
      "userId": "12315026942894680720"
     },
     "user_tz": -120
    },
    "id": "B7q1RqP01HdE",
    "jupyter": {
     "outputs_hidden": false
    },
    "outputId": "fc1eb993-3b90-4e71-9c94-5119e7f3a1ce"
   },
   "outputs": [
    {
     "data": {
      "text/plain": [
       "2.811925491708157"
      ]
     },
     "execution_count": 113,
     "metadata": {},
     "output_type": "execute_result"
    }
   ],
   "source": [
    "ser.sum()"
   ]
  },
  {
   "cell_type": "code",
   "execution_count": 114,
   "metadata": {
    "colab": {
     "base_uri": "https://localhost:8080/"
    },
    "executionInfo": {
     "elapsed": 4413,
     "status": "ok",
     "timestamp": 1621352927327,
     "user": {
      "displayName": "Vincenzo Nardelli",
      "photoUrl": "https://lh3.googleusercontent.com/a-/AOh14GjPK26_e6OTwkTbx-Bj4I8qLqir6RkknYKsq2GM=s64",
      "userId": "12315026942894680720"
     },
     "user_tz": -120
    },
    "id": "vGV0FjLG1HdF",
    "jupyter": {
     "outputs_hidden": false
    },
    "outputId": "42b766b4-dd12-4a1b-8cc3-16a0edb51145"
   },
   "outputs": [
    {
     "data": {
      "text/plain": [
       "0.5623850983416314"
      ]
     },
     "execution_count": 114,
     "metadata": {},
     "output_type": "execute_result"
    }
   ],
   "source": [
    "ser.mean()"
   ]
  },
  {
   "cell_type": "markdown",
   "metadata": {
    "id": "_NZbZ5KJ1HdF"
   },
   "source": [
    "For a ``DataFrame``, by default the aggregates return results within each column:"
   ]
  },
  {
   "cell_type": "code",
   "execution_count": 115,
   "metadata": {
    "colab": {
     "base_uri": "https://localhost:8080/",
     "height": 206
    },
    "executionInfo": {
     "elapsed": 4409,
     "status": "ok",
     "timestamp": 1621352927328,
     "user": {
      "displayName": "Vincenzo Nardelli",
      "photoUrl": "https://lh3.googleusercontent.com/a-/AOh14GjPK26_e6OTwkTbx-Bj4I8qLqir6RkknYKsq2GM=s64",
      "userId": "12315026942894680720"
     },
     "user_tz": -120
    },
    "id": "bNVWM3H01HdF",
    "jupyter": {
     "outputs_hidden": false
    },
    "outputId": "d4eef53f-943b-4735-9687-e35d044151f7"
   },
   "outputs": [
    {
     "data": {
      "text/html": [
       "<div>\n",
       "<style scoped>\n",
       "    .dataframe tbody tr th:only-of-type {\n",
       "        vertical-align: middle;\n",
       "    }\n",
       "\n",
       "    .dataframe tbody tr th {\n",
       "        vertical-align: top;\n",
       "    }\n",
       "\n",
       "    .dataframe thead th {\n",
       "        text-align: right;\n",
       "    }\n",
       "</style>\n",
       "<table border=\"1\" class=\"dataframe\">\n",
       "  <thead>\n",
       "    <tr style=\"text-align: right;\">\n",
       "      <th></th>\n",
       "      <th>A</th>\n",
       "      <th>B</th>\n",
       "    </tr>\n",
       "  </thead>\n",
       "  <tbody>\n",
       "    <tr>\n",
       "      <th>0</th>\n",
       "      <td>0.155995</td>\n",
       "      <td>0.020584</td>\n",
       "    </tr>\n",
       "    <tr>\n",
       "      <th>1</th>\n",
       "      <td>0.058084</td>\n",
       "      <td>0.969910</td>\n",
       "    </tr>\n",
       "    <tr>\n",
       "      <th>2</th>\n",
       "      <td>0.866176</td>\n",
       "      <td>0.832443</td>\n",
       "    </tr>\n",
       "    <tr>\n",
       "      <th>3</th>\n",
       "      <td>0.601115</td>\n",
       "      <td>0.212339</td>\n",
       "    </tr>\n",
       "    <tr>\n",
       "      <th>4</th>\n",
       "      <td>0.708073</td>\n",
       "      <td>0.181825</td>\n",
       "    </tr>\n",
       "  </tbody>\n",
       "</table>\n",
       "</div>"
      ],
      "text/plain": [
       "          A         B\n",
       "0  0.155995  0.020584\n",
       "1  0.058084  0.969910\n",
       "2  0.866176  0.832443\n",
       "3  0.601115  0.212339\n",
       "4  0.708073  0.181825"
      ]
     },
     "execution_count": 115,
     "metadata": {},
     "output_type": "execute_result"
    }
   ],
   "source": [
    "df = pd.DataFrame({'A': rng.rand(5),\n",
    "                   'B': rng.rand(5)})\n",
    "df"
   ]
  },
  {
   "cell_type": "code",
   "execution_count": 116,
   "metadata": {
    "colab": {
     "base_uri": "https://localhost:8080/"
    },
    "executionInfo": {
     "elapsed": 4405,
     "status": "ok",
     "timestamp": 1621352927328,
     "user": {
      "displayName": "Vincenzo Nardelli",
      "photoUrl": "https://lh3.googleusercontent.com/a-/AOh14GjPK26_e6OTwkTbx-Bj4I8qLqir6RkknYKsq2GM=s64",
      "userId": "12315026942894680720"
     },
     "user_tz": -120
    },
    "id": "FZKrypCq1HdF",
    "jupyter": {
     "outputs_hidden": false
    },
    "outputId": "e11a7dd0-2475-4030-c5d0-213639b26c39"
   },
   "outputs": [
    {
     "data": {
      "text/plain": [
       "A    0.477888\n",
       "B    0.443420\n",
       "dtype: float64"
      ]
     },
     "execution_count": 116,
     "metadata": {},
     "output_type": "execute_result"
    }
   ],
   "source": [
    "df.mean()"
   ]
  },
  {
   "cell_type": "markdown",
   "metadata": {
    "id": "ZvSNIidw1HdF"
   },
   "source": [
    "By specifying the ``axis`` argument, you can instead aggregate within each row:"
   ]
  },
  {
   "cell_type": "code",
   "execution_count": 117,
   "metadata": {
    "colab": {
     "base_uri": "https://localhost:8080/"
    },
    "executionInfo": {
     "elapsed": 4401,
     "status": "ok",
     "timestamp": 1621352927328,
     "user": {
      "displayName": "Vincenzo Nardelli",
      "photoUrl": "https://lh3.googleusercontent.com/a-/AOh14GjPK26_e6OTwkTbx-Bj4I8qLqir6RkknYKsq2GM=s64",
      "userId": "12315026942894680720"
     },
     "user_tz": -120
    },
    "id": "v2oEMVu51HdF",
    "jupyter": {
     "outputs_hidden": false
    },
    "outputId": "2ca9790c-7029-41dc-8a00-44247e6910ac"
   },
   "outputs": [
    {
     "data": {
      "text/plain": [
       "0    0.088290\n",
       "1    0.513997\n",
       "2    0.849309\n",
       "3    0.406727\n",
       "4    0.444949\n",
       "dtype: float64"
      ]
     },
     "execution_count": 117,
     "metadata": {},
     "output_type": "execute_result"
    }
   ],
   "source": [
    "df.mean(axis='columns')"
   ]
  },
  {
   "cell_type": "code",
   "execution_count": 118,
   "metadata": {
    "colab": {
     "base_uri": "https://localhost:8080/",
     "height": 300
    },
    "executionInfo": {
     "elapsed": 4397,
     "status": "ok",
     "timestamp": 1621352927329,
     "user": {
      "displayName": "Vincenzo Nardelli",
      "photoUrl": "https://lh3.googleusercontent.com/a-/AOh14GjPK26_e6OTwkTbx-Bj4I8qLqir6RkknYKsq2GM=s64",
      "userId": "12315026942894680720"
     },
     "user_tz": -120
    },
    "id": "aMzNU5fb1HdG",
    "jupyter": {
     "outputs_hidden": false
    },
    "outputId": "f8829c01-5833-432c-af25-0f0c1a0702dd"
   },
   "outputs": [
    {
     "data": {
      "text/html": [
       "<div>\n",
       "<style scoped>\n",
       "    .dataframe tbody tr th:only-of-type {\n",
       "        vertical-align: middle;\n",
       "    }\n",
       "\n",
       "    .dataframe tbody tr th {\n",
       "        vertical-align: top;\n",
       "    }\n",
       "\n",
       "    .dataframe thead th {\n",
       "        text-align: right;\n",
       "    }\n",
       "</style>\n",
       "<table border=\"1\" class=\"dataframe\">\n",
       "  <thead>\n",
       "    <tr style=\"text-align: right;\">\n",
       "      <th></th>\n",
       "      <th>number</th>\n",
       "      <th>orbital_period</th>\n",
       "      <th>mass</th>\n",
       "      <th>distance</th>\n",
       "      <th>year</th>\n",
       "    </tr>\n",
       "  </thead>\n",
       "  <tbody>\n",
       "    <tr>\n",
       "      <th>count</th>\n",
       "      <td>498.00000</td>\n",
       "      <td>498.000000</td>\n",
       "      <td>498.000000</td>\n",
       "      <td>498.000000</td>\n",
       "      <td>498.000000</td>\n",
       "    </tr>\n",
       "    <tr>\n",
       "      <th>mean</th>\n",
       "      <td>1.73494</td>\n",
       "      <td>835.778671</td>\n",
       "      <td>2.509320</td>\n",
       "      <td>52.068213</td>\n",
       "      <td>2007.377510</td>\n",
       "    </tr>\n",
       "    <tr>\n",
       "      <th>std</th>\n",
       "      <td>1.17572</td>\n",
       "      <td>1469.128259</td>\n",
       "      <td>3.636274</td>\n",
       "      <td>46.596041</td>\n",
       "      <td>4.167284</td>\n",
       "    </tr>\n",
       "    <tr>\n",
       "      <th>min</th>\n",
       "      <td>1.00000</td>\n",
       "      <td>1.328300</td>\n",
       "      <td>0.003600</td>\n",
       "      <td>1.350000</td>\n",
       "      <td>1989.000000</td>\n",
       "    </tr>\n",
       "    <tr>\n",
       "      <th>25%</th>\n",
       "      <td>1.00000</td>\n",
       "      <td>38.272250</td>\n",
       "      <td>0.212500</td>\n",
       "      <td>24.497500</td>\n",
       "      <td>2005.000000</td>\n",
       "    </tr>\n",
       "    <tr>\n",
       "      <th>50%</th>\n",
       "      <td>1.00000</td>\n",
       "      <td>357.000000</td>\n",
       "      <td>1.245000</td>\n",
       "      <td>39.940000</td>\n",
       "      <td>2009.000000</td>\n",
       "    </tr>\n",
       "    <tr>\n",
       "      <th>75%</th>\n",
       "      <td>2.00000</td>\n",
       "      <td>999.600000</td>\n",
       "      <td>2.867500</td>\n",
       "      <td>59.332500</td>\n",
       "      <td>2011.000000</td>\n",
       "    </tr>\n",
       "    <tr>\n",
       "      <th>max</th>\n",
       "      <td>6.00000</td>\n",
       "      <td>17337.500000</td>\n",
       "      <td>25.000000</td>\n",
       "      <td>354.000000</td>\n",
       "      <td>2014.000000</td>\n",
       "    </tr>\n",
       "  </tbody>\n",
       "</table>\n",
       "</div>"
      ],
      "text/plain": [
       "          number  orbital_period        mass    distance         year\n",
       "count  498.00000      498.000000  498.000000  498.000000   498.000000\n",
       "mean     1.73494      835.778671    2.509320   52.068213  2007.377510\n",
       "std      1.17572     1469.128259    3.636274   46.596041     4.167284\n",
       "min      1.00000        1.328300    0.003600    1.350000  1989.000000\n",
       "25%      1.00000       38.272250    0.212500   24.497500  2005.000000\n",
       "50%      1.00000      357.000000    1.245000   39.940000  2009.000000\n",
       "75%      2.00000      999.600000    2.867500   59.332500  2011.000000\n",
       "max      6.00000    17337.500000   25.000000  354.000000  2014.000000"
      ]
     },
     "execution_count": 118,
     "metadata": {},
     "output_type": "execute_result"
    }
   ],
   "source": [
    "planets.dropna().describe()"
   ]
  },
  {
   "cell_type": "markdown",
   "metadata": {
    "id": "GDCDI9D61HdG"
   },
   "source": [
    "The following table summarizes some other built-in Pandas aggregations:\n",
    "\n",
    "| Aggregation              | Description                     |\n",
    "|--------------------------|---------------------------------|\n",
    "| ``count()``              | Total number of items           |\n",
    "| ``first()``, ``last()``  | First and last item             |\n",
    "| ``mean()``, ``median()`` | Mean and median                 |\n",
    "| ``min()``, ``max()``     | Minimum and maximum             |\n",
    "| ``std()``, ``var()``     | Standard deviation and variance |\n",
    "| ``mad()``                | Mean absolute deviation         |\n",
    "| ``prod()``               | Product of all items            |\n",
    "| ``sum()``                | Sum of all items                |\n",
    "\n",
    "These are all methods of ``DataFrame`` and ``Series`` objects."
   ]
  },
  {
   "cell_type": "markdown",
   "metadata": {
    "id": "oP-RkO4b1HdG"
   },
   "source": [
    "## GroupBy: Split, Apply, Combine\n",
    "\n",
    "Simple aggregations can give you a flavor of your dataset, but often we would prefer to aggregate conditionally on some label or index: this is implemented in the so-called ``groupby`` operation.\n",
    "The name \"group by\" comes from a command in the SQL database language, but it is perhaps more illuminative to think of it in the terms first coined by Hadley Wickham of Rstats fame: *split, apply, combine*."
   ]
  },
  {
   "cell_type": "markdown",
   "metadata": {
    "id": "LyPI9VVA1HdG"
   },
   "source": [
    "\n",
    "A canonical example of this split-apply-combine operation, where the \"apply\" is a summation aggregation, is illustrated in this figure:"
   ]
  },
  {
   "cell_type": "markdown",
   "metadata": {
    "id": "b_8oO30V1HdG"
   },
   "source": [
    "![split_apply_combine.png]( data:image/png;base64,iVBORw0KGgoAAAANSUhEUgAAAkAAAAGwCAYAAABB4NqyAAAABHNCSVQICAgIfAhkiAAAAAlwSFlzAAALEgAACxIB0t1+/AAAIABJREFUeJzs3XtclHX+///HCCKKaGPmaUyTBAdEOSjfzGxNhV1FXULW1dZj8cHAilyrLTrtam0klO5a2RZiY4lJ4QKaZ8u0tDYjkFRcEJBADSwmDhNycK7fH/6YlURThLkG5nW/3fZ2k4v3zOvJ7ASveb/f13VpFEVREEIIIYSwI53UDiCEEEIIYW3SAAkhhBDC7kgDJIQQQgi7Iw2QEEIIIeyONEBCCCGEsDvSAAkhhBDC7kgDJIQQQgi7Iw2QEEIIIeyONEBCCCGEsDvSAAkhhBDC7kgDJIQQQgi7Iw2QEEIIIeyONEBCCCGEsDvSAAkhhBDC7kgDJIQQQgi7Iw2QEDegpqaGl19+mQkTJjBy5EgCAwNZtmwZRqPxmh5/+vRp9Ho9wcHBAHz11Vfo9XoiIiIsY8rLy0lJSWmT/EIIYa+kARLiBjz99NMYDAYuXLjAHXfcwYULF3j//fdZvHhxi55Pq9USGBiIv78/AIWFhUyZMoVdu3a1ZmwhhLB7jmoHEKK9qq6uZufOnfTq1Yu9e/fi5OREXV0dwcHBZGVlkZeXh7u7+3U9p7u7O6+//rrl67KyMioqKlo7uhBC2D2ZARKihRwdHdFoNFRWVrJ582ZqampwcnJi7dq1JCUl0bdvX+bNm4der+fQoUNMnz4dHx8foqKiKC8vb/Y5L10CO336NAsWLECj0fDZZ5/h6elp5Z9QCCE6LmmAhGghZ2dngoKCuHDhAsuWLeOOO+4gIiKCb775Bm9vb3r06AGARqPhkUceoXv37vTq1Yt9+/bx9NNP/+rzd+3aFX9/fxRFoXfv3gQGBrb1jySEEHZDGiAhbsDf//53/vCHP9ClSxfq6+v5/PPPefrpp5k7dy7nz5+3jPvDH/7A+++/z5YtW9Bqtezfv5+SkpKrPnevXr1YsmQJAJ6enrz22mtt+rMIIYQ9kQZIiBvQvXt3XnjhBQ4ePMirr77KtGnT6Ny5M99++y2bN2+2jJswYQIArq6uBAQEAFBUVKRKZiGEENIACdFimZmZREdH8/bbb9O9e3eCg4OJj4/n4YcfBuDkyZOWsfX19ZZ/K4oCQKdO8p+fEEKoRX4DC9FCLi4u7N69m3feeYfS0lLL8calrb59+1qO7d69G7h45tg333wDwG233farNRqbJLPZ3FqxhRBCIKfBC9FiHh4e/Pa3v2XPnj1MnToVHx8fysrKyMvL46abbiI0NJSDBw+iKAqpqan897//5YcffqC8vJygoCD69+/P6dOnr1pDq9UC8PXXXzN79mzeffddnJycrPHjCSFEhyYzQELcgLi4OB566CH69OlDRkYG586dY9KkSWzYsMEyA6TRaHjuueeoq6vjxx9/JDAwkBdeeMHyHBqNBo1G0+zXt99+O6GhoTg4OFBWVkZ1dbV1f0AhhOigNErjhgQhRKubN28eX3/9NcnJyYwcOVLtOEIIIf5/MgMkhBBCCLsjDZAQbezS5S0hhBC2QZbAhBBCCGF3ZAZICCGEEHZHToMXdiMgIIDc3FzLqeVqMRqNAKrmMBqNeHh4cPjwYdUyqOXQoUM88MADAGzatAlfX99Wr/HUU0+RlpbGypUrCQ4ObtFzvP3227zzzjt89tlnODpa/1d1aGgo/v7+PPfcc1avLYQ1yAyQsBu5ubmYTCa1Y2AymVTPYTKZyM3NVTWDWrZu3Qpc3JuVnp7eJjV+eWmD6/XTTz/x1ltvce+996rS/ADMmDGD5ORkCgoKVKkvRFuTGSBhN7RaLVqtllOnTqmao/EK0GrmuJarUHdEtbW17N69GycnJ+rq6ti+fTvPPPOMak3GlXzwwQf8/PPPTJ06VbUMU6ZM4aWXXiIpKUlmgUSHJDNAQgi78fHHH2MymRg3bhze3t5UVlby6aefNhkzceJEfHx8+PLLLwkKCsLPz4+nnnqK2tpaAL766iv0ej3PP/888fHxjBo1invuuYe0tLRma/7rX/9Cr9cTHx9vObZr1y70ej1/+ctfmn3Mtm3buPnmm/H29gbg559/5tlnn+Xuu+/Gx8eHqVOnsmXLFsv4p556Cr1ez/bt2y3HRowYgaenJwCnT59Gr9fz0EMP8cYbb3DHHXcwbtw4tm7dyv79+y0/Z0xMDA0NDQD07t0bvV7P1q1bkXNlREckDZAQwm5s3boVjUZDUFAQv/3tb1EUpdnGpaGhgYcffpj+/fvTtWtX0tLSmjQwcLFJSUtLw8vLi7KyMmJiYjh27NhlzzVt2jTgYvPV6OOPP0aj0TQ7w1NeXk5ubq6leQF47bXXSElJoWfPntxxxx2cOXOGp556iqNHjwLNL7k1twR38OBBNm3axG233caPP/7IM888w5IlSxgwYAAAaWlppKamWsYPHz6cqqqqZn8uIdo7aYCEEHahoqKCzz77DAcHByZOnEhQUBAA+/fvp6KioslYs9lMdHQ07777Lh988AGdO3fmgw8+oK6ursmY1NRU3nvvPaKjo1EUhQ0bNlxWd+DAgfj6+lJUVER+fj5ms5kDBw7Qo0cP7rrrrsvGnzx5EkVRGDRokOVYSUkJGo2GJ598krfffpu33nqLF154gVtuueW6XoOGhgY2btxIcnIyt956K/X19fzf//0f69evZ9GiRSiKQl5enmV841Kpve4XEx2bNEBCCLuwY8cOGhoa8Pf3p2fPngwZMoShQ4fS0NDAtm3bLhs/YcIE4GID4+7uTn19PWfOnLF8f/jw4fTp0we4uGwGUFhY2GztadOmoSgKe/fuJSMjg59++omgoKBm9x6Vl5cD0L17d8ux2bNn4+joSEREBOPGjWPz5s3069fPcr+55jS3bNW3b19uvfVWAEv20aNHN/n60iave/fuKIpiySRERyINkBDCLnz00UfA//bw6PV6y2zLpftpGtXX1192rFOnTs1+v7HZuPT7lwoODsbBwYG9e/fyySefoNFornh6fONzmc1my7G77rqLHTt2sHTpUoYOHcquXbsIDw+/bMbp0qancS/Ppbp06WL5d+MSWdeuXa+YvfGYg4NDs1mFaM+kARJCdHhnz54lIyMDBwcH3N3dm/wP4MiRIxQVFTV5zK5duyyPPXnyJF26dLHslQHIycmhuLgYgAMHDgDg5ubWbP1evXoxZswYjh49ytatW7npppsYM2ZMs2NvvvlmgCazLv/4xz948cUX+eMf/4jBYODNN98ELu7pgf81NmVlZQBkZ2e3ysblyspKNBqNJZMQHYltnfsphBBtoPFMprvvvpt//etfTb43f/58vvrqK9LT04mOjrYcf+ONNzh48CCFhYXU19ezcOHCJktWZrOZP/zhD3h4eJCRkUGnTp2YP3/+FTNMnz6dgwcP8uOPP/LHP/7xirNFer0ejUZDaWmp5Vh1dTWffvopv//979Hr9Rw/fhyNRsP/+3//DwBPT08URWHNmjWcOHGCL774gq5du3L+/PkWvV6NGi/VcOmGbCE6CpkBEkJ0eFu3bqVTp06EhYVd9r3Zs2ej0WgsF0hsFBsbS1lZGT///DNhYWH8+c9/bvL9MWPG8Ic//IHjx4/Tr18/4uPj8fDwuGKGoKAgnJycAK56degePXqg1+v59ttvLcdiYmJ48MEHcXR05D//+Q9du3bl4YcfZuHChcDFixbOmDGDhoYGvvnmG5544gkGDhzY5EywazlT7JdjcnJyuPnmmxk6dOgV8wrRXsnNUIXdsIULENpKDlvIYKsmTpzI2bNn+fzzz5td+vnqq6+YP38+d999NwkJCdf8vMePH2fGjBn07t2bzz777KpXijYYDKxYsYLU1FT0en2Lfo4bVVFRwZ133sm8efOIiYlRJYMQbUlmgIToAC7dMCtsS2lpKdHR0SxatAiNRsPMmTN/9TYZoaGhuLi4sGfPHiulvNzevXvp1KkTf/rTn1TLIERbkgZIiGaMGzfusk2xaqivr8fPz4+qqqorjjEYDM2exi1a7tcalOu515eLiwtffPEFtbW1TJ8+naioqF99TM+ePYmIiCAlJUW15jY5OZmZM2cyePBgVeoL0dZkCUzYjWtd9ikuLmbWrFkcOnRI1RwAmZmZPPfcc5ZTuJtzzz33sHbt2uvapyFLYEIIeyczQEL8QmZmJn5+fgDs2bOH4OBgTpw4QUxMDDNnziQsLIzVq1cDFzeJTpkyxfLYsrIyxo8fz7lz51pUu7KykqVLlzJjxgwWLlzI9u3b8fX15cCBA8yaNYvZs2czY8YMyz2f5s2bh9Fo5Pnnn6e+vp79+/c3GSczQ0II0Tw5DV6IX8jKysLPz4+UlBTS09NJSkriiSeeYObMmcTGxgIXG4+vv/6akSNHcvbsWS5cuICDgwPx8fFERERc9y0KGi1ZsoSxY8eycuVKvvvuOyZPnswzzzxDQkICq1atYsCAAeTk5BAZGUlwcDBz5szBycmJxMRETCYTa9euvWycmncUF0IIWyUNkBC/kJmZSVlZGfv27WPnzp2UlpaSkZFBdXU169atAy7O1FRXV+Pk5IROp6OoqIjy8nIKCgqIi4trUd3c3Fzy8/NJTEwEYNCgQXTp0oUxY8bQt29fkpOTqa2tpaioiN69ewMXL+Dn4+MDQLdu3ViwYEGz40TzAgICyM3NRavVqpbBaDQCqJqhMYeHhweHDx9WNYcQ1iINkBCXqKmpIS8vj6CgIPr160dKSgrDhg1j9OjRllOe6+rqOHbsmGWZzMPDg/z8fN58802WL19+zZtjf6mwsBB3d3fL4wsKCnB0dGTz5s0UFxcTHh6OTqcjMTGR/v37AxdnqyIjIwGIi4ujpKSk2XGiebm5uZhMJlWbD5PJBKjfAJlMJrnpqbAr0gAJcYkjR47g6enJ4sWLycvLY/78+axZs4bs7GzKy8vRarXEx8dTXV3dpAFavXo1AQEBeHt7t7h2//79KSgooLa2Fo1GQ2xsLD4+PmRkZBAVFYWvry85OTmkpqYSExOD2WwmJyfHUjMjI4PFixdfNk5cmVarRavVyjWZLskhhL2QBkiIS2RlZVmWlNzd3XFzc+PUqVOEh4czZ84cunbtir+/P8uWLbM8ZujQoRiNRpYuXXpDtUeOHElgYCDTp0/Hzc2Nzp074+XlxfDhw4mNjcVgMNCjRw90Oh3Ozs6YzWYGDRpEVFQUGzZsIDIystlxQgghLienwQu70VaftKOjo5k8efJVb29gjRzXwxYy2AJbeB1sIYMt5RDCWuQ0eCFa6NChQ4SEhDBkyJBrbn6EEELYBlkCE6KFxo4dS3p6utoxhBBCtIDMAAkhhBDC7kgDJIQQQgi7Iw2QEEIIIeyONEBCCCGEsDvSAAkhRAdkNpvVjiCETZMGSAghrsG4ceMoKipSOwb19fX4+flRVVV1xTEGg4Ft27ZZMZUQ7Y80QEII8SuKi4sxm80MHjxY7SgcPXoUnU6Hq6vrFccYDAY8PT2tmEqI9kcaICGE+BWZmZmWe7/t2bOH4OBgTpw4QUxMDDNnziQsLIzVq1cDkJOTw5QpUyyPLSsrY/z48Zw7d65FtSsrK1m6dCkzZsxg4cKFbN++HV9fXw4cOMCsWbOYPXs2M2bMYPv27QDMmzcPo9HI888/T319Pfv3728yTmaGhLhILoQohBC/IisrCz8/P1JSUkhPTycpKYknnniCmTNnEhsbC1xsPL7++mtGjhzJ2bNnuXDhAg4ODsTHxxMREcEtt9zSotpLlixh7NixrFy5ku+++47JkyfzzDPPkJCQwKpVqxgwYAA5OTlERkYSHBzMnDlzcHJyIjExEZPJxNq1ay8bN3Xq1NZ8eYRol6QBEnbDaDRiMplUv+t1SUkJoO7dt0tKSnBxcVGtfnuTmZlJWVkZ+/btY+fOnZSWlpKRkUF1dTXr1q0DLs7UVFdX4+TkhE6no6ioiPLycgoKCoiLi2tR3dzcXPLz80lMTARg0KBBdOnShTFjxtC3b1+Sk5Opra2lqKiI3r17A3DkyBHLDX27devGggULmh0nhL2TBkgIIa6ipqaGvLw8goKC6NevHykpKQwbNozRo0eTkJAAQF1dHceOHbMsk3l4eJCfn8+bb77J8uXL0Wg0LapdWFiIu7u75fEFBQU4OjqyefNmiouLCQ8PR6fTkZiYSP/+/YGLs1WRkZEAxMXFUVJS0uw4IeydNEDCbmi1WrRarep3u7aFu26rPQvWnhw5cgRPT08WL15MXl4e8+fPZ82aNWRnZ1NeXo5WqyU+Pp7q6uomDdDq1asJCAjA29u7xbX79+9PQUEBtbW1aDQaYmNj8fHxISMjg6ioKHx9fcnJySE1NZWYmBjMZjM5OTmWmhkZGSxevPiycUIIaYCEEOKqsrKyLEtK7u7uuLm5cerUKcLDw5kzZw5du3bF39+fZcuWWR4zdOhQjEYjS5cuvaHaI0eOJDAwkOnTp+Pm5kbnzp3x8vJi+PDhxMbGYjAY6NGjBzqdDmdnZ8xmM4MGDSIqKooNGzYQGRnZ7DghBGgURVHUDiGENdjCzIut5LCFDLagrV6H6OhoJk+eTHBwsGoZrpet5BDCWuQ0eCGEaCWHDh0iJCSEIUOGXFPzI4RQjyyBCSFEKxk7dizp6elqxxBCXAOZARJCCCGE3ZEGSAghhBB2RxogIYQQQtgdaYCEEEIIYXekARJC2KSysjKSk5P5+eef1Y4ihOiA5CwwIYRN+vbbb5k9ezYDBgxg+PDheHt7c+eddzJ16lS6deumdjwhRDsnDZAQ16GhoYF77rkHT09Py32g1BATE4OHhwf333+/ahms5cyZM5w5c4Y9e/ZY7mouDZEQ4kZJAyTEddizZw96vZ5jx45RUFCAm5ubVevn5+ezfPlysrOz8fDwsGrtH3/8kfHjx7f4xp7Xq6GhodnjzTVE7u7ueHl58dprr+Hg4GCVfEKI9k0aICGuw8aNG5k2bRq33XYbBoOB5cuXW71+WFgYAwYMsGpdgO7duzN79mw6dbLO1sGioiJOnDhxxe/369fPMhM0ZswYpk+fLs2PEOKaSQMkxDU6efIk2dnZrFmzhlOnTjF//nwee+wxevbsabUMzz33HABffPGF1Wo26tKlC88++6zV6n388ce8/fbblq+ba3hcXFyslkcI0bFIA/Qr9Ho9Xbp04ciRI1at+/PPP5OamsqcOXOsWldc2aZNmxg/fjyurq6MGDECnU5HcnIyixYtUjtah+Ti4sJvfvMb/Pz82qzhMRqNmEwmy41A1VBSUgKgaobGHNJQCnsiDZANqqioICQkhG7dukkDZCNqampIS0vD2dmZSZMmoSgKJpOJpKQkwsPDZemlDYwZM4b9+/erHUMI0UFJA2SDqqqq+P77762+wVZc2ZYtW+jVqxe7d++2HKuqqmLChAns2LGDadOmqZhOtJRWq0Wr1XLq1CnVMjTO/KiZ4dIcQtgLuRDidTh9+jR6vZ7IyEjeffddxo0bx+jRo3n55ZctY1577TX0er1lacTHx4fQ0FC+/fZby5iJEyei1+v58ccfAThy5Ah6vZ758+cDEBgYiEajoaCgAE9PT86cOWPdH1RcZtOmTZedcu7q6sq8efNYv369SqmEEEK0lMwAtUBGRgZZWVkMHTqUb775hvXr1zN+/HjuvPNOyynCcXFx9OnTBzc3N3JycoiKimLv3r04OzsDXPVU4rvuuouDBw/i4uLC2LFjLY8R6klNTW32+KOPPsqjjz5q5TQQGxtr9ZpCCNGRyAxQC/z8889s2LCBDRs2MHXqVACOHj3aZMyQIUPYtm0bqamp3HXXXfz444/s2LHjmp6/8dTqvn378tprr9GrV6/W/QGEEEIIOycNUAv06dOHoUOHAuDm5oaiKNTV1TUZ85vf/MZyvZQJEyagKMoV1/gVRWnTvEIIIYRoShqgFrh0Sarx7J9fNjH19fWWfzd+75fLXmazGeCy5kkIIYQQbUsaoBa4llsBfPrpp5Ym6LPPPkOj0VjO6mpsoMrKygAuu8ZQ48xRY4MkhBBCiNYlm6DbSGFhIVOnTqV79+4cP36cfv36MXnyZAA8PT0pKCjgz3/+Mz4+Pnz22WdNHtujRw8cHBwoKipizpw5xMbGMmjQIDV+DCGEEKJDkhmga3DpjI9Go7lsBuiXxzQaDQsXLuT2228nPz+f4cOH869//QsnJycAHn/8cQICAigtLeW7777j1VdfbfIcLi4uRERE4OrqSlFRETU1NVb4KduXCxcucOHCBbVjCGHX6uvr+eSTT9SOIUSLyAzQr7j0Zow6nY6cnJwm31+0aFGzt0Lo2bMnb775ZrPP2b9/f957770mx375vEuWLGHJkiUtjd2h/fDDD9x3332kpqbSvXt3teMIYbdWr17NihUrSEtLY+zYsWrHEeK6yAxQG5CzutrOV199RVBQEEOGDJHmRwiVLVmyhFGjRhEdHU1VVZXacYS4LtIAtYFr2SQtrt97771HWFgYJ0+eJCoqSu04QgDQ0NDAuHHjiIiIUKX+yy+/zIQJEwgNDSU0NJSlS5darbaDgwNvv/02VVVVPPjgg/LhT7QrsgTWyh5++GEefvhhtWN0KIqiEBMTw+uvv47JZGLq1Kn4+fmpHUsIAPbs2YNer+fYsWMUFBRY/R5+WVlZrFq1Cl9fX6vWbXTrrbeyYsUK7r//flatWmXVBkyIGyEzQMKmVVdXM3PmTFasWIHJZAJg5syZKqcS4n82btxIUFAQwcHBGAwGq9auq6vj+PHjrFu3jpCQEKKjozl79qxVMwDce++9LFq0iBUrVnDo0CGr1xeiJaQBEjbr+PHjBAUFsXnzZssxX19f5s6dq2IqIf7n5MmTZGdnExwcTEhICFu3bqWiosJq9cvKyrjzzjt57LHHSE9Px8fHh8WLF1ut/qVeeukl/P39ZT+QaDc67BJYQEAAubm5aLVaVXMYjUYAVXMYjUY8PDw4fPiwahmuV3p6Oo899hj5+flNjk+ZMsVy9e3rZTQaMZlM3Hbbba2QsOVKSkoAVM1RUlKCi4uLavU7ik2bNjF+/HhcXV0ZMWIEOp2O5OTkZs8MbQsDBw7krbfesnwdHh7OmjVrOH36NDqdzioZGjXuBwoMDOTBBx8kKSlJ9kMKm9ZhZ4Byc3MtSyZqMplMqucwmUzk5uaqmuF6rFq1ioULF17W/PTr108uDSBsRk1NDWlpaXzzzTdMmjSJiRMncu7cOZKSkqx2jar//ve/pKenNzmmKAqOjup8tm3cD7Rjxw5WrVqlSgYhrlWHnQHSarVotdor3oDUWho/5auZQ+0Zj+s1fvx4hg0bxn/+858mx4OCgujTp0+Ln1feE5dnEC23ZcsWevXqxe7duy3HqqqqmDBhAjt27GDatGltnqFTp0689NJLjB49Gp1OR1JSEnq9nr59+7Z57Su59957+eKLL1ixYgVjxoyR6wMJm9VhZ4BE++Xv7096ejq33nqr5ZiTkxMPPPCAiqmEaGrTpk3cf//9TY65uroyb9481q9fb5UM7u7uPPvss0RGRjJ16lQ++eQTVq5caZXaVyP7gUR7oFE66IUbbOFTtq3ksIUM10NRFO677z4yMzNZsGABb7zxBsOGDbvhS+7byutgCzlsIYMtsIXXwRYytEWO4uJiAgMDGTVqlOwHEjapwy6Bifbr1VdfZefOnaxfv56QkBB+97vfWTYOCyHaB7k+kLB10gAJm3Lo0CHi4+N58MEHCQkJAWDUqFGMGjVK5WRCiOsl+4GELZM9QMJmVFRU8Mgjj+Dv789LL72kdhwhRCuQ/UDCVkkDJGyCoig8+OCDVFdXk5CQ0OJr/QghbIvcL0zYKmmAhE149dVX2bVrF3FxcQwcOFDtOEKIVnTrrbfy8ssvy/WBhE2RBkiorrl9P0KIjiU0NFTuFyZsijRA7ZDZbFY7Qqtp3PczatQo/v73v6sdRwjRhl566SX8/PxkP5CwCdIAAePGjaOoqEjtGNTX1+Pn53fVXwwGg4Ft27ZZMVXbadz3YzKZ2s2+n4aGBsaNG0dERISqOfbu3Stnxol2x8HBgYSEBNkPJGyC3TdAxcXFmM1mBg8erHYUjh49ik6nw9XV9YpjDAYDnp6eVkzVdhr3/axYscLqN25sqT179qDX6zl27BgFBQWqZDh16hRxcXHyx0O0S7IfSNgKu2+AMjMz8fPzAy7+cQsODubEiRPExMQwc+ZMwsLCWL16NQA5OTlMmTLF8tiysjLGjx/PuXPnWlS7srKSpUuXMmPGDBYuXMj27dvx9fXlwIEDzJo1i9mzZzNjxgy2b98OwLx58zAajTz//PPU19ezf//+JuPa08xQe933s3HjRoKCgggODsZgMFi9fk1NDX/5y1+IiYmxem0hWovsBxI2QemgBg8erAwePPhXxy1btkxJSEhQPvzwQ2Xu3LlKeXm5Eh4eruzcudMyZu7cucrhw4eV2tpaxcfHR2loaFAURVEef/xx5b333mtxjvvvv19JSEhQFEVRioqKFE9PT2XDhg3K3LlzldOnTyuKoijHjx9XfvOb3yiKoig7duxQHnjgAUVRFKW6uvqK41r6WlhLRUWF4u/vr0yZMsXyWlrDjb4OeXl5ysiRI5XKykolOztb8fX1VX766Ser5njiiSeUf//730pJSYni5+fXoue40QwdiS28DraQQY0cDQ0Nyu9+9ztl1KhRSmVlpdXqCtHI7q8EnZmZSVlZGfv27WPnzp2UlpaSkZFBdXU169atAy7O1FRXV+Pk5IROp6OoqIjy8nIKCgqIi4trUd3c3Fzy8/NJTEwEYNCgQXTp0oUxY8bQt29fkpOTqa2tpaioiN69ewNw5MgRfHx8AOjWrRsLFixodpwtU9rhvp9GmzZtYvz48bi6ujJixAh0Oh3JycksWrTIKvWTkpJwdHQkNDRUbg3SSoxGIyaTyXIfLDU0/n+pZobGHC4uLlar17gfKDAwkAcffFDuFyaszq4boJqaGvLy8ggKCqJfv36kpKQwbNiwnbQ3AAAgAElEQVQwRo8eTUJCAgB1dXUcO3bMskzm4eFBfn4+b775JsuXL2/xf7CFhYW4u7tbHl9QUICjoyObN2+muLiY8PBwdDodiYmJ9O/fH4CsrCwiIyMBiIuLo6SkpNlxtmzlypXs3LkTg8HQbvb9wMX3SlpaGs7OzkyaNAlFUTCZTCQlJREeHm6VRi4tLY3z588TGhpKXV2d5d9vv/02t9xyS5vX74g8PDzIzc1VNYM1m46rcXFxwcPDw6o1G/cDPfDAA3K/MGF1dt0AHTlyBE9PTxYvXkxeXh7z589nzZo1ZGdnU15ejlarJT4+nurq6iYN0OrVqwkICMDb27vFtfv3709BQQG1tbVoNBpiY2Px8fEhIyODqKgofH19ycnJITU1lZiYGMxmMzk5OZaaGRkZLF68+LJxtuzQoUPExcW1u30/AFu2bKFXr17s3r3bcqyqqooJEyawY8cOpk2b1uYZPvzwQ8u/T58+zbRp00hNTW3zuh3Z4cOH1Y5g90JDQ/nyyy/lfmHC6uy6AcrKyrIsKbm7u+Pm5sapU6cIDw9nzpw5dO3aFX9/f5YtW2Z5zNChQzEajTf8SWXkyJEEBgYyffp03Nzc6Ny5M15eXgwfPpzY2FgMBgM9evRAp9Ph7OyM2Wxm0KBBREVFsWHDBiIjI5sdZ6sqKyvb9fV+Nm3axP3339/kmKurK/PmzWP9+vVWaYB+SZYLREfx0ksvceTIEaKjo9m3b99Vz4QVorVoFKVjnkvbuJ5+6tSpVn3e6OhoJk+eTHBwsKo5rofaGRRF4U9/+hOZmZl8/PHHqi19qf062FIOW8ggxKWKi4sJDAxk1KhRsh9IWIXdnwZ/rQ4dOkRISAhDhgy55uZHXNS476c9Xe9HCGFdcn0gYW12vQR2PcaOHUt6erraMdqd9rzvRwhhXbIfSFiTzACJNtPe9/0IIaxP7hcmrEUaINEm2vP1foQQ6pH7hQlrkQZItIlVq1bJvh8hRIvIfiBhDdIAiVZ36NAhVqxYwaJFi2TfjxCiReR+YaKtSQMkWlXjvh9/f39eeuklteMIIdox2Q8k2pI0QKLVXLrvZ+3atbLvRwhxQ2Q/kGhL0gCJViPX+xFCtDbZDyTaijRAolU0Xu9H9v0IIVqb7AcSbUEaIHHDKioqZN+PEKJNyX4g0dqkARI3RPb9CCGsQfYDidbWYW+FYTQaMZlMlps+qqWkpARA1RwlJSW4uLi0yXO/+uqr7Nq1C4PBYPP7fuQ90TRDW70nhGgrjfuBHnjgAVatWsXSpUutWv/MmTP885//5ODBg1RUVKDT6QgLCyM8PJxOndpmPkGv19OlSxeOHDnS7PdTU1OJiYlh9uzZ/O1vf2uTDB2VzACJFjt06BDx8fHtZt+Ph4eHTfzRd3FxUT2Hi4sLHh4eqmYQoiXU2g/03XffERYWxpYtW+jWrRujR4/m7NmzvPrqqzz77LNWy/FL/fv3JzAwEC8vL9UytFcapYPOIzZ+uj516pTd52iLDBUVFUycOJE+ffrw0UcfydKXEMJqLly4wNSpU/nhhx/Yt28frq6ulJaWAtC3b982qXn//ffz5ZdfMmfOHEvDc+LECWbNmkVdXR0fffQRt99+e6vX/bUZINFyMgMkrpvs+xFCqOmX+4F27NjBxIkTiY2NbZN6paWlfPHFFzg7O/P4449bjuv1emJjY3nvvfcYPHgwZrOZNWvWMGnSJEaMGMHvf/97du3aZRn/2muvodfref/99wkPD8fHx4fZs2dTUlJCbGwso0aN4p577mHbtm2XZUhLS+Puu+9m9OjRvPjii1y4cAG4uASm1+sty1+NNT744AOio6Px9fXld7/7HZ9//rnluaqrq3nqqacYPXo0AQEBPPnkk1RWVrbJa2fLpAES161x349c70cIoZbG/UDbt2/nvvvu4/jx4+zatYva2tpWr5WTkwPAkCFDcHZ2bvK94OBgRo8ejaOjI8uWLWP16tXU1NQwatQoioqKePTRR9mxYwcAGo0GgBUrVlBZWUnPnj3JysoiNDSUbdu2MXToUL7//nueffZZTCaTpUZ9fT3Lli3j9ttvR1EUkpKSSEhIaDZrY424uDiKioro06cPRUVFPPfcc5YxTz/9NOnp6eh0Om6//Xa2bNnCo48+2novWDshDZC4LgcPHmxX+36EEB1TaWkp69ato6KigoqKCuDiktSVGoMb0Xja/dX27n3//fd88MEH9OzZk48++giDwcCaNWsALruAo4+PDx9++CErV64EwGQykZycTHJyMoMHD+b8+fMUFxdbxiuKwsqVKzEYDCQkJKAoChs3brxq5qFDh5Kens6///1vunbtyvfff8+PP/5IcXExu3fvxs/Pj/T0dDZt2kRwcDBffvklubm5LXp92itpgMQ1k+v9CCFsRVRUFB999NFlx1NTU1u9Vrdu3YCLS0dXkp2djaIojBs3jl69egFw11130bt3b4qLizEajZaxAQEBwP/2K/Xr188ym37LLbcAUFdXZxmv0Wj4zW9+A4C/vz89evTg3LlzV53tGjt2LADdu3dv8pwnT54E4JtvvkGv16PX6y1LbkePHr2m16Oj6LCnwYvW1bjv5+effyYhIUH2/QghVLVx40YiIiLYuHEjZrPZcvzzzz9n//79jB8/vtVqDRs2DIDCwkLOnz/fZBnsoYcewtnZGW9v76s+R+PSlEajoUuXLgCWU+cvfb7GcZdSFAWz2Wz5vdupUyc0Gs0Vfw9rNJomz9k4TlEUGhoaABgwYMBlZ47ddNNNV/0ZOhqZARLXpHHfz8svv8zAgQPVjiOEsHPOzs68++67LFu2jJ49e1qO19XVkZiY2Kq1Bg4cyKhRo6itreWVV16xHD906BD79u3j448/5o477gAubhMoLy8HLjZjP/zwA4MHD77h5mLnzp3AxZmmn376CZ1Oh6PjlecwmmukANzc3ADo2bMnq1ev5vXXX2fkyJGMGDECHx+fG8rY3sgMkPhVl+77uffee9WOI4QQwMU/8s8++yxeXl48/vjjFBYWArBnzx7Kysro06dPq9VatmwZc+bMISkpic8++4w+ffqQmZmJoigsWbIELy8vfv/737N161amTp2Kh4cHmZmZdOrUiccee8zyPC258kzXrl157rnn+OCDDzhx4gQajYa5c+decfzVatx+++3cddddHDp0iClTptCjRw++/fZbBgwYwP3333/d2dozmQESVyX7foQQtm7GjBls3brVMgvz/fff849//KNVawwdOpSUlBSCg4OpqKjg2LFj6PV64uLiWLhwIQCxsbE88sgjdO/enczMTNzc3Fi9ejVBQUGW5/nlzIxGo2n22KX/HjhwIC+++KLlKvILFy5k/vz5V3yO5mZ/Lj22cuVKQkJC+Omnn8jPz+fuu+/mnXfewcnJqQWvTPslF0K0gxwtzaAoCvfddx9ZWVns3btXlr6EEDatqqqKhQsX8u9//xtfX1++/vpr2a8orkhmgMQVyb4fIUR74urqyocffshf/vIX8vLy2LBhg9qRhA2TBugqGhoaGDduHBEREarmiImJ4Z133rFqzS+++EL2/Qgh2p1OnTqxYsUKXn/99V+9Vo6wb9IAXcWePXvQ6/UcO3aMgoICq9fPz89nwYIFlt3/1jRs2DDmz58v+36EEO3SwoULW30fkOhYpAG6io0bNxIUFERwcDAGg0GV+mFhYUyePNnqtXv16kV8fLysnwsh2i1PT0+1IwgbJg3QFZw8eZLs7GyCg4MJCQlh69atlsutW8tzzz3H73//e6vWFEIIIeyBXAfoCjZt2sT48eNxdXVlxIgR6HQ6kpOTWbRokdrRhBBCtJGAgAByc3PRarWqZWi8bYaaGRpzeHh4cPjwYVVztBWZAWpGTU0NaWlpfPPNN0yaNImJEydy7tw5kpKSuHDhgtrxhBBCtJHc3Nwmd2JXg8lkUj1DY46OfINUmQFqxpYtW+jVqxe7d++2HKuqqmLChAns2LGDadOmqZhOCCFEW9FqtWi12nZ57ba2ytFRyQxQMzZt2nTZJcFdXV2ZN28e69evVymVEEIIIVqLXAnaDnLYQgYhhGgPbOH3pS1ksKUcbUVmgIQQQghhd6QBEkIIIYTdkQZICCGEEHZHGiAhhBBC2B1pgIQQQghhd6QBEkIIIYTdkQZICCGEsANms1ntCDZFGiAhhBCiBcaNG0dRUZHaMaivr8fPz4+qqqorjjEYDGzbts2KqWyfNEBCCCHEdSouLsZsNjN48GC1o3D06FF0Oh2urq5XHGMwGPD09LRiKtsnDZAQQghxnTIzM/Hz8wNgz549BAcHc+LECWJiYpg5cyZhYWGsXr0agJycHKZMmWJ5bFlZGePHj+fcuXMtql1ZWcnSpUuZMWMGCxcuZPv27fj6+nLgwAFmzZrF7NmzmTFjBtu3bwdg3rx5GI1Gnn/+eerr69m/f3+TcfY6MyQ3QxVCCCGuU1ZWFn5+fqSkpJCenk5SUhJPPPEEM2fOJDY2FrjYeHz99deMHDmSs2fPcuHCBRwcHIiPjyciIoJbbrmlRbWXLFnC2LFjWblyJd999x2TJ0/mmWeeISEhgVWrVjFgwABycnKIjIwkODiYOXPm4OTkRGJiIiaTibVr1142burUqa358rQLHbYBMhqNmEwm1e9mW1JSAqh7V92SkhJcXFxUq28rAgICyM3NRavVqprDaDQCqJrDaDTi4eHB4cOHVcsgRHuWmZlJWVkZ+/btY+fOnZSWlpKRkUF1dTXr1q0DLs7UVFdX4+TkhE6no6ioiPLycgoKCoiLi2tR3dzcXPLz80lMTARg0KBBdOnShTFjxtC3b1+Sk5Opra2lqKiI3r17A3DkyBF8fHwA6NatGwsWLGh2nL3psA2QEL+Um5uLyWRSvQEymUyAug2QyWQiNzdXtfpCtGc1NTXk5eURFBREv379SElJYdiwYYwePZqEhAQA6urqOHbsmGWZzMPDg/z8fN58802WL1+ORqNpUe3CwkLc3d0tjy8oKMDR0ZHNmzdTXFxMeHg4Op2OxMRE+vfvD1ycrYqMjAQgLi6OkpKSZsfZmw7bAGm1WrRarep3sbWFu+mqPQtmK+Q9cXkGIcT1O3LkCJ6enixevJi8vDzmz5/PmjVryM7Opry8HK1WS3x8PNXV1U0aoNWrVxMQEIC3t3eLa/fv35+CggJqa2vRaDTExsbi4+NDRkYGUVFR+Pr6kpOTQ2pqKjExMZjNZnJyciw1MzIyWLx48WXj7FGHbYCEEEKItpCVlWVZUnJ3d8fNzY1Tp04RHh7OnDlz6Nq1K/7+/ixbtszymKFDh2I0Glm6dOkN1R45ciSBgYFMnz4dNzc3OnfujJeXF8OHDyc2NhaDwUCPHj3Q6XQ4OztjNpsZNGgQUVFRbNiwgcjIyGbH2SONoiiK2iHagi18yraVHLaQwRbYyutgCzlsIYMQtqit/tuIjo5m8uTJBAcHq5bhetlKjrYip8ELIYQQbeTQoUOEhIQwZMiQa2p+hPXIEpgQQgjRRsaOHUt6erraMUQzZAZICCGEEHZHGiAhhBBC2B1pgIQQQghhd6QBEkIIIYTdkQZICCGEEHZHGiAhOgCz2ax2BCGEaFekAWrG6dOn8fLyIjQ0lHvvvZfp06cza9YsvvnmG6vmSE9PJyQkhNDQUO677z6OHj1q1fr2bNy4cRQVFakdg/r6evz8/KiqqrriGIPBwLZt26yYSggh2j+5DtAVODs7k5qaavl6x44dxMTEsGvXLqvULyws5JVXXiEtLY2bb76Z/fv388gjj7Bv3z6r1LdnxcXFmM1mBg8erHYUjh49ik6nw9XV9YpjDAYDa9eutWIqIYRo/2QG6BoZjUb69OljtXpOTk68+OKL3HzzzQB4e3vzww8/0NDQYLUM9iozM9NyA8M9e/YQHBzMiRMniImJYebMmYSFhbF69WoAcnJymDJliuWxZWVljB8/nnPnzrWodmVlJUuXLmXGjBksXLiQ7du34+vry4EDB5g1axazZ89mxowZbN++HYB58+ZhNBp5/vnnqa+vZ//+/U3GycyQEEI0T2aAruD8+fOEhoaiKAqVlZWcO3eONWvWWK2+TqdDp9NZvo6NjWXSpEk4Osr/ZW0tKysLPz8/UlJSSE9PJykpiSeeeIKZM2cSGxsLXGw8vv76a0aOHMnZs2e5cOECDg4OxMfHExERwS233NKi2kuWLGHs2LGsXLmS7777jsmTJ/PMM8+QkJDAqlWrGDBgADk5OURGRhIcHMycOXNwcnIiMTERk8nE2rVrLxs3derU1nx5hBCiQ5C/plfwyyWwzMxMIiIiSE9Pb9KYtLWamhqefPJJysrKZJnDSjIzMykrK2Pfvn3s3LmT0tJSMjIyqK6uZt26dcDFmZrq6mqcnJzQ6XQUFRVRXl5OQUEBcXFxLaqbm5tLfn4+iYmJAAwaNIguXbowZswY+vbtS3JyMrW1tRQVFdG7d28Ajhw5Yrkrdbdu3ViwYEGz40TzAgICyM3NRavVqpbBaDQCqJqhMYeHhweHDx9WNYfajEYjJpPJciNQNZSUlAComqExh4uLi6oZ2pI0QNfIz8+PIUOGkJ2dbbUG6MyZM0RFRTF06FDeffddnJycrFLXntXU1JCXl0dQUBD9+vUjJSWFYcOGMXr0aBISEgCoq6vj2LFjlmUyDw8P8vPzefPNN1m+fDkajaZFtQsLC3F3d7c8vqCgAEdHRzZv3kxxcTHh4eHodDoSExPp378/cHG2KjIyEoC4uDhKSkqaHSeal5ubi8lkUrX5MJlMgPoNkMlkIjc3V9UMQliTNEBXoChKk68LCwspKirCy8vLKvUrKiqYO3cuYWFhPPTQQ1apKS7OqHh6erJ48WLy8vKYP38+a9asITs7m/LycrRaLfHx8VRXVzdpgFavXk1AQADe3t4trt2/f38KCgqora1Fo9EQGxuLj48PGRkZREVF4evrS05ODqmpqcTExGA2m8nJybHUzMjIYPHixZeNE1em1WrRarWcOnVKtQyNn/LVzHBpDnsn74nLc3RU0gBdQV1dHaGhocDFZkhRFF544QWrnRn0/vvvU1payt69e9mzZw8AGo0Gg8FAz549rZLBHmVlZVmWlNzd3XFzc+PUqVOEh4czZ84cunbtir+/P8uWLbM8ZujQoRiNRpYuXXpDtUeOHElgYCDTp0/Hzc2Nzp074+XlxfDhw4mNjcVgMNCjRw90Oh3Ozs6YzWYGDRpEVFQUGzZsIDIystlxQgghLqdRfjnV0UHYWgctnybU11avQ3R0NJMnTyY4OFjVHNfDFjLYAlt4HWwhgy3lUJstvA62kMGWcrQVOQ1eiBY6dOgQISEhDBky5JqbHyGEELZBlsCEaKGxY8eSnp6udgwhhBAtIDNAQgghhLA70gAJIYQQwu5IAySEEEIIuyMNkBBCCCHsjjRAQgjRAZnNZrUjCGHTpAESQohrMG7cOIqKitSOQX19PX5+flRVVV1xjMFgYNu2bVZMJS7V0NDAuHHjiIiIUKX+yy+/zIQJEwgNDSU0NPSGL9LaUclp8EII8SuKi4sxm81WuxL81Rw9ehSdToerq+sVxxgMBrl5sor27NmDXq/n2LFjFBQU4ObmZtX6WVlZrFq1Cl9fX6vWbW9kBkgIIX5FZmam5d5ve/bsITg4mBMnThATE8PMmTMJCwtj9erVAOTk5DBlyhTLY8vKyhg/fjznzp1rUe3KykqWLl3KjBkzWLhwIdu3b8fX15cDBw4wa9YsZs+ezYwZM9i+fTsA8+bNw2g08vzzz1NfX8/+/fubjJOZoba3ceNGgoKCCA4OxmAwWLV2XV0dx48fZ926dYSEhBAdHc3Zs2etmqG9kAZICCF+RVZWFn5+fqSkpPDuu++SlJTEK6+8wj333MOHH37I5s2bOXz4MF9//TW33347Z8+e5cKFCwDEx8cTERHBLbfc0qLaS5YswcvLi3//+98sX76cpKQkPD09SUhIYNWqVWzatIm///3vrFixAoA5c+YwevRoNm7cSF1dHWvXrm0yLi4urtVeF3G5kydPkp2dTXBwMCEhIWzdupWKigqr1S8rK+POO+/kscceIz09HR8fHxYvXmy1+u1Jh10CMxqNmEwm1e9mW1JSAqh7V92SkhJcXFxUq28r5D3RNIO8J65dZmYmZWVl7Nu3j507d1JaWkpGRgbV1dWsW7cOuDhTU11djZOTEzqdjqKiIsrLyykoKGhx05Gbm0t+fj6JiYkADBo0iC5dujBmzBj69u1LcnIytbW1FBUV0bt3bwCOHDliuaFvt27dWLBgQbPjRNvYtGkT48ePx9XVlREjRqDT6UhOTmbRokVWqT9w4EDeeusty9fh4eGsWbOG06dPo9PprJKhveiwDZAQQrSGmpoa8vLyCAoKol+/fqSkpDBs2DBGjx5NQkICcHHZ4dixY5ZlMg8PD/Lz83nzzTdZvnw5Go2mRbULCwtxd3e3PL6goABHR0c2b95McXEx4eHh6HQ6EhMT6d+/P3BxtioyMhKAuLg4SkpKmh0nWl9NTQ1paWk4OzszadIkFEXBZDKRlJREeHg4Dg4ObZ7hv//9LydOnCAkJMRyTFEUHB3lz/0vddhXRKvVotVqVb+LrS3cTVftGQ9bIe+JyzOIX3fkyBE8PT1ZvHgxeXl5zJ8/nzVr1pCdnU15eTlarZb4+Hiqq6ubNECrV68mICAAb2/vFtfu378/BQUF1NbWotFoiI2NxcfHh4yMDKKiovD19SUnJ4fU1FRiYmIwm83k5ORYamZkZLB48eLLxom2sWXLFnr16sXu3bstx6qqqpgwYQI7duxg2rRpbZ6hU6dOvPTSS4wePRqdTkdSUhJ6vZ6+ffu2ee32psM2QEII0RqysrIsS0ru7u64ublx6tQpwsPDmTNnDl27dsXf359ly5ZZHjN06FCMRuMNn348cuRIAgMDmT59Om5ubnTu3BkvLy+GDx9ObGwsBoOBHj16oNPpcHZ2xmw2M2jQIKKiotiwYQORkZHNjhNtY9OmTdx///1Njrm6ujJv3jzWr19vlQbI3d2dZ599lsjISMxmM/369WPlypVtXrc90iiKoqgdoi3YwqdsW8lhCxlsga28DraQwxYy2IK2eh2io6OZPHkywcHBqmW4XraSQ2228DrYQgZbytFW5CwwIYRoJYcOHSIkJIQhQ4ZcU/MjhFCPLIEJIUQrGTt2LOnp6WrHEEJcA5kBEkIIIYTdkQZICCGEEHZHGiAhhBBC2B1pgIQQQghhd6QBEkIIIYTdkQZICCGEEHZHToNvhtlsZv369Xz00UeYzWbq6+u55557iI6OxsnJyWo5NmzYwKZNm9BoNAwaNIgXXniBXr16Wa2++J/Tp08TFBTEsGHDUBSFCxcu0K1bN5588kn8/f2tliM9PZ1169bRqVMnnJ2deeaZZ27oVgtCCGGvZAaoGX/96185cuQI69evJzU1lZSUFAoLC3nuueesluHYsWO88847JCcns3XrVgYNGsQ///lPq9W3NrPZTFVVldoxrsrZ2ZnU1FTS0tLYunUrCxcutOp9lQoLC3nllVdYt24dqampREZG8sgjj1itvrXV19fz888/qx1D2JDa2lrOnz+vdgzRQcgM0C+UlJTw0UcfcfDgQbp16wZc/MO3fPlyMjMzrZZj+PDh7N69GwcHB2praykrK2PgwIFWq29tp06d4o477sDb25sRI0YQEBBASEgIPXr0UDvaFRmNRvr06WO1ek5OTrz44ovcfPPNAHh7e/PDDz/Q0NDQIe/0fODAAf70pz8xcuRIvL29GTNmDNOnT7f8dynsz4YNG/jrX/+Kt7c33t7e3HXXXUyZMkXubyZapOP91rxBx48fx93d/bJfsjfffDOBgYFWzeLg4MDevXt59tln6dKlC48++qhV61tbeXk5n376KZ9++ikAffr0wcvLy2YaovPnzxMaGoqiKFRWVnLu3DnWrFljtfo6nQ6dTmf5OjY2lkmTJnXI5qdRWVkZe/fuZe/evcDFu6MPHz5cGiI7dvr0aU6fPs2uXbt49dVXGThwoOU9IQ2RuB4d9zdnC3Xq1Amz2ax2DIvAwEACAwP58MMPeeCBByx/CNqa2WzmT3/6E506WWeVtK6u7rLXvaysjLKysis2RLNmzbLqnqzGJbBGmZmZREREkJ6e3qQxaWs1NTU8+eSTlJWVsXbtWqvVraqq4oEHHqBz585WqVdRUXHZsbNnz3L27NkrNkQzZ868rves0WjEZDJZbvqohpKSEgBVMzTmcHFxua7HnD59mkcffdRq/x2WlpZedqykpISSkpJmG6Jx48YREhKCRqO55hrynmia43rfE+2J7AH6hREjRpCfn3/Z3oPS0lIefPBB6urqrJLju+++IyMjw/J1WFgYZ86cafaPglCHn58fQ4YMITs722o1z5w5w+zZs+ncuTPvvvsu3bt3t1ptW3c9f+REx6fRaOQ9Ia5KZoB+oW/fvkyfPp2nn36aF198ke7du1NdXc2yZcvo1auX1T7plJWV8dhjj5Gens5NN93Eli1b8PDwoGfPnlap36lTJzZt2mSVWgAFBQWkpqY2mQWytSUwRVGafF1YWEhRURFeXl5WqV9RUcHcuXMJCwvjoYceskrNS7m6uvLhhx9ard7HH3/M9u3bmxy7dMbnzjvvZNq0aTe0BKbVatFqtZw6deoG07Zc46d8NTNcmuN66HQ6UlJSWj/MFSQmJvLJJ580OdY44zNixAjuuusuJk+efENLYPKeuDxHRyUNUDP+9re/8cYbb3Dffffh6OhIXV0dgYGBVj3jZvTo0URFRTFv3jwcHR3p06cPb7zxhtXqq6FXr142vQm6rq6O0NBQ4GIzpCgKL7zwAoMHD7ZK/ffff5/S0lL27t3Lnj17gIufcg0Gg9UaY2vr06ePZRN0azQ8ov1r7YZH2C+N8suPtUlAKo4AACAASURBVB2ErXXQ8mni6sxmMyaTCVdX1zarYSuvgy3ksIUMv6a+vp76+vo2bXhs4XWwhQy2lONqamtrURSlTRseW3gdbCGDLeVoKzIDJGxCp06d2rT5Ee1P586drbbhWrQPXbp0UTuC6EBkE7QQQggh7I40QEIIIYSwO9IACSGEEMLuSAMkhBBCCLsjDZAQQggh7I40QEIIIYSwO9IACSGEEMLuyHWAhBCiBU6fPk1QUBDDhg1DURQuXLhAt27dePLJJ/H397dKhrS0NAwGg+WeV5WVlZSWlnLgwAF69epllQzif+Q90b5IAySEEC3k7OxMamqq5esdO3YQExPDrl27rFL/3nvv5d577wWgoaGBuXPnEhkZKX/oVCTvifZDlsCEEKKVGI1G+vTpo0rtt99+m5tvvpmZM2eqUl80T94TtktmgIQQooXOnz9PaGgoiqJQWVnJuXPnWLNmjdVzGI1GDAYDaWlpVq8tmpL3RPvRYRsgo9GIyWSy3MxNLSUlJQCq5igpKcHFxUW1+rZC3hNNM8h74sb9crkjMzOTiIgI0tPT0el0VsvxwQcfMGnSJAYMGGC1mqJ58p5oP2QJTAghWomfnx9DhgwhOzvbqnW3b99OWFiYVWuKayPvCdvVYWeAtFotWq2WU6dOqZqj8VO+mjnUnvGwFfKeuDyDuDGKojT5urCwkKKiIry8vKyWobKyku+++w4/Pz+r1RRXJu+J9qPDNkBCCNHW6urqCA0NBS7+4VMUhRdeeIHBgwdbLUNRURF9+vTBwcHBajXFlcl7ov2QBkgIIVpAp9Nx7NgxtWMwYsQIq51iLa5O3hPti+wBEuL/a+/+g6Ks8ziAv/kZsggtGGhwEkysimJiMJdcidrqKUqGZEWeaRKImIxJRiAIKKeGjRYXOGoYmJRO6EaHWqnjZNnYICGeguLxK9YMvNxSVnSB3fvDgQnFXwjP8yzP+/VX7Cx+3oMkb7772echIiLZYQEiIiIi2WEBIiIiItlhASIiIiLZYQEiIiIi2WEBIiIiItlhASIiIiLZ4XWA7qCtrQ0TJkzAiBEjsHXrVtFyHDx4EAkJCSgtLRUtg9ydP38ekydPxrBhw2AymdDe3g57e3skJCRg7NixguVYt24dvv76azz88MMAAC8vL2zYsEGw+URE/QUL0B0cOHAAw4cPx+nTp1FTUwNvb2/BM9TV1SEzM/OWy6uT8G6+yeH+/fuRmJgo6AXHTpw4gY0bN2LMmDGCzSQi6o/4EtgdfPrpp5g8eTJCQkKQl5cn+PyWlha8/fbbSExMFHw23Z1Op4Orq6tg8wwGAyoqKrBt2zbMnDkTcXFxuHDhgmDziYj6E54A3cZ///tfnDx5Ejk5Oairq8Orr76K+Ph4ODk5CZYhNTUVERERUKlUgs2k27t27RrCwsJgMplw+fJlXLx4ETk5OYLNb2pqwrhx4xAfHw9PT0/k5uYiNja2y6kUERHdGxag29i5cyeCg4MxcOBA+Pn5wd3dHbt27UJ0dLQg8wsKCmBtbY2wsDBotVpBZtKd3fwSWFlZGaKiolBUVAR3d/c+n+/h4YHNmzd3fhwZGYmcnBycP39ekPn9kU6ng16vx2OPPSZaho7/v8XM0JFDoVCImkEK+D3RNUd//p7gS2DdaGlpwRdffIGffvoJzz77LCZNmoSLFy+ioKAA7e3tgmT44osv8J///AdhYWFYuHBh5+nDxYsXBZlPd+fv7w8vLy+cPHlSkHlnz55FUVFRl8dMJhOsrfl7TE+pVCrR/4FXKBSiZ+jIwdNmkhP+y9mNL7/8Es7Ozvjmm286H7ty5QomTpyI/fv3Y8aMGX2e4fPPP+/87/Pnz2PGjBl8qUNkNy+i19bWor6+Hr6+voLMt7S0xJo1axAQEAB3d3cUFBRg+PDhcHNzE2R+f1RSUiJ2BJIYpVIJpVKJuro60TJ0nPyImeHPOforFqBu7Ny5E6+99lqXxwYOHIi5c+ciPz9fkAJ0MwsLC8FnUlcGgwFhYWEAbpQhk8mE1atXw9PTU5D5Pj4+SE5ORkxMDIxGIwYPHsy3wBMR9ZCFqZ++v1pqDZq/TYhPKl8HKeSQQgYiKZLC/xtSyCClHH2FO0BEREQkOyxAREREJDssQERERCQ7LEBEREQkOyxAREREJDssQERERCQ7LEBEREQkOyxAREREJDu8EjQREVEvMBqNyM/PR3FxMYxGI1pbWzFhwgTExcXB1tZWsByffPIJCgoKMGDAAHh7eyM1NRWOjo6CzTcXPAEiIiLqBampqSgvL0d+fj40Gg0KCwtRW1uLlJQUwTIcO3YMubm52L59OzQaDcaPH4/k5GTB5psTngARERE9IK1Wi+LiYhw9ehT29vYAADs7O6xatQplZWWC5aioqMC4cePg6uoKAJgyZQqSk5PR1tYGa2v+yP8zngARERE9oIqKCvj4+HSWnw4uLi5Qq9WC5Rg9ejR+/PFHXLhwAQCwe/dutLW14ffffxcsg7not3VQp9NBr9d33sxNLFqtFgBEzaHVaqFQKESbLxX8nuiagd8TRL3H0tISRqNR7BgICAjA4sWLsXjxYlhaWiI8PBxOTk6wsbERO5rk8ASIZEOlUknih75CoRA9h0KhgEqlEjUDUX/i5+eH6upqXL16tcvjjY2NWLhwIQwGgyA59Ho9AgMDsWfPHhQWFmLKlCkAACcnJ0Hmm5N+ewKkVCqhVCpRV1cnao6O3/LFzCH2iYdUlJSUiB2BiPopNzc3hIaGIikpCRkZGXBwcEBzczPS09Ph7Ows2LvAmpqaMH/+fOzduxcODg7IycnBjBkzBJltbvptASIiIhJSWloasrOzERERAWtraxgMBqjVaixZskSwDF5eXoiOjsaLL74Ik8mEJ598EitXrhRsvjmxMJlMJrFD9AUpnLxIJYcUMhARmQMp/HsphQxSytFXuANEREREssMCRERERLLDAkRERESywwJEREREssMCRERERLLDAkRERESywwJEREREssMLIXbj/PnzmDx5MoYNGwaTyYT29nbY29sjISEBY8eOFSzHunXr8PXXX+Phhx8GcOMCVxs2bBBsPhERUX/FAnQbdnZ20Gg0nR/v378fiYmJ+PrrrwXLcOLECWzcuBFjxowRbCYREZEcsADdI51OB1dXV8HmGQwGVFRUYNu2baivr4enpycSExMxZMgQwTIQERH1VyxAt3Ht2jWEhYXBZDLh8uXLuHjxInJycgSb39TUhHHjxiE+Ph6enp7Izc1FbGxsl1MpIiIi6hkWoNu4+SWwsrIyREVFoaioCO7u7n0+38PDA5s3b+78ODIyEjk5OTh//rwg84mI5Ein00Gv13feB0sMWq0WAETN0JFDoVCImqEv8V1g98jf3x9eXl44efKkIPPOnj2LoqKiLo+ZTCZYW7OzEhH1FZVKJfoPfYVCIXqGjhwqlUrsGH2GP01vw2Qydfm4trYW9fX18PX1FWS+paUl1qxZg4CAALi7u6OgoADDhw+Hm5ubIPOJiOSopKRE7AgkEBag2zAYDAgLCwNwowyZTCasXr0anp6egsz38fFBcnIyYmJiYDQaMXjwYL4FnoiIqJdYmG4+6ugnOl47raurk32OnmT47bffsG7dOqxbtw5WVlZ9E4yIqA9VVlZixIgRYscgieIOEHXr3Llz2L59OxITE8WOQkR03/Ly8rB06VKxY5CEsQBRt5566iksX74cW7Zs4VvvichsGI1GJCQk4I033sArr7widhySMBYguq34+HhMnToV77zzDhoaGsSOQ0R0R1euXMELL7yAzMxM+Pj44B//+IfYkUjCWIDotiwsLLBlyxY4ODggKioK7e3tYkciIurWqVOnMHny5M4T62nTpnF/ke6IBYjuyNHREVlZWSgrK+M+EBFJ0p49e/Dcc8/hxx9/BAAMHjyY+z90VyxAdFd/+9vfuA9ERJLTcXmSBQsWoLa2tvNxtVot6L0byTzxOkB0T+Lj43H8+HG88847CAgIwF/+8hexIxGRjF27dg2vv/46PvvsMxiNxs7HbW1t8frrr4uYjMwFT4DonnAfiIik5JVXXkFBQUGX8gMATz/9NIKDg0VKReaEBYjuGfeBiEgqNm3ahNDQ0Fsef/7550VIQ+aIBYjuC/eBiEgK3Nzc8Nprr8HR0RFOTk4AgOHDhyM6OlrkZGQuWIDovvH6QEQktoaGBrzzzjsICQnBZ599Bl9fX/z973/HQw89JHY0MhO8F5gMcvRFhsuXL2PixIl45JFHsHfvXl5vg4gE097ejunTp+N///sfDh8+jIEDB6KxsRHAjZMhonvRbwuQk5MT9Ho9PDw8RM2h1WoBQNQcWq0WCoUCf/zxR6/+uT/88APCwsIwb948ZGZm9uqf3RcCAwNRVVUFpVIpag6dTgcAoubQ6XRQqVQoKSkRLQNRTyUkJCAvLw8ajQZBQUFixyEzxZfAqMeCgoLMah+oqqoKer1e7BjQ6/Wi59Dr9aiqqhI1A1FPaDQabN68GW+//TbLDz2QfnsCJIWXnqSSoy8zmEwmREREoKysDAcPHpT09YGk8HchlRxSyEB0vxoaGqBWqzF27Fh8+umnsLCwEDsSmTGeANED4fWBiEgI7e3tiIqKwsCBA7FlyxaWH3pgLED0wBwdHfGvf/2L1wcioj6TlJSEsrIyZGVlYeDAgWLHoX6ABYh6RVBQEN5++22z2QciIvPBvR/qCyxA1GuWLVvG6wMRUa/quN7PtGnTsGzZMrHjUD/CAkS9hvtARNSbuPdDfYkFiHoV94GIqLdw74f6EgsQ9TruAxHRg+LeD/U1FiDqE9wHIqKe4t4PCYEFiPoE94GIqCe490NCYQGiPvPnfaCkpCSx4/RrRqNR7AhEvYJ7PyQUFqBuGI1GfPzxxwgPD0dYWBhmzJiB9957DwaDQdAcZ8+exdy5cxEWFoYXXngBp0+fFnR+b+jYB9q8eTO++OILsePcs6effhr19fVix0Brayv8/f1x5cqV2z4nLy8Pe/fuFTAVUd/g3g8JiQWoG6mpqSgvL0d+fj40Gg0KCwtRW1uLlJQUwTJcu3YNkZGRiI6OhkajQWxsLJYvXy7Y/N7UsQ+UkJBgFvtADQ0NMBqN8PT0FDsKTp06BXd39zv+JpyXl4cRI0YImIqo93Xs/UydOpV7PyQIFqCbaLVaFBcXY82aNXBwcAAA2NnZYdWqVZg8ebJgOb7//nt4enrimWeeAQBMmjQJ77//vmDze5O57QOVlZXB398fAHDgwAGEhITgzJkzSExMxOzZsxEeHo6srCwAQGVlJaZNm9b5uU1NTQgODsbFixd7NPvy5ctYtmwZZs2ahfnz52Pfvn0YM2YMjhw5gpdeegkvv/wyZs2ahX379gEA5s6dC51Oh5UrV6K1tRXffvttl+fxZIjMwZ/3frZu3cq9HxKEtdgBpKaiogI+Pj6wt7fv8riLiwvUarVgOerq6uDi4oIVK1bgzJkzcHJywltvvSXY/N7WsQ8UFhaGpKQkvPvuu2JHuq0TJ07A398fhYWFKCoqQkFBAZYvX47Zs2dj7dq1AG4Uj+PHj2P06NG4cOEC2tvbYWVlhfXr1yMqKgqPPPJIj2YvXboUQUFB2LBhA37++WdMnToVK1aswNatW7Fx40Y8+uijqKysRExMDEJCQjBnzhzY2toiNzcXer0eH3300S3Pmz59em9+eYh6Xcfej0aj4d4PCYYF6CaWlpaSWChta2vDd999h+3bt8PPzw+HDh1CdHQ0Dh8+DBsbG7Hj9UjHPtDq1asxbtw4PP/882JH6lZZWRmamppw+PBhfPXVV2hsbERpaSmam5uxbds2ADdOapqbm2Frawt3d3fU19fj0qVLqKmpQWZmZo/mVlVVobq6Grm5uQCAoUOH4qGHHsJTTz0FNzc37Nq1C9evX0d9fT0GDRoEACgvL8cTTzwBALC3t8e8efO6fR51LzAwEFVVVVAqlaJl0Ol0ACBqho4cKpUKJSUlgs7t2PtJTk7m3g8Jii+B3cTPzw/V1dW4evVql8cbGxuxcOFCwRahXV1d4eXlBT8/PwDAs88+i/b2drPYobkTqe8DtbS04Ny5c/D19UVERAQKCwtRU1ODgIAA7Ny5E7t27cInn3yCNWvWYMKECQAAlUqF6upqrFmzBunp6T0+vq+trYWPj0/n59fU1MDa2hq7d+9GUVERJk6ciMjISHh6enaWnhMnTnT+d2Zm5m2fR92rqqqCXq8XNYNerxc9Q0eOqqoqQWf+ee8nPj5e0NlEPAG6iZubG0JDQ5GUlISMjAw4ODigubkZ6enpcHZ2hq2trSA5xo8fj3fffRcVFRXw9fVFSUkJLC0t4eHhIcj8vtKxDzRx4kRERUVh7969sLKyEjtWp/LycowYMQKxsbE4d+4cXn31VeTk5ODkyZO4dOkSlEol1q9fj+bm5s49IZVKhaysLAQGBmLUqFE9nj1kyBDU1NTg+vXrsLCwwNq1a/HEE0+gtLQUixYtwpgxY1BZWQmNRoPExEQYjUZUVlZ2ziwtLUVsbOwtz6PbUyqVUCqVqKurEy3DY489BgCiZvhzDqFw74fExgLUjbS0NGRnZyMiIgLW1tYwGAxQq9VYsmSJYBkGDRqE7OxspKWloaWlBba2tvjwww8FK2B9Scr7QH8+UfHx8YG3tzfq6uoQGRmJOXPmYMCAARg7dizS09M7P+fxxx+HTqd74HeujB49Gmq1GqGhofD29oaNjQ18fX0xcuRIrF27Fnl5eXB0dIS7uzvs7OxgNBoxdOhQLFq0CDt27EBMTEy3zyOSIu79kNgsTCaTSewQfUFqv1XxN8xbvffee8jIyEBeXp4g+0B99XWIi4vD1KlTERISImqO+yGFDFIgha+DFDIInUOj0WDBggVITk7mS18kGu4AkWji4+MlvQ90Nz/88ANmzpwJLy+vey4/RHLH6/2QVLAAkWjM7fpANwsKCkJRURHefPNNsaMQmQXe54ukhAWIRMX7hRHJB+/zRVLCAkSiCwoKwvLly83ufmFEdO80Gg22bNnC+3yRZLAAkSSY+z4QEd0e935IiliASBLMfR+IiLrX3t6O6Oho7v2Q5LAAkWRwH4io90jhlj7Ajb2fn376iXs/JDksQCQp3e0DlZaWcjeIRPf000+jvr5e7BhobW2Fv78/rly5ctvn5OXlYe/evQKm6h73fkjKeCVokpz4+HgcP34cCQkJOHXqFDZt2oRhw4ZJ9uap1P81NDTAaDTC09NT7Cg4deoU3N3d73iakpeXh48++kjAVLfi3g9JHU+ASHIsLCzwwQcfoKWlBSkpKfjll19w9OhRHD58WOxoJFNlZWWd9347cOAAQkJCcObMGSQmJmL27NkIDw9HVlYWAKCyshLTpk3r/NympiYEBwfj4sWLPZp9+fJlLFu2DLNmzcL8+fOxb98+jBkzBkeOHMFLL72El19+GbNmzcK+ffsAAHPnzoVOp8PKlSvR2tqKb7/9tsvzhDgZ4t4PmQOeAJHklJaW4o033ujybjCDwYCPP/4YEydOFDEZydWJEyfg7++PwsJCFBUVoaCgAMuXL8fs2bOxdu1aADeKx/HjxzF69GhcuHAB7e3tsLKywvr16xEVFYVHHnmkR7OXLl2KoKAgbNiwAT///DOmTp2KFStWYOvWrdi4cSMeffRRVFZWIiYmBiEhIZgzZw5sbW2Rm5sLvV6Pjz766JbnTZ8+vTe/PLfo2Pvhfb5IyvptAdLpdNDr9YLf4fhmWq0WgPB3Wr45g0KhEG3+/Tpy5AjOnDlzy+MHDhxAU1MTXF1de/Tn8nuiawZz+p4QW1lZGZqamnD48GF89dVXaGxsRGlpKZqbm7Ft2zYAN05qmpubYWtrC3d3d9TX1+PSpUuoqalBZmZmj+ZWVVWhuroaubm5AIChQ4fioYcewlNPPQU3Nzfs2rUL169fR319PQYNGgQAKC8v77yhr729PebNm9ft8/pKx95PSkoK935I0vptAVKpVKiqqhI7hiR+yCgUCqhUKrFj3LM333wT3t7eiI+PR3V1defjv/76K95//32sWbNGxHQkNy0tLTh37hwmT56MwYMHo7CwEMOGDUNAQAC2bt0K4MYJ5enTpztfJlOpVKiursamTZuwatWqHr8EVFtbCx8fn87Pr6mpgbW1NXbv3o2GhgZERkbC3d0dubm5GDJkCIAbp1UxMTEAgMzMTGi12m6f1xc69n6mTZvGW8SQ5PXbAlRSUiJ2BHoAM2fOhEqlwoIFC3Ds2LHOx/fv34/Vq1fDysrqvv9MpVIJpVIpq7tu3y0D3V15eTlGjBiB2NhYnDt3Dq+++ipycnJw8uRJXLp0CUqlEuvXr0dzc3OXApSVlYXAwECMGjWqx7OHDBmCmpoaXL9+HRYWFli7di2eeOIJlJaWYtGiRRgzZgwqKyuh0WiQmJgIo9GIysrKzpmlpaWIjY295Xl94c97P5s3b+beD0levy1AZP5GjBiBAwcO4LXXXkNhYSGAG7/d7tixA/PmzRM5HcnFiRMnOl9S8vHxgbe3N+rq6hAZGYk5c+ZgwIABGDt2LNLT0zs/5/HHH4dOp3vgdz+NHj0aarUaoaGh8Pb2ho2NDXx9fTFy5EisXbsWeXl5cHR0hLu7O+zs7GA0GjF06FAsWrQIO3bsQExMTLfP6wvc+yFzY2EymUxihyC6E5PJhOTkZHzwwQfQ6/WYPn06iouL7/vPkcLJi1RySCGDFPTV1yEuLg5Tp05FSEiIaBnu14Pk0Gg0WLBgAVJSUviWdzIbfBs8SZ6FhQX++c9/YtOmTfDw8MC3336LsrIysWMR3eKHH37AzJkz4eXldU/lpz/g3g+ZKxYgMhtz587Fnj178Pjjj2PTpk1ixyG6RVBQEIqKimRTBLj3Q+aMBYjMSmBgIA4cOIC6ujo0NzeLHYdI1t5//32UlpbyPl9klrgETWZn0KBB2L9/v9gxiGQvLi4O/v7+vN4PmSUWIDJLPXkbPBH1LhsbG0yaNEnsGEQ9wpfAiIiISHZYgIiIiEh2WICIiIhIdrgDRHQPjEYj8vPzUVxcDKPRiNbWVkyYMAFxcXGwtbUVLMeOHTuwc+dOWFhYYOjQoVi9ejWcnZ0Fm09E1F/wBIjoHqSmpqK8vBz5+fnQaDQoLCxEbW0tUlJSBMtw+vRpfPzxx9i1axf+/e9/Y+jQofjggw8Em09E1J/wBIjoLrRaLYqLi3H06FHY29sDAOzs7LBq1SpBr0g9cuRIfPPNN7CyssL169fR1NQEDw8PweYTEfUnPAEiuouKigr4+Ph0lp8OLi4uUKvVgmaxsrLCwYMHERwcjOPHjyM8PFzQ+URE/QVPgIjuwtLSEkajUewYndRqNdRqNT7//HMsWLAABw8eFDuS2dLpdNDr9Z03AhWDVqsFAFEzdORQKBSiZiASEk+AiO7Cz88P1dXVuHr1apfHGxsbsXDhQhgMBkFy/PzzzygtLe38ODw8HL/88gv++OMPQeYL7dixYwgODsbSpUvx2WefQa/Xix2JiPoRngAR3YWbmxtCQ0ORlJSEjIwMODg4oLm5Genp6XB2dhbsXWBNTU2Ij49HUVERHn74YXz55ZdQqVRwcnISZL7Q9Ho9jhw5giNHjgAABg8ejJEjR2LUqFH461//iueee+6BTyyUSiWUSiXq6up6IXHPdJz8iJnhzzmI5IIFiOgepKWlITs7GxEREbC2tobBYIBarcaSJUsEyxAQEIBFixZh7ty5sLa2hqurK7KzswWbf/36daxfvx6WlsIcHNfX13f5+Ndff8Wvv/6KQ4cOAeibQkRE8mFhMplMYocgEoLUftM2t1OH3377DcHBwbCwsOibUDdpa2vDmTNn7vq8IUOGQKVSYeTIkcjKyrqv+8SZ699Ff85BJBSeABHRPXFxccGpU6cEm3fo0KFu32X36KOPdp78jBs3DtOnT7/lHXpERHfDAkREkjZkyBCMGjWKhYeIehULEBFJkp+fH3bt2oUZM2aw8BBRr2MBIiJJcnV1xYsvvih2DCLqp3gdICIiIpIdFiAiIiKSHRYgIiIikh0WICIiIpIdLkETEfWA0WhEfn4+iouLYTQa0draigkTJiAuLk6w26MAwCeffIKCggIMGDAA3t7eSE1NhaOjo2DzicwVT4CIiHogNTUV5eXlyM/Ph0ajQWFhIWpra5GSkiJYhmPHjiE3Nxfbt2+HRqPB+PHjkZycLNh8InPGEyAiovuk1WpRXFyMo0ePdl6jyM7ODqtWrUJZWZlgOSoqKjBu3Di4uroCAKZMmYLk5GS0tbXB2pr/vBPdCU+AiIjuU0VFBXx8fG65QKOLi0u3t+/oK6NHj8aPP/6ICxcuAAB2796NtrY2/P7774JlIDJX/BWBZEOn00Gv13fe9FEsWq0WAETNodVqeef0B2BpaQmj0Sh2DAQEBGDx4sVYvHgxLC0tER4eDicnJ9jY2IgdjUjyeAJERHSf/Pz8UF1djatXr3Z5vLGxEQsXLoTBYBAkh16vR2BgIPbs2YPCwkJMmTIFAODk5CTIfCJzxhMgkg2lUgmlUom6ujpRc3Sc/IiZQ+xTMHPn5uaG0NBQJCUlISMjAw4ODmhubkZ6ejqcnZ0FexdYU1MT5s+fj71798LBwQE5OTmYMWOGILOJzB0LEBFRD6SlpSE7OxsRERGwtraGwWCAWq3GkiVLBMvg5eWF6OhovPjiizCZTHjyySexcuVKweYTmTMLk8lkEjsEkRCkcPIilRxSyCAFUvg6SCGDlHIQCYU7QERERCQ7LEBEREQkOyxAREREJDssQERERCQ7LEBEREQkOyxAREREJDssQERERCQ7vBAi0T0wGo3Iz89HcXExjEYjWltbMWHCBMTFxQl21V8AOHv2LDIyMtDc3AwrKyukp6dj5MiRgs0nIuoveAJEdA9SU1NRXl6O/Px8aDQaFBYWora2Fikp1d90jAAAAzFJREFUKYJluHbtGiIjIxEdHQ2NRoPY2FgsX75csPlERP0JT4CI7kKr1aK4uBhHjx6Fvb09AMDOzg6rVq1CWVmZYDm+//57eHp64plnngEATJo0CR4eHoLNJyLqT1iAiO6ioqICPj4+neWng4uLC9RqtWA56urq4OLighUrVuDMmTNwcnLCW2+9Jdh8IqL+hAWI6C4sLS1hNBrFjoG2tjZ899132L59O/z8/HDo0CFER0fj8OHDsLGxETueWdLpdNDr9Z33wRKDVqsFAFEzdORQKBSiZiASEneAiO7Cz88P1dXVuHr1apfHGxsbsXDhQhgMBkFyuLq6wsvLC35+fgCAZ599Fu3t7WhoaBBkfn+kUqlE/6GvUChEz9CRQ6VSiR2DSDA8ASK6Czc3N4SGhiIpKQkZGRlwcHBAc3Mz0tPT4ezsLNi7wMaPH493330XFRUV8PX1RUlJCSwtLbkH9ABKSkrEjkBEImEBIroHaWlpyM7ORkREBKytrWEwGKBWq7FkyRLBMgwaNAjZ2dlIS0tDS0sLbG1t8eGHHwr6Nnwiov7CwmQymcQOQSSEjh2Luro62eeQQgYiIjFxB4iIiIhkhwWIiIiIZIcFiIiIiGSHBYiIiIhkhwWIiIiIZIcFiIiIiGSHBYiIiIhkhwWIiIiIZIcFiIiIiGSHBYiIiIhkhwWIiIiIZIcFiIiIiGSHd4Mn2dDpdNDr9Z03AhWLVqsFAFFzaLVaKBQK0eYTEYmNJ0AkGyqVShI/9BUKheg5FAoFVCqVqBmIiMRkYTKZTGKHICIiIhIST4CIiIhIdliAiIiISHZYgIiIiEh2WICIiIhIdliAiIiISHZYgIiIiEh2WICIiIhIdliAiIiISHZYgIiIiEh2WICIiIhIdliAiIiISHZYgIiIiEh2WICIiIhIdliAiIiISHZYgIiIiEh2WICIiIhIdliAiIiISHZYgIiIiEh2WICIiIhIdliAiIiISHZYgIiIiEh2WICIiIhIdliAiIiISHZYgIiIiEh2WICIiIhIdliAiIiISHZYgIiIiEh2WICIiIhIdliAiIiISHZYgIiIiEh2WICIiIhIdv4P3aGFq6+smeAAAAAASUVORK5CYII=)"
   ]
  },
  {
   "cell_type": "markdown",
   "metadata": {
    "id": "Mlh4NJst1HdH"
   },
   "source": [
    "This makes clear what the ``groupby`` accomplishes:\n",
    "\n",
    "- The *split* step involves breaking up and grouping a ``DataFrame`` depending on the value of the specified key.\n",
    "- The *apply* step involves computing some function, usually an aggregate, transformation, or filtering, within the individual groups.\n",
    "- The *combine* step merges the results of these operations into an output array."
   ]
  },
  {
   "cell_type": "code",
   "execution_count": 119,
   "metadata": {
    "colab": {
     "base_uri": "https://localhost:8080/",
     "height": 238
    },
    "executionInfo": {
     "elapsed": 5392,
     "status": "ok",
     "timestamp": 1621352928328,
     "user": {
      "displayName": "Vincenzo Nardelli",
      "photoUrl": "https://lh3.googleusercontent.com/a-/AOh14GjPK26_e6OTwkTbx-Bj4I8qLqir6RkknYKsq2GM=s64",
      "userId": "12315026942894680720"
     },
     "user_tz": -120
    },
    "id": "ukaq2dRc1HdH",
    "jupyter": {
     "outputs_hidden": false
    },
    "outputId": "f001c0ea-0acc-42ef-9205-cc5d8605336f"
   },
   "outputs": [
    {
     "data": {
      "text/html": [
       "<div>\n",
       "<style scoped>\n",
       "    .dataframe tbody tr th:only-of-type {\n",
       "        vertical-align: middle;\n",
       "    }\n",
       "\n",
       "    .dataframe tbody tr th {\n",
       "        vertical-align: top;\n",
       "    }\n",
       "\n",
       "    .dataframe thead th {\n",
       "        text-align: right;\n",
       "    }\n",
       "</style>\n",
       "<table border=\"1\" class=\"dataframe\">\n",
       "  <thead>\n",
       "    <tr style=\"text-align: right;\">\n",
       "      <th></th>\n",
       "      <th>key</th>\n",
       "      <th>data</th>\n",
       "    </tr>\n",
       "  </thead>\n",
       "  <tbody>\n",
       "    <tr>\n",
       "      <th>0</th>\n",
       "      <td>A</td>\n",
       "      <td>0</td>\n",
       "    </tr>\n",
       "    <tr>\n",
       "      <th>1</th>\n",
       "      <td>B</td>\n",
       "      <td>1</td>\n",
       "    </tr>\n",
       "    <tr>\n",
       "      <th>2</th>\n",
       "      <td>C</td>\n",
       "      <td>2</td>\n",
       "    </tr>\n",
       "    <tr>\n",
       "      <th>3</th>\n",
       "      <td>A</td>\n",
       "      <td>3</td>\n",
       "    </tr>\n",
       "    <tr>\n",
       "      <th>4</th>\n",
       "      <td>B</td>\n",
       "      <td>4</td>\n",
       "    </tr>\n",
       "    <tr>\n",
       "      <th>5</th>\n",
       "      <td>C</td>\n",
       "      <td>5</td>\n",
       "    </tr>\n",
       "  </tbody>\n",
       "</table>\n",
       "</div>"
      ],
      "text/plain": [
       "  key  data\n",
       "0   A     0\n",
       "1   B     1\n",
       "2   C     2\n",
       "3   A     3\n",
       "4   B     4\n",
       "5   C     5"
      ]
     },
     "execution_count": 119,
     "metadata": {},
     "output_type": "execute_result"
    }
   ],
   "source": [
    "df = pd.DataFrame({'key': ['A', 'B', 'C', 'A', 'B', 'C'],\n",
    "                   'data': range(6)}, columns=['key', 'data'])\n",
    "df"
   ]
  },
  {
   "cell_type": "code",
   "execution_count": 120,
   "metadata": {
    "colab": {
     "base_uri": "https://localhost:8080/",
     "height": 175
    },
    "executionInfo": {
     "elapsed": 5387,
     "status": "ok",
     "timestamp": 1621352928329,
     "user": {
      "displayName": "Vincenzo Nardelli",
      "photoUrl": "https://lh3.googleusercontent.com/a-/AOh14GjPK26_e6OTwkTbx-Bj4I8qLqir6RkknYKsq2GM=s64",
      "userId": "12315026942894680720"
     },
     "user_tz": -120
    },
    "id": "bRhoi2D11HdH",
    "jupyter": {
     "outputs_hidden": false
    },
    "outputId": "767e0763-dc00-442e-ac6a-cd0c4163ab2a"
   },
   "outputs": [
    {
     "data": {
      "text/html": [
       "<div>\n",
       "<style scoped>\n",
       "    .dataframe tbody tr th:only-of-type {\n",
       "        vertical-align: middle;\n",
       "    }\n",
       "\n",
       "    .dataframe tbody tr th {\n",
       "        vertical-align: top;\n",
       "    }\n",
       "\n",
       "    .dataframe thead th {\n",
       "        text-align: right;\n",
       "    }\n",
       "</style>\n",
       "<table border=\"1\" class=\"dataframe\">\n",
       "  <thead>\n",
       "    <tr style=\"text-align: right;\">\n",
       "      <th></th>\n",
       "      <th>data</th>\n",
       "    </tr>\n",
       "    <tr>\n",
       "      <th>key</th>\n",
       "      <th></th>\n",
       "    </tr>\n",
       "  </thead>\n",
       "  <tbody>\n",
       "    <tr>\n",
       "      <th>A</th>\n",
       "      <td>3</td>\n",
       "    </tr>\n",
       "    <tr>\n",
       "      <th>B</th>\n",
       "      <td>5</td>\n",
       "    </tr>\n",
       "    <tr>\n",
       "      <th>C</th>\n",
       "      <td>7</td>\n",
       "    </tr>\n",
       "  </tbody>\n",
       "</table>\n",
       "</div>"
      ],
      "text/plain": [
       "     data\n",
       "key      \n",
       "A       3\n",
       "B       5\n",
       "C       7"
      ]
     },
     "execution_count": 120,
     "metadata": {},
     "output_type": "execute_result"
    }
   ],
   "source": [
    "df.groupby('key').sum()"
   ]
  },
  {
   "cell_type": "markdown",
   "metadata": {
    "id": "K9XQ9xV91HdI"
   },
   "source": [
    "The GroupBy object\n"
   ]
  },
  {
   "cell_type": "code",
   "execution_count": 121,
   "metadata": {
    "colab": {
     "base_uri": "https://localhost:8080/"
    },
    "executionInfo": {
     "elapsed": 5383,
     "status": "ok",
     "timestamp": 1621352928329,
     "user": {
      "displayName": "Vincenzo Nardelli",
      "photoUrl": "https://lh3.googleusercontent.com/a-/AOh14GjPK26_e6OTwkTbx-Bj4I8qLqir6RkknYKsq2GM=s64",
      "userId": "12315026942894680720"
     },
     "user_tz": -120
    },
    "id": "YbQg5M_91HdJ",
    "jupyter": {
     "outputs_hidden": false
    },
    "outputId": "3f9488f8-b095-4010-e53a-0f39a90c35eb"
   },
   "outputs": [
    {
     "data": {
      "text/plain": [
       "<pandas.core.groupby.generic.DataFrameGroupBy object at 0x7f865e3320a0>"
      ]
     },
     "execution_count": 121,
     "metadata": {},
     "output_type": "execute_result"
    }
   ],
   "source": [
    "planets.groupby('method')"
   ]
  },
  {
   "cell_type": "code",
   "execution_count": 122,
   "metadata": {
    "colab": {
     "base_uri": "https://localhost:8080/"
    },
    "executionInfo": {
     "elapsed": 5380,
     "status": "ok",
     "timestamp": 1621352928330,
     "user": {
      "displayName": "Vincenzo Nardelli",
      "photoUrl": "https://lh3.googleusercontent.com/a-/AOh14GjPK26_e6OTwkTbx-Bj4I8qLqir6RkknYKsq2GM=s64",
      "userId": "12315026942894680720"
     },
     "user_tz": -120
    },
    "id": "3ejfUS4x1HdK",
    "jupyter": {
     "outputs_hidden": false
    },
    "outputId": "c1a3234e-4d7f-486f-dd18-c66259e68517"
   },
   "outputs": [
    {
     "data": {
      "text/plain": [
       "<pandas.core.groupby.generic.SeriesGroupBy object at 0x7f865e2fbf70>"
      ]
     },
     "execution_count": 122,
     "metadata": {},
     "output_type": "execute_result"
    }
   ],
   "source": [
    "planets.groupby('method')['orbital_period']"
   ]
  },
  {
   "cell_type": "code",
   "execution_count": 123,
   "metadata": {
    "colab": {
     "base_uri": "https://localhost:8080/"
    },
    "executionInfo": {
     "elapsed": 5376,
     "status": "ok",
     "timestamp": 1621352928330,
     "user": {
      "displayName": "Vincenzo Nardelli",
      "photoUrl": "https://lh3.googleusercontent.com/a-/AOh14GjPK26_e6OTwkTbx-Bj4I8qLqir6RkknYKsq2GM=s64",
      "userId": "12315026942894680720"
     },
     "user_tz": -120
    },
    "id": "_bv8qpMb1HdV",
    "jupyter": {
     "outputs_hidden": false
    },
    "outputId": "e07ac2d6-8858-467a-b907-0245ec773fbe"
   },
   "outputs": [
    {
     "data": {
      "text/plain": [
       "method\n",
       "Astrometry                         631.180000\n",
       "Eclipse Timing Variations         4343.500000\n",
       "Imaging                          27500.000000\n",
       "Microlensing                      3300.000000\n",
       "Orbital Brightness Modulation        0.342887\n",
       "Pulsar Timing                       66.541900\n",
       "Pulsation Timing Variations       1170.000000\n",
       "Radial Velocity                    360.200000\n",
       "Transit                              5.714932\n",
       "Transit Timing Variations           57.011000\n",
       "Name: orbital_period, dtype: float64"
      ]
     },
     "execution_count": 123,
     "metadata": {},
     "output_type": "execute_result"
    }
   ],
   "source": [
    "planets.groupby('method')['orbital_period'].median()"
   ]
  },
  {
   "cell_type": "markdown",
   "metadata": {
    "id": "KNpEAkOM1HdV"
   },
   "source": [
    "Dispatch methods\n",
    "\n",
    "Through some Python class magic, any method not explicitly implemented by the ``GroupBy`` object will be passed through and called on the groups, whether they are ``DataFrame`` or ``Series`` objects.\n",
    "For example, you can use the ``describe()`` method of ``DataFrame``s to perform a set of aggregations that describe each group in the data:"
   ]
  },
  {
   "cell_type": "code",
   "execution_count": 124,
   "metadata": {
    "colab": {
     "base_uri": "https://localhost:8080/",
     "height": 394
    },
    "executionInfo": {
     "elapsed": 5371,
     "status": "ok",
     "timestamp": 1621352928330,
     "user": {
      "displayName": "Vincenzo Nardelli",
      "photoUrl": "https://lh3.googleusercontent.com/a-/AOh14GjPK26_e6OTwkTbx-Bj4I8qLqir6RkknYKsq2GM=s64",
      "userId": "12315026942894680720"
     },
     "user_tz": -120
    },
    "id": "MS02_Qjg1HdW",
    "jupyter": {
     "outputs_hidden": false
    },
    "outputId": "9a2c3af3-1521-41dd-e709-b21a7b10f00b"
   },
   "outputs": [
    {
     "data": {
      "text/html": [
       "<div>\n",
       "<style scoped>\n",
       "    .dataframe tbody tr th:only-of-type {\n",
       "        vertical-align: middle;\n",
       "    }\n",
       "\n",
       "    .dataframe tbody tr th {\n",
       "        vertical-align: top;\n",
       "    }\n",
       "\n",
       "    .dataframe thead th {\n",
       "        text-align: right;\n",
       "    }\n",
       "</style>\n",
       "<table border=\"1\" class=\"dataframe\">\n",
       "  <thead>\n",
       "    <tr style=\"text-align: right;\">\n",
       "      <th></th>\n",
       "      <th>count</th>\n",
       "      <th>mean</th>\n",
       "      <th>std</th>\n",
       "      <th>min</th>\n",
       "      <th>25%</th>\n",
       "      <th>50%</th>\n",
       "      <th>75%</th>\n",
       "      <th>max</th>\n",
       "    </tr>\n",
       "    <tr>\n",
       "      <th>method</th>\n",
       "      <th></th>\n",
       "      <th></th>\n",
       "      <th></th>\n",
       "      <th></th>\n",
       "      <th></th>\n",
       "      <th></th>\n",
       "      <th></th>\n",
       "      <th></th>\n",
       "    </tr>\n",
       "  </thead>\n",
       "  <tbody>\n",
       "    <tr>\n",
       "      <th>Astrometry</th>\n",
       "      <td>2.0</td>\n",
       "      <td>2011.500000</td>\n",
       "      <td>2.121320</td>\n",
       "      <td>2010.0</td>\n",
       "      <td>2010.75</td>\n",
       "      <td>2011.5</td>\n",
       "      <td>2012.25</td>\n",
       "      <td>2013.0</td>\n",
       "    </tr>\n",
       "    <tr>\n",
       "      <th>Eclipse Timing Variations</th>\n",
       "      <td>9.0</td>\n",
       "      <td>2010.000000</td>\n",
       "      <td>1.414214</td>\n",
       "      <td>2008.0</td>\n",
       "      <td>2009.00</td>\n",
       "      <td>2010.0</td>\n",
       "      <td>2011.00</td>\n",
       "      <td>2012.0</td>\n",
       "    </tr>\n",
       "    <tr>\n",
       "      <th>Imaging</th>\n",
       "      <td>38.0</td>\n",
       "      <td>2009.131579</td>\n",
       "      <td>2.781901</td>\n",
       "      <td>2004.0</td>\n",
       "      <td>2008.00</td>\n",
       "      <td>2009.0</td>\n",
       "      <td>2011.00</td>\n",
       "      <td>2013.0</td>\n",
       "    </tr>\n",
       "    <tr>\n",
       "      <th>Microlensing</th>\n",
       "      <td>23.0</td>\n",
       "      <td>2009.782609</td>\n",
       "      <td>2.859697</td>\n",
       "      <td>2004.0</td>\n",
       "      <td>2008.00</td>\n",
       "      <td>2010.0</td>\n",
       "      <td>2012.00</td>\n",
       "      <td>2013.0</td>\n",
       "    </tr>\n",
       "    <tr>\n",
       "      <th>Orbital Brightness Modulation</th>\n",
       "      <td>3.0</td>\n",
       "      <td>2011.666667</td>\n",
       "      <td>1.154701</td>\n",
       "      <td>2011.0</td>\n",
       "      <td>2011.00</td>\n",
       "      <td>2011.0</td>\n",
       "      <td>2012.00</td>\n",
       "      <td>2013.0</td>\n",
       "    </tr>\n",
       "    <tr>\n",
       "      <th>Pulsar Timing</th>\n",
       "      <td>5.0</td>\n",
       "      <td>1998.400000</td>\n",
       "      <td>8.384510</td>\n",
       "      <td>1992.0</td>\n",
       "      <td>1992.00</td>\n",
       "      <td>1994.0</td>\n",
       "      <td>2003.00</td>\n",
       "      <td>2011.0</td>\n",
       "    </tr>\n",
       "    <tr>\n",
       "      <th>Pulsation Timing Variations</th>\n",
       "      <td>1.0</td>\n",
       "      <td>2007.000000</td>\n",
       "      <td>NaN</td>\n",
       "      <td>2007.0</td>\n",
       "      <td>2007.00</td>\n",
       "      <td>2007.0</td>\n",
       "      <td>2007.00</td>\n",
       "      <td>2007.0</td>\n",
       "    </tr>\n",
       "    <tr>\n",
       "      <th>Radial Velocity</th>\n",
       "      <td>553.0</td>\n",
       "      <td>2007.518987</td>\n",
       "      <td>4.249052</td>\n",
       "      <td>1989.0</td>\n",
       "      <td>2005.00</td>\n",
       "      <td>2009.0</td>\n",
       "      <td>2011.00</td>\n",
       "      <td>2014.0</td>\n",
       "    </tr>\n",
       "    <tr>\n",
       "      <th>Transit</th>\n",
       "      <td>397.0</td>\n",
       "      <td>2011.236776</td>\n",
       "      <td>2.077867</td>\n",
       "      <td>2002.0</td>\n",
       "      <td>2010.00</td>\n",
       "      <td>2012.0</td>\n",
       "      <td>2013.00</td>\n",
       "      <td>2014.0</td>\n",
       "    </tr>\n",
       "    <tr>\n",
       "      <th>Transit Timing Variations</th>\n",
       "      <td>4.0</td>\n",
       "      <td>2012.500000</td>\n",
       "      <td>1.290994</td>\n",
       "      <td>2011.0</td>\n",
       "      <td>2011.75</td>\n",
       "      <td>2012.5</td>\n",
       "      <td>2013.25</td>\n",
       "      <td>2014.0</td>\n",
       "    </tr>\n",
       "  </tbody>\n",
       "</table>\n",
       "</div>"
      ],
      "text/plain": [
       "                               count         mean       std     min      25%  \\\n",
       "method                                                                         \n",
       "Astrometry                       2.0  2011.500000  2.121320  2010.0  2010.75   \n",
       "Eclipse Timing Variations        9.0  2010.000000  1.414214  2008.0  2009.00   \n",
       "Imaging                         38.0  2009.131579  2.781901  2004.0  2008.00   \n",
       "Microlensing                    23.0  2009.782609  2.859697  2004.0  2008.00   \n",
       "Orbital Brightness Modulation    3.0  2011.666667  1.154701  2011.0  2011.00   \n",
       "Pulsar Timing                    5.0  1998.400000  8.384510  1992.0  1992.00   \n",
       "Pulsation Timing Variations      1.0  2007.000000       NaN  2007.0  2007.00   \n",
       "Radial Velocity                553.0  2007.518987  4.249052  1989.0  2005.00   \n",
       "Transit                        397.0  2011.236776  2.077867  2002.0  2010.00   \n",
       "Transit Timing Variations        4.0  2012.500000  1.290994  2011.0  2011.75   \n",
       "\n",
       "                                  50%      75%     max  \n",
       "method                                                  \n",
       "Astrometry                     2011.5  2012.25  2013.0  \n",
       "Eclipse Timing Variations      2010.0  2011.00  2012.0  \n",
       "Imaging                        2009.0  2011.00  2013.0  \n",
       "Microlensing                   2010.0  2012.00  2013.0  \n",
       "Orbital Brightness Modulation  2011.0  2012.00  2013.0  \n",
       "Pulsar Timing                  1994.0  2003.00  2011.0  \n",
       "Pulsation Timing Variations    2007.0  2007.00  2007.0  \n",
       "Radial Velocity                2009.0  2011.00  2014.0  \n",
       "Transit                        2012.0  2013.00  2014.0  \n",
       "Transit Timing Variations      2012.5  2013.25  2014.0  "
      ]
     },
     "execution_count": 124,
     "metadata": {},
     "output_type": "execute_result"
    }
   ],
   "source": [
    "planets.groupby('method')['year'].describe()"
   ]
  },
  {
   "cell_type": "markdown",
   "metadata": {
    "id": "LAhXDNqD1HdW"
   },
   "source": [
    "## Aggregate, filter, transform\n",
    "\n",
    "In particular, ``GroupBy`` objects have ``aggregate()``, ``filter()``, ``transform()``, and ``apply()`` methods that efficiently implement a variety of useful operations before combining the grouped data.\n",
    "\n",
    "For the purpose of the following subsections, we'll use this ``DataFrame``:"
   ]
  },
  {
   "cell_type": "code",
   "execution_count": 125,
   "metadata": {
    "colab": {
     "base_uri": "https://localhost:8080/",
     "height": 238
    },
    "executionInfo": {
     "elapsed": 5367,
     "status": "ok",
     "timestamp": 1621352928331,
     "user": {
      "displayName": "Vincenzo Nardelli",
      "photoUrl": "https://lh3.googleusercontent.com/a-/AOh14GjPK26_e6OTwkTbx-Bj4I8qLqir6RkknYKsq2GM=s64",
      "userId": "12315026942894680720"
     },
     "user_tz": -120
    },
    "id": "ANv0ce4f1HdW",
    "jupyter": {
     "outputs_hidden": false
    },
    "outputId": "52b5ae12-d49e-4832-a78b-f0b94a7cfd51"
   },
   "outputs": [
    {
     "data": {
      "text/html": [
       "<div>\n",
       "<style scoped>\n",
       "    .dataframe tbody tr th:only-of-type {\n",
       "        vertical-align: middle;\n",
       "    }\n",
       "\n",
       "    .dataframe tbody tr th {\n",
       "        vertical-align: top;\n",
       "    }\n",
       "\n",
       "    .dataframe thead th {\n",
       "        text-align: right;\n",
       "    }\n",
       "</style>\n",
       "<table border=\"1\" class=\"dataframe\">\n",
       "  <thead>\n",
       "    <tr style=\"text-align: right;\">\n",
       "      <th></th>\n",
       "      <th>key</th>\n",
       "      <th>data1</th>\n",
       "      <th>data2</th>\n",
       "    </tr>\n",
       "  </thead>\n",
       "  <tbody>\n",
       "    <tr>\n",
       "      <th>0</th>\n",
       "      <td>A</td>\n",
       "      <td>0</td>\n",
       "      <td>5</td>\n",
       "    </tr>\n",
       "    <tr>\n",
       "      <th>1</th>\n",
       "      <td>B</td>\n",
       "      <td>1</td>\n",
       "      <td>0</td>\n",
       "    </tr>\n",
       "    <tr>\n",
       "      <th>2</th>\n",
       "      <td>C</td>\n",
       "      <td>2</td>\n",
       "      <td>3</td>\n",
       "    </tr>\n",
       "    <tr>\n",
       "      <th>3</th>\n",
       "      <td>A</td>\n",
       "      <td>3</td>\n",
       "      <td>3</td>\n",
       "    </tr>\n",
       "    <tr>\n",
       "      <th>4</th>\n",
       "      <td>B</td>\n",
       "      <td>4</td>\n",
       "      <td>7</td>\n",
       "    </tr>\n",
       "    <tr>\n",
       "      <th>5</th>\n",
       "      <td>C</td>\n",
       "      <td>5</td>\n",
       "      <td>9</td>\n",
       "    </tr>\n",
       "  </tbody>\n",
       "</table>\n",
       "</div>"
      ],
      "text/plain": [
       "  key  data1  data2\n",
       "0   A      0      5\n",
       "1   B      1      0\n",
       "2   C      2      3\n",
       "3   A      3      3\n",
       "4   B      4      7\n",
       "5   C      5      9"
      ]
     },
     "execution_count": 125,
     "metadata": {},
     "output_type": "execute_result"
    }
   ],
   "source": [
    "rng = np.random.RandomState(0)\n",
    "df = pd.DataFrame({'key': ['A', 'B', 'C', 'A', 'B', 'C'],\n",
    "                   'data1': range(6),\n",
    "                   'data2': rng.randint(0, 10, 6)},\n",
    "                   columns = ['key', 'data1', 'data2'])\n",
    "df"
   ]
  },
  {
   "cell_type": "markdown",
   "metadata": {
    "id": "fMKW4a8E1HdW"
   },
   "source": [
    "Aggregation\n",
    "\n",
    "We're now familiar with ``GroupBy`` aggregations with ``sum()``, ``median()``, and the like, but the ``aggregate()`` method allows for even more flexibility.\n",
    "It can take a string, a function, or a list thereof, and compute all the aggregates at once.\n",
    "Here is a quick example combining all these:"
   ]
  },
  {
   "cell_type": "code",
   "execution_count": 126,
   "metadata": {
    "colab": {
     "base_uri": "https://localhost:8080/",
     "height": 206
    },
    "executionInfo": {
     "elapsed": 5362,
     "status": "ok",
     "timestamp": 1621352928331,
     "user": {
      "displayName": "Vincenzo Nardelli",
      "photoUrl": "https://lh3.googleusercontent.com/a-/AOh14GjPK26_e6OTwkTbx-Bj4I8qLqir6RkknYKsq2GM=s64",
      "userId": "12315026942894680720"
     },
     "user_tz": -120
    },
    "id": "ne6Lq9Sx1HdW",
    "jupyter": {
     "outputs_hidden": false
    },
    "outputId": "9d791c01-6949-4283-e9bc-72a57217c41f"
   },
   "outputs": [
    {
     "data": {
      "text/html": [
       "<div>\n",
       "<style scoped>\n",
       "    .dataframe tbody tr th:only-of-type {\n",
       "        vertical-align: middle;\n",
       "    }\n",
       "\n",
       "    .dataframe tbody tr th {\n",
       "        vertical-align: top;\n",
       "    }\n",
       "\n",
       "    .dataframe thead tr th {\n",
       "        text-align: left;\n",
       "    }\n",
       "\n",
       "    .dataframe thead tr:last-of-type th {\n",
       "        text-align: right;\n",
       "    }\n",
       "</style>\n",
       "<table border=\"1\" class=\"dataframe\">\n",
       "  <thead>\n",
       "    <tr>\n",
       "      <th></th>\n",
       "      <th colspan=\"3\" halign=\"left\">data1</th>\n",
       "      <th colspan=\"3\" halign=\"left\">data2</th>\n",
       "    </tr>\n",
       "    <tr>\n",
       "      <th></th>\n",
       "      <th>min</th>\n",
       "      <th>median</th>\n",
       "      <th>max</th>\n",
       "      <th>min</th>\n",
       "      <th>median</th>\n",
       "      <th>max</th>\n",
       "    </tr>\n",
       "    <tr>\n",
       "      <th>key</th>\n",
       "      <th></th>\n",
       "      <th></th>\n",
       "      <th></th>\n",
       "      <th></th>\n",
       "      <th></th>\n",
       "      <th></th>\n",
       "    </tr>\n",
       "  </thead>\n",
       "  <tbody>\n",
       "    <tr>\n",
       "      <th>A</th>\n",
       "      <td>0</td>\n",
       "      <td>1.5</td>\n",
       "      <td>3</td>\n",
       "      <td>3</td>\n",
       "      <td>4.0</td>\n",
       "      <td>5</td>\n",
       "    </tr>\n",
       "    <tr>\n",
       "      <th>B</th>\n",
       "      <td>1</td>\n",
       "      <td>2.5</td>\n",
       "      <td>4</td>\n",
       "      <td>0</td>\n",
       "      <td>3.5</td>\n",
       "      <td>7</td>\n",
       "    </tr>\n",
       "    <tr>\n",
       "      <th>C</th>\n",
       "      <td>2</td>\n",
       "      <td>3.5</td>\n",
       "      <td>5</td>\n",
       "      <td>3</td>\n",
       "      <td>6.0</td>\n",
       "      <td>9</td>\n",
       "    </tr>\n",
       "  </tbody>\n",
       "</table>\n",
       "</div>"
      ],
      "text/plain": [
       "    data1            data2           \n",
       "      min median max   min median max\n",
       "key                                  \n",
       "A       0    1.5   3     3    4.0   5\n",
       "B       1    2.5   4     0    3.5   7\n",
       "C       2    3.5   5     3    6.0   9"
      ]
     },
     "execution_count": 126,
     "metadata": {},
     "output_type": "execute_result"
    }
   ],
   "source": [
    "df.groupby('key').aggregate(['min', np.median, max])"
   ]
  },
  {
   "cell_type": "markdown",
   "metadata": {
    "id": "jT6WXfQj1HdW"
   },
   "source": [
    "Another useful pattern is to pass a dictionary mapping column names to operations to be applied on that column:"
   ]
  },
  {
   "cell_type": "code",
   "execution_count": 127,
   "metadata": {
    "colab": {
     "base_uri": "https://localhost:8080/",
     "height": 175
    },
    "executionInfo": {
     "elapsed": 5358,
     "status": "ok",
     "timestamp": 1621352928331,
     "user": {
      "displayName": "Vincenzo Nardelli",
      "photoUrl": "https://lh3.googleusercontent.com/a-/AOh14GjPK26_e6OTwkTbx-Bj4I8qLqir6RkknYKsq2GM=s64",
      "userId": "12315026942894680720"
     },
     "user_tz": -120
    },
    "id": "p3VCEq931HdX",
    "jupyter": {
     "outputs_hidden": false
    },
    "outputId": "ba1ac741-5640-4233-d676-15a8b90bc4d1"
   },
   "outputs": [
    {
     "data": {
      "text/html": [
       "<div>\n",
       "<style scoped>\n",
       "    .dataframe tbody tr th:only-of-type {\n",
       "        vertical-align: middle;\n",
       "    }\n",
       "\n",
       "    .dataframe tbody tr th {\n",
       "        vertical-align: top;\n",
       "    }\n",
       "\n",
       "    .dataframe thead th {\n",
       "        text-align: right;\n",
       "    }\n",
       "</style>\n",
       "<table border=\"1\" class=\"dataframe\">\n",
       "  <thead>\n",
       "    <tr style=\"text-align: right;\">\n",
       "      <th></th>\n",
       "      <th>data1</th>\n",
       "      <th>data2</th>\n",
       "    </tr>\n",
       "    <tr>\n",
       "      <th>key</th>\n",
       "      <th></th>\n",
       "      <th></th>\n",
       "    </tr>\n",
       "  </thead>\n",
       "  <tbody>\n",
       "    <tr>\n",
       "      <th>A</th>\n",
       "      <td>0</td>\n",
       "      <td>5</td>\n",
       "    </tr>\n",
       "    <tr>\n",
       "      <th>B</th>\n",
       "      <td>1</td>\n",
       "      <td>7</td>\n",
       "    </tr>\n",
       "    <tr>\n",
       "      <th>C</th>\n",
       "      <td>2</td>\n",
       "      <td>9</td>\n",
       "    </tr>\n",
       "  </tbody>\n",
       "</table>\n",
       "</div>"
      ],
      "text/plain": [
       "     data1  data2\n",
       "key              \n",
       "A        0      5\n",
       "B        1      7\n",
       "C        2      9"
      ]
     },
     "execution_count": 127,
     "metadata": {},
     "output_type": "execute_result"
    }
   ],
   "source": [
    "df.groupby('key').aggregate({'data1': 'min',\n",
    "                             'data2': 'max'})"
   ]
  },
  {
   "cell_type": "markdown",
   "metadata": {
    "id": "rEx32cO91HdX"
   },
   "source": [
    "Filtering\n",
    "\n",
    "A filtering operation allows you to drop data based on the group properties.\n",
    "For example, we might want to keep all groups in which the standard deviation is larger than some critical value:"
   ]
  },
  {
   "cell_type": "code",
   "execution_count": 128,
   "metadata": {
    "colab": {
     "base_uri": "https://localhost:8080/",
     "height": 238
    },
    "executionInfo": {
     "elapsed": 5354,
     "status": "ok",
     "timestamp": 1621352928332,
     "user": {
      "displayName": "Vincenzo Nardelli",
      "photoUrl": "https://lh3.googleusercontent.com/a-/AOh14GjPK26_e6OTwkTbx-Bj4I8qLqir6RkknYKsq2GM=s64",
      "userId": "12315026942894680720"
     },
     "user_tz": -120
    },
    "id": "d5j-O3jEG8Po",
    "outputId": "7b0aeb14-eb2c-43c2-ebb7-cc07fbb264be"
   },
   "outputs": [
    {
     "data": {
      "text/html": [
       "<div>\n",
       "<style scoped>\n",
       "    .dataframe tbody tr th:only-of-type {\n",
       "        vertical-align: middle;\n",
       "    }\n",
       "\n",
       "    .dataframe tbody tr th {\n",
       "        vertical-align: top;\n",
       "    }\n",
       "\n",
       "    .dataframe thead th {\n",
       "        text-align: right;\n",
       "    }\n",
       "</style>\n",
       "<table border=\"1\" class=\"dataframe\">\n",
       "  <thead>\n",
       "    <tr style=\"text-align: right;\">\n",
       "      <th></th>\n",
       "      <th>key</th>\n",
       "      <th>data1</th>\n",
       "      <th>data2</th>\n",
       "    </tr>\n",
       "  </thead>\n",
       "  <tbody>\n",
       "    <tr>\n",
       "      <th>0</th>\n",
       "      <td>A</td>\n",
       "      <td>0</td>\n",
       "      <td>5</td>\n",
       "    </tr>\n",
       "    <tr>\n",
       "      <th>1</th>\n",
       "      <td>B</td>\n",
       "      <td>1</td>\n",
       "      <td>0</td>\n",
       "    </tr>\n",
       "    <tr>\n",
       "      <th>2</th>\n",
       "      <td>C</td>\n",
       "      <td>2</td>\n",
       "      <td>3</td>\n",
       "    </tr>\n",
       "    <tr>\n",
       "      <th>3</th>\n",
       "      <td>A</td>\n",
       "      <td>3</td>\n",
       "      <td>3</td>\n",
       "    </tr>\n",
       "    <tr>\n",
       "      <th>4</th>\n",
       "      <td>B</td>\n",
       "      <td>4</td>\n",
       "      <td>7</td>\n",
       "    </tr>\n",
       "    <tr>\n",
       "      <th>5</th>\n",
       "      <td>C</td>\n",
       "      <td>5</td>\n",
       "      <td>9</td>\n",
       "    </tr>\n",
       "  </tbody>\n",
       "</table>\n",
       "</div>"
      ],
      "text/plain": [
       "  key  data1  data2\n",
       "0   A      0      5\n",
       "1   B      1      0\n",
       "2   C      2      3\n",
       "3   A      3      3\n",
       "4   B      4      7\n",
       "5   C      5      9"
      ]
     },
     "execution_count": 128,
     "metadata": {},
     "output_type": "execute_result"
    }
   ],
   "source": [
    "df"
   ]
  },
  {
   "cell_type": "code",
   "execution_count": 129,
   "metadata": {
    "colab": {
     "base_uri": "https://localhost:8080/",
     "height": 175
    },
    "executionInfo": {
     "elapsed": 5348,
     "status": "ok",
     "timestamp": 1621352928332,
     "user": {
      "displayName": "Vincenzo Nardelli",
      "photoUrl": "https://lh3.googleusercontent.com/a-/AOh14GjPK26_e6OTwkTbx-Bj4I8qLqir6RkknYKsq2GM=s64",
      "userId": "12315026942894680720"
     },
     "user_tz": -120
    },
    "id": "hDmwivy7G8Po",
    "outputId": "4f4130f9-479b-473c-bb9c-6a5b3186fdf2"
   },
   "outputs": [
    {
     "data": {
      "text/html": [
       "<div>\n",
       "<style scoped>\n",
       "    .dataframe tbody tr th:only-of-type {\n",
       "        vertical-align: middle;\n",
       "    }\n",
       "\n",
       "    .dataframe tbody tr th {\n",
       "        vertical-align: top;\n",
       "    }\n",
       "\n",
       "    .dataframe thead th {\n",
       "        text-align: right;\n",
       "    }\n",
       "</style>\n",
       "<table border=\"1\" class=\"dataframe\">\n",
       "  <thead>\n",
       "    <tr style=\"text-align: right;\">\n",
       "      <th></th>\n",
       "      <th>data1</th>\n",
       "      <th>data2</th>\n",
       "    </tr>\n",
       "    <tr>\n",
       "      <th>key</th>\n",
       "      <th></th>\n",
       "      <th></th>\n",
       "    </tr>\n",
       "  </thead>\n",
       "  <tbody>\n",
       "    <tr>\n",
       "      <th>A</th>\n",
       "      <td>2.12132</td>\n",
       "      <td>1.414214</td>\n",
       "    </tr>\n",
       "    <tr>\n",
       "      <th>B</th>\n",
       "      <td>2.12132</td>\n",
       "      <td>4.949747</td>\n",
       "    </tr>\n",
       "    <tr>\n",
       "      <th>C</th>\n",
       "      <td>2.12132</td>\n",
       "      <td>4.242641</td>\n",
       "    </tr>\n",
       "  </tbody>\n",
       "</table>\n",
       "</div>"
      ],
      "text/plain": [
       "       data1     data2\n",
       "key                   \n",
       "A    2.12132  1.414214\n",
       "B    2.12132  4.949747\n",
       "C    2.12132  4.242641"
      ]
     },
     "execution_count": 129,
     "metadata": {},
     "output_type": "execute_result"
    }
   ],
   "source": [
    "df.groupby('key').std()"
   ]
  },
  {
   "cell_type": "code",
   "execution_count": 130,
   "metadata": {
    "colab": {
     "base_uri": "https://localhost:8080/",
     "height": 175
    },
    "executionInfo": {
     "elapsed": 5344,
     "status": "ok",
     "timestamp": 1621352928333,
     "user": {
      "displayName": "Vincenzo Nardelli",
      "photoUrl": "https://lh3.googleusercontent.com/a-/AOh14GjPK26_e6OTwkTbx-Bj4I8qLqir6RkknYKsq2GM=s64",
      "userId": "12315026942894680720"
     },
     "user_tz": -120
    },
    "id": "TzD1eUT71HdX",
    "jupyter": {
     "outputs_hidden": false
    },
    "outputId": "27ea4382-b066-49b3-e131-3e63292aa0c1"
   },
   "outputs": [
    {
     "data": {
      "text/html": [
       "<div>\n",
       "<style scoped>\n",
       "    .dataframe tbody tr th:only-of-type {\n",
       "        vertical-align: middle;\n",
       "    }\n",
       "\n",
       "    .dataframe tbody tr th {\n",
       "        vertical-align: top;\n",
       "    }\n",
       "\n",
       "    .dataframe thead th {\n",
       "        text-align: right;\n",
       "    }\n",
       "</style>\n",
       "<table border=\"1\" class=\"dataframe\">\n",
       "  <thead>\n",
       "    <tr style=\"text-align: right;\">\n",
       "      <th></th>\n",
       "      <th>key</th>\n",
       "      <th>data1</th>\n",
       "      <th>data2</th>\n",
       "    </tr>\n",
       "  </thead>\n",
       "  <tbody>\n",
       "    <tr>\n",
       "      <th>1</th>\n",
       "      <td>B</td>\n",
       "      <td>1</td>\n",
       "      <td>0</td>\n",
       "    </tr>\n",
       "    <tr>\n",
       "      <th>2</th>\n",
       "      <td>C</td>\n",
       "      <td>2</td>\n",
       "      <td>3</td>\n",
       "    </tr>\n",
       "    <tr>\n",
       "      <th>4</th>\n",
       "      <td>B</td>\n",
       "      <td>4</td>\n",
       "      <td>7</td>\n",
       "    </tr>\n",
       "    <tr>\n",
       "      <th>5</th>\n",
       "      <td>C</td>\n",
       "      <td>5</td>\n",
       "      <td>9</td>\n",
       "    </tr>\n",
       "  </tbody>\n",
       "</table>\n",
       "</div>"
      ],
      "text/plain": [
       "  key  data1  data2\n",
       "1   B      1      0\n",
       "2   C      2      3\n",
       "4   B      4      7\n",
       "5   C      5      9"
      ]
     },
     "execution_count": 130,
     "metadata": {},
     "output_type": "execute_result"
    }
   ],
   "source": [
    "def filter_func(x):\n",
    "    return x['data2'].std() > 4\n",
    "\n",
    "df.groupby('key').filter(filter_func)"
   ]
  },
  {
   "cell_type": "markdown",
   "metadata": {
    "id": "esarWeJ31HdX"
   },
   "source": [
    "Transformation\n",
    "\n",
    "While aggregation must return a reduced version of the data, transformation can return some transformed version of the full data to recombine.\n",
    "For such a transformation, the output is the same shape as the input.\n",
    "A common example is to center the data by subtracting the group-wise mean:"
   ]
  },
  {
   "cell_type": "code",
   "execution_count": 131,
   "metadata": {
    "colab": {
     "base_uri": "https://localhost:8080/",
     "height": 238
    },
    "executionInfo": {
     "elapsed": 5337,
     "status": "ok",
     "timestamp": 1621352928333,
     "user": {
      "displayName": "Vincenzo Nardelli",
      "photoUrl": "https://lh3.googleusercontent.com/a-/AOh14GjPK26_e6OTwkTbx-Bj4I8qLqir6RkknYKsq2GM=s64",
      "userId": "12315026942894680720"
     },
     "user_tz": -120
    },
    "id": "YqR9UoKc1HdX",
    "jupyter": {
     "outputs_hidden": false
    },
    "outputId": "204d77e6-2662-43ce-94a4-a0b8490b3d74"
   },
   "outputs": [
    {
     "data": {
      "text/html": [
       "<div>\n",
       "<style scoped>\n",
       "    .dataframe tbody tr th:only-of-type {\n",
       "        vertical-align: middle;\n",
       "    }\n",
       "\n",
       "    .dataframe tbody tr th {\n",
       "        vertical-align: top;\n",
       "    }\n",
       "\n",
       "    .dataframe thead th {\n",
       "        text-align: right;\n",
       "    }\n",
       "</style>\n",
       "<table border=\"1\" class=\"dataframe\">\n",
       "  <thead>\n",
       "    <tr style=\"text-align: right;\">\n",
       "      <th></th>\n",
       "      <th>data1</th>\n",
       "      <th>data2</th>\n",
       "    </tr>\n",
       "  </thead>\n",
       "  <tbody>\n",
       "    <tr>\n",
       "      <th>0</th>\n",
       "      <td>-1.5</td>\n",
       "      <td>1.0</td>\n",
       "    </tr>\n",
       "    <tr>\n",
       "      <th>1</th>\n",
       "      <td>-1.5</td>\n",
       "      <td>-3.5</td>\n",
       "    </tr>\n",
       "    <tr>\n",
       "      <th>2</th>\n",
       "      <td>-1.5</td>\n",
       "      <td>-3.0</td>\n",
       "    </tr>\n",
       "    <tr>\n",
       "      <th>3</th>\n",
       "      <td>1.5</td>\n",
       "      <td>-1.0</td>\n",
       "    </tr>\n",
       "    <tr>\n",
       "      <th>4</th>\n",
       "      <td>1.5</td>\n",
       "      <td>3.5</td>\n",
       "    </tr>\n",
       "    <tr>\n",
       "      <th>5</th>\n",
       "      <td>1.5</td>\n",
       "      <td>3.0</td>\n",
       "    </tr>\n",
       "  </tbody>\n",
       "</table>\n",
       "</div>"
      ],
      "text/plain": [
       "   data1  data2\n",
       "0   -1.5    1.0\n",
       "1   -1.5   -3.5\n",
       "2   -1.5   -3.0\n",
       "3    1.5   -1.0\n",
       "4    1.5    3.5\n",
       "5    1.5    3.0"
      ]
     },
     "execution_count": 131,
     "metadata": {},
     "output_type": "execute_result"
    }
   ],
   "source": [
    "df.groupby('key').transform(lambda x: x - x.mean())"
   ]
  },
  {
   "cell_type": "markdown",
   "metadata": {
    "id": "5pmeooet1Hda"
   },
   "source": [
    "Example\n",
    "\n",
    "As an example of this, in a couple lines of Python code we can put all these together and count discovered planets by method and by decade:"
   ]
  },
  {
   "cell_type": "code",
   "execution_count": 132,
   "metadata": {
    "colab": {
     "base_uri": "https://localhost:8080/",
     "height": 394
    },
    "executionInfo": {
     "elapsed": 5332,
     "status": "ok",
     "timestamp": 1621352928333,
     "user": {
      "displayName": "Vincenzo Nardelli",
      "photoUrl": "https://lh3.googleusercontent.com/a-/AOh14GjPK26_e6OTwkTbx-Bj4I8qLqir6RkknYKsq2GM=s64",
      "userId": "12315026942894680720"
     },
     "user_tz": -120
    },
    "id": "8SZoQzLW1Hda",
    "jupyter": {
     "outputs_hidden": false
    },
    "outputId": "63bbf5c1-2b8a-4490-d99f-3fd0b529ca26"
   },
   "outputs": [
    {
     "data": {
      "text/html": [
       "<div>\n",
       "<style scoped>\n",
       "    .dataframe tbody tr th:only-of-type {\n",
       "        vertical-align: middle;\n",
       "    }\n",
       "\n",
       "    .dataframe tbody tr th {\n",
       "        vertical-align: top;\n",
       "    }\n",
       "\n",
       "    .dataframe thead th {\n",
       "        text-align: right;\n",
       "    }\n",
       "</style>\n",
       "<table border=\"1\" class=\"dataframe\">\n",
       "  <thead>\n",
       "    <tr style=\"text-align: right;\">\n",
       "      <th>decade</th>\n",
       "      <th>1980s</th>\n",
       "      <th>1990s</th>\n",
       "      <th>2000s</th>\n",
       "      <th>2010s</th>\n",
       "    </tr>\n",
       "    <tr>\n",
       "      <th>method</th>\n",
       "      <th></th>\n",
       "      <th></th>\n",
       "      <th></th>\n",
       "      <th></th>\n",
       "    </tr>\n",
       "  </thead>\n",
       "  <tbody>\n",
       "    <tr>\n",
       "      <th>Astrometry</th>\n",
       "      <td>0.0</td>\n",
       "      <td>0.0</td>\n",
       "      <td>0.0</td>\n",
       "      <td>2.0</td>\n",
       "    </tr>\n",
       "    <tr>\n",
       "      <th>Eclipse Timing Variations</th>\n",
       "      <td>0.0</td>\n",
       "      <td>0.0</td>\n",
       "      <td>5.0</td>\n",
       "      <td>10.0</td>\n",
       "    </tr>\n",
       "    <tr>\n",
       "      <th>Imaging</th>\n",
       "      <td>0.0</td>\n",
       "      <td>0.0</td>\n",
       "      <td>29.0</td>\n",
       "      <td>21.0</td>\n",
       "    </tr>\n",
       "    <tr>\n",
       "      <th>Microlensing</th>\n",
       "      <td>0.0</td>\n",
       "      <td>0.0</td>\n",
       "      <td>12.0</td>\n",
       "      <td>15.0</td>\n",
       "    </tr>\n",
       "    <tr>\n",
       "      <th>Orbital Brightness Modulation</th>\n",
       "      <td>0.0</td>\n",
       "      <td>0.0</td>\n",
       "      <td>0.0</td>\n",
       "      <td>5.0</td>\n",
       "    </tr>\n",
       "    <tr>\n",
       "      <th>Pulsar Timing</th>\n",
       "      <td>0.0</td>\n",
       "      <td>9.0</td>\n",
       "      <td>1.0</td>\n",
       "      <td>1.0</td>\n",
       "    </tr>\n",
       "    <tr>\n",
       "      <th>Pulsation Timing Variations</th>\n",
       "      <td>0.0</td>\n",
       "      <td>0.0</td>\n",
       "      <td>1.0</td>\n",
       "      <td>0.0</td>\n",
       "    </tr>\n",
       "    <tr>\n",
       "      <th>Radial Velocity</th>\n",
       "      <td>1.0</td>\n",
       "      <td>52.0</td>\n",
       "      <td>475.0</td>\n",
       "      <td>424.0</td>\n",
       "    </tr>\n",
       "    <tr>\n",
       "      <th>Transit</th>\n",
       "      <td>0.0</td>\n",
       "      <td>0.0</td>\n",
       "      <td>64.0</td>\n",
       "      <td>712.0</td>\n",
       "    </tr>\n",
       "    <tr>\n",
       "      <th>Transit Timing Variations</th>\n",
       "      <td>0.0</td>\n",
       "      <td>0.0</td>\n",
       "      <td>0.0</td>\n",
       "      <td>9.0</td>\n",
       "    </tr>\n",
       "  </tbody>\n",
       "</table>\n",
       "</div>"
      ],
      "text/plain": [
       "decade                         1980s  1990s  2000s  2010s\n",
       "method                                                   \n",
       "Astrometry                       0.0    0.0    0.0    2.0\n",
       "Eclipse Timing Variations        0.0    0.0    5.0   10.0\n",
       "Imaging                          0.0    0.0   29.0   21.0\n",
       "Microlensing                     0.0    0.0   12.0   15.0\n",
       "Orbital Brightness Modulation    0.0    0.0    0.0    5.0\n",
       "Pulsar Timing                    0.0    9.0    1.0    1.0\n",
       "Pulsation Timing Variations      0.0    0.0    1.0    0.0\n",
       "Radial Velocity                  1.0   52.0  475.0  424.0\n",
       "Transit                          0.0    0.0   64.0  712.0\n",
       "Transit Timing Variations        0.0    0.0    0.0    9.0"
      ]
     },
     "execution_count": 132,
     "metadata": {},
     "output_type": "execute_result"
    }
   ],
   "source": [
    "decade = 10 * (planets['year'] // 10)\n",
    "decade = decade.astype(str) + 's'\n",
    "decade.name = 'decade'\n",
    "planets.groupby(['method', decade])['number'].sum().unstack().fillna(0)"
   ]
  },
  {
   "cell_type": "markdown",
   "metadata": {
    "id": "EenY_oYWEe7h"
   },
   "source": [
    "# 3 - Graphs with Matplotlib and Seaborn\n",
    "\n",
    "\n",
    "## Matplotlib\n",
    "\n",
    "https://matplotlib.org/stable/gallery/index.html"
   ]
  },
  {
   "cell_type": "code",
   "execution_count": 133,
   "metadata": {
    "executionInfo": {
     "elapsed": 5792,
     "status": "ok",
     "timestamp": 1621352928794,
     "user": {
      "displayName": "Vincenzo Nardelli",
      "photoUrl": "https://lh3.googleusercontent.com/a-/AOh14GjPK26_e6OTwkTbx-Bj4I8qLqir6RkknYKsq2GM=s64",
      "userId": "12315026942894680720"
     },
     "user_tz": -120
    },
    "id": "mTCduLAgEe7i"
   },
   "outputs": [],
   "source": [
    "import matplotlib as mpl\n",
    "import matplotlib.pyplot as plt"
   ]
  },
  {
   "cell_type": "code",
   "execution_count": 134,
   "metadata": {
    "colab": {
     "base_uri": "https://localhost:8080/",
     "height": 265
    },
    "executionInfo": {
     "elapsed": 5787,
     "status": "ok",
     "timestamp": 1621352928795,
     "user": {
      "displayName": "Vincenzo Nardelli",
      "photoUrl": "https://lh3.googleusercontent.com/a-/AOh14GjPK26_e6OTwkTbx-Bj4I8qLqir6RkknYKsq2GM=s64",
      "userId": "12315026942894680720"
     },
     "user_tz": -120
    },
    "id": "g1bdqRmgEe7j",
    "jupyter": {
     "outputs_hidden": false
    },
    "outputId": "10a50768-5b25-4be5-a55f-8e290dfbb384"
   },
   "outputs": [
    {
     "data": {
      "image/png": "[encoded data removed]",
      "text/plain": [
       "<Figure size 432x288 with 1 Axes>"
      ]
     },
     "metadata": {
      "needs_background": "light"
     },
     "output_type": "display_data"
    }
   ],
   "source": [
    "import numpy as np\n",
    "x = np.linspace(0, 10, 100)\n",
    "\n",
    "fig = plt.figure()\n",
    "plt.plot(x, np.sin(x), '-')\n",
    "plt.plot(x, np.cos(x), '--');"
   ]
  },
  {
   "cell_type": "code",
   "execution_count": 135,
   "metadata": {
    "executionInfo": {
     "elapsed": 5786,
     "status": "ok",
     "timestamp": 1621352928795,
     "user": {
      "displayName": "Vincenzo Nardelli",
      "photoUrl": "https://lh3.googleusercontent.com/a-/AOh14GjPK26_e6OTwkTbx-Bj4I8qLqir6RkknYKsq2GM=s64",
      "userId": "12315026942894680720"
     },
     "user_tz": -120
    },
    "id": "a67-bJK6Ee7j",
    "jupyter": {
     "outputs_hidden": false
    }
   },
   "outputs": [],
   "source": [
    "#fig.savefig('my_figure.png')"
   ]
  },
  {
   "cell_type": "code",
   "execution_count": 136,
   "metadata": {
    "colab": {
     "base_uri": "https://localhost:8080/",
     "height": 265
    },
    "executionInfo": {
     "elapsed": 5778,
     "status": "ok",
     "timestamp": 1621352928796,
     "user": {
      "displayName": "Vincenzo Nardelli",
      "photoUrl": "https://lh3.googleusercontent.com/a-/AOh14GjPK26_e6OTwkTbx-Bj4I8qLqir6RkknYKsq2GM=s64",
      "userId": "12315026942894680720"
     },
     "user_tz": -120
    },
    "id": "0_LsNloVEe7j",
    "jupyter": {
     "outputs_hidden": false
    },
    "outputId": "062fa45c-314b-4a05-b5a7-470f50d3a71f"
   },
   "outputs": [
    {
     "data": {
      "image/png": "[encoded data removed]",
      "text/plain": [
       "<Figure size 432x288 with 1 Axes>"
      ]
     },
     "metadata": {
      "needs_background": "light"
     },
     "output_type": "display_data"
    }
   ],
   "source": [
    "plt.plot(x, np.sin(x));"
   ]
  },
  {
   "cell_type": "code",
   "execution_count": 137,
   "metadata": {
    "colab": {
     "base_uri": "https://localhost:8080/",
     "height": 265
    },
    "executionInfo": {
     "elapsed": 5773,
     "status": "ok",
     "timestamp": 1621352928796,
     "user": {
      "displayName": "Vincenzo Nardelli",
      "photoUrl": "https://lh3.googleusercontent.com/a-/AOh14GjPK26_e6OTwkTbx-Bj4I8qLqir6RkknYKsq2GM=s64",
      "userId": "12315026942894680720"
     },
     "user_tz": -120
    },
    "id": "dNwxeHRCEe7j",
    "outputId": "366b248f-137e-4833-a0ce-09a9ee44617b"
   },
   "outputs": [
    {
     "data": {
      "image/png": "[encoded data removed]",
      "text/plain": [
       "<Figure size 432x288 with 1 Axes>"
      ]
     },
     "metadata": {
      "needs_background": "light"
     },
     "output_type": "display_data"
    }
   ],
   "source": [
    "plt.plot(x, x + 0, linestyle='solid')\n",
    "plt.plot(x, x + 1, linestyle='dashed')\n",
    "plt.plot(x, x + 2, linestyle='dashdot')\n",
    "plt.plot(x, x + 3, linestyle='dotted');\n",
    "\n",
    "# For short, you can use the following codes:\n",
    "plt.plot(x, x + 4, linestyle='-')  # solid\n",
    "plt.plot(x, x + 5, linestyle='--') # dashed\n",
    "plt.plot(x, x + 6, linestyle='-.') # dashdot\n",
    "plt.plot(x, x + 7, linestyle=':');  # dotted"
   ]
  },
  {
   "cell_type": "code",
   "execution_count": 138,
   "metadata": {
    "colab": {
     "base_uri": "https://localhost:8080/",
     "height": 265
    },
    "executionInfo": {
     "elapsed": 6395,
     "status": "ok",
     "timestamp": 1621352929423,
     "user": {
      "displayName": "Vincenzo Nardelli",
      "photoUrl": "https://lh3.googleusercontent.com/a-/AOh14GjPK26_e6OTwkTbx-Bj4I8qLqir6RkknYKsq2GM=s64",
      "userId": "12315026942894680720"
     },
     "user_tz": -120
    },
    "id": "v_1ykFZyEe7k",
    "outputId": "9f0edee7-cfb1-4701-da93-4b3bd7b971bc"
   },
   "outputs": [
    {
     "data": {
      "image/png": "[encoded data removed]",
      "text/plain": [
       "<Figure size 432x288 with 1 Axes>"
      ]
     },
     "metadata": {
      "needs_background": "light"
     },
     "output_type": "display_data"
    }
   ],
   "source": [
    "plt.plot(x, x + 0, '-g')  # solid green\n",
    "plt.plot(x, x + 1, '--c') # dashed cyan\n",
    "plt.plot(x, x + 2, '-.k') # dashdot black\n",
    "plt.plot(x, x + 3, ':r');  # dotted red"
   ]
  },
  {
   "cell_type": "code",
   "execution_count": 139,
   "metadata": {
    "colab": {
     "base_uri": "https://localhost:8080/",
     "height": 295
    },
    "executionInfo": {
     "elapsed": 6391,
     "status": "ok",
     "timestamp": 1621352929424,
     "user": {
      "displayName": "Vincenzo Nardelli",
      "photoUrl": "https://lh3.googleusercontent.com/a-/AOh14GjPK26_e6OTwkTbx-Bj4I8qLqir6RkknYKsq2GM=s64",
      "userId": "12315026942894680720"
     },
     "user_tz": -120
    },
    "id": "Ikeud13CEe7k",
    "outputId": "4b4db753-402b-4493-8625-95df55c0a3e1"
   },
   "outputs": [
    {
     "data": {
      "image/png": "[encoded data removed]",
      "text/plain": [
       "<Figure size 432x288 with 1 Axes>"
      ]
     },
     "metadata": {
      "needs_background": "light"
     },
     "output_type": "display_data"
    }
   ],
   "source": [
    "plt.plot(x, np.sin(x), label=\"sin(x)\")\n",
    "plt.plot(x, np.cos(x), ':b', label='cos(x)')\n",
    "\n",
    "plt.xlim(-3, 13)\n",
    "plt.ylim(-2, 2);\n",
    "plt.title(\"Sine/Cosine Curves\")\n",
    "plt.xlabel(\"x\")\n",
    "plt.ylabel(\"f(x)\");\n",
    "plt.legend();"
   ]
  },
  {
   "cell_type": "code",
   "execution_count": 140,
   "metadata": {
    "colab": {
     "base_uri": "https://localhost:8080/",
     "height": 283
    },
    "executionInfo": {
     "elapsed": 6385,
     "status": "ok",
     "timestamp": 1621352929424,
     "user": {
      "displayName": "Vincenzo Nardelli",
      "photoUrl": "https://lh3.googleusercontent.com/a-/AOh14GjPK26_e6OTwkTbx-Bj4I8qLqir6RkknYKsq2GM=s64",
      "userId": "12315026942894680720"
     },
     "user_tz": -120
    },
    "id": "eN_8E_OvEe7k",
    "outputId": "8433d18a-8226-417c-c19f-7bb1dc61755e"
   },
   "outputs": [
    {
     "data": {
      "text/plain": [
       "<matplotlib.collections.PathCollection at 0x7f866183efd0>"
      ]
     },
     "execution_count": 140,
     "metadata": {},
     "output_type": "execute_result"
    },
    {
     "data": {
      "image/png": "[encoded data removed]",
      "text/plain": [
       "<Figure size 432x288 with 1 Axes>"
      ]
     },
     "metadata": {
      "needs_background": "light"
     },
     "output_type": "display_data"
    }
   ],
   "source": [
    "x = np.linspace(0, 10, 30)\n",
    "y = np.sin(x)\n",
    "plt.scatter(x, y, marker='o')"
   ]
  },
  {
   "cell_type": "code",
   "execution_count": 141,
   "metadata": {
    "colab": {
     "base_uri": "https://localhost:8080/",
     "height": 265
    },
    "executionInfo": {
     "elapsed": 7860,
     "status": "ok",
     "timestamp": 1621352930904,
     "user": {
      "displayName": "Vincenzo Nardelli",
      "photoUrl": "https://lh3.googleusercontent.com/a-/AOh14GjPK26_e6OTwkTbx-Bj4I8qLqir6RkknYKsq2GM=s64",
      "userId": "12315026942894680720"
     },
     "user_tz": -120
    },
    "id": "dyd3ht-mEe7l",
    "outputId": "93b7c40e-0ab6-4b4f-9eff-ca8f2b6a9f0c"
   },
   "outputs": [
    {
     "data": {
      "image/png": "[encoded data removed]",
      "text/plain": [
       "<Figure size 432x288 with 2 Axes>"
      ]
     },
     "metadata": {
      "needs_background": "light"
     },
     "output_type": "display_data"
    }
   ],
   "source": [
    "rng = np.random.RandomState(0)\n",
    "x = rng.randn(100)\n",
    "y = rng.randn(100)\n",
    "colors = rng.rand(100)\n",
    "sizes = 1000 * rng.rand(100)\n",
    "\n",
    "plt.scatter(x, y, c=colors, s=sizes, alpha=0.3,\n",
    "            cmap='viridis')\n",
    "plt.colorbar();"
   ]
  },
  {
   "cell_type": "code",
   "execution_count": 142,
   "metadata": {
    "colab": {
     "base_uri": "https://localhost:8080/",
     "height": 268
    },
    "executionInfo": {
     "elapsed": 7855,
     "status": "ok",
     "timestamp": 1621352930904,
     "user": {
      "displayName": "Vincenzo Nardelli",
      "photoUrl": "https://lh3.googleusercontent.com/a-/AOh14GjPK26_e6OTwkTbx-Bj4I8qLqir6RkknYKsq2GM=s64",
      "userId": "12315026942894680720"
     },
     "user_tz": -120
    },
    "id": "15A9n25BEe7l",
    "outputId": "2a16f433-3be9-46ab-b002-650693e85284"
   },
   "outputs": [
    {
     "data": {
      "image/png": "[encoded data removed]",
      "text/plain": [
       "<Figure size 432x288 with 1 Axes>"
      ]
     },
     "metadata": {
      "needs_background": "light"
     },
     "output_type": "display_data"
    }
   ],
   "source": [
    "data = np.random.randn(1000)\n",
    "plt.hist(data);"
   ]
  },
  {
   "cell_type": "code",
   "execution_count": 143,
   "metadata": {
    "colab": {
     "base_uri": "https://localhost:8080/",
     "height": 265
    },
    "executionInfo": {
     "elapsed": 7851,
     "status": "ok",
     "timestamp": 1621352930905,
     "user": {
      "displayName": "Vincenzo Nardelli",
      "photoUrl": "https://lh3.googleusercontent.com/a-/AOh14GjPK26_e6OTwkTbx-Bj4I8qLqir6RkknYKsq2GM=s64",
      "userId": "12315026942894680720"
     },
     "user_tz": -120
    },
    "id": "3weuo_m1Ee7l",
    "outputId": "cac8cc24-276c-4f6d-fc7e-07fca51e73af"
   },
   "outputs": [
    {
     "data": {
      "image/png": "[encoded data removed]",
      "text/plain": [
       "<Figure size 432x288 with 1 Axes>"
      ]
     },
     "metadata": {
      "needs_background": "light"
     },
     "output_type": "display_data"
    }
   ],
   "source": [
    "plt.hist(data, bins=30, density=True, alpha=0.5,\n",
    "         histtype='stepfilled', color='steelblue',\n",
    "         edgecolor='none');"
   ]
  },
  {
   "cell_type": "code",
   "execution_count": 144,
   "metadata": {
    "colab": {
     "base_uri": "https://localhost:8080/",
     "height": 265
    },
    "executionInfo": {
     "elapsed": 7845,
     "status": "ok",
     "timestamp": 1621352930905,
     "user": {
      "displayName": "Vincenzo Nardelli",
      "photoUrl": "https://lh3.googleusercontent.com/a-/AOh14GjPK26_e6OTwkTbx-Bj4I8qLqir6RkknYKsq2GM=s64",
      "userId": "12315026942894680720"
     },
     "user_tz": -120
    },
    "id": "Xc4oRUTzEe7l",
    "outputId": "f82063ad-a69c-486f-cde0-407c40c94027"
   },
   "outputs": [
    {
     "data": {
      "image/png": "[encoded data removed]",
      "text/plain": [
       "<Figure size 432x288 with 2 Axes>"
      ]
     },
     "metadata": {
      "needs_background": "light"
     },
     "output_type": "display_data"
    }
   ],
   "source": [
    "mean = [0, 0]\n",
    "cov = [[1, 1], [1, 2]]\n",
    "x, y = np.random.multivariate_normal(mean, cov, 10000).T\n",
    "plt.hist2d(x, y, bins=30, cmap='Blues')\n",
    "cb = plt.colorbar()\n",
    "cb.set_label('counts in bin')"
   ]
  },
  {
   "cell_type": "markdown",
   "metadata": {
    "id": "-Iz_v96XEe7m"
   },
   "source": [
    "Multiple plots"
   ]
  },
  {
   "cell_type": "markdown",
   "metadata": {
    "id": "ss5ebBygEe7m"
   },
   "source": [
    "MATLAB-style Interface"
   ]
  },
  {
   "cell_type": "code",
   "execution_count": 145,
   "metadata": {
    "colab": {
     "base_uri": "https://localhost:8080/",
     "height": 265
    },
    "executionInfo": {
     "elapsed": 7841,
     "status": "ok",
     "timestamp": 1621352930906,
     "user": {
      "displayName": "Vincenzo Nardelli",
      "photoUrl": "https://lh3.googleusercontent.com/a-/AOh14GjPK26_e6OTwkTbx-Bj4I8qLqir6RkknYKsq2GM=s64",
      "userId": "12315026942894680720"
     },
     "user_tz": -120
    },
    "id": "OKFU-KKVEe7m",
    "jupyter": {
     "outputs_hidden": false
    },
    "outputId": "15cc2577-66df-4b89-b3fa-7f01aa4c625d"
   },
   "outputs": [
    {
     "data": {
      "image/png": "[encoded data removed]",
      "text/plain": [
       "<Figure size 432x288 with 2 Axes>"
      ]
     },
     "metadata": {
      "needs_background": "light"
     },
     "output_type": "display_data"
    }
   ],
   "source": [
    "x = np.linspace(0, 10, 100)\n",
    "\n",
    "plt.figure()  # create a plot figure\n",
    "\n",
    "# create the first of two panels and set current axis\n",
    "plt.subplot(2, 1, 1) # (rows, columns, panel number)\n",
    "plt.plot(x, np.sin(x))\n",
    "\n",
    "# create the second panel and set current axis\n",
    "plt.subplot(2, 1, 2)\n",
    "plt.plot(x, np.cos(x));"
   ]
  },
  {
   "cell_type": "markdown",
   "metadata": {
    "id": "pAUFOjODEe7m"
   },
   "source": [
    "Object-oriented interface"
   ]
  },
  {
   "cell_type": "code",
   "execution_count": 146,
   "metadata": {
    "colab": {
     "base_uri": "https://localhost:8080/",
     "height": 265
    },
    "executionInfo": {
     "elapsed": 7836,
     "status": "ok",
     "timestamp": 1621352930906,
     "user": {
      "displayName": "Vincenzo Nardelli",
      "photoUrl": "https://lh3.googleusercontent.com/a-/AOh14GjPK26_e6OTwkTbx-Bj4I8qLqir6RkknYKsq2GM=s64",
      "userId": "12315026942894680720"
     },
     "user_tz": -120
    },
    "id": "3B6jFhklEe7m",
    "jupyter": {
     "outputs_hidden": false
    },
    "outputId": "ace0dc82-019c-47fb-da36-73aa0676de3a"
   },
   "outputs": [
    {
     "data": {
      "image/png": "[encoded data removed]",
      "text/plain": [
       "<Figure size 432x288 with 2 Axes>"
      ]
     },
     "metadata": {
      "needs_background": "light"
     },
     "output_type": "display_data"
    }
   ],
   "source": [
    "# First create a grid of plots\n",
    "# ax will be an array of two Axes objects\n",
    "fig, ax = plt.subplots(2)\n",
    "\n",
    "# Call plot() method on the appropriate object\n",
    "ax[0].plot(x, np.sin(x))\n",
    "ax[1].plot(x, np.cos(x));"
   ]
  },
  {
   "cell_type": "markdown",
   "metadata": {
    "id": "anc91_UDEe7m"
   },
   "source": [
    "## Seaborn\n",
    "\n",
    "https://seaborn.pydata.org/examples/index.html"
   ]
  },
  {
   "cell_type": "code",
   "execution_count": 147,
   "metadata": {
    "colab": {
     "base_uri": "https://localhost:8080/",
     "height": 206
    },
    "executionInfo": {
     "elapsed": 7832,
     "status": "ok",
     "timestamp": 1621352930907,
     "user": {
      "displayName": "Vincenzo Nardelli",
      "photoUrl": "https://lh3.googleusercontent.com/a-/AOh14GjPK26_e6OTwkTbx-Bj4I8qLqir6RkknYKsq2GM=s64",
      "userId": "12315026942894680720"
     },
     "user_tz": -120
    },
    "id": "_nLD0OSnG8Pv",
    "outputId": "9549bb82-58aa-49b4-dcaa-9c53a62963e9"
   },
   "outputs": [
    {
     "data": {
      "text/html": [
       "<div>\n",
       "<style scoped>\n",
       "    .dataframe tbody tr th:only-of-type {\n",
       "        vertical-align: middle;\n",
       "    }\n",
       "\n",
       "    .dataframe tbody tr th {\n",
       "        vertical-align: top;\n",
       "    }\n",
       "\n",
       "    .dataframe thead th {\n",
       "        text-align: right;\n",
       "    }\n",
       "</style>\n",
       "<table border=\"1\" class=\"dataframe\">\n",
       "  <thead>\n",
       "    <tr style=\"text-align: right;\">\n",
       "      <th></th>\n",
       "      <th>sepal_length</th>\n",
       "      <th>sepal_width</th>\n",
       "      <th>petal_length</th>\n",
       "      <th>petal_width</th>\n",
       "      <th>species</th>\n",
       "    </tr>\n",
       "  </thead>\n",
       "  <tbody>\n",
       "    <tr>\n",
       "      <th>0</th>\n",
       "      <td>5.1</td>\n",
       "      <td>3.5</td>\n",
       "      <td>1.4</td>\n",
       "      <td>0.2</td>\n",
       "      <td>setosa</td>\n",
       "    </tr>\n",
       "    <tr>\n",
       "      <th>1</th>\n",
       "      <td>4.9</td>\n",
       "      <td>3.0</td>\n",
       "      <td>1.4</td>\n",
       "      <td>0.2</td>\n",
       "      <td>setosa</td>\n",
       "    </tr>\n",
       "    <tr>\n",
       "      <th>2</th>\n",
       "      <td>4.7</td>\n",
       "      <td>3.2</td>\n",
       "      <td>1.3</td>\n",
       "      <td>0.2</td>\n",
       "      <td>setosa</td>\n",
       "    </tr>\n",
       "    <tr>\n",
       "      <th>3</th>\n",
       "      <td>4.6</td>\n",
       "      <td>3.1</td>\n",
       "      <td>1.5</td>\n",
       "      <td>0.2</td>\n",
       "      <td>setosa</td>\n",
       "    </tr>\n",
       "    <tr>\n",
       "      <th>4</th>\n",
       "      <td>5.0</td>\n",
       "      <td>3.6</td>\n",
       "      <td>1.4</td>\n",
       "      <td>0.2</td>\n",
       "      <td>setosa</td>\n",
       "    </tr>\n",
       "  </tbody>\n",
       "</table>\n",
       "</div>"
      ],
      "text/plain": [
       "   sepal_length  sepal_width  petal_length  petal_width species\n",
       "0           5.1          3.5           1.4          0.2  setosa\n",
       "1           4.9          3.0           1.4          0.2  setosa\n",
       "2           4.7          3.2           1.3          0.2  setosa\n",
       "3           4.6          3.1           1.5          0.2  setosa\n",
       "4           5.0          3.6           1.4          0.2  setosa"
      ]
     },
     "execution_count": 147,
     "metadata": {},
     "output_type": "execute_result"
    }
   ],
   "source": [
    "import seaborn as sns\n",
    "iris = sns.load_dataset(\"iris\")\n",
    "iris.head()"
   ]
  },
  {
   "cell_type": "code",
   "execution_count": 148,
   "metadata": {
    "colab": {
     "base_uri": "https://localhost:8080/",
     "height": 280
    },
    "executionInfo": {
     "elapsed": 8371,
     "status": "ok",
     "timestamp": 1621352931450,
     "user": {
      "displayName": "Vincenzo Nardelli",
      "photoUrl": "https://lh3.googleusercontent.com/a-/AOh14GjPK26_e6OTwkTbx-Bj4I8qLqir6RkknYKsq2GM=s64",
      "userId": "12315026942894680720"
     },
     "user_tz": -120
    },
    "id": "thw32ciFG8Pv",
    "outputId": "ef70b0c2-a213-4625-9e90-9c378346e091"
   },
   "outputs": [
    {
     "data": {
      "image/png": "[encoded data removed]",
      "text/plain": [
       "<Figure size 432x288 with 1 Axes>"
      ]
     },
     "metadata": {
      "needs_background": "light"
     },
     "output_type": "display_data"
    }
   ],
   "source": [
    "sns.histplot(data=iris, x=\"sepal_length\", hue=\"species\", multiple=\"stack\");"
   ]
  },
  {
   "cell_type": "code",
   "execution_count": 149,
   "metadata": {
    "colab": {
     "base_uri": "https://localhost:8080/",
     "height": 280
    },
    "executionInfo": {
     "elapsed": 8366,
     "status": "ok",
     "timestamp": 1621352931451,
     "user": {
      "displayName": "Vincenzo Nardelli",
      "photoUrl": "https://lh3.googleusercontent.com/a-/AOh14GjPK26_e6OTwkTbx-Bj4I8qLqir6RkknYKsq2GM=s64",
      "userId": "12315026942894680720"
     },
     "user_tz": -120
    },
    "id": "WWfARzHHG8Pv",
    "outputId": "acb08da4-55c0-4061-8602-75dc3cf32767"
   },
   "outputs": [
    {
     "data": {
      "image/png": "[encoded data removed]",
      "text/plain": [
       "<Figure size 432x288 with 1 Axes>"
      ]
     },
     "metadata": {
      "needs_background": "light"
     },
     "output_type": "display_data"
    }
   ],
   "source": [
    "sns.kdeplot(data=iris, x=\"sepal_length\", hue=\"species\", shade=True, alpha=0.5);"
   ]
  },
  {
   "cell_type": "code",
   "execution_count": 150,
   "metadata": {
    "colab": {
     "base_uri": "https://localhost:8080/",
     "height": 585
    },
    "executionInfo": {
     "elapsed": 16697,
     "status": "ok",
     "timestamp": 1621352939787,
     "user": {
      "displayName": "Vincenzo Nardelli",
      "photoUrl": "https://lh3.googleusercontent.com/a-/AOh14GjPK26_e6OTwkTbx-Bj4I8qLqir6RkknYKsq2GM=s64",
      "userId": "12315026942894680720"
     },
     "user_tz": -120
    },
    "id": "uLxbnIjtG8Pw",
    "outputId": "6fa51829-1fc6-4e32-fa09-4ec224dd9bae"
   },
   "outputs": [
    {
     "data": {
      "image/png": "[encoded data removed]",
      "text/plain": [
       "<Figure size 660.75x576 with 20 Axes>"
      ]
     },
     "metadata": {
      "needs_background": "light"
     },
     "output_type": "display_data"
    }
   ],
   "source": [
    "sns.pairplot(data=iris, hue='species', height=2);"
   ]
  }
 ],
 "metadata": {
  "celltoolbar": "Slideshow",
  "colab": {
   "collapsed_sections": [
    "fMKW4a8E1HdW"
   ],
   "name": "seai_lab1.ipynb",
   "provenance": [],
   "toc_visible": true
  },
  "kernelspec": {
   "display_name": "Python 3 (ipykernel)",
   "language": "python",
   "name": "python3"
  },
  "language_info": {
   "codemirror_mode": {
    "name": "ipython",
    "version": 3
   },
   "file_extension": ".py",
   "mimetype": "text/x-python",
   "name": "python",
   "nbconvert_exporter": "python",
   "pygments_lexer": "ipython3",
   "version": "3.8.8"
  }
 },
 "nbformat": 4,
 "nbformat_minor": 4
}
